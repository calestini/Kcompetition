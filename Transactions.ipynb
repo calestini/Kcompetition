{
 "cells": [
  {
   "cell_type": "code",
   "execution_count": 1,
   "metadata": {
    "collapsed": true
   },
   "outputs": [],
   "source": [
    "import numpy as np\n",
    "import pandas as pd\n",
    "\n",
    "import data_manipulation as dm\n",
    "import time\n",
    "import datetime as dt\n",
    "import seaborn as sns\n",
    "import matplotlib.pyplot as plt\n",
    "\n",
    "%matplotlib inline"
   ]
  },
  {
   "cell_type": "code",
   "execution_count": 79,
   "metadata": {
    "collapsed": true
   },
   "outputs": [],
   "source": [
    "#Import datasets\n",
    "txn = dm.transactions()\n",
    "train = dm.train()\n",
    "\n",
    "#Prep - sort transactions\n",
    "txn=txn.sort_values(['new_id', 'transaction_date', 'membership_expire_date'])"
   ]
  },
  {
   "cell_type": "code",
   "execution_count": 80,
   "metadata": {
    "collapsed": true
   },
   "outputs": [],
   "source": [
    "ul_var = pd.read_csv('final_user_log.csv')"
   ]
  },
  {
   "cell_type": "code",
   "execution_count": 81,
   "metadata": {
    "collapsed": false
   },
   "outputs": [
    {
     "name": "stdout",
     "output_type": "stream",
     "text": [
      "(992931, 2)\n",
      "(16411725, 9)\n",
      "(992931, 8)\n",
      "992931\n",
      "1079663\n",
      "True    992931\n",
      "Name: in_txn, dtype: int64\n"
     ]
    }
   ],
   "source": [
    "#Check datasets\n",
    "print(train.shape)\n",
    "print(txn.shape)\n",
    "print(ul_var.shape)\n",
    "print(train['new_id'].nunique())\n",
    "print(txn['new_id'].nunique())\n",
    "\n",
    "train['in_txn']=train['new_id'].isin(txn['new_id'])\n",
    "print(train['in_txn'].value_counts())"
   ]
  },
  {
   "cell_type": "code",
   "execution_count": 82,
   "metadata": {
    "collapsed": true
   },
   "outputs": [],
   "source": [
    "txn=txn[txn['transaction_date']<='2017-01-31']"
   ]
  },
  {
   "cell_type": "code",
   "execution_count": 50,
   "metadata": {
    "collapsed": false
   },
   "outputs": [
    {
     "data": {
      "text/plain": [
       "True     15030718\n",
       "False      474576\n",
       "Name: in_train, dtype: int64"
      ]
     },
     "execution_count": 50,
     "metadata": {},
     "output_type": "execute_result"
    }
   ],
   "source": [
    "#Adding some features\n",
    "txn['in_train']=txn['new_id'].isin(train['new_id'])\n",
    "txn['odd_transactions']=txn['membership_expire_date']<txn['transaction_date']\n",
    "txn['1970']=txn['membership_expire_date']=='1970-01-01'\n",
    "txn['in_train'].value_counts()"
   ]
  },
  {
   "cell_type": "markdown",
   "metadata": {},
   "source": [
    "## Investigating Transactions\n",
    "\n",
    "*Looking into transactions where the membership_expiry_date < transaction_date*"
   ]
  },
  {
   "cell_type": "code",
   "execution_count": 5,
   "metadata": {
    "collapsed": false
   },
   "outputs": [
    {
     "data": {
      "text/html": [
       "<div>\n",
       "<style scoped>\n",
       "    .dataframe tbody tr th:only-of-type {\n",
       "        vertical-align: middle;\n",
       "    }\n",
       "\n",
       "    .dataframe tbody tr th {\n",
       "        vertical-align: top;\n",
       "    }\n",
       "\n",
       "    .dataframe thead th {\n",
       "        text-align: right;\n",
       "    }\n",
       "</style>\n",
       "<table border=\"1\" class=\"dataframe\">\n",
       "  <thead>\n",
       "    <tr style=\"text-align: right;\">\n",
       "      <th>in_train</th>\n",
       "      <th>False</th>\n",
       "      <th>True</th>\n",
       "    </tr>\n",
       "    <tr>\n",
       "      <th>odd_transactions</th>\n",
       "      <th></th>\n",
       "      <th></th>\n",
       "    </tr>\n",
       "  </thead>\n",
       "  <tbody>\n",
       "    <tr>\n",
       "      <th>False</th>\n",
       "      <td>0.032114</td>\n",
       "      <td>0.967886</td>\n",
       "    </tr>\n",
       "    <tr>\n",
       "      <th>True</th>\n",
       "      <td>0.054375</td>\n",
       "      <td>0.945625</td>\n",
       "    </tr>\n",
       "  </tbody>\n",
       "</table>\n",
       "</div>"
      ],
      "text/plain": [
       "in_train             False     True \n",
       "odd_transactions                    \n",
       "False             0.032114  0.967886\n",
       "True              0.054375  0.945625"
      ]
     },
     "execution_count": 5,
     "metadata": {},
     "output_type": "execute_result"
    }
   ],
   "source": [
    "pd.crosstab(index=txn['odd_transactions'], columns=txn['in_train'], normalize='index')"
   ]
  },
  {
   "cell_type": "code",
   "execution_count": 6,
   "metadata": {
    "collapsed": false
   },
   "outputs": [
    {
     "data": {
      "text/html": [
       "<div>\n",
       "<style scoped>\n",
       "    .dataframe tbody tr th:only-of-type {\n",
       "        vertical-align: middle;\n",
       "    }\n",
       "\n",
       "    .dataframe tbody tr th {\n",
       "        vertical-align: top;\n",
       "    }\n",
       "\n",
       "    .dataframe thead th {\n",
       "        text-align: right;\n",
       "    }\n",
       "</style>\n",
       "<table border=\"1\" class=\"dataframe\">\n",
       "  <thead>\n",
       "    <tr style=\"text-align: right;\">\n",
       "      <th>is_auto_renew</th>\n",
       "      <th>0</th>\n",
       "      <th>1</th>\n",
       "    </tr>\n",
       "    <tr>\n",
       "      <th>odd_transactions</th>\n",
       "      <th></th>\n",
       "      <th></th>\n",
       "    </tr>\n",
       "  </thead>\n",
       "  <tbody>\n",
       "    <tr>\n",
       "      <th>False</th>\n",
       "      <td>0.089980</td>\n",
       "      <td>0.910020</td>\n",
       "    </tr>\n",
       "    <tr>\n",
       "      <th>True</th>\n",
       "      <td>0.004789</td>\n",
       "      <td>0.995211</td>\n",
       "    </tr>\n",
       "  </tbody>\n",
       "</table>\n",
       "</div>"
      ],
      "text/plain": [
       "is_auto_renew            0         1\n",
       "odd_transactions                    \n",
       "False             0.089980  0.910020\n",
       "True              0.004789  0.995211"
      ]
     },
     "execution_count": 6,
     "metadata": {},
     "output_type": "execute_result"
    }
   ],
   "source": [
    "#Odd transactions are more likely to be auto renew transactions\n",
    "pd.crosstab(index=txn['odd_transactions'], columns=txn['is_auto_renew'], normalize='index')"
   ]
  },
  {
   "cell_type": "code",
   "execution_count": 7,
   "metadata": {
    "collapsed": false
   },
   "outputs": [
    {
     "data": {
      "text/html": [
       "<div>\n",
       "<style scoped>\n",
       "    .dataframe tbody tr th:only-of-type {\n",
       "        vertical-align: middle;\n",
       "    }\n",
       "\n",
       "    .dataframe tbody tr th {\n",
       "        vertical-align: top;\n",
       "    }\n",
       "\n",
       "    .dataframe thead th {\n",
       "        text-align: right;\n",
       "    }\n",
       "</style>\n",
       "<table border=\"1\" class=\"dataframe\">\n",
       "  <thead>\n",
       "    <tr style=\"text-align: right;\">\n",
       "      <th>is_cancel</th>\n",
       "      <th>0</th>\n",
       "      <th>1</th>\n",
       "    </tr>\n",
       "    <tr>\n",
       "      <th>odd_transactions</th>\n",
       "      <th></th>\n",
       "      <th></th>\n",
       "    </tr>\n",
       "  </thead>\n",
       "  <tbody>\n",
       "    <tr>\n",
       "      <th>False</th>\n",
       "      <td>0.986408</td>\n",
       "      <td>0.013592</td>\n",
       "    </tr>\n",
       "    <tr>\n",
       "      <th>True</th>\n",
       "      <td>0.047459</td>\n",
       "      <td>0.952541</td>\n",
       "    </tr>\n",
       "  </tbody>\n",
       "</table>\n",
       "</div>"
      ],
      "text/plain": [
       "is_cancel                0         1\n",
       "odd_transactions                    \n",
       "False             0.986408  0.013592\n",
       "True              0.047459  0.952541"
      ]
     },
     "execution_count": 7,
     "metadata": {},
     "output_type": "execute_result"
    }
   ],
   "source": [
    "#Odd transactions are more likely to be cancelled transactions\n",
    "pd.crosstab(index=txn['odd_transactions'], columns=txn['is_cancel'], normalize='index')"
   ]
  },
  {
   "cell_type": "code",
   "execution_count": 8,
   "metadata": {
    "collapsed": false
   },
   "outputs": [
    {
     "data": {
      "text/html": [
       "<div>\n",
       "<style scoped>\n",
       "    .dataframe tbody tr th:only-of-type {\n",
       "        vertical-align: middle;\n",
       "    }\n",
       "\n",
       "    .dataframe tbody tr th {\n",
       "        vertical-align: top;\n",
       "    }\n",
       "\n",
       "    .dataframe thead th {\n",
       "        text-align: right;\n",
       "    }\n",
       "</style>\n",
       "<table border=\"1\" class=\"dataframe\">\n",
       "  <thead>\n",
       "    <tr style=\"text-align: right;\">\n",
       "      <th>1970</th>\n",
       "      <th>False</th>\n",
       "      <th>True</th>\n",
       "    </tr>\n",
       "    <tr>\n",
       "      <th>odd_transactions</th>\n",
       "      <th></th>\n",
       "      <th></th>\n",
       "    </tr>\n",
       "  </thead>\n",
       "  <tbody>\n",
       "    <tr>\n",
       "      <th>False</th>\n",
       "      <td>16342612</td>\n",
       "      <td>0</td>\n",
       "    </tr>\n",
       "    <tr>\n",
       "      <th>True</th>\n",
       "      <td>68716</td>\n",
       "      <td>397</td>\n",
       "    </tr>\n",
       "  </tbody>\n",
       "</table>\n",
       "</div>"
      ],
      "text/plain": [
       "1970                 False  True \n",
       "odd_transactions                 \n",
       "False             16342612      0\n",
       "True                 68716    397"
      ]
     },
     "execution_count": 8,
     "metadata": {},
     "output_type": "execute_result"
    }
   ],
   "source": [
    "#397 of the odd transactions are caused by '1970'\n",
    "pd.crosstab(index=txn['odd_transactions'], columns=txn['1970'], normalize='index')\n",
    "pd.crosstab(index=txn['odd_transactions'], columns=txn['1970'])"
   ]
  },
  {
   "cell_type": "code",
   "execution_count": 9,
   "metadata": {
    "collapsed": false
   },
   "outputs": [
    {
     "data": {
      "text/html": [
       "<div>\n",
       "<style scoped>\n",
       "    .dataframe tbody tr th:only-of-type {\n",
       "        vertical-align: middle;\n",
       "    }\n",
       "\n",
       "    .dataframe tbody tr th {\n",
       "        vertical-align: top;\n",
       "    }\n",
       "\n",
       "    .dataframe thead th {\n",
       "        text-align: right;\n",
       "    }\n",
       "</style>\n",
       "<table border=\"1\" class=\"dataframe\">\n",
       "  <thead>\n",
       "    <tr style=\"text-align: right;\">\n",
       "      <th>1970</th>\n",
       "      <th>False</th>\n",
       "      <th>True</th>\n",
       "    </tr>\n",
       "    <tr>\n",
       "      <th>in_train</th>\n",
       "      <th></th>\n",
       "      <th></th>\n",
       "    </tr>\n",
       "  </thead>\n",
       "  <tbody>\n",
       "    <tr>\n",
       "      <th>False</th>\n",
       "      <td>528406</td>\n",
       "      <td>171</td>\n",
       "    </tr>\n",
       "    <tr>\n",
       "      <th>True</th>\n",
       "      <td>15882922</td>\n",
       "      <td>226</td>\n",
       "    </tr>\n",
       "  </tbody>\n",
       "</table>\n",
       "</div>"
      ],
      "text/plain": [
       "1970         False  True \n",
       "in_train                 \n",
       "False       528406    171\n",
       "True      15882922    226"
      ]
     },
     "execution_count": 9,
     "metadata": {},
     "output_type": "execute_result"
    }
   ],
   "source": [
    "#226 bad transactions are in the training set\n",
    "pd.crosstab(index=txn['in_train'], columns=txn['1970'])"
   ]
  },
  {
   "cell_type": "code",
   "execution_count": 10,
   "metadata": {
    "collapsed": false
   },
   "outputs": [
    {
     "name": "stdout",
     "output_type": "stream",
     "text": [
      "69113\n",
      "16411725\n",
      "0.00421119656830711\n",
      "1079663\n",
      "57069\n"
     ]
    }
   ],
   "source": [
    "#0.4% of transactions have membership_expire_date<transaction_date\n",
    "memb_exp_test=txn[txn['membership_expire_date']<txn['transaction_date']]\n",
    "print(memb_exp_test.shape[0])\n",
    "print(txn.shape[0])\n",
    "print(memb_exp_test.shape[0]/txn.shape[0])\n",
    "print(txn['new_id'].nunique())\n",
    "print(memb_exp_test['new_id'].nunique())"
   ]
  },
  {
   "cell_type": "code",
   "execution_count": 11,
   "metadata": {
    "collapsed": false
   },
   "outputs": [
    {
     "name": "stdout",
     "output_type": "stream",
     "text": [
      "68782\n",
      "(14940882, 12)\n"
     ]
    }
   ],
   "source": [
    "#Almost all records with membership_expire_date<transaction_date are auto_renew memberships\n",
    "print(memb_exp_test[memb_exp_test['is_auto_renew']==1]['is_auto_renew'].sum())\n",
    "print(txn[txn['is_auto_renew']==1].shape)"
   ]
  },
  {
   "cell_type": "code",
   "execution_count": 12,
   "metadata": {
    "collapsed": false
   },
   "outputs": [
    {
     "name": "stdout",
     "output_type": "stream",
     "text": [
      "65833\n"
     ]
    },
    {
     "data": {
      "text/plain": [
       "(65833, 12)"
      ]
     },
     "execution_count": 12,
     "metadata": {},
     "output_type": "execute_result"
    }
   ],
   "source": [
    "#Most of the records with membership_expire_date<transaction_date are cancelled memberships - are these late payments?\n",
    "#ALL of these are also auto-renew memberships\n",
    "print(memb_exp_test[memb_exp_test['is_cancel']==1]['is_cancel'].sum())\n",
    "memb_exp_test[(memb_exp_test['is_cancel']==1)&(memb_exp_test['is_auto_renew']==1)].shape"
   ]
  },
  {
   "cell_type": "code",
   "execution_count": 13,
   "metadata": {
    "collapsed": false
   },
   "outputs": [
    {
     "data": {
      "text/plain": [
       "(2949, 12)"
      ]
     },
     "execution_count": 13,
     "metadata": {},
     "output_type": "execute_result"
    }
   ],
   "source": [
    "#The rest of the auto_renew memberships\n",
    "memb_exp_test[(memb_exp_test['is_cancel']==0)&(memb_exp_test['is_auto_renew']==1)].shape"
   ]
  },
  {
   "cell_type": "code",
   "execution_count": 43,
   "metadata": {
    "collapsed": false
   },
   "outputs": [
    {
     "data": {
      "text/html": [
       "<div>\n",
       "<style scoped>\n",
       "    .dataframe tbody tr th:only-of-type {\n",
       "        vertical-align: middle;\n",
       "    }\n",
       "\n",
       "    .dataframe tbody tr th {\n",
       "        vertical-align: top;\n",
       "    }\n",
       "\n",
       "    .dataframe thead th {\n",
       "        text-align: right;\n",
       "    }\n",
       "</style>\n",
       "<table border=\"1\" class=\"dataframe\">\n",
       "  <thead>\n",
       "    <tr style=\"text-align: right;\">\n",
       "      <th></th>\n",
       "      <th>payment_method_id</th>\n",
       "      <th>payment_plan_days</th>\n",
       "      <th>plan_list_price</th>\n",
       "      <th>actual_amount_paid</th>\n",
       "      <th>is_auto_renew</th>\n",
       "      <th>transaction_date</th>\n",
       "      <th>membership_expire_date</th>\n",
       "      <th>is_cancel</th>\n",
       "      <th>new_id</th>\n",
       "      <th>in_train</th>\n",
       "      <th>odd_transactions</th>\n",
       "      <th>1970</th>\n",
       "    </tr>\n",
       "  </thead>\n",
       "  <tbody>\n",
       "    <tr>\n",
       "      <th>10277170</th>\n",
       "      <td>26</td>\n",
       "      <td>1</td>\n",
       "      <td>0</td>\n",
       "      <td>0</td>\n",
       "      <td>0</td>\n",
       "      <td>2015-06-15</td>\n",
       "      <td>2015-06-14</td>\n",
       "      <td>0</td>\n",
       "      <td>8236</td>\n",
       "      <td>True</td>\n",
       "      <td>True</td>\n",
       "      <td>False</td>\n",
       "    </tr>\n",
       "    <tr>\n",
       "      <th>12088196</th>\n",
       "      <td>41</td>\n",
       "      <td>0</td>\n",
       "      <td>0</td>\n",
       "      <td>0</td>\n",
       "      <td>0</td>\n",
       "      <td>2015-09-18</td>\n",
       "      <td>2014-09-17</td>\n",
       "      <td>0</td>\n",
       "      <td>64925</td>\n",
       "      <td>True</td>\n",
       "      <td>True</td>\n",
       "      <td>False</td>\n",
       "    </tr>\n",
       "    <tr>\n",
       "      <th>10752582</th>\n",
       "      <td>26</td>\n",
       "      <td>1</td>\n",
       "      <td>0</td>\n",
       "      <td>0</td>\n",
       "      <td>0</td>\n",
       "      <td>2015-01-26</td>\n",
       "      <td>2015-01-25</td>\n",
       "      <td>0</td>\n",
       "      <td>77415</td>\n",
       "      <td>True</td>\n",
       "      <td>True</td>\n",
       "      <td>False</td>\n",
       "    </tr>\n",
       "    <tr>\n",
       "      <th>5725996</th>\n",
       "      <td>26</td>\n",
       "      <td>1</td>\n",
       "      <td>0</td>\n",
       "      <td>0</td>\n",
       "      <td>0</td>\n",
       "      <td>2015-10-01</td>\n",
       "      <td>2015-09-30</td>\n",
       "      <td>0</td>\n",
       "      <td>132303</td>\n",
       "      <td>True</td>\n",
       "      <td>True</td>\n",
       "      <td>False</td>\n",
       "    </tr>\n",
       "    <tr>\n",
       "      <th>16397249</th>\n",
       "      <td>35</td>\n",
       "      <td>7</td>\n",
       "      <td>0</td>\n",
       "      <td>0</td>\n",
       "      <td>0</td>\n",
       "      <td>2017-02-20</td>\n",
       "      <td>2017-02-18</td>\n",
       "      <td>0</td>\n",
       "      <td>243122</td>\n",
       "      <td>True</td>\n",
       "      <td>True</td>\n",
       "      <td>False</td>\n",
       "    </tr>\n",
       "    <tr>\n",
       "      <th>16270829</th>\n",
       "      <td>26</td>\n",
       "      <td>1</td>\n",
       "      <td>0</td>\n",
       "      <td>0</td>\n",
       "      <td>0</td>\n",
       "      <td>2016-09-14</td>\n",
       "      <td>2016-09-11</td>\n",
       "      <td>0</td>\n",
       "      <td>321432</td>\n",
       "      <td>False</td>\n",
       "      <td>True</td>\n",
       "      <td>False</td>\n",
       "    </tr>\n",
       "    <tr>\n",
       "      <th>16341684</th>\n",
       "      <td>35</td>\n",
       "      <td>7</td>\n",
       "      <td>0</td>\n",
       "      <td>0</td>\n",
       "      <td>0</td>\n",
       "      <td>2017-02-20</td>\n",
       "      <td>2017-02-17</td>\n",
       "      <td>0</td>\n",
       "      <td>423704</td>\n",
       "      <td>True</td>\n",
       "      <td>True</td>\n",
       "      <td>False</td>\n",
       "    </tr>\n",
       "    <tr>\n",
       "      <th>1916276</th>\n",
       "      <td>26</td>\n",
       "      <td>1</td>\n",
       "      <td>0</td>\n",
       "      <td>0</td>\n",
       "      <td>0</td>\n",
       "      <td>2015-12-19</td>\n",
       "      <td>2015-12-18</td>\n",
       "      <td>0</td>\n",
       "      <td>466084</td>\n",
       "      <td>False</td>\n",
       "      <td>True</td>\n",
       "      <td>False</td>\n",
       "    </tr>\n",
       "    <tr>\n",
       "      <th>11544429</th>\n",
       "      <td>35</td>\n",
       "      <td>7</td>\n",
       "      <td>0</td>\n",
       "      <td>0</td>\n",
       "      <td>0</td>\n",
       "      <td>2015-08-10</td>\n",
       "      <td>2012-02-02</td>\n",
       "      <td>0</td>\n",
       "      <td>502826</td>\n",
       "      <td>True</td>\n",
       "      <td>True</td>\n",
       "      <td>False</td>\n",
       "    </tr>\n",
       "    <tr>\n",
       "      <th>2221659</th>\n",
       "      <td>26</td>\n",
       "      <td>1</td>\n",
       "      <td>0</td>\n",
       "      <td>0</td>\n",
       "      <td>0</td>\n",
       "      <td>2016-04-19</td>\n",
       "      <td>2016-04-17</td>\n",
       "      <td>0</td>\n",
       "      <td>520405</td>\n",
       "      <td>True</td>\n",
       "      <td>True</td>\n",
       "      <td>False</td>\n",
       "    </tr>\n",
       "    <tr>\n",
       "      <th>16266894</th>\n",
       "      <td>26</td>\n",
       "      <td>1</td>\n",
       "      <td>0</td>\n",
       "      <td>0</td>\n",
       "      <td>0</td>\n",
       "      <td>2017-02-15</td>\n",
       "      <td>2017-02-13</td>\n",
       "      <td>0</td>\n",
       "      <td>558906</td>\n",
       "      <td>True</td>\n",
       "      <td>True</td>\n",
       "      <td>False</td>\n",
       "    </tr>\n",
       "    <tr>\n",
       "      <th>16352923</th>\n",
       "      <td>26</td>\n",
       "      <td>1</td>\n",
       "      <td>0</td>\n",
       "      <td>0</td>\n",
       "      <td>0</td>\n",
       "      <td>2017-02-08</td>\n",
       "      <td>2017-02-07</td>\n",
       "      <td>0</td>\n",
       "      <td>768283</td>\n",
       "      <td>True</td>\n",
       "      <td>True</td>\n",
       "      <td>False</td>\n",
       "    </tr>\n",
       "    <tr>\n",
       "      <th>10396995</th>\n",
       "      <td>26</td>\n",
       "      <td>0</td>\n",
       "      <td>0</td>\n",
       "      <td>0</td>\n",
       "      <td>0</td>\n",
       "      <td>2015-05-07</td>\n",
       "      <td>2015-05-06</td>\n",
       "      <td>0</td>\n",
       "      <td>797358</td>\n",
       "      <td>True</td>\n",
       "      <td>True</td>\n",
       "      <td>False</td>\n",
       "    </tr>\n",
       "    <tr>\n",
       "      <th>15055051</th>\n",
       "      <td>26</td>\n",
       "      <td>1</td>\n",
       "      <td>0</td>\n",
       "      <td>0</td>\n",
       "      <td>0</td>\n",
       "      <td>2016-06-14</td>\n",
       "      <td>2016-06-06</td>\n",
       "      <td>0</td>\n",
       "      <td>801450</td>\n",
       "      <td>True</td>\n",
       "      <td>True</td>\n",
       "      <td>False</td>\n",
       "    </tr>\n",
       "    <tr>\n",
       "      <th>15751444</th>\n",
       "      <td>26</td>\n",
       "      <td>1</td>\n",
       "      <td>0</td>\n",
       "      <td>0</td>\n",
       "      <td>0</td>\n",
       "      <td>2016-09-26</td>\n",
       "      <td>2016-09-22</td>\n",
       "      <td>0</td>\n",
       "      <td>823567</td>\n",
       "      <td>False</td>\n",
       "      <td>True</td>\n",
       "      <td>False</td>\n",
       "    </tr>\n",
       "  </tbody>\n",
       "</table>\n",
       "</div>"
      ],
      "text/plain": [
       "          payment_method_id  payment_plan_days  plan_list_price  \\\n",
       "10277170                 26                  1                0   \n",
       "12088196                 41                  0                0   \n",
       "10752582                 26                  1                0   \n",
       "5725996                  26                  1                0   \n",
       "16397249                 35                  7                0   \n",
       "16270829                 26                  1                0   \n",
       "16341684                 35                  7                0   \n",
       "1916276                  26                  1                0   \n",
       "11544429                 35                  7                0   \n",
       "2221659                  26                  1                0   \n",
       "16266894                 26                  1                0   \n",
       "16352923                 26                  1                0   \n",
       "10396995                 26                  0                0   \n",
       "15055051                 26                  1                0   \n",
       "15751444                 26                  1                0   \n",
       "\n",
       "          actual_amount_paid  is_auto_renew transaction_date  \\\n",
       "10277170                   0              0       2015-06-15   \n",
       "12088196                   0              0       2015-09-18   \n",
       "10752582                   0              0       2015-01-26   \n",
       "5725996                    0              0       2015-10-01   \n",
       "16397249                   0              0       2017-02-20   \n",
       "16270829                   0              0       2016-09-14   \n",
       "16341684                   0              0       2017-02-20   \n",
       "1916276                    0              0       2015-12-19   \n",
       "11544429                   0              0       2015-08-10   \n",
       "2221659                    0              0       2016-04-19   \n",
       "16266894                   0              0       2017-02-15   \n",
       "16352923                   0              0       2017-02-08   \n",
       "10396995                   0              0       2015-05-07   \n",
       "15055051                   0              0       2016-06-14   \n",
       "15751444                   0              0       2016-09-26   \n",
       "\n",
       "         membership_expire_date  is_cancel  new_id  in_train  \\\n",
       "10277170             2015-06-14          0    8236      True   \n",
       "12088196             2014-09-17          0   64925      True   \n",
       "10752582             2015-01-25          0   77415      True   \n",
       "5725996              2015-09-30          0  132303      True   \n",
       "16397249             2017-02-18          0  243122      True   \n",
       "16270829             2016-09-11          0  321432     False   \n",
       "16341684             2017-02-17          0  423704      True   \n",
       "1916276              2015-12-18          0  466084     False   \n",
       "11544429             2012-02-02          0  502826      True   \n",
       "2221659              2016-04-17          0  520405      True   \n",
       "16266894             2017-02-13          0  558906      True   \n",
       "16352923             2017-02-07          0  768283      True   \n",
       "10396995             2015-05-06          0  797358      True   \n",
       "15055051             2016-06-06          0  801450      True   \n",
       "15751444             2016-09-22          0  823567     False   \n",
       "\n",
       "          odd_transactions   1970  \n",
       "10277170              True  False  \n",
       "12088196              True  False  \n",
       "10752582              True  False  \n",
       "5725996               True  False  \n",
       "16397249              True  False  \n",
       "16270829              True  False  \n",
       "16341684              True  False  \n",
       "1916276               True  False  \n",
       "11544429              True  False  \n",
       "2221659               True  False  \n",
       "16266894              True  False  \n",
       "16352923              True  False  \n",
       "10396995              True  False  \n",
       "15055051              True  False  \n",
       "15751444              True  False  "
      ]
     },
     "execution_count": 43,
     "metadata": {},
     "output_type": "execute_result"
    }
   ],
   "source": [
    "#Looks like the rest of the records have lots of instances of membership_expire_date = '1970-01-01'\n",
    "memb_exp_test[memb_exp_test['is_auto_renew']==0].head(10)\n",
    "#15 records where membership_expire_date is not is not 1970-01-01 and is not auto_renew\n",
    "odd_ones_out=memb_exp_test[(memb_exp_test['membership_expire_date']!='1970-01-01') & (memb_exp_test['is_auto_renew']==0)]\n",
    "#Seems like all of these have plan_list_price of 0\n",
    "odd_ones_out.head(15)"
   ]
  },
  {
   "cell_type": "code",
   "execution_count": 15,
   "metadata": {
    "collapsed": true
   },
   "outputs": [],
   "source": [
    "#is_cancel=txn[txn['is_cancel']==1]\n",
    "#print(is_cancel.shape)\n",
    "#is_cancel['diff_dates']=is_cancel['membership_expire_date']-is_cancel['transaction_date']\n",
    "#is_cancel['diff_dates']=is_cancel['diff_dates']/ np.timedelta64(1, 'D')\n",
    "#sns.distplot(is_cancel[is_cancel['diff_dates']>0]['diff_dates'])"
   ]
  },
  {
   "cell_type": "code",
   "execution_count": 16,
   "metadata": {
    "collapsed": true
   },
   "outputs": [],
   "source": [
    "#Determine if member had an odd transaction\n",
    "txn['odd_txn_flag'] = txn['new_id'].isin(memb_exp_test['new_id'])"
   ]
  },
  {
   "cell_type": "markdown",
   "metadata": {},
   "source": [
    "## Feature Engineering\n",
    " \n",
    "<font color='red'>*Note that for the test group, we'll have access to less transactions - using transactions up to March 31st 2017 to predict memberships that expire in April 2017. Therefore, we should train using data up to the end of Feb to predict churn for memberships that expire in the month of March 2017.*</font>\n",
    "\n",
    "Each transaction feature is stored in a pandas dataframe:\n",
    "\n",
    "- **txn_cnts (all members)**: Count number of transactions per member; note that this dataframe is no longer included since the transaction count is in the txn_lp_high dataframe\n",
    "- **tot_plan_pmt (all members)**: Sum of payment plan days, plan list price, and actual amount paid. Also - average price per day, and difference between plan list price and actual amount paid\n",
    "- **txn_lp_high (all members)**: Count of, and percentage of transactions that have higher list price than actual amount paid\n",
    "- **txn_prev_churn (churned members)**: Count number of times members churned, i.e. transaction date - membership expire date from previous transaction is greater than 30 days\n",
    "- **txn_ar_stop (all members)**: % of transactions that are auto renew and whether a member has stopped auto-renewing in the duration of their membership\n",
    "- **txn_pmt_change (payment change members)**: Count number of times member changed payment type \n",
    "- **txn_cancelled (all members)**: % of transactions that are cancelled and whether a members has cancelled their membership in the duration of their membership\n",
    "- **txn_cancelled_last (all members)**: If the member has a cancelled transaction as their last transaction\n",
    "- **last_txn (all_members)**: If the member has a free trial as their last transaction\n",
    "\n",
    "- % of transactions that are free trials\n",
    "- % of payment plan days that are free trials\n",
    "- member tenure\n",
    "\n",
    "All dfs are to be merged into one df, for transaction attributes per member\n",
    "\n",
    "Next:\n",
    "- Look at payment plan days - how often are these 0?\n",
    "- Last transaction is a free trial - free trial and only one transaction: how does this relate to churn?\n",
    "- Which is the \"current\" transaction?\n",
    "- Number of transactions where plan_list_price != actual_amount_paid?\n",
    "- Transactions matrix\n",
    "\n",
    "\n",
    "1. Members in train who have membership_expiry date beyond March (for new dataset) - remove, for sure not churn\n",
    "       How many members have this behaviour?\n",
    "\n",
    "2. When people have a transaction with membership_expiry_date that is smaller than transaction date, what does the userlog data look like? Are they still listeninging after the membership has supposedly expired?"
   ]
  },
  {
   "cell_type": "markdown",
   "metadata": {},
   "source": [
    "### Number of Transactions"
   ]
  },
  {
   "cell_type": "code",
   "execution_count": 83,
   "metadata": {
    "collapsed": false,
    "scrolled": true
   },
   "outputs": [],
   "source": [
    "#Number of transactions\n",
    "txn_cnts = txn.groupby(['new_id']).size().reset_index(name='txn_cnt')"
   ]
  },
  {
   "cell_type": "markdown",
   "metadata": {},
   "source": [
    "### Total Payment Plan Days, Plan List Price, Actual Amount Paid"
   ]
  },
  {
   "cell_type": "code",
   "execution_count": 84,
   "metadata": {
    "collapsed": false
   },
   "outputs": [
    {
     "data": {
      "text/html": [
       "<div>\n",
       "<table border=\"1\" class=\"dataframe\">\n",
       "  <thead>\n",
       "    <tr style=\"text-align: right;\">\n",
       "      <th></th>\n",
       "      <th>new_id</th>\n",
       "      <th>payment_plan_days</th>\n",
       "      <th>plan_list_price</th>\n",
       "      <th>actual_amount_paid</th>\n",
       "      <th>avg_daily_paid</th>\n",
       "      <th>list_actual_diff</th>\n",
       "    </tr>\n",
       "  </thead>\n",
       "  <tbody>\n",
       "    <tr>\n",
       "      <th>0</th>\n",
       "      <td>0</td>\n",
       "      <td>90</td>\n",
       "      <td>297</td>\n",
       "      <td>297</td>\n",
       "      <td>3.300000</td>\n",
       "      <td>0</td>\n",
       "    </tr>\n",
       "    <tr>\n",
       "      <th>1</th>\n",
       "      <td>1</td>\n",
       "      <td>543</td>\n",
       "      <td>2682</td>\n",
       "      <td>2831</td>\n",
       "      <td>5.213628</td>\n",
       "      <td>65387</td>\n",
       "    </tr>\n",
       "    <tr>\n",
       "      <th>2</th>\n",
       "      <td>2</td>\n",
       "      <td>720</td>\n",
       "      <td>3576</td>\n",
       "      <td>3725</td>\n",
       "      <td>5.173611</td>\n",
       "      <td>65387</td>\n",
       "    </tr>\n",
       "    <tr>\n",
       "      <th>3</th>\n",
       "      <td>3</td>\n",
       "      <td>330</td>\n",
       "      <td>1639</td>\n",
       "      <td>1639</td>\n",
       "      <td>4.966667</td>\n",
       "      <td>0</td>\n",
       "    </tr>\n",
       "    <tr>\n",
       "      <th>4</th>\n",
       "      <td>4</td>\n",
       "      <td>543</td>\n",
       "      <td>2682</td>\n",
       "      <td>2831</td>\n",
       "      <td>5.213628</td>\n",
       "      <td>65387</td>\n",
       "    </tr>\n",
       "  </tbody>\n",
       "</table>\n",
       "</div>"
      ],
      "text/plain": [
       "   new_id  payment_plan_days  plan_list_price  actual_amount_paid  \\\n",
       "0       0                 90              297                 297   \n",
       "1       1                543             2682                2831   \n",
       "2       2                720             3576                3725   \n",
       "3       3                330             1639                1639   \n",
       "4       4                543             2682                2831   \n",
       "\n",
       "   avg_daily_paid  list_actual_diff  \n",
       "0        3.300000                 0  \n",
       "1        5.213628             65387  \n",
       "2        5.173611             65387  \n",
       "3        4.966667                 0  \n",
       "4        5.213628             65387  "
      ]
     },
     "execution_count": 84,
     "metadata": {},
     "output_type": "execute_result"
    }
   ],
   "source": [
    "#Sum of payment_plan_days\n",
    "tot_plan_pmt = txn.groupby(['new_id'])[['payment_plan_days', 'plan_list_price', 'actual_amount_paid']].sum().reset_index()\n",
    "tot_plan_pmt['avg_daily_paid'] = tot_plan_pmt['actual_amount_paid'] / tot_plan_pmt['payment_plan_days']\n",
    "tot_plan_pmt['list_actual_diff'] = tot_plan_pmt['plan_list_price'] - tot_plan_pmt['actual_amount_paid']\n",
    "tot_plan_pmt.head()"
   ]
  },
  {
   "cell_type": "markdown",
   "metadata": {},
   "source": [
    "### Number, and Percentage of Transactions where Plan List Price Higher than Actual Amount Paid"
   ]
  },
  {
   "cell_type": "code",
   "execution_count": 85,
   "metadata": {
    "collapsed": false
   },
   "outputs": [
    {
     "data": {
      "text/html": [
       "<div>\n",
       "<table border=\"1\" class=\"dataframe\">\n",
       "  <thead>\n",
       "    <tr style=\"text-align: right;\">\n",
       "      <th></th>\n",
       "      <th>new_id</th>\n",
       "      <th>txn_cnt</th>\n",
       "      <th>lp_high_cnt</th>\n",
       "      <th>per_lp_high</th>\n",
       "    </tr>\n",
       "  </thead>\n",
       "  <tbody>\n",
       "    <tr>\n",
       "      <th>0</th>\n",
       "      <td>0</td>\n",
       "      <td>3</td>\n",
       "      <td>NaN</td>\n",
       "      <td>NaN</td>\n",
       "    </tr>\n",
       "    <tr>\n",
       "      <th>1</th>\n",
       "      <td>1</td>\n",
       "      <td>19</td>\n",
       "      <td>1.0</td>\n",
       "      <td>0.052632</td>\n",
       "    </tr>\n",
       "    <tr>\n",
       "      <th>2</th>\n",
       "      <td>2</td>\n",
       "      <td>25</td>\n",
       "      <td>1.0</td>\n",
       "      <td>0.040000</td>\n",
       "    </tr>\n",
       "    <tr>\n",
       "      <th>3</th>\n",
       "      <td>3</td>\n",
       "      <td>11</td>\n",
       "      <td>NaN</td>\n",
       "      <td>NaN</td>\n",
       "    </tr>\n",
       "    <tr>\n",
       "      <th>4</th>\n",
       "      <td>4</td>\n",
       "      <td>19</td>\n",
       "      <td>1.0</td>\n",
       "      <td>0.052632</td>\n",
       "    </tr>\n",
       "  </tbody>\n",
       "</table>\n",
       "</div>"
      ],
      "text/plain": [
       "   new_id  txn_cnt  lp_high_cnt  per_lp_high\n",
       "0       0        3          NaN          NaN\n",
       "1       1       19          1.0     0.052632\n",
       "2       2       25          1.0     0.040000\n",
       "3       3       11          NaN          NaN\n",
       "4       4       19          1.0     0.052632"
      ]
     },
     "execution_count": 85,
     "metadata": {},
     "output_type": "execute_result"
    }
   ],
   "source": [
    "#Note that plan_list_price is never lower than actual_amount_paid\n",
    "txn['list_actual_diff'] = txn['plan_list_price'] - txn['actual_amount_paid']\n",
    "txn_lp_high = txn[txn['list_actual_diff'] > 0].groupby('new_id')['list_actual_diff'].count().reset_index(name='lp_high_cnt')\n",
    "txn_lp_high = txn_cnts.merge(txn_lp_high, on = 'new_id', how = 'left')\n",
    "txn_lp_high['per_lp_high'] = txn_lp_high['lp_high_cnt']/txn_lp_high['txn_cnt']\n",
    "txn_lp_high.head()"
   ]
  },
  {
   "cell_type": "markdown",
   "metadata": {},
   "source": [
    "### Number of Times Churned"
   ]
  },
  {
   "cell_type": "code",
   "execution_count": 86,
   "metadata": {
    "collapsed": false
   },
   "outputs": [
    {
     "data": {
      "text/html": [
       "<div>\n",
       "<table border=\"1\" class=\"dataframe\">\n",
       "  <thead>\n",
       "    <tr style=\"text-align: right;\">\n",
       "      <th></th>\n",
       "      <th>payment_method_id</th>\n",
       "      <th>payment_plan_days</th>\n",
       "      <th>plan_list_price</th>\n",
       "      <th>actual_amount_paid</th>\n",
       "      <th>is_auto_renew</th>\n",
       "      <th>transaction_date</th>\n",
       "      <th>membership_expire_date</th>\n",
       "      <th>is_cancel</th>\n",
       "      <th>new_id</th>\n",
       "      <th>list_actual_diff</th>\n",
       "      <th>shifted_expiry</th>\n",
       "      <th>memb_gap</th>\n",
       "      <th>prev_churn</th>\n",
       "    </tr>\n",
       "  </thead>\n",
       "  <tbody>\n",
       "    <tr>\n",
       "      <th>867414</th>\n",
       "      <td>41</td>\n",
       "      <td>30</td>\n",
       "      <td>99</td>\n",
       "      <td>99</td>\n",
       "      <td>1</td>\n",
       "      <td>2016-11-16</td>\n",
       "      <td>2016-12-15</td>\n",
       "      <td>0</td>\n",
       "      <td>0</td>\n",
       "      <td>0</td>\n",
       "      <td>NaT</td>\n",
       "      <td>NaT</td>\n",
       "      <td>False</td>\n",
       "    </tr>\n",
       "    <tr>\n",
       "      <th>867416</th>\n",
       "      <td>41</td>\n",
       "      <td>30</td>\n",
       "      <td>99</td>\n",
       "      <td>99</td>\n",
       "      <td>1</td>\n",
       "      <td>2016-12-15</td>\n",
       "      <td>2017-01-15</td>\n",
       "      <td>0</td>\n",
       "      <td>0</td>\n",
       "      <td>0</td>\n",
       "      <td>2016-12-15</td>\n",
       "      <td>0 days</td>\n",
       "      <td>False</td>\n",
       "    </tr>\n",
       "    <tr>\n",
       "      <th>867413</th>\n",
       "      <td>41</td>\n",
       "      <td>30</td>\n",
       "      <td>99</td>\n",
       "      <td>99</td>\n",
       "      <td>1</td>\n",
       "      <td>2017-01-15</td>\n",
       "      <td>2017-02-15</td>\n",
       "      <td>0</td>\n",
       "      <td>0</td>\n",
       "      <td>0</td>\n",
       "      <td>2017-01-15</td>\n",
       "      <td>0 days</td>\n",
       "      <td>False</td>\n",
       "    </tr>\n",
       "    <tr>\n",
       "      <th>15369793</th>\n",
       "      <td>39</td>\n",
       "      <td>31</td>\n",
       "      <td>149</td>\n",
       "      <td>149</td>\n",
       "      <td>1</td>\n",
       "      <td>2015-01-31</td>\n",
       "      <td>2015-03-19</td>\n",
       "      <td>0</td>\n",
       "      <td>1</td>\n",
       "      <td>0</td>\n",
       "      <td>NaT</td>\n",
       "      <td>NaT</td>\n",
       "      <td>False</td>\n",
       "    </tr>\n",
       "    <tr>\n",
       "      <th>15369798</th>\n",
       "      <td>39</td>\n",
       "      <td>31</td>\n",
       "      <td>149</td>\n",
       "      <td>149</td>\n",
       "      <td>1</td>\n",
       "      <td>2015-02-28</td>\n",
       "      <td>2015-04-19</td>\n",
       "      <td>0</td>\n",
       "      <td>1</td>\n",
       "      <td>0</td>\n",
       "      <td>2015-03-19</td>\n",
       "      <td>-19 days</td>\n",
       "      <td>False</td>\n",
       "    </tr>\n",
       "  </tbody>\n",
       "</table>\n",
       "</div>"
      ],
      "text/plain": [
       "          payment_method_id  payment_plan_days  plan_list_price  \\\n",
       "867414                   41                 30               99   \n",
       "867416                   41                 30               99   \n",
       "867413                   41                 30               99   \n",
       "15369793                 39                 31              149   \n",
       "15369798                 39                 31              149   \n",
       "\n",
       "          actual_amount_paid  is_auto_renew transaction_date  \\\n",
       "867414                    99              1       2016-11-16   \n",
       "867416                    99              1       2016-12-15   \n",
       "867413                    99              1       2017-01-15   \n",
       "15369793                 149              1       2015-01-31   \n",
       "15369798                 149              1       2015-02-28   \n",
       "\n",
       "         membership_expire_date  is_cancel  new_id  list_actual_diff  \\\n",
       "867414               2016-12-15          0       0                 0   \n",
       "867416               2017-01-15          0       0                 0   \n",
       "867413               2017-02-15          0       0                 0   \n",
       "15369793             2015-03-19          0       1                 0   \n",
       "15369798             2015-04-19          0       1                 0   \n",
       "\n",
       "         shifted_expiry  memb_gap prev_churn  \n",
       "867414              NaT       NaT      False  \n",
       "867416       2016-12-15    0 days      False  \n",
       "867413       2017-01-15    0 days      False  \n",
       "15369793            NaT       NaT      False  \n",
       "15369798     2015-03-19  -19 days      False  "
      ]
     },
     "execution_count": 86,
     "metadata": {},
     "output_type": "execute_result"
    }
   ],
   "source": [
    "#Previous churn: determine if transaction date-membership expiry date from previous row is >30days \n",
    "txn['shifted_expiry'] = txn.groupby('new_id')['membership_expire_date'].shift()\n",
    "txn['memb_gap'] = (txn['transaction_date'] - txn['shifted_expiry'])\n",
    "txn['prev_churn'] = (txn['memb_gap']/np.timedelta64(1, 'D'))>30\n",
    "txn.head()"
   ]
  },
  {
   "cell_type": "code",
   "execution_count": 87,
   "metadata": {
    "collapsed": false
   },
   "outputs": [
    {
     "data": {
      "text/html": [
       "<div>\n",
       "<table border=\"1\" class=\"dataframe\">\n",
       "  <thead>\n",
       "    <tr style=\"text-align: right;\">\n",
       "      <th></th>\n",
       "      <th>new_id</th>\n",
       "      <th>prev_churn_cnt</th>\n",
       "    </tr>\n",
       "  </thead>\n",
       "  <tbody>\n",
       "    <tr>\n",
       "      <th>0</th>\n",
       "      <td>1</td>\n",
       "      <td>1</td>\n",
       "    </tr>\n",
       "    <tr>\n",
       "      <th>1</th>\n",
       "      <td>4</td>\n",
       "      <td>1</td>\n",
       "    </tr>\n",
       "    <tr>\n",
       "      <th>2</th>\n",
       "      <td>5</td>\n",
       "      <td>1</td>\n",
       "    </tr>\n",
       "    <tr>\n",
       "      <th>3</th>\n",
       "      <td>8</td>\n",
       "      <td>2</td>\n",
       "    </tr>\n",
       "    <tr>\n",
       "      <th>4</th>\n",
       "      <td>9</td>\n",
       "      <td>1</td>\n",
       "    </tr>\n",
       "  </tbody>\n",
       "</table>\n",
       "</div>"
      ],
      "text/plain": [
       "   new_id  prev_churn_cnt\n",
       "0       1               1\n",
       "1       4               1\n",
       "2       5               1\n",
       "3       8               2\n",
       "4       9               1"
      ]
     },
     "execution_count": 87,
     "metadata": {},
     "output_type": "execute_result"
    }
   ],
   "source": [
    "#Aggregate number of times churned\n",
    "txn_prev_churn = txn[txn['prev_churn'] == True].groupby('new_id')['prev_churn'].count().reset_index(name='prev_churn_cnt')\n",
    "txn_prev_churn.head()"
   ]
  },
  {
   "cell_type": "markdown",
   "metadata": {},
   "source": [
    "### Stopped Auto Renew"
   ]
  },
  {
   "cell_type": "code",
   "execution_count": 88,
   "metadata": {
    "collapsed": false
   },
   "outputs": [
    {
     "data": {
      "text/plain": [
       "1    890592\n",
       "0    157574\n",
       "Name: last_ar, dtype: int64"
      ]
     },
     "execution_count": 88,
     "metadata": {},
     "output_type": "execute_result"
    }
   ],
   "source": [
    "#Value of 'is_auto_renew' for last transaction\n",
    "txn_ar_last = txn.groupby(['new_id'])['is_auto_renew'].last().reset_index(name='last_ar')\n",
    "txn_ar_last['last_ar'].value_counts()"
   ]
  },
  {
   "cell_type": "code",
   "execution_count": 89,
   "metadata": {
    "collapsed": false
   },
   "outputs": [
    {
     "data": {
      "text/html": [
       "<div>\n",
       "<table border=\"1\" class=\"dataframe\">\n",
       "  <thead>\n",
       "    <tr style=\"text-align: right;\">\n",
       "      <th></th>\n",
       "      <th>new_id</th>\n",
       "      <th>mean_ar</th>\n",
       "      <th>last_ar</th>\n",
       "      <th>stopped_ar</th>\n",
       "    </tr>\n",
       "  </thead>\n",
       "  <tbody>\n",
       "    <tr>\n",
       "      <th>9</th>\n",
       "      <td>9</td>\n",
       "      <td>0.571429</td>\n",
       "      <td>0</td>\n",
       "      <td>True</td>\n",
       "    </tr>\n",
       "    <tr>\n",
       "      <th>56</th>\n",
       "      <td>56</td>\n",
       "      <td>0.937500</td>\n",
       "      <td>0</td>\n",
       "      <td>True</td>\n",
       "    </tr>\n",
       "    <tr>\n",
       "      <th>77</th>\n",
       "      <td>80</td>\n",
       "      <td>0.900000</td>\n",
       "      <td>0</td>\n",
       "      <td>True</td>\n",
       "    </tr>\n",
       "    <tr>\n",
       "      <th>131</th>\n",
       "      <td>135</td>\n",
       "      <td>0.714286</td>\n",
       "      <td>0</td>\n",
       "      <td>True</td>\n",
       "    </tr>\n",
       "    <tr>\n",
       "      <th>236</th>\n",
       "      <td>243</td>\n",
       "      <td>0.933333</td>\n",
       "      <td>0</td>\n",
       "      <td>True</td>\n",
       "    </tr>\n",
       "  </tbody>\n",
       "</table>\n",
       "</div>"
      ],
      "text/plain": [
       "     new_id   mean_ar  last_ar stopped_ar\n",
       "9         9  0.571429        0       True\n",
       "56       56  0.937500        0       True\n",
       "77       80  0.900000        0       True\n",
       "131     135  0.714286        0       True\n",
       "236     243  0.933333        0       True"
      ]
     },
     "execution_count": 89,
     "metadata": {},
     "output_type": "execute_result"
    }
   ],
   "source": [
    "#Changed auto renew:\n",
    "txn_ar_change = txn.groupby(['new_id'])['is_auto_renew'].mean().reset_index(name='mean_ar')\n",
    "txn_ar_stop = txn_ar_change.merge(txn_ar_last, on='new_id', how='inner')\n",
    "txn_ar_stop['stopped_ar']=(txn_ar_stop['mean_ar'] < 1) & (txn_ar_stop['mean_ar'] > 0) & (txn_ar_stop['last_ar'] == 0)\n",
    "txn_ar_stop[txn_ar_stop['stopped_ar']==True].head()"
   ]
  },
  {
   "cell_type": "code",
   "execution_count": 58,
   "metadata": {
    "collapsed": false
   },
   "outputs": [
    {
     "data": {
      "text/plain": [
       "False    1030791\n",
       "True       17375\n",
       "Name: stopped_ar, dtype: int64"
      ]
     },
     "execution_count": 58,
     "metadata": {},
     "output_type": "execute_result"
    }
   ],
   "source": [
    "txn_ar_stop['stopped_ar'].value_counts()"
   ]
  },
  {
   "cell_type": "markdown",
   "metadata": {},
   "source": [
    "### Changed Payment Method"
   ]
  },
  {
   "cell_type": "code",
   "execution_count": 90,
   "metadata": {
    "collapsed": false
   },
   "outputs": [
    {
     "name": "stdout",
     "output_type": "stream",
     "text": [
      "          payment_method_id  payment_plan_days  plan_list_price  \\\n",
      "867414                   41                 30               99   \n",
      "867416                   41                 30               99   \n",
      "867413                   41                 30               99   \n",
      "15369793                 39                 31              149   \n",
      "15369798                 39                 31              149   \n",
      "\n",
      "          actual_amount_paid  is_auto_renew transaction_date  \\\n",
      "867414                    99              1       2016-11-16   \n",
      "867416                    99              1       2016-12-15   \n",
      "867413                    99              1       2017-01-15   \n",
      "15369793                 149              1       2015-01-31   \n",
      "15369798                 149              1       2015-02-28   \n",
      "\n",
      "         membership_expire_date  is_cancel  new_id  list_actual_diff  \\\n",
      "867414               2016-12-15          0       0                 0   \n",
      "867416               2017-01-15          0       0                 0   \n",
      "867413               2017-02-15          0       0                 0   \n",
      "15369793             2015-03-19          0       1                 0   \n",
      "15369798             2015-04-19          0       1                 0   \n",
      "\n",
      "         shifted_expiry  memb_gap prev_churn  shifted_pmt pmt_change  \n",
      "867414              NaT       NaT      False          NaN      False  \n",
      "867416       2016-12-15    0 days      False         41.0      False  \n",
      "867413       2017-01-15    0 days      False         41.0      False  \n",
      "15369793            NaT       NaT      False          NaN      False  \n",
      "15369798     2015-03-19  -19 days      False         39.0      False  \n"
     ]
    },
    {
     "data": {
      "text/plain": [
       "False    15253163\n",
       "True       252131\n",
       "Name: pmt_change, dtype: int64"
      ]
     },
     "execution_count": 90,
     "metadata": {},
     "output_type": "execute_result"
    }
   ],
   "source": [
    "#Changed payment method:determine if transaction date-membership expiry date from previous row is >30days \n",
    "txn['shifted_pmt'] = txn.groupby('new_id')['payment_method_id'].shift()\n",
    "txn['pmt_change'] = (txn['payment_method_id'] != txn['shifted_pmt']) & (txn['shifted_pmt'].isnull() != True)\n",
    "print(txn.head())\n",
    "txn['pmt_change'].value_counts()"
   ]
  },
  {
   "cell_type": "code",
   "execution_count": 91,
   "metadata": {
    "collapsed": false
   },
   "outputs": [
    {
     "data": {
      "text/html": [
       "<div>\n",
       "<table border=\"1\" class=\"dataframe\">\n",
       "  <thead>\n",
       "    <tr style=\"text-align: right;\">\n",
       "      <th></th>\n",
       "      <th>new_id</th>\n",
       "      <th>pmt_change_cnt</th>\n",
       "    </tr>\n",
       "  </thead>\n",
       "  <tbody>\n",
       "    <tr>\n",
       "      <th>0</th>\n",
       "      <td>7</td>\n",
       "      <td>2</td>\n",
       "    </tr>\n",
       "    <tr>\n",
       "      <th>1</th>\n",
       "      <td>8</td>\n",
       "      <td>2</td>\n",
       "    </tr>\n",
       "    <tr>\n",
       "      <th>2</th>\n",
       "      <td>9</td>\n",
       "      <td>2</td>\n",
       "    </tr>\n",
       "    <tr>\n",
       "      <th>3</th>\n",
       "      <td>21</td>\n",
       "      <td>3</td>\n",
       "    </tr>\n",
       "    <tr>\n",
       "      <th>4</th>\n",
       "      <td>36</td>\n",
       "      <td>1</td>\n",
       "    </tr>\n",
       "  </tbody>\n",
       "</table>\n",
       "</div>"
      ],
      "text/plain": [
       "   new_id  pmt_change_cnt\n",
       "0       7               2\n",
       "1       8               2\n",
       "2       9               2\n",
       "3      21               3\n",
       "4      36               1"
      ]
     },
     "execution_count": 91,
     "metadata": {},
     "output_type": "execute_result"
    }
   ],
   "source": [
    "#Aggregate number of times changed payment method\n",
    "txn_pmt_change = txn[txn['pmt_change'] == True].groupby('new_id')['pmt_change'].count().reset_index(name='pmt_change_cnt')\n",
    "txn_pmt_change.head()"
   ]
  },
  {
   "cell_type": "markdown",
   "metadata": {},
   "source": [
    "### Cancelled Membership"
   ]
  },
  {
   "cell_type": "code",
   "execution_count": 92,
   "metadata": {
    "collapsed": false
   },
   "outputs": [
    {
     "data": {
      "text/html": [
       "<div>\n",
       "<table border=\"1\" class=\"dataframe\">\n",
       "  <thead>\n",
       "    <tr style=\"text-align: right;\">\n",
       "      <th></th>\n",
       "      <th>new_id</th>\n",
       "      <th>mean_cancel</th>\n",
       "      <th>cancelled</th>\n",
       "    </tr>\n",
       "  </thead>\n",
       "  <tbody>\n",
       "    <tr>\n",
       "      <th>9</th>\n",
       "      <td>9</td>\n",
       "      <td>0.142857</td>\n",
       "      <td>True</td>\n",
       "    </tr>\n",
       "    <tr>\n",
       "      <th>17</th>\n",
       "      <td>17</td>\n",
       "      <td>0.038462</td>\n",
       "      <td>True</td>\n",
       "    </tr>\n",
       "    <tr>\n",
       "      <th>21</th>\n",
       "      <td>21</td>\n",
       "      <td>0.074074</td>\n",
       "      <td>True</td>\n",
       "    </tr>\n",
       "    <tr>\n",
       "      <th>28</th>\n",
       "      <td>28</td>\n",
       "      <td>0.050000</td>\n",
       "      <td>True</td>\n",
       "    </tr>\n",
       "    <tr>\n",
       "      <th>35</th>\n",
       "      <td>35</td>\n",
       "      <td>0.142857</td>\n",
       "      <td>True</td>\n",
       "    </tr>\n",
       "  </tbody>\n",
       "</table>\n",
       "</div>"
      ],
      "text/plain": [
       "    new_id  mean_cancel cancelled\n",
       "9        9     0.142857      True\n",
       "17      17     0.038462      True\n",
       "21      21     0.074074      True\n",
       "28      28     0.050000      True\n",
       "35      35     0.142857      True"
      ]
     },
     "execution_count": 92,
     "metadata": {},
     "output_type": "execute_result"
    }
   ],
   "source": [
    "#Cancelled membership:\n",
    "txn_cancelled = txn.groupby(['new_id'])['is_cancel'].mean().reset_index(name='mean_cancel')\n",
    "txn_cancelled['cancelled']=(txn_cancelled['mean_cancel']<1)&(txn_cancelled['mean_cancel']>0)\n",
    "txn_cancelled[txn_cancelled['cancelled']==True].head()"
   ]
  },
  {
   "cell_type": "code",
   "execution_count": 93,
   "metadata": {
    "collapsed": false
   },
   "outputs": [
    {
     "data": {
      "text/plain": [
       "False    838887\n",
       "True     209279\n",
       "Name: cancelled, dtype: int64"
      ]
     },
     "execution_count": 93,
     "metadata": {},
     "output_type": "execute_result"
    }
   ],
   "source": [
    "txn_cancelled['cancelled'].value_counts()"
   ]
  },
  {
   "cell_type": "code",
   "execution_count": 94,
   "metadata": {
    "collapsed": false
   },
   "outputs": [
    {
     "data": {
      "text/plain": [
       "0    1035493\n",
       "1      12673\n",
       "Name: last_cancel, dtype: int64"
      ]
     },
     "execution_count": 94,
     "metadata": {},
     "output_type": "execute_result"
    }
   ],
   "source": [
    "#Cancelled membership in last transaction:\n",
    "txn_cancelled_last = txn.groupby(['new_id'])['is_cancel'].last().reset_index(name='last_cancel')\n",
    "txn_cancelled_last['last_cancel'].value_counts()"
   ]
  },
  {
   "cell_type": "markdown",
   "metadata": {},
   "source": [
    "### Last Transaction is Free Trial"
   ]
  },
  {
   "cell_type": "code",
   "execution_count": 95,
   "metadata": {
    "collapsed": false
   },
   "outputs": [
    {
     "data": {
      "text/html": [
       "<div>\n",
       "<table border=\"1\" class=\"dataframe\">\n",
       "  <thead>\n",
       "    <tr style=\"text-align: right;\">\n",
       "      <th></th>\n",
       "      <th>new_id</th>\n",
       "      <th>last_plan_price</th>\n",
       "      <th>lst_free_trial</th>\n",
       "    </tr>\n",
       "  </thead>\n",
       "  <tbody>\n",
       "    <tr>\n",
       "      <th>56</th>\n",
       "      <td>56</td>\n",
       "      <td>0</td>\n",
       "      <td>True</td>\n",
       "    </tr>\n",
       "    <tr>\n",
       "      <th>309</th>\n",
       "      <td>322</td>\n",
       "      <td>0</td>\n",
       "      <td>True</td>\n",
       "    </tr>\n",
       "    <tr>\n",
       "      <th>713</th>\n",
       "      <td>739</td>\n",
       "      <td>0</td>\n",
       "      <td>True</td>\n",
       "    </tr>\n",
       "    <tr>\n",
       "      <th>780</th>\n",
       "      <td>809</td>\n",
       "      <td>0</td>\n",
       "      <td>True</td>\n",
       "    </tr>\n",
       "    <tr>\n",
       "      <th>989</th>\n",
       "      <td>1027</td>\n",
       "      <td>0</td>\n",
       "      <td>True</td>\n",
       "    </tr>\n",
       "  </tbody>\n",
       "</table>\n",
       "</div>"
      ],
      "text/plain": [
       "     new_id  last_plan_price lst_free_trial\n",
       "56       56                0           True\n",
       "309     322                0           True\n",
       "713     739                0           True\n",
       "780     809                0           True\n",
       "989    1027                0           True"
      ]
     },
     "execution_count": 95,
     "metadata": {},
     "output_type": "execute_result"
    }
   ],
   "source": [
    "#5483 members who have their last transaction as a free trial\n",
    "last_txn = txn.groupby(['new_id'])['plan_list_price'].last().reset_index(name='last_plan_price')\n",
    "last_txn['lst_free_trial'] = (last_txn['last_plan_price'] == 0) | (last_txn['last_plan_price'] == 1)\n",
    "last_txn[last_txn['lst_free_trial']==True].head()"
   ]
  },
  {
   "cell_type": "markdown",
   "metadata": {},
   "source": [
    "## Merging Feature Dataframes"
   ]
  },
  {
   "cell_type": "code",
   "execution_count": 96,
   "metadata": {
    "collapsed": false
   },
   "outputs": [
    {
     "name": "stdout",
     "output_type": "stream",
     "text": [
      "(990834, 21)\n"
     ]
    },
    {
     "data": {
      "text/html": [
       "<div>\n",
       "<table border=\"1\" class=\"dataframe\">\n",
       "  <thead>\n",
       "    <tr style=\"text-align: right;\">\n",
       "      <th></th>\n",
       "      <th>is_churn</th>\n",
       "      <th>new_id</th>\n",
       "      <th>in_txn</th>\n",
       "      <th>payment_plan_days</th>\n",
       "      <th>plan_list_price</th>\n",
       "      <th>actual_amount_paid</th>\n",
       "      <th>avg_daily_paid</th>\n",
       "      <th>list_actual_diff</th>\n",
       "      <th>mean_ar</th>\n",
       "      <th>last_ar</th>\n",
       "      <th>...</th>\n",
       "      <th>mean_cancel</th>\n",
       "      <th>cancelled</th>\n",
       "      <th>last_cancel</th>\n",
       "      <th>last_plan_price</th>\n",
       "      <th>lst_free_trial</th>\n",
       "      <th>txn_cnt</th>\n",
       "      <th>lp_high_cnt</th>\n",
       "      <th>per_lp_high</th>\n",
       "      <th>prev_churn_cnt</th>\n",
       "      <th>pmt_change_cnt</th>\n",
       "    </tr>\n",
       "  </thead>\n",
       "  <tbody>\n",
       "    <tr>\n",
       "      <th>0</th>\n",
       "      <td>1</td>\n",
       "      <td>1025093</td>\n",
       "      <td>True</td>\n",
       "      <td>37</td>\n",
       "      <td>149</td>\n",
       "      <td>149</td>\n",
       "      <td>4.027027</td>\n",
       "      <td>0</td>\n",
       "      <td>0.000000</td>\n",
       "      <td>0</td>\n",
       "      <td>...</td>\n",
       "      <td>0.000000</td>\n",
       "      <td>False</td>\n",
       "      <td>0</td>\n",
       "      <td>149</td>\n",
       "      <td>False</td>\n",
       "      <td>2</td>\n",
       "      <td>NaN</td>\n",
       "      <td>NaN</td>\n",
       "      <td>1.0</td>\n",
       "      <td>NaN</td>\n",
       "    </tr>\n",
       "    <tr>\n",
       "      <th>1</th>\n",
       "      <td>1</td>\n",
       "      <td>476532</td>\n",
       "      <td>True</td>\n",
       "      <td>633</td>\n",
       "      <td>3160</td>\n",
       "      <td>3309</td>\n",
       "      <td>5.227488</td>\n",
       "      <td>65387</td>\n",
       "      <td>0.954545</td>\n",
       "      <td>1</td>\n",
       "      <td>...</td>\n",
       "      <td>0.045455</td>\n",
       "      <td>True</td>\n",
       "      <td>0</td>\n",
       "      <td>149</td>\n",
       "      <td>False</td>\n",
       "      <td>22</td>\n",
       "      <td>1.0</td>\n",
       "      <td>0.045455</td>\n",
       "      <td>1.0</td>\n",
       "      <td>2.0</td>\n",
       "    </tr>\n",
       "    <tr>\n",
       "      <th>2</th>\n",
       "      <td>1</td>\n",
       "      <td>731853</td>\n",
       "      <td>True</td>\n",
       "      <td>300</td>\n",
       "      <td>1492</td>\n",
       "      <td>1492</td>\n",
       "      <td>4.973333</td>\n",
       "      <td>0</td>\n",
       "      <td>0.800000</td>\n",
       "      <td>1</td>\n",
       "      <td>...</td>\n",
       "      <td>0.100000</td>\n",
       "      <td>True</td>\n",
       "      <td>1</td>\n",
       "      <td>149</td>\n",
       "      <td>False</td>\n",
       "      <td>10</td>\n",
       "      <td>NaN</td>\n",
       "      <td>NaN</td>\n",
       "      <td>1.0</td>\n",
       "      <td>1.0</td>\n",
       "    </tr>\n",
       "    <tr>\n",
       "      <th>3</th>\n",
       "      <td>1</td>\n",
       "      <td>854199</td>\n",
       "      <td>True</td>\n",
       "      <td>820</td>\n",
       "      <td>1788</td>\n",
       "      <td>1788</td>\n",
       "      <td>2.180488</td>\n",
       "      <td>0</td>\n",
       "      <td>0.000000</td>\n",
       "      <td>0</td>\n",
       "      <td>...</td>\n",
       "      <td>0.000000</td>\n",
       "      <td>False</td>\n",
       "      <td>0</td>\n",
       "      <td>1788</td>\n",
       "      <td>False</td>\n",
       "      <td>2</td>\n",
       "      <td>NaN</td>\n",
       "      <td>NaN</td>\n",
       "      <td>NaN</td>\n",
       "      <td>1.0</td>\n",
       "    </tr>\n",
       "    <tr>\n",
       "      <th>4</th>\n",
       "      <td>1</td>\n",
       "      <td>601853</td>\n",
       "      <td>True</td>\n",
       "      <td>785</td>\n",
       "      <td>3576</td>\n",
       "      <td>3576</td>\n",
       "      <td>4.555414</td>\n",
       "      <td>0</td>\n",
       "      <td>0.000000</td>\n",
       "      <td>0</td>\n",
       "      <td>...</td>\n",
       "      <td>0.000000</td>\n",
       "      <td>False</td>\n",
       "      <td>0</td>\n",
       "      <td>149</td>\n",
       "      <td>False</td>\n",
       "      <td>8</td>\n",
       "      <td>NaN</td>\n",
       "      <td>NaN</td>\n",
       "      <td>NaN</td>\n",
       "      <td>NaN</td>\n",
       "    </tr>\n",
       "  </tbody>\n",
       "</table>\n",
       "<p>5 rows × 21 columns</p>\n",
       "</div>"
      ],
      "text/plain": [
       "   is_churn   new_id in_txn  payment_plan_days  plan_list_price  \\\n",
       "0         1  1025093   True                 37              149   \n",
       "1         1   476532   True                633             3160   \n",
       "2         1   731853   True                300             1492   \n",
       "3         1   854199   True                820             1788   \n",
       "4         1   601853   True                785             3576   \n",
       "\n",
       "   actual_amount_paid  avg_daily_paid  list_actual_diff   mean_ar  last_ar  \\\n",
       "0                 149        4.027027                 0  0.000000        0   \n",
       "1                3309        5.227488             65387  0.954545        1   \n",
       "2                1492        4.973333                 0  0.800000        1   \n",
       "3                1788        2.180488                 0  0.000000        0   \n",
       "4                3576        4.555414                 0  0.000000        0   \n",
       "\n",
       "        ...       mean_cancel  cancelled last_cancel  last_plan_price  \\\n",
       "0       ...          0.000000      False           0              149   \n",
       "1       ...          0.045455       True           0              149   \n",
       "2       ...          0.100000       True           1              149   \n",
       "3       ...          0.000000      False           0             1788   \n",
       "4       ...          0.000000      False           0              149   \n",
       "\n",
       "   lst_free_trial txn_cnt  lp_high_cnt  per_lp_high  prev_churn_cnt  \\\n",
       "0           False       2          NaN          NaN             1.0   \n",
       "1           False      22          1.0     0.045455             1.0   \n",
       "2           False      10          NaN          NaN             1.0   \n",
       "3           False       2          NaN          NaN             NaN   \n",
       "4           False       8          NaN          NaN             NaN   \n",
       "\n",
       "   pmt_change_cnt  \n",
       "0             NaN  \n",
       "1             2.0  \n",
       "2             1.0  \n",
       "3             1.0  \n",
       "4             NaN  \n",
       "\n",
       "[5 rows x 21 columns]"
      ]
     },
     "execution_count": 96,
     "metadata": {},
     "output_type": "execute_result"
    }
   ],
   "source": [
    "import functools\n",
    "\n",
    "txn_features = [train, tot_plan_pmt, txn_ar_stop, txn_cancelled, txn_cancelled_last, last_txn]\n",
    "f_txn = functools.reduce(lambda left,right: pd.merge(left,right,on='new_id', how='inner'), txn_features)\n",
    "\n",
    "txn_features_left = [f_txn, txn_lp_high, txn_prev_churn, txn_pmt_change]\n",
    "f_txn = functools.reduce(lambda left,right: pd.merge(left,right,on='new_id', how='left'), txn_features_left)\n",
    "\n",
    "#.merge(txn_prev_churn, on='new_id', how='left')\n",
    "#.merge(txn_payment_change, on='new_id', how='left')\n",
    "\n",
    "print(f_txn.shape)\n",
    "f_txn.head()"
   ]
  },
  {
   "cell_type": "code",
   "execution_count": 97,
   "metadata": {
    "collapsed": true
   },
   "outputs": [],
   "source": [
    "f_txn.to_csv('final_txn.csv', index=False)"
   ]
  },
  {
   "cell_type": "markdown",
   "metadata": {},
   "source": [
    "## Casual Exploratory Analysis\n",
    "\n",
    "Oh so casual *_hairflick_"
   ]
  },
  {
   "cell_type": "code",
   "execution_count": 66,
   "metadata": {
    "collapsed": false
   },
   "outputs": [
    {
     "data": {
      "text/plain": [
       "0.04360491326381815"
      ]
     },
     "execution_count": 66,
     "metadata": {},
     "output_type": "execute_result"
    }
   ],
   "source": [
    "#4% of transactions have a plan_list_price of zero\n",
    "txn[txn['plan_list_price']==0]['plan_list_price'].count()/txn['plan_list_price'].count()"
   ]
  },
  {
   "cell_type": "code",
   "execution_count": 67,
   "metadata": {
    "collapsed": false
   },
   "outputs": [
    {
     "data": {
      "text/plain": [
       "<matplotlib.axes._subplots.AxesSubplot at 0x27e841b9780>"
      ]
     },
     "execution_count": 67,
     "metadata": {},
     "output_type": "execute_result"
    },
    {
     "data": {
      "image/png": "[encoded data removed]",
      "text/plain": [
       "<matplotlib.figure.Figure at 0x27e840d3b70>"
      ]
     },
     "metadata": {},
     "output_type": "display_data"
    }
   ],
   "source": [
    "#Looking at prices of membership transactions: 99 & 149 & 129 corresponds to monthly membership\n",
    "plt.figure(num=None, figsize=(16, 4), dpi=80)\n",
    "sns.countplot(txn['plan_list_price'])"
   ]
  },
  {
   "cell_type": "code",
   "execution_count": 31,
   "metadata": {
    "collapsed": false
   },
   "outputs": [
    {
     "name": "stdout",
     "output_type": "stream",
     "text": [
      "30    14263933\n",
      "31      492846\n",
      "35         325\n",
      "Name: payment_plan_days, dtype: int64\n"
     ]
    }
   ],
   "source": [
    "print(txn[(txn['plan_list_price']==129)|(txn['plan_list_price']==99)|(txn['plan_list_price']==149)]['payment_plan_days'].value_counts())"
   ]
  },
  {
   "cell_type": "code",
   "execution_count": 32,
   "metadata": {
    "collapsed": false
   },
   "outputs": [
    {
     "data": {
      "text/plain": [
       "<matplotlib.axes._subplots.AxesSubplot at 0x130562a58>"
      ]
     },
     "execution_count": 32,
     "metadata": {},
     "output_type": "execute_result"
    },
    {
     "data": {
      "image/png": "[encoded data removed]",
      "text/plain": [
       "<matplotlib.figure.Figure at 0x131295278>"
      ]
     },
     "metadata": {},
     "output_type": "display_data"
    }
   ],
   "source": [
    "txn_test = txn.groupby(['plan_list_price', 'payment_plan_days'])['plan_list_price'].count().reset_index(name='cnt_txn')\n",
    "txn_test = txn_test.pivot(index='plan_list_price', columns='payment_plan_days', values='cnt_txn')\n",
    "plt.figure(num=None, figsize=(16, 10), dpi=80)\n",
    "sns.heatmap(txn_test, cmap='viridis')"
   ]
  },
  {
   "cell_type": "markdown",
   "metadata": {},
   "source": [
    "## Are Features Useful?"
   ]
  },
  {
   "cell_type": "markdown",
   "metadata": {},
   "source": [
    "### Total Payment Plan Days"
   ]
  },
  {
   "cell_type": "code",
   "execution_count": 68,
   "metadata": {
    "collapsed": false
   },
   "outputs": [
    {
     "data": {
      "text/plain": [
       "<matplotlib.axes._subplots.AxesSubplot at 0x27e8058d7b8>"
      ]
     },
     "execution_count": 68,
     "metadata": {},
     "output_type": "execute_result"
    },
    {
     "data": {
      "image/png": "[encoded data removed]",
      "text/plain": [
       "<matplotlib.figure.Figure at 0x27e80d5ba58>"
      ]
     },
     "metadata": {},
     "output_type": "display_data"
    }
   ],
   "source": [
    "plt.figure(num=None, figsize=(6, 4), dpi=80, facecolor='w', edgecolor='k')\n",
    "sns.barplot('is_churn', 'payment_plan_days', data=f_txn)"
   ]
  },
  {
   "cell_type": "markdown",
   "metadata": {},
   "source": [
    "### Difference Between Listed and Paid Price"
   ]
  },
  {
   "cell_type": "code",
   "execution_count": 69,
   "metadata": {
    "collapsed": false
   },
   "outputs": [
    {
     "data": {
      "text/plain": [
       "<matplotlib.axes._subplots.AxesSubplot at 0x27e840f8b70>"
      ]
     },
     "execution_count": 69,
     "metadata": {},
     "output_type": "execute_result"
    },
    {
     "data": {
      "image/png": "[encoded data removed]",
      "text/plain": [
       "<matplotlib.figure.Figure at 0x27e8175c5f8>"
      ]
     },
     "metadata": {},
     "output_type": "display_data"
    }
   ],
   "source": [
    "plt.figure(num=None, figsize=(6, 4), dpi=80, facecolor='w', edgecolor='k')\n",
    "sns.barplot('is_churn', 'list_actual_diff', data=f_txn)"
   ]
  },
  {
   "cell_type": "markdown",
   "metadata": {},
   "source": [
    "### Number of Transactions where Plan List Price is Higher than Actual Amount Paid"
   ]
  },
  {
   "cell_type": "code",
   "execution_count": 70,
   "metadata": {
    "collapsed": false
   },
   "outputs": [
    {
     "data": {
      "text/plain": [
       "<matplotlib.axes._subplots.AxesSubplot at 0x27e84119b38>"
      ]
     },
     "execution_count": 70,
     "metadata": {},
     "output_type": "execute_result"
    },
    {
     "data": {
      "image/png": "[encoded data removed]",
      "text/plain": [
       "<matplotlib.figure.Figure at 0x27e828d0080>"
      ]
     },
     "metadata": {},
     "output_type": "display_data"
    }
   ],
   "source": [
    "plt.figure(num=None, figsize=(16, 4), dpi=80, facecolor='w', edgecolor='k')\n",
    "sns.barplot('lp_high_cnt', 'is_churn', data=f_txn)"
   ]
  },
  {
   "cell_type": "markdown",
   "metadata": {},
   "source": [
    "### Percentage of Transactions where Plan List Price is Higher than Actual Amount Paid"
   ]
  },
  {
   "cell_type": "code",
   "execution_count": 71,
   "metadata": {
    "collapsed": false
   },
   "outputs": [
    {
     "data": {
      "text/plain": [
       "<matplotlib.axes._subplots.AxesSubplot at 0x27e827e0be0>"
      ]
     },
     "execution_count": 71,
     "metadata": {},
     "output_type": "execute_result"
    },
    {
     "data": {
      "image/png": "[encoded data removed]",
      "text/plain": [
       "<matplotlib.figure.Figure at 0x27e827eed30>"
      ]
     },
     "metadata": {},
     "output_type": "display_data"
    }
   ],
   "source": [
    "plt.figure(num=None, figsize=(6, 4), dpi=80, facecolor='w', edgecolor='k')\n",
    "sns.barplot('is_churn', 'per_lp_high', data=f_txn)"
   ]
  },
  {
   "cell_type": "markdown",
   "metadata": {},
   "source": [
    "### Previous Churn"
   ]
  },
  {
   "cell_type": "code",
   "execution_count": 72,
   "metadata": {
    "collapsed": false
   },
   "outputs": [
    {
     "data": {
      "text/plain": [
       "<matplotlib.axes._subplots.AxesSubplot at 0x27e82055048>"
      ]
     },
     "execution_count": 72,
     "metadata": {},
     "output_type": "execute_result"
    },
    {
     "data": {
      "image/png": "[encoded data removed]",
      "text/plain": [
       "<matplotlib.figure.Figure at 0x27e828ed358>"
      ]
     },
     "metadata": {},
     "output_type": "display_data"
    }
   ],
   "source": [
    "plt.figure(num=None, figsize=(10, 4), dpi=80, facecolor='w', edgecolor='k')\n",
    "sns.barplot('prev_churn_cnt', 'is_churn', data=f_txn)"
   ]
  },
  {
   "cell_type": "markdown",
   "metadata": {},
   "source": [
    "### % of Transactions as Auto Renew"
   ]
  },
  {
   "cell_type": "code",
   "execution_count": 73,
   "metadata": {
    "collapsed": false
   },
   "outputs": [
    {
     "data": {
      "text/plain": [
       "<matplotlib.axes._subplots.AxesSubplot at 0x27e827bed30>"
      ]
     },
     "execution_count": 73,
     "metadata": {},
     "output_type": "execute_result"
    },
    {
     "data": {
      "image/png": "[encoded data removed]",
      "text/plain": [
       "<matplotlib.figure.Figure at 0x27e82a431d0>"
      ]
     },
     "metadata": {},
     "output_type": "display_data"
    }
   ],
   "source": [
    "plt.figure(num=None, figsize=(6, 4), dpi=80, facecolor='w', edgecolor='k')\n",
    "sns.barplot('is_churn', 'mean_ar', data=f_txn)"
   ]
  },
  {
   "cell_type": "markdown",
   "metadata": {},
   "source": [
    "### Stopped Auto Renew"
   ]
  },
  {
   "cell_type": "code",
   "execution_count": 74,
   "metadata": {
    "collapsed": false
   },
   "outputs": [
    {
     "data": {
      "text/plain": [
       "<matplotlib.axes._subplots.AxesSubplot at 0x27e81739fd0>"
      ]
     },
     "execution_count": 74,
     "metadata": {},
     "output_type": "execute_result"
    },
    {
     "data": {
      "image/png": "[encoded data removed]",
      "text/plain": [
       "<matplotlib.figure.Figure at 0x27e83c2e400>"
      ]
     },
     "metadata": {},
     "output_type": "display_data"
    }
   ],
   "source": [
    "plt.figure(num=None, figsize=(6, 4), dpi=80, facecolor='w', edgecolor='k')\n",
    "sns.barplot('is_churn', 'stopped_ar', data=f_txn)"
   ]
  },
  {
   "cell_type": "markdown",
   "metadata": {},
   "source": [
    "### Changed Payment Methods"
   ]
  },
  {
   "cell_type": "code",
   "execution_count": 75,
   "metadata": {
    "collapsed": false
   },
   "outputs": [
    {
     "data": {
      "text/plain": [
       "<matplotlib.axes._subplots.AxesSubplot at 0x27e80d68be0>"
      ]
     },
     "execution_count": 75,
     "metadata": {},
     "output_type": "execute_result"
    },
    {
     "data": {
      "image/png": "[encoded data removed]",
      "text/plain": [
       "<matplotlib.figure.Figure at 0x27e83cb97b8>"
      ]
     },
     "metadata": {},
     "output_type": "display_data"
    }
   ],
   "source": [
    "plt.figure(num=None, figsize=(16, 4), dpi=80, facecolor='w', edgecolor='k')\n",
    "sns.barplot('pmt_change_cnt', 'is_churn', data=f_txn)"
   ]
  },
  {
   "cell_type": "markdown",
   "metadata": {},
   "source": [
    "### % of Transactions Cancelled"
   ]
  },
  {
   "cell_type": "code",
   "execution_count": 76,
   "metadata": {
    "collapsed": false
   },
   "outputs": [
    {
     "data": {
      "text/plain": [
       "<matplotlib.axes._subplots.AxesSubplot at 0x27e827beb38>"
      ]
     },
     "execution_count": 76,
     "metadata": {},
     "output_type": "execute_result"
    },
    {
     "data": {
      "image/png": "[encoded data removed]",
      "text/plain": [
       "<matplotlib.figure.Figure at 0x27e80e96668>"
      ]
     },
     "metadata": {},
     "output_type": "display_data"
    }
   ],
   "source": [
    "plt.figure(num=None, figsize=(6, 4), dpi=80, facecolor='w', edgecolor='k')\n",
    "sns.barplot('is_churn', 'mean_cancel', data=f_txn)"
   ]
  },
  {
   "cell_type": "markdown",
   "metadata": {},
   "source": [
    "### Last Transaction is Cancelled Transaction"
   ]
  },
  {
   "cell_type": "code",
   "execution_count": 77,
   "metadata": {
    "collapsed": false
   },
   "outputs": [
    {
     "data": {
      "text/plain": [
       "<matplotlib.axes._subplots.AxesSubplot at 0x27e80e895c0>"
      ]
     },
     "execution_count": 77,
     "metadata": {},
     "output_type": "execute_result"
    },
    {
     "data": {
      "image/png": "[encoded data removed]",
      "text/plain": [
       "<matplotlib.figure.Figure at 0x27e80eeb5f8>"
      ]
     },
     "metadata": {},
     "output_type": "display_data"
    }
   ],
   "source": [
    "plt.figure(num=None, figsize=(6, 4), dpi=80, facecolor='w', edgecolor='k')\n",
    "sns.barplot('is_churn', 'last_cancel', data=f_txn)"
   ]
  },
  {
   "cell_type": "markdown",
   "metadata": {},
   "source": [
    "### Last Transaction is Free Trial"
   ]
  },
  {
   "cell_type": "code",
   "execution_count": 78,
   "metadata": {
    "collapsed": false
   },
   "outputs": [
    {
     "data": {
      "text/plain": [
       "<matplotlib.axes._subplots.AxesSubplot at 0x27e80f1ab38>"
      ]
     },
     "execution_count": 78,
     "metadata": {},
     "output_type": "execute_result"
    },
    {
     "data": {
      "image/png": "[encoded data removed]",
      "text/plain": [
       "<matplotlib.figure.Figure at 0x27e80f6a550>"
      ]
     },
     "metadata": {},
     "output_type": "display_data"
    }
   ],
   "source": [
    "plt.figure(num=None, figsize=(6, 4), dpi=80, facecolor='w', edgecolor='k')\n",
    "sns.barplot('is_churn', 'lst_free_trial', data=f_txn)"
   ]
  },
  {
   "cell_type": "code",
   "execution_count": 221,
   "metadata": {
    "collapsed": false
   },
   "outputs": [
    {
     "data": {
      "text/html": [
       "<div>\n",
       "<table border=\"1\" class=\"dataframe\">\n",
       "  <thead>\n",
       "    <tr style=\"text-align: right;\">\n",
       "      <th></th>\n",
       "      <th>is_churn</th>\n",
       "      <th>new_id</th>\n",
       "      <th>in_txn</th>\n",
       "      <th>payment_plan_days</th>\n",
       "      <th>plan_list_price</th>\n",
       "      <th>actual_amount_paid</th>\n",
       "      <th>avg_daily_paid</th>\n",
       "      <th>list_actual_diff</th>\n",
       "      <th>mean_ar</th>\n",
       "      <th>last_ar</th>\n",
       "      <th>...</th>\n",
       "      <th>mean_cancel</th>\n",
       "      <th>cancelled</th>\n",
       "      <th>last_cancel</th>\n",
       "      <th>last_plan_price</th>\n",
       "      <th>lst_free_trial</th>\n",
       "      <th>txn_cnt</th>\n",
       "      <th>lp_high_cnt</th>\n",
       "      <th>per_lp_high</th>\n",
       "      <th>prev_churn_cnt</th>\n",
       "      <th>pmt_change_cnt</th>\n",
       "    </tr>\n",
       "  </thead>\n",
       "  <tbody>\n",
       "    <tr>\n",
       "      <th>is_churn</th>\n",
       "      <td>1.000000</td>\n",
       "      <td>-0.001172</td>\n",
       "      <td>NaN</td>\n",
       "      <td>-0.107779</td>\n",
       "      <td>-0.084206</td>\n",
       "      <td>-0.090292</td>\n",
       "      <td>0.028338</td>\n",
       "      <td>-0.063799</td>\n",
       "      <td>-0.349656</td>\n",
       "      <td>-0.387207</td>\n",
       "      <td>...</td>\n",
       "      <td>0.236278</td>\n",
       "      <td>0.149166</td>\n",
       "      <td>0.551328</td>\n",
       "      <td>0.252641</td>\n",
       "      <td>0.189512</td>\n",
       "      <td>-0.164563</td>\n",
       "      <td>-0.017682</td>\n",
       "      <td>0.064005</td>\n",
       "      <td>0.142596</td>\n",
       "      <td>0.009602</td>\n",
       "    </tr>\n",
       "    <tr>\n",
       "      <th>new_id</th>\n",
       "      <td>-0.001172</td>\n",
       "      <td>1.000000</td>\n",
       "      <td>NaN</td>\n",
       "      <td>-0.000356</td>\n",
       "      <td>0.000059</td>\n",
       "      <td>-0.000245</td>\n",
       "      <td>-0.000584</td>\n",
       "      <td>-0.000869</td>\n",
       "      <td>-0.000478</td>\n",
       "      <td>-0.000488</td>\n",
       "      <td>...</td>\n",
       "      <td>-0.000709</td>\n",
       "      <td>-0.000603</td>\n",
       "      <td>-0.000507</td>\n",
       "      <td>0.000360</td>\n",
       "      <td>0.001320</td>\n",
       "      <td>-0.000492</td>\n",
       "      <td>-0.002214</td>\n",
       "      <td>-0.002698</td>\n",
       "      <td>-0.000600</td>\n",
       "      <td>-0.002092</td>\n",
       "    </tr>\n",
       "    <tr>\n",
       "      <th>in_txn</th>\n",
       "      <td>NaN</td>\n",
       "      <td>NaN</td>\n",
       "      <td>NaN</td>\n",
       "      <td>NaN</td>\n",
       "      <td>NaN</td>\n",
       "      <td>NaN</td>\n",
       "      <td>NaN</td>\n",
       "      <td>NaN</td>\n",
       "      <td>NaN</td>\n",
       "      <td>NaN</td>\n",
       "      <td>...</td>\n",
       "      <td>NaN</td>\n",
       "      <td>NaN</td>\n",
       "      <td>NaN</td>\n",
       "      <td>NaN</td>\n",
       "      <td>NaN</td>\n",
       "      <td>NaN</td>\n",
       "      <td>NaN</td>\n",
       "      <td>NaN</td>\n",
       "      <td>NaN</td>\n",
       "      <td>NaN</td>\n",
       "    </tr>\n",
       "    <tr>\n",
       "      <th>payment_plan_days</th>\n",
       "      <td>-0.107779</td>\n",
       "      <td>-0.000356</td>\n",
       "      <td>NaN</td>\n",
       "      <td>1.000000</td>\n",
       "      <td>0.956480</td>\n",
       "      <td>0.931387</td>\n",
       "      <td>0.245573</td>\n",
       "      <td>0.465886</td>\n",
       "      <td>0.195258</td>\n",
       "      <td>0.173221</td>\n",
       "      <td>...</td>\n",
       "      <td>0.078673</td>\n",
       "      <td>0.372811</td>\n",
       "      <td>0.002432</td>\n",
       "      <td>0.023946</td>\n",
       "      <td>-0.044585</td>\n",
       "      <td>0.942243</td>\n",
       "      <td>-0.025211</td>\n",
       "      <td>-0.392841</td>\n",
       "      <td>-0.056035</td>\n",
       "      <td>0.159795</td>\n",
       "    </tr>\n",
       "    <tr>\n",
       "      <th>plan_list_price</th>\n",
       "      <td>-0.084206</td>\n",
       "      <td>0.000059</td>\n",
       "      <td>NaN</td>\n",
       "      <td>0.956480</td>\n",
       "      <td>1.000000</td>\n",
       "      <td>0.984353</td>\n",
       "      <td>0.453698</td>\n",
       "      <td>0.542213</td>\n",
       "      <td>0.113743</td>\n",
       "      <td>0.105196</td>\n",
       "      <td>...</td>\n",
       "      <td>0.096993</td>\n",
       "      <td>0.370941</td>\n",
       "      <td>0.005337</td>\n",
       "      <td>0.062892</td>\n",
       "      <td>-0.049157</td>\n",
       "      <td>0.916624</td>\n",
       "      <td>-0.026182</td>\n",
       "      <td>-0.392810</td>\n",
       "      <td>-0.019549</td>\n",
       "      <td>0.151625</td>\n",
       "    </tr>\n",
       "    <tr>\n",
       "      <th>actual_amount_paid</th>\n",
       "      <td>-0.090292</td>\n",
       "      <td>-0.000245</td>\n",
       "      <td>NaN</td>\n",
       "      <td>0.931387</td>\n",
       "      <td>0.984353</td>\n",
       "      <td>1.000000</td>\n",
       "      <td>0.546426</td>\n",
       "      <td>0.630314</td>\n",
       "      <td>0.124775</td>\n",
       "      <td>0.114000</td>\n",
       "      <td>...</td>\n",
       "      <td>0.072208</td>\n",
       "      <td>0.339348</td>\n",
       "      <td>-0.000014</td>\n",
       "      <td>0.062501</td>\n",
       "      <td>-0.049232</td>\n",
       "      <td>0.922728</td>\n",
       "      <td>0.140295</td>\n",
       "      <td>-0.248740</td>\n",
       "      <td>-0.059421</td>\n",
       "      <td>0.140809</td>\n",
       "    </tr>\n",
       "    <tr>\n",
       "      <th>avg_daily_paid</th>\n",
       "      <td>0.028338</td>\n",
       "      <td>-0.000584</td>\n",
       "      <td>NaN</td>\n",
       "      <td>0.245573</td>\n",
       "      <td>0.453698</td>\n",
       "      <td>0.546426</td>\n",
       "      <td>1.000000</td>\n",
       "      <td>0.557565</td>\n",
       "      <td>-0.191791</td>\n",
       "      <td>-0.160114</td>\n",
       "      <td>...</td>\n",
       "      <td>0.011720</td>\n",
       "      <td>0.075634</td>\n",
       "      <td>-0.006409</td>\n",
       "      <td>0.145065</td>\n",
       "      <td>-0.097249</td>\n",
       "      <td>0.335306</td>\n",
       "      <td>0.343233</td>\n",
       "      <td>0.219217</td>\n",
       "      <td>-0.007283</td>\n",
       "      <td>-0.025024</td>\n",
       "    </tr>\n",
       "    <tr>\n",
       "      <th>list_actual_diff</th>\n",
       "      <td>-0.063799</td>\n",
       "      <td>-0.000869</td>\n",
       "      <td>NaN</td>\n",
       "      <td>0.465886</td>\n",
       "      <td>0.542213</td>\n",
       "      <td>0.630314</td>\n",
       "      <td>0.557565</td>\n",
       "      <td>1.000000</td>\n",
       "      <td>0.135954</td>\n",
       "      <td>0.109368</td>\n",
       "      <td>...</td>\n",
       "      <td>0.010577</td>\n",
       "      <td>0.154751</td>\n",
       "      <td>-0.008137</td>\n",
       "      <td>0.008061</td>\n",
       "      <td>-0.013125</td>\n",
       "      <td>0.560811</td>\n",
       "      <td>-0.268858</td>\n",
       "      <td>-0.345111</td>\n",
       "      <td>-0.064170</td>\n",
       "      <td>0.013182</td>\n",
       "    </tr>\n",
       "    <tr>\n",
       "      <th>mean_ar</th>\n",
       "      <td>-0.349656</td>\n",
       "      <td>-0.000478</td>\n",
       "      <td>NaN</td>\n",
       "      <td>0.195258</td>\n",
       "      <td>0.113743</td>\n",
       "      <td>0.124775</td>\n",
       "      <td>-0.191791</td>\n",
       "      <td>0.135954</td>\n",
       "      <td>1.000000</td>\n",
       "      <td>0.922264</td>\n",
       "      <td>...</td>\n",
       "      <td>0.078627</td>\n",
       "      <td>0.133067</td>\n",
       "      <td>0.048524</td>\n",
       "      <td>-0.364021</td>\n",
       "      <td>-0.126419</td>\n",
       "      <td>0.304289</td>\n",
       "      <td>0.139751</td>\n",
       "      <td>0.082307</td>\n",
       "      <td>-0.275932</td>\n",
       "      <td>-0.220728</td>\n",
       "    </tr>\n",
       "    <tr>\n",
       "      <th>last_ar</th>\n",
       "      <td>-0.387207</td>\n",
       "      <td>-0.000488</td>\n",
       "      <td>NaN</td>\n",
       "      <td>0.173221</td>\n",
       "      <td>0.105196</td>\n",
       "      <td>0.114000</td>\n",
       "      <td>-0.160114</td>\n",
       "      <td>0.109368</td>\n",
       "      <td>0.922264</td>\n",
       "      <td>1.000000</td>\n",
       "      <td>...</td>\n",
       "      <td>0.038657</td>\n",
       "      <td>0.089636</td>\n",
       "      <td>0.059582</td>\n",
       "      <td>-0.372761</td>\n",
       "      <td>-0.194434</td>\n",
       "      <td>0.270117</td>\n",
       "      <td>0.094828</td>\n",
       "      <td>0.047288</td>\n",
       "      <td>-0.247547</td>\n",
       "      <td>-0.153190</td>\n",
       "    </tr>\n",
       "    <tr>\n",
       "      <th>stopped_ar</th>\n",
       "      <td>0.144484</td>\n",
       "      <td>0.001350</td>\n",
       "      <td>NaN</td>\n",
       "      <td>0.035357</td>\n",
       "      <td>0.059208</td>\n",
       "      <td>0.054283</td>\n",
       "      <td>0.068616</td>\n",
       "      <td>0.029099</td>\n",
       "      <td>-0.100636</td>\n",
       "      <td>-0.329474</td>\n",
       "      <td>...</td>\n",
       "      <td>0.228030</td>\n",
       "      <td>0.214486</td>\n",
       "      <td>-0.019631</td>\n",
       "      <td>0.090239</td>\n",
       "      <td>0.200991</td>\n",
       "      <td>0.011285</td>\n",
       "      <td>-0.020162</td>\n",
       "      <td>0.015781</td>\n",
       "      <td>0.089189</td>\n",
       "      <td>0.048935</td>\n",
       "    </tr>\n",
       "    <tr>\n",
       "      <th>mean_cancel</th>\n",
       "      <td>0.236278</td>\n",
       "      <td>-0.000709</td>\n",
       "      <td>NaN</td>\n",
       "      <td>0.078673</td>\n",
       "      <td>0.096993</td>\n",
       "      <td>0.072208</td>\n",
       "      <td>0.011720</td>\n",
       "      <td>0.010577</td>\n",
       "      <td>0.078627</td>\n",
       "      <td>0.038657</td>\n",
       "      <td>...</td>\n",
       "      <td>1.000000</td>\n",
       "      <td>0.725110</td>\n",
       "      <td>0.398558</td>\n",
       "      <td>-0.002826</td>\n",
       "      <td>0.037543</td>\n",
       "      <td>0.064963</td>\n",
       "      <td>-0.047127</td>\n",
       "      <td>0.132156</td>\n",
       "      <td>0.086645</td>\n",
       "      <td>0.076889</td>\n",
       "    </tr>\n",
       "    <tr>\n",
       "      <th>cancelled</th>\n",
       "      <td>0.149166</td>\n",
       "      <td>-0.000603</td>\n",
       "      <td>NaN</td>\n",
       "      <td>0.372811</td>\n",
       "      <td>0.370941</td>\n",
       "      <td>0.339348</td>\n",
       "      <td>0.075634</td>\n",
       "      <td>0.154751</td>\n",
       "      <td>0.133067</td>\n",
       "      <td>0.089636</td>\n",
       "      <td>...</td>\n",
       "      <td>0.725110</td>\n",
       "      <td>1.000000</td>\n",
       "      <td>0.311417</td>\n",
       "      <td>-0.030120</td>\n",
       "      <td>0.020039</td>\n",
       "      <td>0.359922</td>\n",
       "      <td>-0.013772</td>\n",
       "      <td>-0.048856</td>\n",
       "      <td>0.084765</td>\n",
       "      <td>0.017226</td>\n",
       "    </tr>\n",
       "    <tr>\n",
       "      <th>last_cancel</th>\n",
       "      <td>0.551328</td>\n",
       "      <td>-0.000507</td>\n",
       "      <td>NaN</td>\n",
       "      <td>0.002432</td>\n",
       "      <td>0.005337</td>\n",
       "      <td>-0.000014</td>\n",
       "      <td>-0.006409</td>\n",
       "      <td>-0.008137</td>\n",
       "      <td>0.048524</td>\n",
       "      <td>0.059582</td>\n",
       "      <td>...</td>\n",
       "      <td>0.398558</td>\n",
       "      <td>0.311417</td>\n",
       "      <td>1.000000</td>\n",
       "      <td>-0.013865</td>\n",
       "      <td>-0.011590</td>\n",
       "      <td>0.002802</td>\n",
       "      <td>-0.004104</td>\n",
       "      <td>0.044877</td>\n",
       "      <td>-0.002638</td>\n",
       "      <td>-0.002068</td>\n",
       "    </tr>\n",
       "    <tr>\n",
       "      <th>last_plan_price</th>\n",
       "      <td>0.252641</td>\n",
       "      <td>0.000360</td>\n",
       "      <td>NaN</td>\n",
       "      <td>0.023946</td>\n",
       "      <td>0.062892</td>\n",
       "      <td>0.062501</td>\n",
       "      <td>0.145065</td>\n",
       "      <td>0.008061</td>\n",
       "      <td>-0.364021</td>\n",
       "      <td>-0.372761</td>\n",
       "      <td>...</td>\n",
       "      <td>-0.002826</td>\n",
       "      <td>-0.030120</td>\n",
       "      <td>-0.013865</td>\n",
       "      <td>1.000000</td>\n",
       "      <td>-0.067727</td>\n",
       "      <td>-0.144663</td>\n",
       "      <td>-0.036727</td>\n",
       "      <td>0.032656</td>\n",
       "      <td>0.043252</td>\n",
       "      <td>-0.030213</td>\n",
       "    </tr>\n",
       "    <tr>\n",
       "      <th>lst_free_trial</th>\n",
       "      <td>0.189512</td>\n",
       "      <td>0.001320</td>\n",
       "      <td>NaN</td>\n",
       "      <td>-0.044585</td>\n",
       "      <td>-0.049157</td>\n",
       "      <td>-0.049232</td>\n",
       "      <td>-0.097249</td>\n",
       "      <td>-0.013125</td>\n",
       "      <td>-0.126419</td>\n",
       "      <td>-0.194434</td>\n",
       "      <td>...</td>\n",
       "      <td>0.037543</td>\n",
       "      <td>0.020039</td>\n",
       "      <td>-0.011590</td>\n",
       "      <td>-0.067727</td>\n",
       "      <td>1.000000</td>\n",
       "      <td>-0.058499</td>\n",
       "      <td>0.029567</td>\n",
       "      <td>0.037208</td>\n",
       "      <td>0.040301</td>\n",
       "      <td>-0.035841</td>\n",
       "    </tr>\n",
       "    <tr>\n",
       "      <th>txn_cnt</th>\n",
       "      <td>-0.164563</td>\n",
       "      <td>-0.000492</td>\n",
       "      <td>NaN</td>\n",
       "      <td>0.942243</td>\n",
       "      <td>0.916624</td>\n",
       "      <td>0.922728</td>\n",
       "      <td>0.335306</td>\n",
       "      <td>0.560811</td>\n",
       "      <td>0.304289</td>\n",
       "      <td>0.270117</td>\n",
       "      <td>...</td>\n",
       "      <td>0.064963</td>\n",
       "      <td>0.359922</td>\n",
       "      <td>0.002802</td>\n",
       "      <td>-0.144663</td>\n",
       "      <td>-0.058499</td>\n",
       "      <td>1.000000</td>\n",
       "      <td>0.201981</td>\n",
       "      <td>-0.215217</td>\n",
       "      <td>-0.088129</td>\n",
       "      <td>0.132219</td>\n",
       "    </tr>\n",
       "    <tr>\n",
       "      <th>lp_high_cnt</th>\n",
       "      <td>-0.017682</td>\n",
       "      <td>-0.002214</td>\n",
       "      <td>NaN</td>\n",
       "      <td>-0.025211</td>\n",
       "      <td>-0.026182</td>\n",
       "      <td>0.140295</td>\n",
       "      <td>0.343233</td>\n",
       "      <td>-0.268858</td>\n",
       "      <td>0.139751</td>\n",
       "      <td>0.094828</td>\n",
       "      <td>...</td>\n",
       "      <td>-0.047127</td>\n",
       "      <td>-0.013772</td>\n",
       "      <td>-0.004104</td>\n",
       "      <td>-0.036727</td>\n",
       "      <td>0.029567</td>\n",
       "      <td>0.201981</td>\n",
       "      <td>1.000000</td>\n",
       "      <td>0.835121</td>\n",
       "      <td>-0.149583</td>\n",
       "      <td>-0.037953</td>\n",
       "    </tr>\n",
       "    <tr>\n",
       "      <th>per_lp_high</th>\n",
       "      <td>0.064005</td>\n",
       "      <td>-0.002698</td>\n",
       "      <td>NaN</td>\n",
       "      <td>-0.392841</td>\n",
       "      <td>-0.392810</td>\n",
       "      <td>-0.248740</td>\n",
       "      <td>0.219217</td>\n",
       "      <td>-0.345111</td>\n",
       "      <td>0.082307</td>\n",
       "      <td>0.047288</td>\n",
       "      <td>...</td>\n",
       "      <td>0.132156</td>\n",
       "      <td>-0.048856</td>\n",
       "      <td>0.044877</td>\n",
       "      <td>0.032656</td>\n",
       "      <td>0.037208</td>\n",
       "      <td>-0.215217</td>\n",
       "      <td>0.835121</td>\n",
       "      <td>1.000000</td>\n",
       "      <td>-0.139394</td>\n",
       "      <td>-0.052938</td>\n",
       "    </tr>\n",
       "    <tr>\n",
       "      <th>prev_churn_cnt</th>\n",
       "      <td>0.142596</td>\n",
       "      <td>-0.000600</td>\n",
       "      <td>NaN</td>\n",
       "      <td>-0.056035</td>\n",
       "      <td>-0.019549</td>\n",
       "      <td>-0.059421</td>\n",
       "      <td>-0.007283</td>\n",
       "      <td>-0.064170</td>\n",
       "      <td>-0.275932</td>\n",
       "      <td>-0.247547</td>\n",
       "      <td>...</td>\n",
       "      <td>0.086645</td>\n",
       "      <td>0.084765</td>\n",
       "      <td>-0.002638</td>\n",
       "      <td>0.043252</td>\n",
       "      <td>0.040301</td>\n",
       "      <td>-0.088129</td>\n",
       "      <td>-0.149583</td>\n",
       "      <td>-0.139394</td>\n",
       "      <td>1.000000</td>\n",
       "      <td>0.170034</td>\n",
       "    </tr>\n",
       "    <tr>\n",
       "      <th>pmt_change_cnt</th>\n",
       "      <td>0.009602</td>\n",
       "      <td>-0.002092</td>\n",
       "      <td>NaN</td>\n",
       "      <td>0.159795</td>\n",
       "      <td>0.151625</td>\n",
       "      <td>0.140809</td>\n",
       "      <td>-0.025024</td>\n",
       "      <td>0.013182</td>\n",
       "      <td>-0.220728</td>\n",
       "      <td>-0.153190</td>\n",
       "      <td>...</td>\n",
       "      <td>0.076889</td>\n",
       "      <td>0.017226</td>\n",
       "      <td>-0.002068</td>\n",
       "      <td>-0.030213</td>\n",
       "      <td>-0.035841</td>\n",
       "      <td>0.132219</td>\n",
       "      <td>-0.037953</td>\n",
       "      <td>-0.052938</td>\n",
       "      <td>0.170034</td>\n",
       "      <td>1.000000</td>\n",
       "    </tr>\n",
       "  </tbody>\n",
       "</table>\n",
       "<p>21 rows × 21 columns</p>\n",
       "</div>"
      ],
      "text/plain": [
       "                    is_churn    new_id  in_txn  payment_plan_days  \\\n",
       "is_churn            1.000000 -0.001172     NaN          -0.107779   \n",
       "new_id             -0.001172  1.000000     NaN          -0.000356   \n",
       "in_txn                   NaN       NaN     NaN                NaN   \n",
       "payment_plan_days  -0.107779 -0.000356     NaN           1.000000   \n",
       "plan_list_price    -0.084206  0.000059     NaN           0.956480   \n",
       "actual_amount_paid -0.090292 -0.000245     NaN           0.931387   \n",
       "avg_daily_paid      0.028338 -0.000584     NaN           0.245573   \n",
       "list_actual_diff   -0.063799 -0.000869     NaN           0.465886   \n",
       "mean_ar            -0.349656 -0.000478     NaN           0.195258   \n",
       "last_ar            -0.387207 -0.000488     NaN           0.173221   \n",
       "stopped_ar          0.144484  0.001350     NaN           0.035357   \n",
       "mean_cancel         0.236278 -0.000709     NaN           0.078673   \n",
       "cancelled           0.149166 -0.000603     NaN           0.372811   \n",
       "last_cancel         0.551328 -0.000507     NaN           0.002432   \n",
       "last_plan_price     0.252641  0.000360     NaN           0.023946   \n",
       "lst_free_trial      0.189512  0.001320     NaN          -0.044585   \n",
       "txn_cnt            -0.164563 -0.000492     NaN           0.942243   \n",
       "lp_high_cnt        -0.017682 -0.002214     NaN          -0.025211   \n",
       "per_lp_high         0.064005 -0.002698     NaN          -0.392841   \n",
       "prev_churn_cnt      0.142596 -0.000600     NaN          -0.056035   \n",
       "pmt_change_cnt      0.009602 -0.002092     NaN           0.159795   \n",
       "\n",
       "                    plan_list_price  actual_amount_paid  avg_daily_paid  \\\n",
       "is_churn                  -0.084206           -0.090292        0.028338   \n",
       "new_id                     0.000059           -0.000245       -0.000584   \n",
       "in_txn                          NaN                 NaN             NaN   \n",
       "payment_plan_days          0.956480            0.931387        0.245573   \n",
       "plan_list_price            1.000000            0.984353        0.453698   \n",
       "actual_amount_paid         0.984353            1.000000        0.546426   \n",
       "avg_daily_paid             0.453698            0.546426        1.000000   \n",
       "list_actual_diff           0.542213            0.630314        0.557565   \n",
       "mean_ar                    0.113743            0.124775       -0.191791   \n",
       "last_ar                    0.105196            0.114000       -0.160114   \n",
       "stopped_ar                 0.059208            0.054283        0.068616   \n",
       "mean_cancel                0.096993            0.072208        0.011720   \n",
       "cancelled                  0.370941            0.339348        0.075634   \n",
       "last_cancel                0.005337           -0.000014       -0.006409   \n",
       "last_plan_price            0.062892            0.062501        0.145065   \n",
       "lst_free_trial            -0.049157           -0.049232       -0.097249   \n",
       "txn_cnt                    0.916624            0.922728        0.335306   \n",
       "lp_high_cnt               -0.026182            0.140295        0.343233   \n",
       "per_lp_high               -0.392810           -0.248740        0.219217   \n",
       "prev_churn_cnt            -0.019549           -0.059421       -0.007283   \n",
       "pmt_change_cnt             0.151625            0.140809       -0.025024   \n",
       "\n",
       "                    list_actual_diff   mean_ar   last_ar       ...        \\\n",
       "is_churn                   -0.063799 -0.349656 -0.387207       ...         \n",
       "new_id                     -0.000869 -0.000478 -0.000488       ...         \n",
       "in_txn                           NaN       NaN       NaN       ...         \n",
       "payment_plan_days           0.465886  0.195258  0.173221       ...         \n",
       "plan_list_price             0.542213  0.113743  0.105196       ...         \n",
       "actual_amount_paid          0.630314  0.124775  0.114000       ...         \n",
       "avg_daily_paid              0.557565 -0.191791 -0.160114       ...         \n",
       "list_actual_diff            1.000000  0.135954  0.109368       ...         \n",
       "mean_ar                     0.135954  1.000000  0.922264       ...         \n",
       "last_ar                     0.109368  0.922264  1.000000       ...         \n",
       "stopped_ar                  0.029099 -0.100636 -0.329474       ...         \n",
       "mean_cancel                 0.010577  0.078627  0.038657       ...         \n",
       "cancelled                   0.154751  0.133067  0.089636       ...         \n",
       "last_cancel                -0.008137  0.048524  0.059582       ...         \n",
       "last_plan_price             0.008061 -0.364021 -0.372761       ...         \n",
       "lst_free_trial             -0.013125 -0.126419 -0.194434       ...         \n",
       "txn_cnt                     0.560811  0.304289  0.270117       ...         \n",
       "lp_high_cnt                -0.268858  0.139751  0.094828       ...         \n",
       "per_lp_high                -0.345111  0.082307  0.047288       ...         \n",
       "prev_churn_cnt             -0.064170 -0.275932 -0.247547       ...         \n",
       "pmt_change_cnt              0.013182 -0.220728 -0.153190       ...         \n",
       "\n",
       "                    mean_cancel  cancelled  last_cancel  last_plan_price  \\\n",
       "is_churn               0.236278   0.149166     0.551328         0.252641   \n",
       "new_id                -0.000709  -0.000603    -0.000507         0.000360   \n",
       "in_txn                      NaN        NaN          NaN              NaN   \n",
       "payment_plan_days      0.078673   0.372811     0.002432         0.023946   \n",
       "plan_list_price        0.096993   0.370941     0.005337         0.062892   \n",
       "actual_amount_paid     0.072208   0.339348    -0.000014         0.062501   \n",
       "avg_daily_paid         0.011720   0.075634    -0.006409         0.145065   \n",
       "list_actual_diff       0.010577   0.154751    -0.008137         0.008061   \n",
       "mean_ar                0.078627   0.133067     0.048524        -0.364021   \n",
       "last_ar                0.038657   0.089636     0.059582        -0.372761   \n",
       "stopped_ar             0.228030   0.214486    -0.019631         0.090239   \n",
       "mean_cancel            1.000000   0.725110     0.398558        -0.002826   \n",
       "cancelled              0.725110   1.000000     0.311417        -0.030120   \n",
       "last_cancel            0.398558   0.311417     1.000000        -0.013865   \n",
       "last_plan_price       -0.002826  -0.030120    -0.013865         1.000000   \n",
       "lst_free_trial         0.037543   0.020039    -0.011590        -0.067727   \n",
       "txn_cnt                0.064963   0.359922     0.002802        -0.144663   \n",
       "lp_high_cnt           -0.047127  -0.013772    -0.004104        -0.036727   \n",
       "per_lp_high            0.132156  -0.048856     0.044877         0.032656   \n",
       "prev_churn_cnt         0.086645   0.084765    -0.002638         0.043252   \n",
       "pmt_change_cnt         0.076889   0.017226    -0.002068        -0.030213   \n",
       "\n",
       "                    lst_free_trial   txn_cnt  lp_high_cnt  per_lp_high  \\\n",
       "is_churn                  0.189512 -0.164563    -0.017682     0.064005   \n",
       "new_id                    0.001320 -0.000492    -0.002214    -0.002698   \n",
       "in_txn                         NaN       NaN          NaN          NaN   \n",
       "payment_plan_days        -0.044585  0.942243    -0.025211    -0.392841   \n",
       "plan_list_price          -0.049157  0.916624    -0.026182    -0.392810   \n",
       "actual_amount_paid       -0.049232  0.922728     0.140295    -0.248740   \n",
       "avg_daily_paid           -0.097249  0.335306     0.343233     0.219217   \n",
       "list_actual_diff         -0.013125  0.560811    -0.268858    -0.345111   \n",
       "mean_ar                  -0.126419  0.304289     0.139751     0.082307   \n",
       "last_ar                  -0.194434  0.270117     0.094828     0.047288   \n",
       "stopped_ar                0.200991  0.011285    -0.020162     0.015781   \n",
       "mean_cancel               0.037543  0.064963    -0.047127     0.132156   \n",
       "cancelled                 0.020039  0.359922    -0.013772    -0.048856   \n",
       "last_cancel              -0.011590  0.002802    -0.004104     0.044877   \n",
       "last_plan_price          -0.067727 -0.144663    -0.036727     0.032656   \n",
       "lst_free_trial            1.000000 -0.058499     0.029567     0.037208   \n",
       "txn_cnt                  -0.058499  1.000000     0.201981    -0.215217   \n",
       "lp_high_cnt               0.029567  0.201981     1.000000     0.835121   \n",
       "per_lp_high               0.037208 -0.215217     0.835121     1.000000   \n",
       "prev_churn_cnt            0.040301 -0.088129    -0.149583    -0.139394   \n",
       "pmt_change_cnt           -0.035841  0.132219    -0.037953    -0.052938   \n",
       "\n",
       "                    prev_churn_cnt  pmt_change_cnt  \n",
       "is_churn                  0.142596        0.009602  \n",
       "new_id                   -0.000600       -0.002092  \n",
       "in_txn                         NaN             NaN  \n",
       "payment_plan_days        -0.056035        0.159795  \n",
       "plan_list_price          -0.019549        0.151625  \n",
       "actual_amount_paid       -0.059421        0.140809  \n",
       "avg_daily_paid           -0.007283       -0.025024  \n",
       "list_actual_diff         -0.064170        0.013182  \n",
       "mean_ar                  -0.275932       -0.220728  \n",
       "last_ar                  -0.247547       -0.153190  \n",
       "stopped_ar                0.089189        0.048935  \n",
       "mean_cancel               0.086645        0.076889  \n",
       "cancelled                 0.084765        0.017226  \n",
       "last_cancel              -0.002638       -0.002068  \n",
       "last_plan_price           0.043252       -0.030213  \n",
       "lst_free_trial            0.040301       -0.035841  \n",
       "txn_cnt                  -0.088129        0.132219  \n",
       "lp_high_cnt              -0.149583       -0.037953  \n",
       "per_lp_high              -0.139394       -0.052938  \n",
       "prev_churn_cnt            1.000000        0.170034  \n",
       "pmt_change_cnt            0.170034        1.000000  \n",
       "\n",
       "[21 rows x 21 columns]"
      ]
     },
     "execution_count": 221,
     "metadata": {},
     "output_type": "execute_result"
    }
   ],
   "source": [
    "f_txn.corr()"
   ]
  },
  {
   "cell_type": "code",
   "execution_count": null,
   "metadata": {
    "collapsed": true
   },
   "outputs": [],
   "source": []
  }
 ],
 "metadata": {
  "kernelspec": {
   "display_name": "Python 3",
   "language": "python",
   "name": "python3"
  },
  "language_info": {
   "codemirror_mode": {
    "name": "ipython",
    "version": 3
   },
   "file_extension": ".py",
   "mimetype": "text/x-python",
   "name": "python",
   "nbconvert_exporter": "python",
   "pygments_lexer": "ipython3",
   "version": "3.6.0"
  }
 },
 "nbformat": 4,
 "nbformat_minor": 2
}
