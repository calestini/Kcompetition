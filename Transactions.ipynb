{
 "cells": [
  {
   "cell_type": "code",
   "execution_count": 1,
   "metadata": {
    "collapsed": false
   },
   "outputs": [
    {
     "ename": "ModuleNotFoundError",
     "evalue": "No module named 'xgboost'",
     "output_type": "error",
     "traceback": [
      "\u001b[0;31m---------------------------------------------------------------------------\u001b[0m",
      "\u001b[0;31mModuleNotFoundError\u001b[0m                       Traceback (most recent call last)",
      "\u001b[0;32m<ipython-input-1-05ac2dd5f611>\u001b[0m in \u001b[0;36m<module>\u001b[0;34m()\u001b[0m\n\u001b[1;32m      8\u001b[0m \u001b[1;32mimport\u001b[0m \u001b[0mmatplotlib\u001b[0m\u001b[1;33m.\u001b[0m\u001b[0mpyplot\u001b[0m \u001b[1;32mas\u001b[0m \u001b[0mplt\u001b[0m\u001b[1;33m\u001b[0m\u001b[0m\n\u001b[1;32m      9\u001b[0m \u001b[1;33m\u001b[0m\u001b[0m\n\u001b[0;32m---> 10\u001b[0;31m \u001b[1;32mimport\u001b[0m \u001b[0mxgboost\u001b[0m \u001b[1;32mas\u001b[0m \u001b[0mxgb\u001b[0m\u001b[1;33m\u001b[0m\u001b[0m\n\u001b[0m\u001b[1;32m     11\u001b[0m \u001b[1;33m\u001b[0m\u001b[0m\n\u001b[1;32m     12\u001b[0m \u001b[0mget_ipython\u001b[0m\u001b[1;33m(\u001b[0m\u001b[1;33m)\u001b[0m\u001b[1;33m.\u001b[0m\u001b[0mmagic\u001b[0m\u001b[1;33m(\u001b[0m\u001b[1;34m'matplotlib inline'\u001b[0m\u001b[1;33m)\u001b[0m\u001b[1;33m\u001b[0m\u001b[0m\n",
      "\u001b[0;31mModuleNotFoundError\u001b[0m: No module named 'xgboost'"
     ]
    }
   ],
   "source": [
    "import numpy as np\n",
    "import pandas as pd\n",
    "\n",
    "import data_manipulation_v2 as dm\n",
    "import time\n",
    "import datetime as dt\n",
    "import seaborn as sns\n",
    "import matplotlib.pyplot as plt\n",
    "\n",
    "import xgboost as xgb\n",
    "\n",
    "%matplotlib inline"
   ]
  },
  {
   "cell_type": "code",
   "execution_count": 145,
   "metadata": {
    "collapsed": false
   },
   "outputs": [],
   "source": [
    "#Import datasets\n",
    "txn_og = dm.transactions_merged()\n",
    "train = dm.train_v2()\n",
    "test = pd.read_csv('../new_sample_submission_v2.csv')\n",
    "memb = dm.members_v2()\n",
    "#ul_var = pd.read_csv('../final_user_log.csv')"
   ]
  },
  {
   "cell_type": "code",
   "execution_count": 144,
   "metadata": {
    "collapsed": true
   },
   "outputs": [],
   "source": [
    "snapshot_date = '2017-02-28'"
   ]
  },
  {
   "cell_type": "code",
   "execution_count": 6,
   "metadata": {
    "collapsed": false
   },
   "outputs": [
    {
     "data": {
      "text/html": [
       "<div>\n",
       "<table border=\"1\" class=\"dataframe\">\n",
       "  <thead>\n",
       "    <tr style=\"text-align: right;\">\n",
       "      <th></th>\n",
       "      <th>city</th>\n",
       "      <th>bd</th>\n",
       "      <th>gender</th>\n",
       "      <th>registered_via</th>\n",
       "      <th>registration_init_time</th>\n",
       "      <th>new_id</th>\n",
       "    </tr>\n",
       "  </thead>\n",
       "  <tbody>\n",
       "    <tr>\n",
       "      <th>0</th>\n",
       "      <td>1</td>\n",
       "      <td>0</td>\n",
       "      <td>NaN</td>\n",
       "      <td>7</td>\n",
       "      <td>2011-09-14</td>\n",
       "      <td>15008</td>\n",
       "    </tr>\n",
       "    <tr>\n",
       "      <th>1</th>\n",
       "      <td>6</td>\n",
       "      <td>32</td>\n",
       "      <td>female</td>\n",
       "      <td>9</td>\n",
       "      <td>2011-09-15</td>\n",
       "      <td>576289</td>\n",
       "    </tr>\n",
       "    <tr>\n",
       "      <th>2</th>\n",
       "      <td>13</td>\n",
       "      <td>63</td>\n",
       "      <td>male</td>\n",
       "      <td>9</td>\n",
       "      <td>2011-09-18</td>\n",
       "      <td>336808</td>\n",
       "    </tr>\n",
       "    <tr>\n",
       "      <th>3</th>\n",
       "      <td>1</td>\n",
       "      <td>0</td>\n",
       "      <td>NaN</td>\n",
       "      <td>7</td>\n",
       "      <td>2011-09-18</td>\n",
       "      <td>450516</td>\n",
       "    </tr>\n",
       "    <tr>\n",
       "      <th>4</th>\n",
       "      <td>4</td>\n",
       "      <td>28</td>\n",
       "      <td>female</td>\n",
       "      <td>9</td>\n",
       "      <td>2011-09-20</td>\n",
       "      <td>104907</td>\n",
       "    </tr>\n",
       "  </tbody>\n",
       "</table>\n",
       "</div>"
      ],
      "text/plain": [
       "   city  bd  gender  registered_via registration_init_time  new_id\n",
       "0     1   0     NaN               7             2011-09-14   15008\n",
       "1     6  32  female               9             2011-09-15  576289\n",
       "2    13  63    male               9             2011-09-18  336808\n",
       "3     1   0     NaN               7             2011-09-18  450516\n",
       "4     4  28  female               9             2011-09-20  104907"
      ]
     },
     "execution_count": 6,
     "metadata": {},
     "output_type": "execute_result"
    }
   ],
   "source": [
    "memb.head()"
   ]
  },
  {
   "cell_type": "code",
   "execution_count": 11,
   "metadata": {
    "collapsed": false
   },
   "outputs": [],
   "source": [
    "#Prep - sort transactions\n",
    "txn_og = txn_og.sort_values(['new_id', 'transaction_date', 'membership_expire_date'])\n",
    "#Prep - limit transactions to end of Jan\n",
    "txn=txn_og[txn_og['transaction_date']<=snapshot_date]"
   ]
  },
  {
   "cell_type": "code",
   "execution_count": 15,
   "metadata": {
    "collapsed": false
   },
   "outputs": [
    {
     "name": "stdout",
     "output_type": "stream",
     "text": [
      "True    907471\n",
      "Name: in_txn, dtype: int64\n",
      "True    970960\n",
      "Name: in_txn, dtype: int64\n",
      "True     801490\n",
      "False    105981\n",
      "Name: in_train, dtype: int64\n"
     ]
    }
   ],
   "source": [
    "#Some members in test group don't have any transactions. All members in train group have transactions.\n",
    "#88k members in test gorup also in train group.\n",
    "test['in_txn']=test['new_id'].isin(txn_og['new_id'])\n",
    "train['in_txn']=train['new_id'].isin(txn_og['new_id'])\n",
    "test['in_train']=test['new_id'].isin(train['new_id'])\n",
    "print(test['in_txn'].value_counts())\n",
    "print(train['in_txn'].value_counts())\n",
    "print(test['in_train'].value_counts())"
   ]
  },
  {
   "cell_type": "code",
   "execution_count": 5,
   "metadata": {
    "collapsed": false
   },
   "outputs": [
    {
     "name": "stdout",
     "output_type": "stream",
     "text": [
      "(992931, 3)\n",
      "(970960, 4)\n",
      "(16411725, 9)\n",
      "(992931, 8)\n",
      "992931\n",
      "1079663\n",
      "970960\n"
     ]
    }
   ],
   "source": [
    "#Check datasets\n",
    "print(train.shape)\n",
    "print(test.shape)\n",
    "print(txn_og.shape)\n",
    "print(ul_var.shape)\n",
    "print(train['new_id'].nunique())\n",
    "print(txn_og['new_id'].nunique())\n",
    "print(test['new_id'].nunique())"
   ]
  },
  {
   "cell_type": "code",
   "execution_count": 92,
   "metadata": {
    "collapsed": false
   },
   "outputs": [
    {
     "name": "stderr",
     "output_type": "stream",
     "text": [
      "C:\\Users\\Cathy\\Anaconda3\\lib\\site-packages\\ipykernel\\__main__.py:2: SettingWithCopyWarning: \n",
      "A value is trying to be set on a copy of a slice from a DataFrame.\n",
      "Try using .loc[row_indexer,col_indexer] = value instead\n",
      "\n",
      "See the caveats in the documentation: http://pandas.pydata.org/pandas-docs/stable/indexing.html#indexing-view-versus-copy\n",
      "  from ipykernel import kernelapp as app\n",
      "C:\\Users\\Cathy\\Anaconda3\\lib\\site-packages\\ipykernel\\__main__.py:4: SettingWithCopyWarning: \n",
      "A value is trying to be set on a copy of a slice from a DataFrame.\n",
      "Try using .loc[row_indexer,col_indexer] = value instead\n",
      "\n",
      "See the caveats in the documentation: http://pandas.pydata.org/pandas-docs/stable/indexing.html#indexing-view-versus-copy\n"
     ]
    }
   ],
   "source": [
    "txn_og['in_train']=txn_og['new_id'].isin(train['new_id'])\n",
    "txn['in_train']=txn['new_id'].isin(train['new_id'])\n",
    "txn_og['in_test']=txn_og['new_id'].isin(test['new_id'])\n",
    "txn['in_test']=txn['new_id'].isin(test['new_id'])"
   ]
  },
  {
   "cell_type": "code",
   "execution_count": 93,
   "metadata": {
    "collapsed": false
   },
   "outputs": [
    {
     "name": "stdout",
     "output_type": "stream",
     "text": [
      "2524\n",
      "27794\n"
     ]
    }
   ],
   "source": [
    "#Seems like 31,497 users only have transactions in Feb\n",
    "#2,097 users that are in train only have transactions in Feb\n",
    "#30,616 users that are in test only have transactions in Feb\n",
    "print((txn_og[(txn_og['in_train']==True)]['new_id'].nunique()) - (txn[txn['in_train']==True]['new_id'].nunique()))\n",
    "print((txn_og[(txn_og['in_test']==True)]['new_id'].nunique()) - (txn[txn['in_test']==True]['new_id'].nunique()))"
   ]
  },
  {
   "cell_type": "code",
   "execution_count": 94,
   "metadata": {
    "collapsed": false
   },
   "outputs": [
    {
     "name": "stdout",
     "output_type": "stream",
     "text": [
      "2023-08-17 00:00:00\n"
     ]
    }
   ],
   "source": [
    "print(max(txn[txn['in_train']==True]['membership_expire_date']))"
   ]
  },
  {
   "cell_type": "markdown",
   "metadata": {},
   "source": [
    "## Investigating Transactions\n",
    "\n",
    "*Looking into transactions where the membership_expiry_date < transaction_date*"
   ]
  },
  {
   "cell_type": "code",
   "execution_count": null,
   "metadata": {
    "collapsed": true
   },
   "outputs": [],
   "source": [
    "#Adding some features\n",
    "#txn['in_train']=txn['new_id'].isin(train['new_id'])\n",
    "#txn['odd_transactions']=txn['membership_expire_date']<txn['transaction_date']\n",
    "#txn['1970']=txn['membership_expire_date']=='1970-01-01'\n",
    "#txn['in_train'].value_counts()"
   ]
  },
  {
   "cell_type": "code",
   "execution_count": null,
   "metadata": {
    "collapsed": false
   },
   "outputs": [],
   "source": [
    "pd.crosstab(index=txn['odd_transactions'], columns=txn['in_train'], normalize='index')"
   ]
  },
  {
   "cell_type": "code",
   "execution_count": null,
   "metadata": {
    "collapsed": false
   },
   "outputs": [],
   "source": [
    "#Odd transactions are more likely to be auto renew transactions\n",
    "pd.crosstab(index=txn['odd_transactions'], columns=txn['is_auto_renew'], normalize='index')"
   ]
  },
  {
   "cell_type": "code",
   "execution_count": null,
   "metadata": {
    "collapsed": false
   },
   "outputs": [],
   "source": [
    "#Odd transactions are more likely to be cancelled transactions\n",
    "pd.crosstab(index=txn['odd_transactions'], columns=txn['is_cancel'], normalize='index')"
   ]
  },
  {
   "cell_type": "code",
   "execution_count": null,
   "metadata": {
    "collapsed": false
   },
   "outputs": [],
   "source": [
    "#397 of the odd transactions are caused by '1970'\n",
    "pd.crosstab(index=txn['odd_transactions'], columns=txn['1970'], normalize='index')\n",
    "pd.crosstab(index=txn['odd_transactions'], columns=txn['1970'])"
   ]
  },
  {
   "cell_type": "code",
   "execution_count": null,
   "metadata": {
    "collapsed": false
   },
   "outputs": [],
   "source": [
    "#226 bad transactions are in the training set\n",
    "pd.crosstab(index=txn['in_train'], columns=txn['1970'])"
   ]
  },
  {
   "cell_type": "code",
   "execution_count": null,
   "metadata": {
    "collapsed": false
   },
   "outputs": [],
   "source": [
    "#0.4% of transactions have membership_expire_date<transaction_date\n",
    "memb_exp_test=txn[txn['membership_expire_date']<txn['transaction_date']]\n",
    "print(memb_exp_test.shape[0])\n",
    "print(txn.shape[0])\n",
    "print(memb_exp_test.shape[0]/txn.shape[0])\n",
    "print(txn['new_id'].nunique())\n",
    "print(memb_exp_test['new_id'].nunique())"
   ]
  },
  {
   "cell_type": "code",
   "execution_count": null,
   "metadata": {
    "collapsed": false
   },
   "outputs": [],
   "source": [
    "#Almost all records with membership_expire_date<transaction_date are auto_renew memberships\n",
    "print(memb_exp_test[memb_exp_test['is_auto_renew']==1]['is_auto_renew'].sum())\n",
    "print(txn[txn['is_auto_renew']==1].shape)"
   ]
  },
  {
   "cell_type": "code",
   "execution_count": null,
   "metadata": {
    "collapsed": false
   },
   "outputs": [],
   "source": [
    "#Most of the records with membership_expire_date<transaction_date are cancelled memberships - are these late payments?\n",
    "#ALL of these are also auto-renew memberships\n",
    "print(memb_exp_test[memb_exp_test['is_cancel']==1]['is_cancel'].sum())\n",
    "memb_exp_test[(memb_exp_test['is_cancel']==1)&(memb_exp_test['is_auto_renew']==1)].shape"
   ]
  },
  {
   "cell_type": "code",
   "execution_count": null,
   "metadata": {
    "collapsed": false
   },
   "outputs": [],
   "source": [
    "#The rest of the auto_renew memberships\n",
    "memb_exp_test[(memb_exp_test['is_cancel']==0)&(memb_exp_test['is_auto_renew']==1)].shape"
   ]
  },
  {
   "cell_type": "code",
   "execution_count": null,
   "metadata": {
    "collapsed": false
   },
   "outputs": [],
   "source": [
    "#Looks like the rest of the records have lots of instances of membership_expire_date = '1970-01-01'\n",
    "memb_exp_test[memb_exp_test['is_auto_renew']==0].head(10)\n",
    "#15 records where membership_expire_date is not is not 1970-01-01 and is not auto_renew\n",
    "odd_ones_out=memb_exp_test[(memb_exp_test['membership_expire_date']!='1970-01-01') & (memb_exp_test['is_auto_renew']==0)]\n",
    "#Seems like all of these have plan_list_price of 0\n",
    "odd_ones_out.head(15)"
   ]
  },
  {
   "cell_type": "code",
   "execution_count": null,
   "metadata": {
    "collapsed": true
   },
   "outputs": [],
   "source": [
    "#is_cancel=txn[txn['is_cancel']==1]\n",
    "#print(is_cancel.shape)\n",
    "#is_cancel['diff_dates']=is_cancel['membership_expire_date']-is_cancel['transaction_date']\n",
    "#is_cancel['diff_dates']=is_cancel['diff_dates']/ np.timedelta64(1, 'D')\n",
    "#sns.distplot(is_cancel[is_cancel['diff_dates']>0]['diff_dates'])"
   ]
  },
  {
   "cell_type": "code",
   "execution_count": null,
   "metadata": {
    "collapsed": true
   },
   "outputs": [],
   "source": [
    "#Determine if member had an odd transaction\n",
    "txn['odd_txn_flag'] = txn['new_id'].isin(memb_exp_test['new_id'])"
   ]
  },
  {
   "cell_type": "markdown",
   "metadata": {},
   "source": [
    "## Feature Engineering\n",
    " \n",
    "<font color='red'>*Note that for the test group, we'll have access to less transactions - using transactions up to March 31st 2017 to predict memberships that expire in April 2017. Therefore, we should train using data up to the end of Feb to predict churn for memberships that expire in the month of March 2017.*</font>\n",
    "\n",
    "Each transaction feature is stored in a pandas dataframe:\n",
    "\n",
    "- **txn_cnts (all members)**: Count number of transactions per member; note that this dataframe is no longer included since the transaction count is in the txn_lp_high dataframe\n",
    "- **tot_plan_pmt (all members)**: Sum of payment plan days, plan list price, and actual amount paid. Also - average price per day, and difference between plan list price and actual amount paid\n",
    "- **txn_lp_high (all members)**: Count of, and percentage of transactions that have higher list price than actual amount paid\n",
    "- **txn_prev_churn (churned members)**: Count number of times members churned, i.e. transaction date - membership expire date from previous transaction is greater than 30 days\n",
    "- **txn_ar_stop (all members)**: % of transactions that are auto renew and whether a member has stopped auto-renewing in the duration of their membership\n",
    "- **txn_pmt_change (payment change members)**: Count number of times member changed payment type \n",
    "- **txn_cancelled (all members)**: % of transactions that are cancelled and whether a members has cancelled their membership in the duration of their membership\n",
    "- **txn_cancelled_last (all members)**: If the member has a cancelled transaction as their last transaction\n",
    "- **free_trial (all members)**: If the member has a free trial as their last transaction, and percentage of transactions that are free trials, and percentage of total payment_plan_days that are free trials\n",
    "- **memb_expire (all members)**: Compares the maximum membership expiry date and the membership expiry date of the most recent transaction; also determines if the member's most recent membership expiry date is greater than Feb 2017 (March 2017 for test set), but March 2017 and April 2017 for new data. Also include member tenure\n",
    "\n",
    "All dfs are to be merged into one df, for transaction attributes per member\n",
    "\n",
    "Next:\n",
    "- Transactions matrix"
   ]
  },
  {
   "cell_type": "markdown",
   "metadata": {},
   "source": [
    "### Number of Transactions"
   ]
  },
  {
   "cell_type": "code",
   "execution_count": 16,
   "metadata": {
    "collapsed": false,
    "scrolled": true
   },
   "outputs": [],
   "source": [
    "#Number of transactions\n",
    "txn_cnts = txn.groupby(['new_id']).size().reset_index(name='txn_cnt')"
   ]
  },
  {
   "cell_type": "markdown",
   "metadata": {},
   "source": [
    "### Total Payment Plan Days, Plan List Price, Actual Amount Paid"
   ]
  },
  {
   "cell_type": "code",
   "execution_count": 17,
   "metadata": {
    "collapsed": false
   },
   "outputs": [
    {
     "data": {
      "text/html": [
       "<div>\n",
       "<table border=\"1\" class=\"dataframe\">\n",
       "  <thead>\n",
       "    <tr style=\"text-align: right;\">\n",
       "      <th></th>\n",
       "      <th>new_id</th>\n",
       "      <th>payment_plan_days</th>\n",
       "      <th>plan_list_price</th>\n",
       "      <th>actual_amount_paid</th>\n",
       "      <th>avg_daily_paid</th>\n",
       "      <th>list_actual_diff</th>\n",
       "    </tr>\n",
       "  </thead>\n",
       "  <tbody>\n",
       "    <tr>\n",
       "      <th>0</th>\n",
       "      <td>0</td>\n",
       "      <td>120</td>\n",
       "      <td>396</td>\n",
       "      <td>396</td>\n",
       "      <td>3.300000</td>\n",
       "      <td>0</td>\n",
       "    </tr>\n",
       "    <tr>\n",
       "      <th>1</th>\n",
       "      <td>1</td>\n",
       "      <td>573</td>\n",
       "      <td>2831</td>\n",
       "      <td>2980</td>\n",
       "      <td>5.200698</td>\n",
       "      <td>65387</td>\n",
       "    </tr>\n",
       "    <tr>\n",
       "      <th>2</th>\n",
       "      <td>2</td>\n",
       "      <td>750</td>\n",
       "      <td>3725</td>\n",
       "      <td>3874</td>\n",
       "      <td>5.165333</td>\n",
       "      <td>65387</td>\n",
       "    </tr>\n",
       "    <tr>\n",
       "      <th>3</th>\n",
       "      <td>3</td>\n",
       "      <td>360</td>\n",
       "      <td>1788</td>\n",
       "      <td>1788</td>\n",
       "      <td>4.966667</td>\n",
       "      <td>0</td>\n",
       "    </tr>\n",
       "    <tr>\n",
       "      <th>4</th>\n",
       "      <td>4</td>\n",
       "      <td>573</td>\n",
       "      <td>2831</td>\n",
       "      <td>2980</td>\n",
       "      <td>5.200698</td>\n",
       "      <td>65387</td>\n",
       "    </tr>\n",
       "  </tbody>\n",
       "</table>\n",
       "</div>"
      ],
      "text/plain": [
       "   new_id  payment_plan_days  plan_list_price  actual_amount_paid  \\\n",
       "0       0                120              396                 396   \n",
       "1       1                573             2831                2980   \n",
       "2       2                750             3725                3874   \n",
       "3       3                360             1788                1788   \n",
       "4       4                573             2831                2980   \n",
       "\n",
       "   avg_daily_paid  list_actual_diff  \n",
       "0        3.300000                 0  \n",
       "1        5.200698             65387  \n",
       "2        5.165333             65387  \n",
       "3        4.966667                 0  \n",
       "4        5.200698             65387  "
      ]
     },
     "execution_count": 17,
     "metadata": {},
     "output_type": "execute_result"
    }
   ],
   "source": [
    "#Sum of payment_plan_days\n",
    "tot_plan_pmt = txn.groupby(['new_id'])[['payment_plan_days', 'plan_list_price', 'actual_amount_paid']].sum().reset_index()\n",
    "tot_plan_pmt['avg_daily_paid'] = tot_plan_pmt['actual_amount_paid'] / tot_plan_pmt['payment_plan_days']\n",
    "tot_plan_pmt['list_actual_diff'] = tot_plan_pmt['plan_list_price'] - tot_plan_pmt['actual_amount_paid']\n",
    "tot_plan_pmt.head()"
   ]
  },
  {
   "cell_type": "markdown",
   "metadata": {},
   "source": [
    "### Number, and Percentage of Transactions where Plan List Price Higher than Actual Amount Paid"
   ]
  },
  {
   "cell_type": "code",
   "execution_count": 19,
   "metadata": {
    "collapsed": false
   },
   "outputs": [
    {
     "name": "stderr",
     "output_type": "stream",
     "text": [
      "C:\\Users\\Cathy\\Anaconda3\\lib\\site-packages\\ipykernel\\__main__.py:2: SettingWithCopyWarning: \n",
      "A value is trying to be set on a copy of a slice from a DataFrame.\n",
      "Try using .loc[row_indexer,col_indexer] = value instead\n",
      "\n",
      "See the caveats in the documentation: http://pandas.pydata.org/pandas-docs/stable/indexing.html#indexing-view-versus-copy\n",
      "  from ipykernel import kernelapp as app\n"
     ]
    },
    {
     "data": {
      "text/html": [
       "<div>\n",
       "<table border=\"1\" class=\"dataframe\">\n",
       "  <thead>\n",
       "    <tr style=\"text-align: right;\">\n",
       "      <th></th>\n",
       "      <th>new_id</th>\n",
       "      <th>txn_cnt</th>\n",
       "      <th>per_lp_high</th>\n",
       "    </tr>\n",
       "  </thead>\n",
       "  <tbody>\n",
       "    <tr>\n",
       "      <th>0</th>\n",
       "      <td>0</td>\n",
       "      <td>4</td>\n",
       "      <td>NaN</td>\n",
       "    </tr>\n",
       "    <tr>\n",
       "      <th>1</th>\n",
       "      <td>1</td>\n",
       "      <td>20</td>\n",
       "      <td>0.050000</td>\n",
       "    </tr>\n",
       "    <tr>\n",
       "      <th>2</th>\n",
       "      <td>2</td>\n",
       "      <td>26</td>\n",
       "      <td>0.038462</td>\n",
       "    </tr>\n",
       "    <tr>\n",
       "      <th>3</th>\n",
       "      <td>3</td>\n",
       "      <td>12</td>\n",
       "      <td>NaN</td>\n",
       "    </tr>\n",
       "    <tr>\n",
       "      <th>4</th>\n",
       "      <td>4</td>\n",
       "      <td>20</td>\n",
       "      <td>0.050000</td>\n",
       "    </tr>\n",
       "  </tbody>\n",
       "</table>\n",
       "</div>"
      ],
      "text/plain": [
       "   new_id  txn_cnt  per_lp_high\n",
       "0       0        4          NaN\n",
       "1       1       20     0.050000\n",
       "2       2       26     0.038462\n",
       "3       3       12          NaN\n",
       "4       4       20     0.050000"
      ]
     },
     "execution_count": 19,
     "metadata": {},
     "output_type": "execute_result"
    }
   ],
   "source": [
    "#Note that plan_list_price is never lower than actual_amount_paid\n",
    "txn['list_actual_diff'] = txn['plan_list_price'] - txn['actual_amount_paid']\n",
    "txn_lp_high = txn[txn['list_actual_diff'] > 0].groupby('new_id')['list_actual_diff'].count().reset_index(name='lp_high_cnt')\n",
    "txn_lp_high = txn_cnts.merge(txn_lp_high, on = 'new_id', how = 'left')\n",
    "txn_lp_high['per_lp_high'] = txn_lp_high['lp_high_cnt']/txn_lp_high['txn_cnt']\n",
    "txn_lp_high.drop('lp_high_cnt', axis = 1, inplace = True)\n",
    "txn_lp_high.head()"
   ]
  },
  {
   "cell_type": "markdown",
   "metadata": {},
   "source": [
    "### Number of Times Churned"
   ]
  },
  {
   "cell_type": "code",
   "execution_count": 20,
   "metadata": {
    "collapsed": false
   },
   "outputs": [
    {
     "name": "stderr",
     "output_type": "stream",
     "text": [
      "C:\\Users\\Cathy\\Anaconda3\\lib\\site-packages\\ipykernel\\__main__.py:2: SettingWithCopyWarning: \n",
      "A value is trying to be set on a copy of a slice from a DataFrame.\n",
      "Try using .loc[row_indexer,col_indexer] = value instead\n",
      "\n",
      "See the caveats in the documentation: http://pandas.pydata.org/pandas-docs/stable/indexing.html#indexing-view-versus-copy\n",
      "  from ipykernel import kernelapp as app\n",
      "C:\\Users\\Cathy\\Anaconda3\\lib\\site-packages\\ipykernel\\__main__.py:3: SettingWithCopyWarning: \n",
      "A value is trying to be set on a copy of a slice from a DataFrame.\n",
      "Try using .loc[row_indexer,col_indexer] = value instead\n",
      "\n",
      "See the caveats in the documentation: http://pandas.pydata.org/pandas-docs/stable/indexing.html#indexing-view-versus-copy\n",
      "  app.launch_new_instance()\n",
      "C:\\Users\\Cathy\\Anaconda3\\lib\\site-packages\\ipykernel\\__main__.py:4: SettingWithCopyWarning: \n",
      "A value is trying to be set on a copy of a slice from a DataFrame.\n",
      "Try using .loc[row_indexer,col_indexer] = value instead\n",
      "\n",
      "See the caveats in the documentation: http://pandas.pydata.org/pandas-docs/stable/indexing.html#indexing-view-versus-copy\n"
     ]
    },
    {
     "data": {
      "text/html": [
       "<div>\n",
       "<table border=\"1\" class=\"dataframe\">\n",
       "  <thead>\n",
       "    <tr style=\"text-align: right;\">\n",
       "      <th></th>\n",
       "      <th>payment_method_id</th>\n",
       "      <th>payment_plan_days</th>\n",
       "      <th>plan_list_price</th>\n",
       "      <th>actual_amount_paid</th>\n",
       "      <th>is_auto_renew</th>\n",
       "      <th>transaction_date</th>\n",
       "      <th>membership_expire_date</th>\n",
       "      <th>is_cancel</th>\n",
       "      <th>new_id</th>\n",
       "      <th>list_actual_diff</th>\n",
       "      <th>shifted_expiry</th>\n",
       "      <th>memb_gap</th>\n",
       "      <th>prev_churn</th>\n",
       "    </tr>\n",
       "  </thead>\n",
       "  <tbody>\n",
       "    <tr>\n",
       "      <th>890749</th>\n",
       "      <td>41</td>\n",
       "      <td>30</td>\n",
       "      <td>99</td>\n",
       "      <td>99</td>\n",
       "      <td>1</td>\n",
       "      <td>2016-11-16</td>\n",
       "      <td>2016-12-15</td>\n",
       "      <td>0</td>\n",
       "      <td>0</td>\n",
       "      <td>0</td>\n",
       "      <td>NaT</td>\n",
       "      <td>NaT</td>\n",
       "      <td>False</td>\n",
       "    </tr>\n",
       "    <tr>\n",
       "      <th>890751</th>\n",
       "      <td>41</td>\n",
       "      <td>30</td>\n",
       "      <td>99</td>\n",
       "      <td>99</td>\n",
       "      <td>1</td>\n",
       "      <td>2016-12-15</td>\n",
       "      <td>2017-01-15</td>\n",
       "      <td>0</td>\n",
       "      <td>0</td>\n",
       "      <td>0</td>\n",
       "      <td>2016-12-15</td>\n",
       "      <td>0 days</td>\n",
       "      <td>False</td>\n",
       "    </tr>\n",
       "    <tr>\n",
       "      <th>890748</th>\n",
       "      <td>41</td>\n",
       "      <td>30</td>\n",
       "      <td>99</td>\n",
       "      <td>99</td>\n",
       "      <td>1</td>\n",
       "      <td>2017-01-15</td>\n",
       "      <td>2017-02-15</td>\n",
       "      <td>0</td>\n",
       "      <td>0</td>\n",
       "      <td>0</td>\n",
       "      <td>2017-01-15</td>\n",
       "      <td>0 days</td>\n",
       "      <td>False</td>\n",
       "    </tr>\n",
       "    <tr>\n",
       "      <th>890750</th>\n",
       "      <td>41</td>\n",
       "      <td>30</td>\n",
       "      <td>99</td>\n",
       "      <td>99</td>\n",
       "      <td>1</td>\n",
       "      <td>2017-02-15</td>\n",
       "      <td>2017-03-15</td>\n",
       "      <td>0</td>\n",
       "      <td>0</td>\n",
       "      <td>0</td>\n",
       "      <td>2017-02-15</td>\n",
       "      <td>0 days</td>\n",
       "      <td>False</td>\n",
       "    </tr>\n",
       "    <tr>\n",
       "      <th>15907290</th>\n",
       "      <td>39</td>\n",
       "      <td>31</td>\n",
       "      <td>149</td>\n",
       "      <td>149</td>\n",
       "      <td>1</td>\n",
       "      <td>2015-01-31</td>\n",
       "      <td>2015-03-19</td>\n",
       "      <td>0</td>\n",
       "      <td>1</td>\n",
       "      <td>0</td>\n",
       "      <td>NaT</td>\n",
       "      <td>NaT</td>\n",
       "      <td>False</td>\n",
       "    </tr>\n",
       "  </tbody>\n",
       "</table>\n",
       "</div>"
      ],
      "text/plain": [
       "          payment_method_id  payment_plan_days  plan_list_price  \\\n",
       "890749                   41                 30               99   \n",
       "890751                   41                 30               99   \n",
       "890748                   41                 30               99   \n",
       "890750                   41                 30               99   \n",
       "15907290                 39                 31              149   \n",
       "\n",
       "          actual_amount_paid  is_auto_renew transaction_date  \\\n",
       "890749                    99              1       2016-11-16   \n",
       "890751                    99              1       2016-12-15   \n",
       "890748                    99              1       2017-01-15   \n",
       "890750                    99              1       2017-02-15   \n",
       "15907290                 149              1       2015-01-31   \n",
       "\n",
       "         membership_expire_date  is_cancel  new_id  list_actual_diff  \\\n",
       "890749               2016-12-15          0       0                 0   \n",
       "890751               2017-01-15          0       0                 0   \n",
       "890748               2017-02-15          0       0                 0   \n",
       "890750               2017-03-15          0       0                 0   \n",
       "15907290             2015-03-19          0       1                 0   \n",
       "\n",
       "         shifted_expiry  memb_gap prev_churn  \n",
       "890749              NaT       NaT      False  \n",
       "890751       2016-12-15    0 days      False  \n",
       "890748       2017-01-15    0 days      False  \n",
       "890750       2017-02-15    0 days      False  \n",
       "15907290            NaT       NaT      False  "
      ]
     },
     "execution_count": 20,
     "metadata": {},
     "output_type": "execute_result"
    }
   ],
   "source": [
    "#Previous churn: determine if transaction date-membership expiry date from previous row is >30days \n",
    "txn['shifted_expiry'] = txn.groupby('new_id')['membership_expire_date'].shift()\n",
    "txn['memb_gap'] = (txn['transaction_date'] - txn['shifted_expiry'])\n",
    "txn['prev_churn'] = (txn['memb_gap']/np.timedelta64(1, 'D'))>30\n",
    "txn.head()"
   ]
  },
  {
   "cell_type": "code",
   "execution_count": 21,
   "metadata": {
    "collapsed": false
   },
   "outputs": [
    {
     "data": {
      "text/html": [
       "<div>\n",
       "<table border=\"1\" class=\"dataframe\">\n",
       "  <thead>\n",
       "    <tr style=\"text-align: right;\">\n",
       "      <th></th>\n",
       "      <th>new_id</th>\n",
       "      <th>prev_churn_per</th>\n",
       "    </tr>\n",
       "  </thead>\n",
       "  <tbody>\n",
       "    <tr>\n",
       "      <th>0</th>\n",
       "      <td>1</td>\n",
       "      <td>0.050000</td>\n",
       "    </tr>\n",
       "    <tr>\n",
       "      <th>1</th>\n",
       "      <td>4</td>\n",
       "      <td>0.050000</td>\n",
       "    </tr>\n",
       "    <tr>\n",
       "      <th>2</th>\n",
       "      <td>5</td>\n",
       "      <td>0.045455</td>\n",
       "    </tr>\n",
       "    <tr>\n",
       "      <th>3</th>\n",
       "      <td>8</td>\n",
       "      <td>0.333333</td>\n",
       "    </tr>\n",
       "    <tr>\n",
       "      <th>4</th>\n",
       "      <td>9</td>\n",
       "      <td>0.142857</td>\n",
       "    </tr>\n",
       "  </tbody>\n",
       "</table>\n",
       "</div>"
      ],
      "text/plain": [
       "   new_id  prev_churn_per\n",
       "0       1        0.050000\n",
       "1       4        0.050000\n",
       "2       5        0.045455\n",
       "3       8        0.333333\n",
       "4       9        0.142857"
      ]
     },
     "execution_count": 21,
     "metadata": {},
     "output_type": "execute_result"
    }
   ],
   "source": [
    "#Aggregate number of times churned\n",
    "txn_prev_churn = txn[txn['prev_churn'] == True].groupby('new_id')['prev_churn'].count().reset_index(name='prev_churn_cnt')\n",
    "txn_prev_churn = txn_prev_churn.merge(txn_cnts, on='new_id', how='inner')\n",
    "txn_prev_churn['prev_churn_per'] = txn_prev_churn['prev_churn_cnt'] / txn_prev_churn['txn_cnt']\n",
    "txn_prev_churn.drop(['prev_churn_cnt', 'txn_cnt'], axis = 1, inplace = True)\n",
    "txn_prev_churn.head()"
   ]
  },
  {
   "cell_type": "markdown",
   "metadata": {},
   "source": [
    "### Stopped Auto Renew"
   ]
  },
  {
   "cell_type": "code",
   "execution_count": 22,
   "metadata": {
    "collapsed": false
   },
   "outputs": [
    {
     "data": {
      "text/plain": [
       "1    893016\n",
       "0    154051\n",
       "Name: last_ar, dtype: int64"
      ]
     },
     "execution_count": 22,
     "metadata": {},
     "output_type": "execute_result"
    }
   ],
   "source": [
    "#Value of 'is_auto_renew' for last transaction\n",
    "txn_ar_last = txn.groupby(['new_id'])['is_auto_renew'].last().reset_index(name='last_ar')\n",
    "txn_ar_last['last_ar'].value_counts()"
   ]
  },
  {
   "cell_type": "code",
   "execution_count": 23,
   "metadata": {
    "collapsed": false
   },
   "outputs": [
    {
     "data": {
      "text/html": [
       "<div>\n",
       "<table border=\"1\" class=\"dataframe\">\n",
       "  <thead>\n",
       "    <tr style=\"text-align: right;\">\n",
       "      <th></th>\n",
       "      <th>new_id</th>\n",
       "      <th>mean_ar</th>\n",
       "      <th>last_ar</th>\n",
       "      <th>stopped_ar</th>\n",
       "    </tr>\n",
       "  </thead>\n",
       "  <tbody>\n",
       "    <tr>\n",
       "      <th>9</th>\n",
       "      <td>9</td>\n",
       "      <td>0.571429</td>\n",
       "      <td>0</td>\n",
       "      <td>True</td>\n",
       "    </tr>\n",
       "    <tr>\n",
       "      <th>54</th>\n",
       "      <td>56</td>\n",
       "      <td>0.937500</td>\n",
       "      <td>0</td>\n",
       "      <td>True</td>\n",
       "    </tr>\n",
       "    <tr>\n",
       "      <th>78</th>\n",
       "      <td>81</td>\n",
       "      <td>0.857143</td>\n",
       "      <td>0</td>\n",
       "      <td>True</td>\n",
       "    </tr>\n",
       "    <tr>\n",
       "      <th>232</th>\n",
       "      <td>238</td>\n",
       "      <td>0.666667</td>\n",
       "      <td>0</td>\n",
       "      <td>True</td>\n",
       "    </tr>\n",
       "    <tr>\n",
       "      <th>238</th>\n",
       "      <td>244</td>\n",
       "      <td>0.875000</td>\n",
       "      <td>0</td>\n",
       "      <td>True</td>\n",
       "    </tr>\n",
       "  </tbody>\n",
       "</table>\n",
       "</div>"
      ],
      "text/plain": [
       "     new_id   mean_ar  last_ar stopped_ar\n",
       "9         9  0.571429        0       True\n",
       "54       56  0.937500        0       True\n",
       "78       81  0.857143        0       True\n",
       "232     238  0.666667        0       True\n",
       "238     244  0.875000        0       True"
      ]
     },
     "execution_count": 23,
     "metadata": {},
     "output_type": "execute_result"
    }
   ],
   "source": [
    "#Changed auto renew:\n",
    "txn_ar_change = txn.groupby(['new_id'])['is_auto_renew'].mean().reset_index(name='mean_ar')\n",
    "txn_ar_stop = txn_ar_change.merge(txn_ar_last, on='new_id', how='inner')\n",
    "txn_ar_stop['stopped_ar']=(txn_ar_stop['mean_ar'] < 1) & (txn_ar_stop['mean_ar'] > 0) & (txn_ar_stop['last_ar'] == 0)\n",
    "txn_ar_stop[txn_ar_stop['stopped_ar']==True].head()"
   ]
  },
  {
   "cell_type": "code",
   "execution_count": 24,
   "metadata": {
    "collapsed": false
   },
   "outputs": [
    {
     "data": {
      "text/plain": [
       "False    1029146\n",
       "True       17921\n",
       "Name: stopped_ar, dtype: int64"
      ]
     },
     "execution_count": 24,
     "metadata": {},
     "output_type": "execute_result"
    }
   ],
   "source": [
    "txn_ar_stop.drop('last_ar', axis = 1, inplace = True)\n",
    "txn_ar_stop['stopped_ar'].value_counts()"
   ]
  },
  {
   "cell_type": "markdown",
   "metadata": {},
   "source": [
    "### Changed Payment Method"
   ]
  },
  {
   "cell_type": "code",
   "execution_count": 25,
   "metadata": {
    "collapsed": false
   },
   "outputs": [
    {
     "name": "stderr",
     "output_type": "stream",
     "text": [
      "C:\\Users\\Cathy\\Anaconda3\\lib\\site-packages\\ipykernel\\__main__.py:2: SettingWithCopyWarning: \n",
      "A value is trying to be set on a copy of a slice from a DataFrame.\n",
      "Try using .loc[row_indexer,col_indexer] = value instead\n",
      "\n",
      "See the caveats in the documentation: http://pandas.pydata.org/pandas-docs/stable/indexing.html#indexing-view-versus-copy\n",
      "  from ipykernel import kernelapp as app\n",
      "C:\\Users\\Cathy\\Anaconda3\\lib\\site-packages\\ipykernel\\__main__.py:3: SettingWithCopyWarning: \n",
      "A value is trying to be set on a copy of a slice from a DataFrame.\n",
      "Try using .loc[row_indexer,col_indexer] = value instead\n",
      "\n",
      "See the caveats in the documentation: http://pandas.pydata.org/pandas-docs/stable/indexing.html#indexing-view-versus-copy\n",
      "  app.launch_new_instance()\n"
     ]
    },
    {
     "data": {
      "text/plain": [
       "False    15826596\n",
       "True       260823\n",
       "Name: pmt_change, dtype: int64"
      ]
     },
     "execution_count": 25,
     "metadata": {},
     "output_type": "execute_result"
    }
   ],
   "source": [
    "#Changed payment method:determine if transaction date-membership expiry date from previous row is >30days \n",
    "txn['shifted_pmt'] = txn.groupby('new_id')['payment_method_id'].shift()\n",
    "txn['pmt_change'] = (txn['payment_method_id'] != txn['shifted_pmt']) & (txn['shifted_pmt'].isnull() != True)\n",
    "txn['pmt_change'].value_counts()"
   ]
  },
  {
   "cell_type": "code",
   "execution_count": 26,
   "metadata": {
    "collapsed": false
   },
   "outputs": [
    {
     "data": {
      "text/html": [
       "<div>\n",
       "<table border=\"1\" class=\"dataframe\">\n",
       "  <thead>\n",
       "    <tr style=\"text-align: right;\">\n",
       "      <th></th>\n",
       "      <th>new_id</th>\n",
       "      <th>pmt_change_cnt</th>\n",
       "    </tr>\n",
       "  </thead>\n",
       "  <tbody>\n",
       "    <tr>\n",
       "      <th>0</th>\n",
       "      <td>7</td>\n",
       "      <td>2</td>\n",
       "    </tr>\n",
       "    <tr>\n",
       "      <th>1</th>\n",
       "      <td>8</td>\n",
       "      <td>2</td>\n",
       "    </tr>\n",
       "    <tr>\n",
       "      <th>2</th>\n",
       "      <td>9</td>\n",
       "      <td>2</td>\n",
       "    </tr>\n",
       "    <tr>\n",
       "      <th>3</th>\n",
       "      <td>21</td>\n",
       "      <td>3</td>\n",
       "    </tr>\n",
       "    <tr>\n",
       "      <th>4</th>\n",
       "      <td>23</td>\n",
       "      <td>4</td>\n",
       "    </tr>\n",
       "  </tbody>\n",
       "</table>\n",
       "</div>"
      ],
      "text/plain": [
       "   new_id  pmt_change_cnt\n",
       "0       7               2\n",
       "1       8               2\n",
       "2       9               2\n",
       "3      21               3\n",
       "4      23               4"
      ]
     },
     "execution_count": 26,
     "metadata": {},
     "output_type": "execute_result"
    }
   ],
   "source": [
    "#Aggregate number of times changed payment method\n",
    "txn_pmt_change = txn[txn['pmt_change'] == True].groupby('new_id')['pmt_change'].count().reset_index(name='pmt_change_cnt')\n",
    "txn_pmt_change.head()"
   ]
  },
  {
   "cell_type": "markdown",
   "metadata": {},
   "source": [
    "### Cancelled Membership"
   ]
  },
  {
   "cell_type": "code",
   "execution_count": 27,
   "metadata": {
    "collapsed": false
   },
   "outputs": [
    {
     "data": {
      "text/html": [
       "<div>\n",
       "<table border=\"1\" class=\"dataframe\">\n",
       "  <thead>\n",
       "    <tr style=\"text-align: right;\">\n",
       "      <th></th>\n",
       "      <th>new_id</th>\n",
       "      <th>mean_cancel</th>\n",
       "    </tr>\n",
       "  </thead>\n",
       "  <tbody>\n",
       "    <tr>\n",
       "      <th>0</th>\n",
       "      <td>0</td>\n",
       "      <td>0.0</td>\n",
       "    </tr>\n",
       "    <tr>\n",
       "      <th>1</th>\n",
       "      <td>1</td>\n",
       "      <td>0.0</td>\n",
       "    </tr>\n",
       "    <tr>\n",
       "      <th>2</th>\n",
       "      <td>2</td>\n",
       "      <td>0.0</td>\n",
       "    </tr>\n",
       "    <tr>\n",
       "      <th>3</th>\n",
       "      <td>3</td>\n",
       "      <td>0.0</td>\n",
       "    </tr>\n",
       "    <tr>\n",
       "      <th>4</th>\n",
       "      <td>4</td>\n",
       "      <td>0.0</td>\n",
       "    </tr>\n",
       "  </tbody>\n",
       "</table>\n",
       "</div>"
      ],
      "text/plain": [
       "   new_id  mean_cancel\n",
       "0       0          0.0\n",
       "1       1          0.0\n",
       "2       2          0.0\n",
       "3       3          0.0\n",
       "4       4          0.0"
      ]
     },
     "execution_count": 27,
     "metadata": {},
     "output_type": "execute_result"
    }
   ],
   "source": [
    "#Cancelled membership:\n",
    "txn_cancelled = txn.groupby(['new_id'])['is_cancel'].mean().reset_index(name='mean_cancel')\n",
    "txn_cancelled.head()"
   ]
  },
  {
   "cell_type": "code",
   "execution_count": 28,
   "metadata": {
    "collapsed": false
   },
   "outputs": [
    {
     "data": {
      "text/plain": [
       "0    1034884\n",
       "1      12183\n",
       "Name: last_cancel, dtype: int64"
      ]
     },
     "execution_count": 28,
     "metadata": {},
     "output_type": "execute_result"
    }
   ],
   "source": [
    "#Cancelled membership in last transaction:\n",
    "txn_cancelled_last = txn.groupby(['new_id'])['is_cancel'].last().reset_index(name='last_cancel')\n",
    "txn_cancelled_last['last_cancel'].value_counts()"
   ]
  },
  {
   "cell_type": "markdown",
   "metadata": {},
   "source": [
    "### Free Trial"
   ]
  },
  {
   "cell_type": "code",
   "execution_count": 29,
   "metadata": {
    "collapsed": false
   },
   "outputs": [
    {
     "data": {
      "text/html": [
       "<div>\n",
       "<table border=\"1\" class=\"dataframe\">\n",
       "  <thead>\n",
       "    <tr style=\"text-align: right;\">\n",
       "      <th></th>\n",
       "      <th>new_id</th>\n",
       "      <th>last_plan_price</th>\n",
       "      <th>lst_free_trial</th>\n",
       "    </tr>\n",
       "  </thead>\n",
       "  <tbody>\n",
       "    <tr>\n",
       "      <th>54</th>\n",
       "      <td>56</td>\n",
       "      <td>0</td>\n",
       "      <td>True</td>\n",
       "    </tr>\n",
       "    <tr>\n",
       "      <th>785</th>\n",
       "      <td>818</td>\n",
       "      <td>0</td>\n",
       "      <td>True</td>\n",
       "    </tr>\n",
       "    <tr>\n",
       "      <th>1480</th>\n",
       "      <td>1530</td>\n",
       "      <td>0</td>\n",
       "      <td>True</td>\n",
       "    </tr>\n",
       "    <tr>\n",
       "      <th>1538</th>\n",
       "      <td>1591</td>\n",
       "      <td>0</td>\n",
       "      <td>True</td>\n",
       "    </tr>\n",
       "    <tr>\n",
       "      <th>2259</th>\n",
       "      <td>2331</td>\n",
       "      <td>0</td>\n",
       "      <td>True</td>\n",
       "    </tr>\n",
       "  </tbody>\n",
       "</table>\n",
       "</div>"
      ],
      "text/plain": [
       "      new_id  last_plan_price lst_free_trial\n",
       "54        56                0           True\n",
       "785      818                0           True\n",
       "1480    1530                0           True\n",
       "1538    1591                0           True\n",
       "2259    2331                0           True"
      ]
     },
     "execution_count": 29,
     "metadata": {},
     "output_type": "execute_result"
    }
   ],
   "source": [
    "#5483 members who have their last transaction as a free trial\n",
    "free_trial = txn.groupby(['new_id'])['plan_list_price'].last().reset_index(name='last_plan_price')\n",
    "free_trial['lst_free_trial'] = (free_trial['last_plan_price'] == 0) | (free_trial['last_plan_price'] == 1)\n",
    "free_trial[free_trial['lst_free_trial']==True].head()"
   ]
  },
  {
   "cell_type": "code",
   "execution_count": 30,
   "metadata": {
    "collapsed": false
   },
   "outputs": [],
   "source": [
    "#percentage of total transactions that are free trials\n",
    "free_trial_cnt = txn[(txn['plan_list_price'] == 0) | (txn['plan_list_price'] == 1)].groupby('new_id')['plan_list_price'].count().reset_index(name='free_trial_cnt')\n",
    "per_free_trial = txn_cnts.merge(free_trial_cnt, on = 'new_id', how = 'left')\n",
    "per_free_trial['per_free_trial'] = per_free_trial['free_trial_cnt']/per_free_trial['txn_cnt']\n",
    "free_trial = free_trial.merge(per_free_trial, on = 'new_id', how = 'inner')"
   ]
  },
  {
   "cell_type": "code",
   "execution_count": 31,
   "metadata": {
    "collapsed": false
   },
   "outputs": [],
   "source": [
    "#percentage of total payment_plan_days that are free trial days\n",
    "free_trial_days = txn[(txn['plan_list_price'] == 0) | (txn['plan_list_price'] == 1)].groupby('new_id')['payment_plan_days'].sum().reset_index(name='free_trial_days')\n",
    "per_days_free_trial = tot_plan_pmt[['payment_plan_days', 'new_id']].merge(free_trial_days, on = 'new_id', how = 'left')\n",
    "per_days_free_trial['per_days_free_trial'] = per_days_free_trial['free_trial_days']/per_days_free_trial['payment_plan_days']\n",
    "free_trial = free_trial.merge(per_days_free_trial, on = 'new_id', how = 'inner')"
   ]
  },
  {
   "cell_type": "code",
   "execution_count": 32,
   "metadata": {
    "collapsed": false
   },
   "outputs": [
    {
     "data": {
      "text/html": [
       "<div>\n",
       "<table border=\"1\" class=\"dataframe\">\n",
       "  <thead>\n",
       "    <tr style=\"text-align: right;\">\n",
       "      <th></th>\n",
       "      <th>new_id</th>\n",
       "      <th>lst_free_trial</th>\n",
       "      <th>per_free_trial</th>\n",
       "      <th>per_days_free_trial</th>\n",
       "    </tr>\n",
       "  </thead>\n",
       "  <tbody>\n",
       "    <tr>\n",
       "      <th>0</th>\n",
       "      <td>0</td>\n",
       "      <td>False</td>\n",
       "      <td>NaN</td>\n",
       "      <td>NaN</td>\n",
       "    </tr>\n",
       "    <tr>\n",
       "      <th>1</th>\n",
       "      <td>1</td>\n",
       "      <td>False</td>\n",
       "      <td>0.050000</td>\n",
       "      <td>0.0</td>\n",
       "    </tr>\n",
       "    <tr>\n",
       "      <th>2</th>\n",
       "      <td>2</td>\n",
       "      <td>False</td>\n",
       "      <td>0.038462</td>\n",
       "      <td>0.0</td>\n",
       "    </tr>\n",
       "    <tr>\n",
       "      <th>3</th>\n",
       "      <td>3</td>\n",
       "      <td>False</td>\n",
       "      <td>NaN</td>\n",
       "      <td>NaN</td>\n",
       "    </tr>\n",
       "    <tr>\n",
       "      <th>4</th>\n",
       "      <td>4</td>\n",
       "      <td>False</td>\n",
       "      <td>0.050000</td>\n",
       "      <td>0.0</td>\n",
       "    </tr>\n",
       "  </tbody>\n",
       "</table>\n",
       "</div>"
      ],
      "text/plain": [
       "   new_id lst_free_trial  per_free_trial  per_days_free_trial\n",
       "0       0          False             NaN                  NaN\n",
       "1       1          False        0.050000                  0.0\n",
       "2       2          False        0.038462                  0.0\n",
       "3       3          False             NaN                  NaN\n",
       "4       4          False        0.050000                  0.0"
      ]
     },
     "execution_count": 32,
     "metadata": {},
     "output_type": "execute_result"
    }
   ],
   "source": [
    "free_trial.drop(['last_plan_price', 'txn_cnt', 'free_trial_cnt', 'payment_plan_days', 'free_trial_days'], axis = 1, inplace = True)\n",
    "free_trial.head()"
   ]
  },
  {
   "cell_type": "markdown",
   "metadata": {},
   "source": [
    "### Max Membership Expire Date\n",
    "Note that we assume lst_memb_expire as the \"current membership\" expiry date. Therefore lst_memb_expire>Feb 2017 then the member is probably not churning"
   ]
  },
  {
   "cell_type": "code",
   "execution_count": 119,
   "metadata": {
    "collapsed": false
   },
   "outputs": [],
   "source": [
    "#max_memb_expire and lst_memb_expire\n",
    "max_memb_expire = txn.groupby(['new_id'])['membership_expire_date'].max().reset_index(name='max_memb_expire')\n",
    "lst_memb_expire = txn.groupby(['new_id'])['membership_expire_date'].last().reset_index(name='lst_memb_expire')\n",
    "fst_txn_dt = txn.groupby(['new_id'])['transaction_date'].first().reset_index(name='fst_transaction_date')\n",
    "memb_expire = max_memb_expire.merge(lst_memb_expire, on = 'new_id', how = 'inner')\n",
    "memb_expire = memb_expire.merge(fst_txn_dt, on = 'new_id', how = 'left')"
   ]
  },
  {
   "cell_type": "code",
   "execution_count": 120,
   "metadata": {
    "collapsed": false
   },
   "outputs": [],
   "source": [
    "memb_expire['not_equal'] = memb_expire['max_memb_expire'] != memb_expire['lst_memb_expire']\n",
    "#Some weird shit happening when max_memb_expire does not equal lst_memb_expire\n",
    "#txn_memb_expire = txn.merge(memb_expire, on = 'new_id', how = 'left')\n",
    "#txn_memb_expire[(txn_memb_expire['not_equal']==True) & (txn_memb_expire['new_id']==217)].head(100)"
   ]
  },
  {
   "cell_type": "code",
   "execution_count": 121,
   "metadata": {
    "collapsed": false
   },
   "outputs": [],
   "source": [
    "memb_expire['lst_memb_expire_post'] = memb_expire['lst_memb_expire'] >= '2017-04-01'"
   ]
  },
  {
   "cell_type": "code",
   "execution_count": 122,
   "metadata": {
    "collapsed": false
   },
   "outputs": [],
   "source": [
    "memb_expire = memb_expire.merge(memb[['new_id', 'registration_init_time']], on = 'new_id', how = 'left')\n",
    "memb_expire['registration_init_time'] = memb_expire['registration_init_time'].fillna(memb_expire['fst_transaction_date'])\n",
    "memb_expire['memb_tenure_days'] = (pd.to_datetime('2017-02-28') - memb_expire['registration_init_time'])/np.timedelta64(1, 'D')\n",
    "memb_expire['lst_memb_expire_days'] = (memb_expire['lst_memb_expire'] - pd.to_datetime('2017-03-31'))/np.timedelta64(1, 'D')"
   ]
  },
  {
   "cell_type": "code",
   "execution_count": 123,
   "metadata": {
    "collapsed": false
   },
   "outputs": [
    {
     "data": {
      "text/html": [
       "<div>\n",
       "<table border=\"1\" class=\"dataframe\">\n",
       "  <thead>\n",
       "    <tr style=\"text-align: right;\">\n",
       "      <th></th>\n",
       "      <th>new_id</th>\n",
       "      <th>max_memb_expire</th>\n",
       "      <th>lst_memb_expire</th>\n",
       "      <th>fst_transaction_date</th>\n",
       "      <th>not_equal</th>\n",
       "      <th>lst_memb_expire_post</th>\n",
       "      <th>registration_init_time</th>\n",
       "      <th>memb_tenure_days</th>\n",
       "      <th>lst_memb_expire_days</th>\n",
       "    </tr>\n",
       "  </thead>\n",
       "  <tbody>\n",
       "    <tr>\n",
       "      <th>0</th>\n",
       "      <td>0</td>\n",
       "      <td>2017-03-15</td>\n",
       "      <td>2017-03-15</td>\n",
       "      <td>2016-11-16</td>\n",
       "      <td>False</td>\n",
       "      <td>False</td>\n",
       "      <td>2014-06-08</td>\n",
       "      <td>996.0</td>\n",
       "      <td>-16.0</td>\n",
       "    </tr>\n",
       "    <tr>\n",
       "      <th>1</th>\n",
       "      <td>1</td>\n",
       "      <td>2017-04-19</td>\n",
       "      <td>2017-04-19</td>\n",
       "      <td>2015-01-31</td>\n",
       "      <td>False</td>\n",
       "      <td>True</td>\n",
       "      <td>2015-01-31</td>\n",
       "      <td>759.0</td>\n",
       "      <td>19.0</td>\n",
       "    </tr>\n",
       "    <tr>\n",
       "      <th>2</th>\n",
       "      <td>2</td>\n",
       "      <td>2017-03-26</td>\n",
       "      <td>2017-03-26</td>\n",
       "      <td>2015-01-26</td>\n",
       "      <td>False</td>\n",
       "      <td>False</td>\n",
       "      <td>2014-09-27</td>\n",
       "      <td>885.0</td>\n",
       "      <td>-5.0</td>\n",
       "    </tr>\n",
       "    <tr>\n",
       "      <th>3</th>\n",
       "      <td>3</td>\n",
       "      <td>2017-03-15</td>\n",
       "      <td>2017-03-15</td>\n",
       "      <td>2016-03-15</td>\n",
       "      <td>False</td>\n",
       "      <td>False</td>\n",
       "      <td>2016-03-15</td>\n",
       "      <td>350.0</td>\n",
       "      <td>-16.0</td>\n",
       "    </tr>\n",
       "    <tr>\n",
       "      <th>4</th>\n",
       "      <td>4</td>\n",
       "      <td>2017-04-23</td>\n",
       "      <td>2017-04-23</td>\n",
       "      <td>2015-01-31</td>\n",
       "      <td>False</td>\n",
       "      <td>True</td>\n",
       "      <td>2015-01-31</td>\n",
       "      <td>759.0</td>\n",
       "      <td>23.0</td>\n",
       "    </tr>\n",
       "  </tbody>\n",
       "</table>\n",
       "</div>"
      ],
      "text/plain": [
       "   new_id max_memb_expire lst_memb_expire fst_transaction_date not_equal  \\\n",
       "0       0      2017-03-15      2017-03-15           2016-11-16     False   \n",
       "1       1      2017-04-19      2017-04-19           2015-01-31     False   \n",
       "2       2      2017-03-26      2017-03-26           2015-01-26     False   \n",
       "3       3      2017-03-15      2017-03-15           2016-03-15     False   \n",
       "4       4      2017-04-23      2017-04-23           2015-01-31     False   \n",
       "\n",
       "  lst_memb_expire_post registration_init_time  memb_tenure_days  \\\n",
       "0                False             2014-06-08             996.0   \n",
       "1                 True             2015-01-31             759.0   \n",
       "2                False             2014-09-27             885.0   \n",
       "3                False             2016-03-15             350.0   \n",
       "4                 True             2015-01-31             759.0   \n",
       "\n",
       "   lst_memb_expire_days  \n",
       "0                 -16.0  \n",
       "1                  19.0  \n",
       "2                  -5.0  \n",
       "3                 -16.0  \n",
       "4                  23.0  "
      ]
     },
     "execution_count": 123,
     "metadata": {},
     "output_type": "execute_result"
    }
   ],
   "source": [
    "memb_expire.head()"
   ]
  },
  {
   "cell_type": "code",
   "execution_count": 124,
   "metadata": {
    "collapsed": false
   },
   "outputs": [
    {
     "data": {
      "text/plain": [
       "Timestamp('2022-12-12 00:00:00')"
      ]
     },
     "execution_count": 124,
     "metadata": {},
     "output_type": "execute_result"
    }
   ],
   "source": [
    "np.max(memb_expire['lst_memb_expire'])"
   ]
  },
  {
   "cell_type": "code",
   "execution_count": 125,
   "metadata": {
    "collapsed": false
   },
   "outputs": [
    {
     "data": {
      "text/html": [
       "<div>\n",
       "<table border=\"1\" class=\"dataframe\">\n",
       "  <thead>\n",
       "    <tr style=\"text-align: right;\">\n",
       "      <th></th>\n",
       "      <th>new_id</th>\n",
       "      <th>not_equal</th>\n",
       "      <th>lst_memb_expire_post</th>\n",
       "      <th>memb_tenure_days</th>\n",
       "      <th>lst_memb_expire_days</th>\n",
       "    </tr>\n",
       "  </thead>\n",
       "  <tbody>\n",
       "    <tr>\n",
       "      <th>0</th>\n",
       "      <td>0</td>\n",
       "      <td>False</td>\n",
       "      <td>False</td>\n",
       "      <td>996.0</td>\n",
       "      <td>-16.0</td>\n",
       "    </tr>\n",
       "    <tr>\n",
       "      <th>1</th>\n",
       "      <td>1</td>\n",
       "      <td>False</td>\n",
       "      <td>True</td>\n",
       "      <td>759.0</td>\n",
       "      <td>19.0</td>\n",
       "    </tr>\n",
       "    <tr>\n",
       "      <th>2</th>\n",
       "      <td>2</td>\n",
       "      <td>False</td>\n",
       "      <td>False</td>\n",
       "      <td>885.0</td>\n",
       "      <td>-5.0</td>\n",
       "    </tr>\n",
       "    <tr>\n",
       "      <th>3</th>\n",
       "      <td>3</td>\n",
       "      <td>False</td>\n",
       "      <td>False</td>\n",
       "      <td>350.0</td>\n",
       "      <td>-16.0</td>\n",
       "    </tr>\n",
       "    <tr>\n",
       "      <th>4</th>\n",
       "      <td>4</td>\n",
       "      <td>False</td>\n",
       "      <td>True</td>\n",
       "      <td>759.0</td>\n",
       "      <td>23.0</td>\n",
       "    </tr>\n",
       "  </tbody>\n",
       "</table>\n",
       "</div>"
      ],
      "text/plain": [
       "   new_id not_equal lst_memb_expire_post  memb_tenure_days  \\\n",
       "0       0     False                False             996.0   \n",
       "1       1     False                 True             759.0   \n",
       "2       2     False                False             885.0   \n",
       "3       3     False                False             350.0   \n",
       "4       4     False                 True             759.0   \n",
       "\n",
       "   lst_memb_expire_days  \n",
       "0                 -16.0  \n",
       "1                  19.0  \n",
       "2                  -5.0  \n",
       "3                 -16.0  \n",
       "4                  23.0  "
      ]
     },
     "execution_count": 125,
     "metadata": {},
     "output_type": "execute_result"
    }
   ],
   "source": [
    "#126,062 members have membership expiry dates after Feb\n",
    "memb_expire.drop(['max_memb_expire', 'registration_init_time', 'lst_memb_expire', 'fst_transaction_date'], inplace = True, axis = 1)\n",
    "memb_expire.head()"
   ]
  },
  {
   "cell_type": "markdown",
   "metadata": {},
   "source": [
    "## Merging Feature Dataframes"
   ]
  },
  {
   "cell_type": "code",
   "execution_count": 126,
   "metadata": {
    "collapsed": false
   },
   "outputs": [
    {
     "name": "stdout",
     "output_type": "stream",
     "text": [
      "(970960, 22)\n"
     ]
    }
   ],
   "source": [
    "import functools\n",
    "\n",
    "txn_features = [\n",
    "    train, tot_plan_pmt, txn_ar_stop, txn_cancelled, \n",
    "    txn_cancelled_last, free_trial, txn_lp_high, \n",
    "    txn_prev_churn, txn_pmt_change, memb_expire]\n",
    "f_txn = functools.reduce(lambda left,right: pd.merge(left,right,on='new_id', how='left'), txn_features)\n",
    "\n",
    "f_txn.drop('in_txn', axis = 1, inplace = True)\n",
    "\n",
    "print(f_txn.shape)"
   ]
  },
  {
   "cell_type": "code",
   "execution_count": 127,
   "metadata": {
    "collapsed": false
   },
   "outputs": [
    {
     "data": {
      "text/plain": [
       "2524"
      ]
     },
     "execution_count": 127,
     "metadata": {},
     "output_type": "execute_result"
    }
   ],
   "source": [
    "#2524 nulls\n",
    "f_txn[(pd.isnull(f_txn['payment_plan_days']) == True)]['new_id'].nunique()"
   ]
  },
  {
   "cell_type": "code",
   "execution_count": 128,
   "metadata": {
    "collapsed": false
   },
   "outputs": [
    {
     "data": {
      "text/plain": [
       "Index(['is_churn', 'new_id', 'payment_plan_days', 'plan_list_price',\n",
       "       'actual_amount_paid', 'avg_daily_paid', 'list_actual_diff', 'mean_ar',\n",
       "       'stopped_ar', 'mean_cancel', 'last_cancel', 'lst_free_trial',\n",
       "       'per_free_trial', 'per_days_free_trial', 'txn_cnt', 'per_lp_high',\n",
       "       'prev_churn_per', 'pmt_change_cnt', 'not_equal', 'lst_memb_expire_post',\n",
       "       'memb_tenure_days', 'lst_memb_expire_days'],\n",
       "      dtype='object')"
      ]
     },
     "execution_count": 128,
     "metadata": {},
     "output_type": "execute_result"
    }
   ],
   "source": [
    "f_txn.columns"
   ]
  },
  {
   "cell_type": "code",
   "execution_count": 129,
   "metadata": {
    "collapsed": false
   },
   "outputs": [
    {
     "name": "stdout",
     "output_type": "stream",
     "text": [
      "<class 'pandas.core.frame.DataFrame'>\n",
      "Int64Index: 970960 entries, 0 to 970959\n",
      "Data columns (total 22 columns):\n",
      "is_churn                970960 non-null int8\n",
      "new_id                  970960 non-null uint32\n",
      "payment_plan_days       968436 non-null float64\n",
      "plan_list_price         968436 non-null float64\n",
      "actual_amount_paid      968436 non-null float64\n",
      "avg_daily_paid          968436 non-null float64\n",
      "list_actual_diff        968436 non-null float64\n",
      "mean_ar                 968436 non-null float64\n",
      "stopped_ar              968436 non-null object\n",
      "mean_cancel             968436 non-null float64\n",
      "last_cancel             968436 non-null float64\n",
      "lst_free_trial          968436 non-null object\n",
      "per_free_trial          330042 non-null float64\n",
      "per_days_free_trial     330040 non-null float64\n",
      "txn_cnt                 968436 non-null float64\n",
      "per_lp_high             341272 non-null float64\n",
      "prev_churn_per          261822 non-null float64\n",
      "pmt_change_cnt          136352 non-null float64\n",
      "not_equal               968436 non-null object\n",
      "lst_memb_expire_post    968436 non-null object\n",
      "memb_tenure_days        968436 non-null float64\n",
      "lst_memb_expire_days    968436 non-null float64\n",
      "dtypes: float64(16), int8(1), object(4), uint32(1)\n",
      "memory usage: 160.2+ MB\n"
     ]
    }
   ],
   "source": [
    "f_txn.info()"
   ]
  },
  {
   "cell_type": "code",
   "execution_count": 130,
   "metadata": {
    "collapsed": false
   },
   "outputs": [],
   "source": [
    "str_col = ['per_free_trial', 'per_days_free_trial', 'txn_cnt'\n",
    "           , 'per_lp_high', 'prev_churn_per', 'pmt_change_cnt', 'lst_memb_expire_days', 'memb_tenure_days']\n",
    "f_txn[str_col] = f_txn[str_col].fillna(0)"
   ]
  },
  {
   "cell_type": "code",
   "execution_count": 131,
   "metadata": {
    "collapsed": true
   },
   "outputs": [],
   "source": [
    "str_col = ['stopped_ar', 'last_cancel', 'lst_free_trial', 'not_equal', 'lst_memb_expire_post']\n",
    "f_txn[str_col] = f_txn[str_col].fillna(False)"
   ]
  },
  {
   "cell_type": "code",
   "execution_count": 132,
   "metadata": {
    "collapsed": false
   },
   "outputs": [],
   "source": [
    "str_col = ['payment_plan_days', 'plan_list_price', 'actual_amount_paid']\n",
    "f_txn[str_col] = f_txn[str_col].fillna(f_txn[str_col].mode().iloc[0])"
   ]
  },
  {
   "cell_type": "code",
   "execution_count": 133,
   "metadata": {
    "collapsed": true
   },
   "outputs": [],
   "source": [
    "str_col = ['mean_ar', 'mean_cancel']\n",
    "f_txn[str_col] = f_txn[str_col].fillna(f_txn[str_col].mean().iloc[0])"
   ]
  },
  {
   "cell_type": "code",
   "execution_count": 134,
   "metadata": {
    "collapsed": true
   },
   "outputs": [],
   "source": [
    "f_txn['avg_daily_paid'] = f_txn['actual_amount_paid']/f_txn['payment_plan_days']\n",
    "f_txn['list_actual_diff'] = f_txn['plan_list_price'] - f_txn['actual_amount_paid']"
   ]
  },
  {
   "cell_type": "code",
   "execution_count": 135,
   "metadata": {
    "collapsed": false
   },
   "outputs": [
    {
     "name": "stdout",
     "output_type": "stream",
     "text": [
      "<class 'pandas.core.frame.DataFrame'>\n",
      "Int64Index: 970960 entries, 0 to 970959\n",
      "Data columns (total 22 columns):\n",
      "is_churn                970960 non-null int8\n",
      "new_id                  970960 non-null uint32\n",
      "payment_plan_days       970960 non-null float64\n",
      "plan_list_price         970960 non-null float64\n",
      "actual_amount_paid      970960 non-null float64\n",
      "avg_daily_paid          970960 non-null float64\n",
      "list_actual_diff        970960 non-null float64\n",
      "mean_ar                 970960 non-null float64\n",
      "stopped_ar              970960 non-null bool\n",
      "mean_cancel             970960 non-null float64\n",
      "last_cancel             970960 non-null float64\n",
      "lst_free_trial          970960 non-null bool\n",
      "per_free_trial          970960 non-null float64\n",
      "per_days_free_trial     970960 non-null float64\n",
      "txn_cnt                 970960 non-null float64\n",
      "per_lp_high             970960 non-null float64\n",
      "prev_churn_per          970960 non-null float64\n",
      "pmt_change_cnt          970960 non-null float64\n",
      "not_equal               970960 non-null bool\n",
      "lst_memb_expire_post    970960 non-null bool\n",
      "memb_tenure_days        970960 non-null float64\n",
      "lst_memb_expire_days    970960 non-null float64\n",
      "dtypes: bool(4), float64(16), int8(1), uint32(1)\n",
      "memory usage: 134.3 MB\n"
     ]
    }
   ],
   "source": [
    "f_txn.info()"
   ]
  },
  {
   "cell_type": "code",
   "execution_count": 143,
   "metadata": {
    "collapsed": false
   },
   "outputs": [],
   "source": [
    "#f_txn.drop('is_churn', axis = 1, inplace = True)\n",
    "f_txn.to_csv('../final_txn_v2.csv', index=False)"
   ]
  },
  {
   "cell_type": "markdown",
   "metadata": {},
   "source": [
    "## Casual Exploratory Analysis\n",
    "\n",
    "Oh so casual *_hairflick_"
   ]
  },
  {
   "cell_type": "code",
   "execution_count": null,
   "metadata": {
    "collapsed": false
   },
   "outputs": [],
   "source": [
    "#4% of transactions have a plan_list_price of zero\n",
    "txn[txn['plan_list_price']==0]['plan_list_price'].count()/txn['plan_list_price'].count()"
   ]
  },
  {
   "cell_type": "code",
   "execution_count": null,
   "metadata": {
    "collapsed": false
   },
   "outputs": [],
   "source": [
    "#Looking at prices of membership transactions: 99 & 149 & 129 corresponds to monthly membership\n",
    "plt.figure(num=None, figsize=(16, 4), dpi=80)\n",
    "sns.countplot(txn['plan_list_price'])"
   ]
  },
  {
   "cell_type": "code",
   "execution_count": null,
   "metadata": {
    "collapsed": false
   },
   "outputs": [],
   "source": [
    "print(txn[(txn['plan_list_price']==129)|(txn['plan_list_price']==99)|(txn['plan_list_price']==149)]['payment_plan_days'].value_counts())"
   ]
  },
  {
   "cell_type": "code",
   "execution_count": 96,
   "metadata": {
    "collapsed": false
   },
   "outputs": [
    {
     "data": {
      "text/plain": [
       "<matplotlib.axes._subplots.AxesSubplot at 0x1e692b4ed30>"
      ]
     },
     "execution_count": 96,
     "metadata": {},
     "output_type": "execute_result"
    },
    {
     "data": {
      "image/png": "[encoded data removed]",
      "text/plain": [
       "<matplotlib.figure.Figure at 0x1e684adb6d8>"
      ]
     },
     "metadata": {},
     "output_type": "display_data"
    }
   ],
   "source": [
    "txn_test = txn.groupby(['plan_list_price', 'payment_plan_days'])['plan_list_price'].count().reset_index(name='cnt_txn')\n",
    "txn_test = txn_test.pivot(index='plan_list_price', columns='payment_plan_days', values='cnt_txn')\n",
    "plt.figure(num=None, figsize=(16, 10), dpi=80)\n",
    "sns.heatmap(txn_test, cmap='viridis')"
   ]
  },
  {
   "cell_type": "markdown",
   "metadata": {},
   "source": [
    "## Are Features Useful?"
   ]
  },
  {
   "cell_type": "markdown",
   "metadata": {},
   "source": [
    "### Total Payment Plan Days"
   ]
  },
  {
   "cell_type": "code",
   "execution_count": null,
   "metadata": {
    "collapsed": false
   },
   "outputs": [],
   "source": [
    "plt.figure(num=None, figsize=(6, 4), dpi=80, facecolor='w', edgecolor='k')\n",
    "sns.barplot('is_churn', 'payment_plan_days', data=f_txn)"
   ]
  },
  {
   "cell_type": "markdown",
   "metadata": {},
   "source": [
    "### Difference Between Listed and Paid Price"
   ]
  },
  {
   "cell_type": "code",
   "execution_count": null,
   "metadata": {
    "collapsed": false
   },
   "outputs": [],
   "source": [
    "plt.figure(num=None, figsize=(6, 4), dpi=80, facecolor='w', edgecolor='k')\n",
    "sns.barplot('is_churn', 'list_actual_diff', data=f_txn)"
   ]
  },
  {
   "cell_type": "markdown",
   "metadata": {},
   "source": [
    "### Number of Transactions where Plan List Price is Higher than Actual Amount Paid"
   ]
  },
  {
   "cell_type": "code",
   "execution_count": 82,
   "metadata": {
    "collapsed": false
   },
   "outputs": [
    {
     "data": {
      "text/plain": [
       "<matplotlib.axes._subplots.AxesSubplot at 0x197845db048>"
      ]
     },
     "execution_count": 82,
     "metadata": {},
     "output_type": "execute_result"
    },
    {
     "data": {
      "image/png": "[encoded data removed]",
      "text/plain": [
       "<matplotlib.figure.Figure at 0x19780e99b38>"
      ]
     },
     "metadata": {},
     "output_type": "display_data"
    }
   ],
   "source": [
    "plt.figure(num=None, figsize=(6, 4), dpi=80, facecolor='w', edgecolor='k')\n",
    "sns.barplot('is_churn', 'per_lp_high', data=f_txn)"
   ]
  },
  {
   "cell_type": "markdown",
   "metadata": {},
   "source": [
    "### Percentage of Transactions where Plan List Price is Higher than Actual Amount Paid"
   ]
  },
  {
   "cell_type": "code",
   "execution_count": null,
   "metadata": {
    "collapsed": false
   },
   "outputs": [],
   "source": [
    "plt.figure(num=None, figsize=(6, 4), dpi=80, facecolor='w', edgecolor='k')\n",
    "sns.barplot('is_churn', 'per_lp_high', data=f_txn)"
   ]
  },
  {
   "cell_type": "markdown",
   "metadata": {},
   "source": [
    "### Previous Churn"
   ]
  },
  {
   "cell_type": "code",
   "execution_count": null,
   "metadata": {
    "collapsed": false
   },
   "outputs": [],
   "source": [
    "plt.figure(num=None, figsize=(10, 4), dpi=80, facecolor='w', edgecolor='k')\n",
    "sns.barplot('prev_churn_cnt', 'is_churn', data=f_txn)"
   ]
  },
  {
   "cell_type": "markdown",
   "metadata": {},
   "source": [
    "### % of Transactions as Auto Renew"
   ]
  },
  {
   "cell_type": "code",
   "execution_count": null,
   "metadata": {
    "collapsed": false
   },
   "outputs": [],
   "source": [
    "plt.figure(num=None, figsize=(6, 4), dpi=80, facecolor='w', edgecolor='k')\n",
    "sns.barplot('is_churn', 'mean_ar', data=f_txn)"
   ]
  },
  {
   "cell_type": "markdown",
   "metadata": {},
   "source": [
    "### Stopped Auto Renew"
   ]
  },
  {
   "cell_type": "code",
   "execution_count": null,
   "metadata": {
    "collapsed": false
   },
   "outputs": [],
   "source": [
    "plt.figure(num=None, figsize=(6, 4), dpi=80, facecolor='w', edgecolor='k')\n",
    "sns.barplot('is_churn', 'stopped_ar', data=f_txn)"
   ]
  },
  {
   "cell_type": "markdown",
   "metadata": {},
   "source": [
    "### Changed Payment Methods"
   ]
  },
  {
   "cell_type": "code",
   "execution_count": null,
   "metadata": {
    "collapsed": false
   },
   "outputs": [],
   "source": [
    "plt.figure(num=None, figsize=(16, 4), dpi=80, facecolor='w', edgecolor='k')\n",
    "sns.barplot('pmt_change_cnt', 'is_churn', data=f_txn)"
   ]
  },
  {
   "cell_type": "markdown",
   "metadata": {},
   "source": [
    "### % of Transactions Cancelled"
   ]
  },
  {
   "cell_type": "code",
   "execution_count": null,
   "metadata": {
    "collapsed": false
   },
   "outputs": [],
   "source": [
    "plt.figure(num=None, figsize=(6, 4), dpi=80, facecolor='w', edgecolor='k')\n",
    "sns.barplot('is_churn', 'mean_cancel', data=f_txn)"
   ]
  },
  {
   "cell_type": "markdown",
   "metadata": {},
   "source": [
    "### Last Transaction is Cancelled Transaction"
   ]
  },
  {
   "cell_type": "code",
   "execution_count": null,
   "metadata": {
    "collapsed": false
   },
   "outputs": [],
   "source": [
    "plt.figure(num=None, figsize=(6, 4), dpi=80, facecolor='w', edgecolor='k')\n",
    "sns.barplot('is_churn', 'last_cancel', data=f_txn)"
   ]
  },
  {
   "cell_type": "markdown",
   "metadata": {},
   "source": [
    "### Last Transaction is Free Trial"
   ]
  },
  {
   "cell_type": "code",
   "execution_count": null,
   "metadata": {
    "collapsed": false
   },
   "outputs": [],
   "source": [
    "plt.figure(num=None, figsize=(6, 4), dpi=80, facecolor='w', edgecolor='k')\n",
    "sns.barplot('is_churn', 'lst_free_trial', data=f_txn)"
   ]
  },
  {
   "cell_type": "code",
   "execution_count": null,
   "metadata": {
    "collapsed": false
   },
   "outputs": [],
   "source": [
    "f_txn.corr()"
   ]
  },
  {
   "cell_type": "code",
   "execution_count": null,
   "metadata": {
    "collapsed": true
   },
   "outputs": [],
   "source": []
  }
 ],
 "metadata": {
  "kernelspec": {
   "display_name": "Python 3",
   "language": "python",
   "name": "python3"
  },
  "language_info": {
   "codemirror_mode": {
    "name": "ipython",
    "version": 3
   },
   "file_extension": ".py",
   "mimetype": "text/x-python",
   "name": "python",
   "nbconvert_exporter": "python",
   "pygments_lexer": "ipython3",
   "version": "3.6.0"
  }
 },
 "nbformat": 4,
 "nbformat_minor": 2
}
