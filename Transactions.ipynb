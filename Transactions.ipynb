{
 "cells": [
  {
   "cell_type": "code",
   "execution_count": 1,
   "metadata": {
    "collapsed": true
   },
   "outputs": [],
   "source": [
    "import numpy as np\n",
    "import pandas as pd\n",
    "\n",
    "import data_manipulation as dm\n",
    "import time\n",
    "import datetime as dt\n",
    "import seaborn as sns\n",
    "import matplotlib.pyplot as plt\n",
    "\n",
    "%matplotlib inline"
   ]
  },
  {
   "cell_type": "code",
   "execution_count": 2,
   "metadata": {
    "collapsed": false
   },
   "outputs": [],
   "source": [
    "#Import datasets\n",
    "txn_og = dm.transactions()\n",
    "train = dm.train()\n",
    "test = pd.read_csv('../new_sample_submission_zero.csv')\n",
    "ul_var = pd.read_csv('../final_user_log.csv')"
   ]
  },
  {
   "cell_type": "code",
   "execution_count": 39,
   "metadata": {
    "collapsed": false
   },
   "outputs": [
    {
     "data": {
      "text/html": [
       "<div>\n",
       "<table border=\"1\" class=\"dataframe\">\n",
       "  <thead>\n",
       "    <tr style=\"text-align: right;\">\n",
       "      <th></th>\n",
       "      <th>is_churn</th>\n",
       "      <th>new_id</th>\n",
       "      <th>in_txn</th>\n",
       "    </tr>\n",
       "  </thead>\n",
       "  <tbody>\n",
       "    <tr>\n",
       "      <th>589255</th>\n",
       "      <td>0</td>\n",
       "      <td>217</td>\n",
       "      <td>True</td>\n",
       "    </tr>\n",
       "  </tbody>\n",
       "</table>\n",
       "</div>"
      ],
      "text/plain": [
       "        is_churn  new_id in_txn\n",
       "589255         0     217   True"
      ]
     },
     "execution_count": 39,
     "metadata": {},
     "output_type": "execute_result"
    }
   ],
   "source": [
    "train[train['new_id']==217]"
   ]
  },
  {
   "cell_type": "code",
   "execution_count": 3,
   "metadata": {
    "collapsed": true
   },
   "outputs": [],
   "source": [
    "#Prep - sort transactions\n",
    "txn_og = txn_og.sort_values(['new_id', 'transaction_date', 'membership_expire_date'])\n",
    "#Prep - limit transactions to end of Jan\n",
    "txn=txn_og[txn_og['transaction_date']<='2017-01-31']"
   ]
  },
  {
   "cell_type": "code",
   "execution_count": 4,
   "metadata": {
    "collapsed": false
   },
   "outputs": [
    {
     "name": "stdout",
     "output_type": "stream",
     "text": [
      "True     968433\n",
      "False      2527\n",
      "Name: in_txn, dtype: int64\n",
      "True    992931\n",
      "Name: in_txn, dtype: int64\n",
      "True     881701\n",
      "False     89259\n",
      "Name: in_train, dtype: int64\n"
     ]
    }
   ],
   "source": [
    "#Some members in test group don't have any transactions. All members in train group have transactions.\n",
    "#88k members in test gorup also in train group.\n",
    "test['in_txn']=test['new_id'].isin(txn_og['new_id'])\n",
    "train['in_txn']=train['new_id'].isin(txn_og['new_id'])\n",
    "test['in_train']=test['new_id'].isin(train['new_id'])\n",
    "print(test['in_txn'].value_counts())\n",
    "print(train['in_txn'].value_counts())\n",
    "print(test['in_train'].value_counts())"
   ]
  },
  {
   "cell_type": "code",
   "execution_count": 5,
   "metadata": {
    "collapsed": false
   },
   "outputs": [
    {
     "name": "stdout",
     "output_type": "stream",
     "text": [
      "(992931, 3)\n",
      "(970960, 4)\n",
      "(16411725, 9)\n",
      "(992931, 8)\n",
      "992931\n",
      "1079663\n",
      "970960\n"
     ]
    }
   ],
   "source": [
    "#Check datasets\n",
    "print(train.shape)\n",
    "print(test.shape)\n",
    "print(txn_og.shape)\n",
    "print(ul_var.shape)\n",
    "print(train['new_id'].nunique())\n",
    "print(txn_og['new_id'].nunique())\n",
    "print(test['new_id'].nunique())"
   ]
  },
  {
   "cell_type": "code",
   "execution_count": 6,
   "metadata": {
    "collapsed": false
   },
   "outputs": [
    {
     "name": "stderr",
     "output_type": "stream",
     "text": [
      "C:\\Users\\Cathy\\Anaconda3\\lib\\site-packages\\ipykernel\\__main__.py:2: SettingWithCopyWarning: \n",
      "A value is trying to be set on a copy of a slice from a DataFrame.\n",
      "Try using .loc[row_indexer,col_indexer] = value instead\n",
      "\n",
      "See the caveats in the documentation: http://pandas.pydata.org/pandas-docs/stable/indexing.html#indexing-view-versus-copy\n",
      "  from ipykernel import kernelapp as app\n",
      "C:\\Users\\Cathy\\Anaconda3\\lib\\site-packages\\ipykernel\\__main__.py:4: SettingWithCopyWarning: \n",
      "A value is trying to be set on a copy of a slice from a DataFrame.\n",
      "Try using .loc[row_indexer,col_indexer] = value instead\n",
      "\n",
      "See the caveats in the documentation: http://pandas.pydata.org/pandas-docs/stable/indexing.html#indexing-view-versus-copy\n"
     ]
    }
   ],
   "source": [
    "txn_og['in_train']=txn_og['new_id'].isin(train['new_id'])\n",
    "txn['in_train']=txn['new_id'].isin(train['new_id'])\n",
    "txn_og['in_test']=txn_og['new_id'].isin(test['new_id'])\n",
    "txn['in_test']=txn['new_id'].isin(test['new_id'])"
   ]
  },
  {
   "cell_type": "code",
   "execution_count": 7,
   "metadata": {
    "collapsed": false
   },
   "outputs": [
    {
     "name": "stdout",
     "output_type": "stream",
     "text": [
      "2097\n",
      "30616\n"
     ]
    }
   ],
   "source": [
    "#Seems like 31,497 users only have transactions in Feb\n",
    "#2,097 users that are in train only have transactions in Feb\n",
    "#30,616 users that are in test only have transactions in Feb\n",
    "print((txn_og[(txn_og['in_train']==True)]['new_id'].nunique()) - (txn[txn['in_train']==True]['new_id'].nunique()))\n",
    "print((txn_og[(txn_og['in_test']==True)]['new_id'].nunique()) - (txn[txn['in_test']==True]['new_id'].nunique()))"
   ]
  },
  {
   "cell_type": "code",
   "execution_count": 10,
   "metadata": {
    "collapsed": false
   },
   "outputs": [
    {
     "name": "stdout",
     "output_type": "stream",
     "text": [
      "2017-03-31 00:00:00\n"
     ]
    }
   ],
   "source": [
    "print(max(txn[txn['in_train']==True]['membership_expire_date']))"
   ]
  },
  {
   "cell_type": "markdown",
   "metadata": {},
   "source": [
    "## Investigating Transactions\n",
    "\n",
    "*Looking into transactions where the membership_expiry_date < transaction_date*"
   ]
  },
  {
   "cell_type": "code",
   "execution_count": null,
   "metadata": {
    "collapsed": true
   },
   "outputs": [],
   "source": [
    "#Adding some features\n",
    "#txn['in_train']=txn['new_id'].isin(train['new_id'])\n",
    "#txn['odd_transactions']=txn['membership_expire_date']<txn['transaction_date']\n",
    "#txn['1970']=txn['membership_expire_date']=='1970-01-01'\n",
    "#txn['in_train'].value_counts()"
   ]
  },
  {
   "cell_type": "code",
   "execution_count": null,
   "metadata": {
    "collapsed": false
   },
   "outputs": [],
   "source": [
    "pd.crosstab(index=txn['odd_transactions'], columns=txn['in_train'], normalize='index')"
   ]
  },
  {
   "cell_type": "code",
   "execution_count": null,
   "metadata": {
    "collapsed": false
   },
   "outputs": [],
   "source": [
    "#Odd transactions are more likely to be auto renew transactions\n",
    "pd.crosstab(index=txn['odd_transactions'], columns=txn['is_auto_renew'], normalize='index')"
   ]
  },
  {
   "cell_type": "code",
   "execution_count": null,
   "metadata": {
    "collapsed": false
   },
   "outputs": [],
   "source": [
    "#Odd transactions are more likely to be cancelled transactions\n",
    "pd.crosstab(index=txn['odd_transactions'], columns=txn['is_cancel'], normalize='index')"
   ]
  },
  {
   "cell_type": "code",
   "execution_count": null,
   "metadata": {
    "collapsed": false
   },
   "outputs": [],
   "source": [
    "#397 of the odd transactions are caused by '1970'\n",
    "pd.crosstab(index=txn['odd_transactions'], columns=txn['1970'], normalize='index')\n",
    "pd.crosstab(index=txn['odd_transactions'], columns=txn['1970'])"
   ]
  },
  {
   "cell_type": "code",
   "execution_count": null,
   "metadata": {
    "collapsed": false
   },
   "outputs": [],
   "source": [
    "#226 bad transactions are in the training set\n",
    "pd.crosstab(index=txn['in_train'], columns=txn['1970'])"
   ]
  },
  {
   "cell_type": "code",
   "execution_count": null,
   "metadata": {
    "collapsed": false
   },
   "outputs": [],
   "source": [
    "#0.4% of transactions have membership_expire_date<transaction_date\n",
    "memb_exp_test=txn[txn['membership_expire_date']<txn['transaction_date']]\n",
    "print(memb_exp_test.shape[0])\n",
    "print(txn.shape[0])\n",
    "print(memb_exp_test.shape[0]/txn.shape[0])\n",
    "print(txn['new_id'].nunique())\n",
    "print(memb_exp_test['new_id'].nunique())"
   ]
  },
  {
   "cell_type": "code",
   "execution_count": null,
   "metadata": {
    "collapsed": false
   },
   "outputs": [],
   "source": [
    "#Almost all records with membership_expire_date<transaction_date are auto_renew memberships\n",
    "print(memb_exp_test[memb_exp_test['is_auto_renew']==1]['is_auto_renew'].sum())\n",
    "print(txn[txn['is_auto_renew']==1].shape)"
   ]
  },
  {
   "cell_type": "code",
   "execution_count": null,
   "metadata": {
    "collapsed": false
   },
   "outputs": [],
   "source": [
    "#Most of the records with membership_expire_date<transaction_date are cancelled memberships - are these late payments?\n",
    "#ALL of these are also auto-renew memberships\n",
    "print(memb_exp_test[memb_exp_test['is_cancel']==1]['is_cancel'].sum())\n",
    "memb_exp_test[(memb_exp_test['is_cancel']==1)&(memb_exp_test['is_auto_renew']==1)].shape"
   ]
  },
  {
   "cell_type": "code",
   "execution_count": null,
   "metadata": {
    "collapsed": false
   },
   "outputs": [],
   "source": [
    "#The rest of the auto_renew memberships\n",
    "memb_exp_test[(memb_exp_test['is_cancel']==0)&(memb_exp_test['is_auto_renew']==1)].shape"
   ]
  },
  {
   "cell_type": "code",
   "execution_count": null,
   "metadata": {
    "collapsed": false
   },
   "outputs": [],
   "source": [
    "#Looks like the rest of the records have lots of instances of membership_expire_date = '1970-01-01'\n",
    "memb_exp_test[memb_exp_test['is_auto_renew']==0].head(10)\n",
    "#15 records where membership_expire_date is not is not 1970-01-01 and is not auto_renew\n",
    "odd_ones_out=memb_exp_test[(memb_exp_test['membership_expire_date']!='1970-01-01') & (memb_exp_test['is_auto_renew']==0)]\n",
    "#Seems like all of these have plan_list_price of 0\n",
    "odd_ones_out.head(15)"
   ]
  },
  {
   "cell_type": "code",
   "execution_count": null,
   "metadata": {
    "collapsed": true
   },
   "outputs": [],
   "source": [
    "#is_cancel=txn[txn['is_cancel']==1]\n",
    "#print(is_cancel.shape)\n",
    "#is_cancel['diff_dates']=is_cancel['membership_expire_date']-is_cancel['transaction_date']\n",
    "#is_cancel['diff_dates']=is_cancel['diff_dates']/ np.timedelta64(1, 'D')\n",
    "#sns.distplot(is_cancel[is_cancel['diff_dates']>0]['diff_dates'])"
   ]
  },
  {
   "cell_type": "code",
   "execution_count": null,
   "metadata": {
    "collapsed": true
   },
   "outputs": [],
   "source": [
    "#Determine if member had an odd transaction\n",
    "txn['odd_txn_flag'] = txn['new_id'].isin(memb_exp_test['new_id'])"
   ]
  },
  {
   "cell_type": "markdown",
   "metadata": {},
   "source": [
    "## Feature Engineering\n",
    " \n",
    "<font color='red'>*Note that for the test group, we'll have access to less transactions - using transactions up to March 31st 2017 to predict memberships that expire in April 2017. Therefore, we should train using data up to the end of Feb to predict churn for memberships that expire in the month of March 2017.*</font>\n",
    "\n",
    "Each transaction feature is stored in a pandas dataframe:\n",
    "\n",
    "- **txn_cnts (all members)**: Count number of transactions per member; note that this dataframe is no longer included since the transaction count is in the txn_lp_high dataframe\n",
    "- **tot_plan_pmt (all members)**: Sum of payment plan days, plan list price, and actual amount paid. Also - average price per day, and difference between plan list price and actual amount paid\n",
    "- **txn_lp_high (all members)**: Count of, and percentage of transactions that have higher list price than actual amount paid\n",
    "- **txn_prev_churn (churned members)**: Count number of times members churned, i.e. transaction date - membership expire date from previous transaction is greater than 30 days\n",
    "- **txn_ar_stop (all members)**: % of transactions that are auto renew and whether a member has stopped auto-renewing in the duration of their membership\n",
    "- **txn_pmt_change (payment change members)**: Count number of times member changed payment type \n",
    "- **txn_cancelled (all members)**: % of transactions that are cancelled and whether a members has cancelled their membership in the duration of their membership\n",
    "- **txn_cancelled_last (all members)**: If the member has a cancelled transaction as their last transaction\n",
    "- **last_txn (all_members)**: If the member has a free trial as their last transaction\n",
    "\n",
    "- % of transactions that are free trials\n",
    "- % of payment plan days that are free trials\n",
    "- member tenure\n",
    "\n",
    "All dfs are to be merged into one df, for transaction attributes per member\n",
    "\n",
    "Next:\n",
    "- Look at payment plan days - how often are these 0?\n",
    "- Last transaction is a free trial - free trial and only one transaction: how does this relate to churn?\n",
    "- Which is the \"current\" transaction?\n",
    "- Number of transactions where plan_list_price != actual_amount_paid?\n",
    "- Transactions matrix\n",
    "\n",
    "\n",
    "1. Members in train who have membership_expiry date beyond March (for new dataset) - remove, for sure not churn\n",
    "Train members: anybody who has a membership_expiry_date in Feb 2017\n",
    "     March 31st seems to be the max membership_expire_date for members in train\n",
    "     Feature: boolean membership_expire_date>Feb 2017\n",
    "     What does it mean???\n",
    "Test members: anybody who has a membership_expiry_date in March 2017\n",
    "New train members: anybody who has a membership_expiry_date in March 2017\n",
    "New test members: anybody who has a membership_expiry_date in April 2017\n",
    "       How many members have this behaviour?\n",
    "\n",
    "2. When people have a transaction with membership_expiry_date that is smaller than transaction date, what does the userlog data look like? Are they still listeninging after the membership has supposedly expired?"
   ]
  },
  {
   "cell_type": "markdown",
   "metadata": {},
   "source": [
    "### Number of Transactions"
   ]
  },
  {
   "cell_type": "code",
   "execution_count": 54,
   "metadata": {
    "collapsed": false,
    "scrolled": true
   },
   "outputs": [],
   "source": [
    "#Number of transactions\n",
    "txn_cnts = txn.groupby(['new_id']).size().reset_index(name='txn_cnt')"
   ]
  },
  {
   "cell_type": "markdown",
   "metadata": {},
   "source": [
    "### Total Payment Plan Days, Plan List Price, Actual Amount Paid"
   ]
  },
  {
   "cell_type": "code",
   "execution_count": 55,
   "metadata": {
    "collapsed": false
   },
   "outputs": [
    {
     "data": {
      "text/html": [
       "<div>\n",
       "<table border=\"1\" class=\"dataframe\">\n",
       "  <thead>\n",
       "    <tr style=\"text-align: right;\">\n",
       "      <th></th>\n",
       "      <th>new_id</th>\n",
       "      <th>payment_plan_days</th>\n",
       "      <th>plan_list_price</th>\n",
       "      <th>actual_amount_paid</th>\n",
       "      <th>avg_daily_paid</th>\n",
       "      <th>list_actual_diff</th>\n",
       "    </tr>\n",
       "  </thead>\n",
       "  <tbody>\n",
       "    <tr>\n",
       "      <th>0</th>\n",
       "      <td>0</td>\n",
       "      <td>90</td>\n",
       "      <td>297</td>\n",
       "      <td>297</td>\n",
       "      <td>3.300000</td>\n",
       "      <td>0</td>\n",
       "    </tr>\n",
       "    <tr>\n",
       "      <th>1</th>\n",
       "      <td>1</td>\n",
       "      <td>543</td>\n",
       "      <td>2682</td>\n",
       "      <td>2831</td>\n",
       "      <td>5.213628</td>\n",
       "      <td>65387</td>\n",
       "    </tr>\n",
       "    <tr>\n",
       "      <th>2</th>\n",
       "      <td>2</td>\n",
       "      <td>720</td>\n",
       "      <td>3576</td>\n",
       "      <td>3725</td>\n",
       "      <td>5.173611</td>\n",
       "      <td>65387</td>\n",
       "    </tr>\n",
       "    <tr>\n",
       "      <th>3</th>\n",
       "      <td>3</td>\n",
       "      <td>330</td>\n",
       "      <td>1639</td>\n",
       "      <td>1639</td>\n",
       "      <td>4.966667</td>\n",
       "      <td>0</td>\n",
       "    </tr>\n",
       "    <tr>\n",
       "      <th>4</th>\n",
       "      <td>4</td>\n",
       "      <td>543</td>\n",
       "      <td>2682</td>\n",
       "      <td>2831</td>\n",
       "      <td>5.213628</td>\n",
       "      <td>65387</td>\n",
       "    </tr>\n",
       "  </tbody>\n",
       "</table>\n",
       "</div>"
      ],
      "text/plain": [
       "   new_id  payment_plan_days  plan_list_price  actual_amount_paid  \\\n",
       "0       0                 90              297                 297   \n",
       "1       1                543             2682                2831   \n",
       "2       2                720             3576                3725   \n",
       "3       3                330             1639                1639   \n",
       "4       4                543             2682                2831   \n",
       "\n",
       "   avg_daily_paid  list_actual_diff  \n",
       "0        3.300000                 0  \n",
       "1        5.213628             65387  \n",
       "2        5.173611             65387  \n",
       "3        4.966667                 0  \n",
       "4        5.213628             65387  "
      ]
     },
     "execution_count": 55,
     "metadata": {},
     "output_type": "execute_result"
    }
   ],
   "source": [
    "#Sum of payment_plan_days\n",
    "tot_plan_pmt = txn.groupby(['new_id'])[['payment_plan_days', 'plan_list_price', 'actual_amount_paid']].sum().reset_index()\n",
    "tot_plan_pmt['avg_daily_paid'] = tot_plan_pmt['actual_amount_paid'] / tot_plan_pmt['payment_plan_days']\n",
    "tot_plan_pmt['list_actual_diff'] = tot_plan_pmt['plan_list_price'] - tot_plan_pmt['actual_amount_paid']\n",
    "tot_plan_pmt.head()"
   ]
  },
  {
   "cell_type": "markdown",
   "metadata": {},
   "source": [
    "### Number, and Percentage of Transactions where Plan List Price Higher than Actual Amount Paid"
   ]
  },
  {
   "cell_type": "code",
   "execution_count": 57,
   "metadata": {
    "collapsed": false
   },
   "outputs": [
    {
     "name": "stderr",
     "output_type": "stream",
     "text": [
      "C:\\Users\\Cathy\\Anaconda3\\lib\\site-packages\\ipykernel\\__main__.py:2: SettingWithCopyWarning: \n",
      "A value is trying to be set on a copy of a slice from a DataFrame.\n",
      "Try using .loc[row_indexer,col_indexer] = value instead\n",
      "\n",
      "See the caveats in the documentation: http://pandas.pydata.org/pandas-docs/stable/indexing.html#indexing-view-versus-copy\n",
      "  from ipykernel import kernelapp as app\n"
     ]
    },
    {
     "data": {
      "text/html": [
       "<div>\n",
       "<table border=\"1\" class=\"dataframe\">\n",
       "  <thead>\n",
       "    <tr style=\"text-align: right;\">\n",
       "      <th></th>\n",
       "      <th>new_id</th>\n",
       "      <th>txn_cnt</th>\n",
       "      <th>per_lp_high</th>\n",
       "    </tr>\n",
       "  </thead>\n",
       "  <tbody>\n",
       "    <tr>\n",
       "      <th>0</th>\n",
       "      <td>0</td>\n",
       "      <td>3</td>\n",
       "      <td>NaN</td>\n",
       "    </tr>\n",
       "    <tr>\n",
       "      <th>1</th>\n",
       "      <td>1</td>\n",
       "      <td>19</td>\n",
       "      <td>0.052632</td>\n",
       "    </tr>\n",
       "    <tr>\n",
       "      <th>2</th>\n",
       "      <td>2</td>\n",
       "      <td>25</td>\n",
       "      <td>0.040000</td>\n",
       "    </tr>\n",
       "    <tr>\n",
       "      <th>3</th>\n",
       "      <td>3</td>\n",
       "      <td>11</td>\n",
       "      <td>NaN</td>\n",
       "    </tr>\n",
       "    <tr>\n",
       "      <th>4</th>\n",
       "      <td>4</td>\n",
       "      <td>19</td>\n",
       "      <td>0.052632</td>\n",
       "    </tr>\n",
       "  </tbody>\n",
       "</table>\n",
       "</div>"
      ],
      "text/plain": [
       "   new_id  txn_cnt  per_lp_high\n",
       "0       0        3          NaN\n",
       "1       1       19     0.052632\n",
       "2       2       25     0.040000\n",
       "3       3       11          NaN\n",
       "4       4       19     0.052632"
      ]
     },
     "execution_count": 57,
     "metadata": {},
     "output_type": "execute_result"
    }
   ],
   "source": [
    "#Note that plan_list_price is never lower than actual_amount_paid\n",
    "txn['list_actual_diff'] = txn['plan_list_price'] - txn['actual_amount_paid']\n",
    "txn_lp_high = txn[txn['list_actual_diff'] > 0].groupby('new_id')['list_actual_diff'].count().reset_index(name='lp_high_cnt')\n",
    "txn_lp_high = txn_cnts.merge(txn_lp_high, on = 'new_id', how = 'left')\n",
    "txn_lp_high['per_lp_high'] = txn_lp_high['lp_high_cnt']/txn_lp_high['txn_cnt']\n",
    "txn_lp_high.drop('lp_high_cnt', axis = 1, inplace = True)\n",
    "txn_lp_high.head()"
   ]
  },
  {
   "cell_type": "markdown",
   "metadata": {},
   "source": [
    "### Number of Times Churned"
   ]
  },
  {
   "cell_type": "code",
   "execution_count": 58,
   "metadata": {
    "collapsed": false
   },
   "outputs": [
    {
     "name": "stderr",
     "output_type": "stream",
     "text": [
      "C:\\Users\\Cathy\\Anaconda3\\lib\\site-packages\\ipykernel\\__main__.py:2: SettingWithCopyWarning: \n",
      "A value is trying to be set on a copy of a slice from a DataFrame.\n",
      "Try using .loc[row_indexer,col_indexer] = value instead\n",
      "\n",
      "See the caveats in the documentation: http://pandas.pydata.org/pandas-docs/stable/indexing.html#indexing-view-versus-copy\n",
      "  from ipykernel import kernelapp as app\n",
      "C:\\Users\\Cathy\\Anaconda3\\lib\\site-packages\\ipykernel\\__main__.py:3: SettingWithCopyWarning: \n",
      "A value is trying to be set on a copy of a slice from a DataFrame.\n",
      "Try using .loc[row_indexer,col_indexer] = value instead\n",
      "\n",
      "See the caveats in the documentation: http://pandas.pydata.org/pandas-docs/stable/indexing.html#indexing-view-versus-copy\n",
      "  app.launch_new_instance()\n",
      "C:\\Users\\Cathy\\Anaconda3\\lib\\site-packages\\ipykernel\\__main__.py:4: SettingWithCopyWarning: \n",
      "A value is trying to be set on a copy of a slice from a DataFrame.\n",
      "Try using .loc[row_indexer,col_indexer] = value instead\n",
      "\n",
      "See the caveats in the documentation: http://pandas.pydata.org/pandas-docs/stable/indexing.html#indexing-view-versus-copy\n"
     ]
    },
    {
     "data": {
      "text/html": [
       "<div>\n",
       "<table border=\"1\" class=\"dataframe\">\n",
       "  <thead>\n",
       "    <tr style=\"text-align: right;\">\n",
       "      <th></th>\n",
       "      <th>payment_method_id</th>\n",
       "      <th>payment_plan_days</th>\n",
       "      <th>plan_list_price</th>\n",
       "      <th>actual_amount_paid</th>\n",
       "      <th>is_auto_renew</th>\n",
       "      <th>transaction_date</th>\n",
       "      <th>membership_expire_date</th>\n",
       "      <th>is_cancel</th>\n",
       "      <th>new_id</th>\n",
       "      <th>in_train</th>\n",
       "      <th>list_actual_diff</th>\n",
       "      <th>shifted_expiry</th>\n",
       "      <th>memb_gap</th>\n",
       "      <th>prev_churn</th>\n",
       "    </tr>\n",
       "  </thead>\n",
       "  <tbody>\n",
       "    <tr>\n",
       "      <th>0</th>\n",
       "      <td>41</td>\n",
       "      <td>30</td>\n",
       "      <td>129</td>\n",
       "      <td>129</td>\n",
       "      <td>1</td>\n",
       "      <td>2015-09-30</td>\n",
       "      <td>2015-11-01</td>\n",
       "      <td>0</td>\n",
       "      <td>625225</td>\n",
       "      <td>True</td>\n",
       "      <td>0</td>\n",
       "      <td>NaT</td>\n",
       "      <td>NaT</td>\n",
       "      <td>False</td>\n",
       "    </tr>\n",
       "    <tr>\n",
       "      <th>1</th>\n",
       "      <td>41</td>\n",
       "      <td>30</td>\n",
       "      <td>129</td>\n",
       "      <td>129</td>\n",
       "      <td>1</td>\n",
       "      <td>2015-10-31</td>\n",
       "      <td>2015-12-01</td>\n",
       "      <td>0</td>\n",
       "      <td>625225</td>\n",
       "      <td>True</td>\n",
       "      <td>0</td>\n",
       "      <td>2015-11-01</td>\n",
       "      <td>-1 days</td>\n",
       "      <td>False</td>\n",
       "    </tr>\n",
       "    <tr>\n",
       "      <th>2</th>\n",
       "      <td>41</td>\n",
       "      <td>30</td>\n",
       "      <td>129</td>\n",
       "      <td>129</td>\n",
       "      <td>1</td>\n",
       "      <td>2015-06-30</td>\n",
       "      <td>2015-08-01</td>\n",
       "      <td>0</td>\n",
       "      <td>625225</td>\n",
       "      <td>True</td>\n",
       "      <td>0</td>\n",
       "      <td>2015-12-01</td>\n",
       "      <td>-154 days</td>\n",
       "      <td>False</td>\n",
       "    </tr>\n",
       "    <tr>\n",
       "      <th>3</th>\n",
       "      <td>41</td>\n",
       "      <td>30</td>\n",
       "      <td>129</td>\n",
       "      <td>129</td>\n",
       "      <td>1</td>\n",
       "      <td>2015-02-28</td>\n",
       "      <td>2015-04-01</td>\n",
       "      <td>0</td>\n",
       "      <td>625225</td>\n",
       "      <td>True</td>\n",
       "      <td>0</td>\n",
       "      <td>2015-08-01</td>\n",
       "      <td>-154 days</td>\n",
       "      <td>False</td>\n",
       "    </tr>\n",
       "    <tr>\n",
       "      <th>4</th>\n",
       "      <td>41</td>\n",
       "      <td>30</td>\n",
       "      <td>129</td>\n",
       "      <td>129</td>\n",
       "      <td>1</td>\n",
       "      <td>2016-11-30</td>\n",
       "      <td>2017-01-01</td>\n",
       "      <td>0</td>\n",
       "      <td>625225</td>\n",
       "      <td>True</td>\n",
       "      <td>0</td>\n",
       "      <td>2015-04-01</td>\n",
       "      <td>609 days</td>\n",
       "      <td>True</td>\n",
       "    </tr>\n",
       "  </tbody>\n",
       "</table>\n",
       "</div>"
      ],
      "text/plain": [
       "   payment_method_id  payment_plan_days  plan_list_price  actual_amount_paid  \\\n",
       "0                 41                 30              129                 129   \n",
       "1                 41                 30              129                 129   \n",
       "2                 41                 30              129                 129   \n",
       "3                 41                 30              129                 129   \n",
       "4                 41                 30              129                 129   \n",
       "\n",
       "   is_auto_renew transaction_date membership_expire_date  is_cancel  new_id  \\\n",
       "0              1       2015-09-30             2015-11-01          0  625225   \n",
       "1              1       2015-10-31             2015-12-01          0  625225   \n",
       "2              1       2015-06-30             2015-08-01          0  625225   \n",
       "3              1       2015-02-28             2015-04-01          0  625225   \n",
       "4              1       2016-11-30             2017-01-01          0  625225   \n",
       "\n",
       "  in_train  list_actual_diff shifted_expiry  memb_gap prev_churn  \n",
       "0     True                 0            NaT       NaT      False  \n",
       "1     True                 0     2015-11-01   -1 days      False  \n",
       "2     True                 0     2015-12-01 -154 days      False  \n",
       "3     True                 0     2015-08-01 -154 days      False  \n",
       "4     True                 0     2015-04-01  609 days       True  "
      ]
     },
     "execution_count": 58,
     "metadata": {},
     "output_type": "execute_result"
    }
   ],
   "source": [
    "#Previous churn: determine if transaction date-membership expiry date from previous row is >30days \n",
    "txn['shifted_expiry'] = txn.groupby('new_id')['membership_expire_date'].shift()\n",
    "txn['memb_gap'] = (txn['transaction_date'] - txn['shifted_expiry'])\n",
    "txn['prev_churn'] = (txn['memb_gap']/np.timedelta64(1, 'D'))>30\n",
    "txn.head()"
   ]
  },
  {
   "cell_type": "code",
   "execution_count": 63,
   "metadata": {
    "collapsed": false
   },
   "outputs": [
    {
     "data": {
      "text/html": [
       "<div>\n",
       "<table border=\"1\" class=\"dataframe\">\n",
       "  <thead>\n",
       "    <tr style=\"text-align: right;\">\n",
       "      <th></th>\n",
       "      <th>new_id</th>\n",
       "      <th>prev_churn_per</th>\n",
       "    </tr>\n",
       "  </thead>\n",
       "  <tbody>\n",
       "    <tr>\n",
       "      <th>0</th>\n",
       "      <td>1</td>\n",
       "      <td>0.368421</td>\n",
       "    </tr>\n",
       "    <tr>\n",
       "      <th>1</th>\n",
       "      <td>2</td>\n",
       "      <td>0.440000</td>\n",
       "    </tr>\n",
       "    <tr>\n",
       "      <th>2</th>\n",
       "      <td>3</td>\n",
       "      <td>0.363636</td>\n",
       "    </tr>\n",
       "    <tr>\n",
       "      <th>3</th>\n",
       "      <td>4</td>\n",
       "      <td>0.421053</td>\n",
       "    </tr>\n",
       "    <tr>\n",
       "      <th>4</th>\n",
       "      <td>5</td>\n",
       "      <td>0.476190</td>\n",
       "    </tr>\n",
       "  </tbody>\n",
       "</table>\n",
       "</div>"
      ],
      "text/plain": [
       "   new_id  prev_churn_per\n",
       "0       1        0.368421\n",
       "1       2        0.440000\n",
       "2       3        0.363636\n",
       "3       4        0.421053\n",
       "4       5        0.476190"
      ]
     },
     "execution_count": 63,
     "metadata": {},
     "output_type": "execute_result"
    }
   ],
   "source": [
    "#Aggregate number of times churned\n",
    "txn_prev_churn = txn[txn['prev_churn'] == True].groupby('new_id')['prev_churn'].count().reset_index(name='prev_churn_cnt')\n",
    "txn_prev_churn = txn_prev_churn.merge(txn_cnts, on='new_id', how='inner')\n",
    "txn_prev_churn['prev_churn_per'] = txn_prev_churn['prev_churn_cnt'] / txn_prev_churn['txn_cnt']\n",
    "txn_prev_churn.drop(['prev_churn_cnt', 'txn_cnt'], axis = 1, inplace = True)\n",
    "txn_prev_churn.head()"
   ]
  },
  {
   "cell_type": "markdown",
   "metadata": {},
   "source": [
    "### Stopped Auto Renew"
   ]
  },
  {
   "cell_type": "code",
   "execution_count": 64,
   "metadata": {
    "collapsed": false
   },
   "outputs": [
    {
     "data": {
      "text/plain": [
       "1    880816\n",
       "0    167350\n",
       "Name: last_ar, dtype: int64"
      ]
     },
     "execution_count": 64,
     "metadata": {},
     "output_type": "execute_result"
    }
   ],
   "source": [
    "#Value of 'is_auto_renew' for last transaction\n",
    "txn_ar_last = txn.groupby(['new_id'])['is_auto_renew'].last().reset_index(name='last_ar')\n",
    "txn_ar_last['last_ar'].value_counts()"
   ]
  },
  {
   "cell_type": "code",
   "execution_count": 65,
   "metadata": {
    "collapsed": false
   },
   "outputs": [
    {
     "data": {
      "text/html": [
       "<div>\n",
       "<table border=\"1\" class=\"dataframe\">\n",
       "  <thead>\n",
       "    <tr style=\"text-align: right;\">\n",
       "      <th></th>\n",
       "      <th>new_id</th>\n",
       "      <th>mean_ar</th>\n",
       "      <th>last_ar</th>\n",
       "      <th>stopped_ar</th>\n",
       "    </tr>\n",
       "  </thead>\n",
       "  <tbody>\n",
       "    <tr>\n",
       "      <th>21</th>\n",
       "      <td>21</td>\n",
       "      <td>0.962963</td>\n",
       "      <td>0</td>\n",
       "      <td>True</td>\n",
       "    </tr>\n",
       "    <tr>\n",
       "      <th>122</th>\n",
       "      <td>125</td>\n",
       "      <td>0.428571</td>\n",
       "      <td>0</td>\n",
       "      <td>True</td>\n",
       "    </tr>\n",
       "    <tr>\n",
       "      <th>200</th>\n",
       "      <td>207</td>\n",
       "      <td>0.916667</td>\n",
       "      <td>0</td>\n",
       "      <td>True</td>\n",
       "    </tr>\n",
       "    <tr>\n",
       "      <th>244</th>\n",
       "      <td>252</td>\n",
       "      <td>0.375000</td>\n",
       "      <td>0</td>\n",
       "      <td>True</td>\n",
       "    </tr>\n",
       "    <tr>\n",
       "      <th>257</th>\n",
       "      <td>265</td>\n",
       "      <td>0.875000</td>\n",
       "      <td>0</td>\n",
       "      <td>True</td>\n",
       "    </tr>\n",
       "  </tbody>\n",
       "</table>\n",
       "</div>"
      ],
      "text/plain": [
       "     new_id   mean_ar  last_ar stopped_ar\n",
       "21       21  0.962963        0       True\n",
       "122     125  0.428571        0       True\n",
       "200     207  0.916667        0       True\n",
       "244     252  0.375000        0       True\n",
       "257     265  0.875000        0       True"
      ]
     },
     "execution_count": 65,
     "metadata": {},
     "output_type": "execute_result"
    }
   ],
   "source": [
    "#Changed auto renew:\n",
    "txn_ar_change = txn.groupby(['new_id'])['is_auto_renew'].mean().reset_index(name='mean_ar')\n",
    "txn_ar_stop = txn_ar_change.merge(txn_ar_last, on='new_id', how='inner')\n",
    "txn_ar_stop['stopped_ar']=(txn_ar_stop['mean_ar'] < 1) & (txn_ar_stop['mean_ar'] > 0) & (txn_ar_stop['last_ar'] == 0)\n",
    "txn_ar_stop[txn_ar_stop['stopped_ar']==True].head()"
   ]
  },
  {
   "cell_type": "code",
   "execution_count": 66,
   "metadata": {
    "collapsed": false
   },
   "outputs": [
    {
     "data": {
      "text/plain": [
       "False    1021015\n",
       "True       27151\n",
       "Name: stopped_ar, dtype: int64"
      ]
     },
     "execution_count": 66,
     "metadata": {},
     "output_type": "execute_result"
    }
   ],
   "source": [
    "txn_ar_stop.drop('last_ar', axis = 1, inplace = True)\n",
    "txn_ar_stop['stopped_ar'].value_counts()"
   ]
  },
  {
   "cell_type": "markdown",
   "metadata": {},
   "source": [
    "### Changed Payment Method"
   ]
  },
  {
   "cell_type": "code",
   "execution_count": 67,
   "metadata": {
    "collapsed": false
   },
   "outputs": [
    {
     "name": "stderr",
     "output_type": "stream",
     "text": [
      "C:\\Users\\Cathy\\Anaconda3\\lib\\site-packages\\ipykernel\\__main__.py:2: SettingWithCopyWarning: \n",
      "A value is trying to be set on a copy of a slice from a DataFrame.\n",
      "Try using .loc[row_indexer,col_indexer] = value instead\n",
      "\n",
      "See the caveats in the documentation: http://pandas.pydata.org/pandas-docs/stable/indexing.html#indexing-view-versus-copy\n",
      "  from ipykernel import kernelapp as app\n",
      "C:\\Users\\Cathy\\Anaconda3\\lib\\site-packages\\ipykernel\\__main__.py:3: SettingWithCopyWarning: \n",
      "A value is trying to be set on a copy of a slice from a DataFrame.\n",
      "Try using .loc[row_indexer,col_indexer] = value instead\n",
      "\n",
      "See the caveats in the documentation: http://pandas.pydata.org/pandas-docs/stable/indexing.html#indexing-view-versus-copy\n",
      "  app.launch_new_instance()\n"
     ]
    },
    {
     "data": {
      "text/plain": [
       "False    14805039\n",
       "True       700255\n",
       "Name: pmt_change, dtype: int64"
      ]
     },
     "execution_count": 67,
     "metadata": {},
     "output_type": "execute_result"
    }
   ],
   "source": [
    "#Changed payment method:determine if transaction date-membership expiry date from previous row is >30days \n",
    "txn['shifted_pmt'] = txn.groupby('new_id')['payment_method_id'].shift()\n",
    "txn['pmt_change'] = (txn['payment_method_id'] != txn['shifted_pmt']) & (txn['shifted_pmt'].isnull() != True)\n",
    "txn['pmt_change'].value_counts()"
   ]
  },
  {
   "cell_type": "code",
   "execution_count": 68,
   "metadata": {
    "collapsed": false
   },
   "outputs": [
    {
     "data": {
      "text/html": [
       "<div>\n",
       "<table border=\"1\" class=\"dataframe\">\n",
       "  <thead>\n",
       "    <tr style=\"text-align: right;\">\n",
       "      <th></th>\n",
       "      <th>new_id</th>\n",
       "      <th>pmt_change_cnt</th>\n",
       "    </tr>\n",
       "  </thead>\n",
       "  <tbody>\n",
       "    <tr>\n",
       "      <th>0</th>\n",
       "      <td>7</td>\n",
       "      <td>2</td>\n",
       "    </tr>\n",
       "    <tr>\n",
       "      <th>1</th>\n",
       "      <td>8</td>\n",
       "      <td>1</td>\n",
       "    </tr>\n",
       "    <tr>\n",
       "      <th>2</th>\n",
       "      <td>9</td>\n",
       "      <td>2</td>\n",
       "    </tr>\n",
       "    <tr>\n",
       "      <th>3</th>\n",
       "      <td>21</td>\n",
       "      <td>10</td>\n",
       "    </tr>\n",
       "    <tr>\n",
       "      <th>4</th>\n",
       "      <td>36</td>\n",
       "      <td>6</td>\n",
       "    </tr>\n",
       "  </tbody>\n",
       "</table>\n",
       "</div>"
      ],
      "text/plain": [
       "   new_id  pmt_change_cnt\n",
       "0       7               2\n",
       "1       8               1\n",
       "2       9               2\n",
       "3      21              10\n",
       "4      36               6"
      ]
     },
     "execution_count": 68,
     "metadata": {},
     "output_type": "execute_result"
    }
   ],
   "source": [
    "#Aggregate number of times changed payment method\n",
    "txn_pmt_change = txn[txn['pmt_change'] == True].groupby('new_id')['pmt_change'].count().reset_index(name='pmt_change_cnt')\n",
    "txn_pmt_change.head()"
   ]
  },
  {
   "cell_type": "markdown",
   "metadata": {},
   "source": [
    "### Cancelled Membership"
   ]
  },
  {
   "cell_type": "code",
   "execution_count": 71,
   "metadata": {
    "collapsed": false
   },
   "outputs": [
    {
     "data": {
      "text/html": [
       "<div>\n",
       "<table border=\"1\" class=\"dataframe\">\n",
       "  <thead>\n",
       "    <tr style=\"text-align: right;\">\n",
       "      <th></th>\n",
       "      <th>new_id</th>\n",
       "      <th>mean_cancel</th>\n",
       "    </tr>\n",
       "  </thead>\n",
       "  <tbody>\n",
       "    <tr>\n",
       "      <th>0</th>\n",
       "      <td>0</td>\n",
       "      <td>0.0</td>\n",
       "    </tr>\n",
       "    <tr>\n",
       "      <th>1</th>\n",
       "      <td>1</td>\n",
       "      <td>0.0</td>\n",
       "    </tr>\n",
       "    <tr>\n",
       "      <th>2</th>\n",
       "      <td>2</td>\n",
       "      <td>0.0</td>\n",
       "    </tr>\n",
       "    <tr>\n",
       "      <th>3</th>\n",
       "      <td>3</td>\n",
       "      <td>0.0</td>\n",
       "    </tr>\n",
       "    <tr>\n",
       "      <th>4</th>\n",
       "      <td>4</td>\n",
       "      <td>0.0</td>\n",
       "    </tr>\n",
       "  </tbody>\n",
       "</table>\n",
       "</div>"
      ],
      "text/plain": [
       "   new_id  mean_cancel\n",
       "0       0          0.0\n",
       "1       1          0.0\n",
       "2       2          0.0\n",
       "3       3          0.0\n",
       "4       4          0.0"
      ]
     },
     "execution_count": 71,
     "metadata": {},
     "output_type": "execute_result"
    }
   ],
   "source": [
    "#Cancelled membership:\n",
    "txn_cancelled = txn.groupby(['new_id'])['is_cancel'].mean().reset_index(name='mean_cancel')\n",
    "txn_cancelled.head()"
   ]
  },
  {
   "cell_type": "code",
   "execution_count": 72,
   "metadata": {
    "collapsed": false
   },
   "outputs": [
    {
     "data": {
      "text/plain": [
       "0    1032856\n",
       "1      15310\n",
       "Name: last_cancel, dtype: int64"
      ]
     },
     "execution_count": 72,
     "metadata": {},
     "output_type": "execute_result"
    }
   ],
   "source": [
    "#Cancelled membership in last transaction:\n",
    "txn_cancelled_last = txn.groupby(['new_id'])['is_cancel'].last().reset_index(name='last_cancel')\n",
    "txn_cancelled_last['last_cancel'].value_counts()"
   ]
  },
  {
   "cell_type": "markdown",
   "metadata": {},
   "source": [
    "### Last Transaction is Free Trial"
   ]
  },
  {
   "cell_type": "code",
   "execution_count": 74,
   "metadata": {
    "collapsed": false
   },
   "outputs": [
    {
     "data": {
      "text/html": [
       "<div>\n",
       "<table border=\"1\" class=\"dataframe\">\n",
       "  <thead>\n",
       "    <tr style=\"text-align: right;\">\n",
       "      <th></th>\n",
       "      <th>new_id</th>\n",
       "      <th>lst_free_trial</th>\n",
       "    </tr>\n",
       "  </thead>\n",
       "  <tbody>\n",
       "    <tr>\n",
       "      <th>17</th>\n",
       "      <td>17</td>\n",
       "      <td>True</td>\n",
       "    </tr>\n",
       "    <tr>\n",
       "      <th>21</th>\n",
       "      <td>21</td>\n",
       "      <td>True</td>\n",
       "    </tr>\n",
       "    <tr>\n",
       "      <th>36</th>\n",
       "      <td>36</td>\n",
       "      <td>True</td>\n",
       "    </tr>\n",
       "    <tr>\n",
       "      <th>77</th>\n",
       "      <td>80</td>\n",
       "      <td>True</td>\n",
       "    </tr>\n",
       "    <tr>\n",
       "      <th>101</th>\n",
       "      <td>104</td>\n",
       "      <td>True</td>\n",
       "    </tr>\n",
       "  </tbody>\n",
       "</table>\n",
       "</div>"
      ],
      "text/plain": [
       "     new_id lst_free_trial\n",
       "17       17           True\n",
       "21       21           True\n",
       "36       36           True\n",
       "77       80           True\n",
       "101     104           True"
      ]
     },
     "execution_count": 74,
     "metadata": {},
     "output_type": "execute_result"
    }
   ],
   "source": [
    "#5483 members who have their last transaction as a free trial\n",
    "last_txn = txn.groupby(['new_id'])['plan_list_price'].last().reset_index(name='last_plan_price')\n",
    "last_txn['lst_free_trial'] = (last_txn['last_plan_price'] == 0) | (last_txn['last_plan_price'] == 1)\n",
    "last_txn.drop('last_plan_price', axis = 1, inplace = True)\n",
    "last_txn[last_txn['lst_free_trial']==True].head()"
   ]
  },
  {
   "cell_type": "markdown",
   "metadata": {},
   "source": [
    "### Max Membership Expire Date"
   ]
  },
  {
   "cell_type": "code",
   "execution_count": 24,
   "metadata": {
    "collapsed": false
   },
   "outputs": [],
   "source": [
    "#max_memb_expire\n",
    "max_memb_expire = txn.groupby(['new_id'])['membership_expire_date'].max().reset_index(name='max_memb_expire')\n",
    "lst_memb_expire = txn.groupby(['new_id'])['membership_expire_date'].last().reset_index(name='lst_memb_expire')\n",
    "memb_expire = max_memb_expire.merge(lst_memb_expire, on = 'new_id', how = 'inner')"
   ]
  },
  {
   "cell_type": "code",
   "execution_count": 25,
   "metadata": {
    "collapsed": false
   },
   "outputs": [],
   "source": [
    "memb_expire['not_equal'] = memb_expire['max_memb_expire'] != memb_expire['lst_memb_expire']"
   ]
  },
  {
   "cell_type": "code",
   "execution_count": 27,
   "metadata": {
    "collapsed": false
   },
   "outputs": [],
   "source": [
    "txn_memb_expire = txn.merge(memb_expire, on = 'new_id', how = 'left')"
   ]
  },
  {
   "cell_type": "code",
   "execution_count": 34,
   "metadata": {
    "collapsed": false
   },
   "outputs": [
    {
     "data": {
      "text/html": [
       "<div>\n",
       "<table border=\"1\" class=\"dataframe\">\n",
       "  <thead>\n",
       "    <tr style=\"text-align: right;\">\n",
       "      <th></th>\n",
       "      <th>payment_method_id</th>\n",
       "      <th>payment_plan_days</th>\n",
       "      <th>plan_list_price</th>\n",
       "      <th>actual_amount_paid</th>\n",
       "      <th>is_auto_renew</th>\n",
       "      <th>transaction_date</th>\n",
       "      <th>membership_expire_date</th>\n",
       "      <th>is_cancel</th>\n",
       "      <th>new_id</th>\n",
       "      <th>in_train</th>\n",
       "      <th>in_test</th>\n",
       "      <th>max_memb_expire</th>\n",
       "      <th>lst_memb_expire</th>\n",
       "      <th>not_equal</th>\n",
       "    </tr>\n",
       "  </thead>\n",
       "  <tbody>\n",
       "    <tr>\n",
       "      <th>3148</th>\n",
       "      <td>41</td>\n",
       "      <td>30</td>\n",
       "      <td>149</td>\n",
       "      <td>149</td>\n",
       "      <td>1</td>\n",
       "      <td>2015-01-19</td>\n",
       "      <td>2016-12-22</td>\n",
       "      <td>0</td>\n",
       "      <td>217</td>\n",
       "      <td>True</td>\n",
       "      <td>True</td>\n",
       "      <td>2017-03-19</td>\n",
       "      <td>2017-02-22</td>\n",
       "      <td>True</td>\n",
       "    </tr>\n",
       "    <tr>\n",
       "      <th>3149</th>\n",
       "      <td>41</td>\n",
       "      <td>30</td>\n",
       "      <td>149</td>\n",
       "      <td>149</td>\n",
       "      <td>1</td>\n",
       "      <td>2015-01-19</td>\n",
       "      <td>2017-01-22</td>\n",
       "      <td>0</td>\n",
       "      <td>217</td>\n",
       "      <td>True</td>\n",
       "      <td>True</td>\n",
       "      <td>2017-03-19</td>\n",
       "      <td>2017-02-22</td>\n",
       "      <td>True</td>\n",
       "    </tr>\n",
       "    <tr>\n",
       "      <th>3150</th>\n",
       "      <td>41</td>\n",
       "      <td>30</td>\n",
       "      <td>149</td>\n",
       "      <td>149</td>\n",
       "      <td>1</td>\n",
       "      <td>2015-02-19</td>\n",
       "      <td>2017-02-19</td>\n",
       "      <td>0</td>\n",
       "      <td>217</td>\n",
       "      <td>True</td>\n",
       "      <td>True</td>\n",
       "      <td>2017-03-19</td>\n",
       "      <td>2017-02-22</td>\n",
       "      <td>True</td>\n",
       "    </tr>\n",
       "    <tr>\n",
       "      <th>3151</th>\n",
       "      <td>41</td>\n",
       "      <td>30</td>\n",
       "      <td>149</td>\n",
       "      <td>149</td>\n",
       "      <td>1</td>\n",
       "      <td>2015-02-19</td>\n",
       "      <td>2017-03-19</td>\n",
       "      <td>0</td>\n",
       "      <td>217</td>\n",
       "      <td>True</td>\n",
       "      <td>True</td>\n",
       "      <td>2017-03-19</td>\n",
       "      <td>2017-02-22</td>\n",
       "      <td>True</td>\n",
       "    </tr>\n",
       "    <tr>\n",
       "      <th>3152</th>\n",
       "      <td>41</td>\n",
       "      <td>30</td>\n",
       "      <td>149</td>\n",
       "      <td>149</td>\n",
       "      <td>1</td>\n",
       "      <td>2015-12-24</td>\n",
       "      <td>2015-03-22</td>\n",
       "      <td>1</td>\n",
       "      <td>217</td>\n",
       "      <td>True</td>\n",
       "      <td>True</td>\n",
       "      <td>2017-03-19</td>\n",
       "      <td>2017-02-22</td>\n",
       "      <td>True</td>\n",
       "    </tr>\n",
       "    <tr>\n",
       "      <th>3153</th>\n",
       "      <td>41</td>\n",
       "      <td>30</td>\n",
       "      <td>129</td>\n",
       "      <td>129</td>\n",
       "      <td>1</td>\n",
       "      <td>2016-01-22</td>\n",
       "      <td>2016-02-22</td>\n",
       "      <td>0</td>\n",
       "      <td>217</td>\n",
       "      <td>True</td>\n",
       "      <td>True</td>\n",
       "      <td>2017-03-19</td>\n",
       "      <td>2017-02-22</td>\n",
       "      <td>True</td>\n",
       "    </tr>\n",
       "    <tr>\n",
       "      <th>3154</th>\n",
       "      <td>41</td>\n",
       "      <td>30</td>\n",
       "      <td>129</td>\n",
       "      <td>129</td>\n",
       "      <td>1</td>\n",
       "      <td>2016-02-22</td>\n",
       "      <td>2016-03-22</td>\n",
       "      <td>0</td>\n",
       "      <td>217</td>\n",
       "      <td>True</td>\n",
       "      <td>True</td>\n",
       "      <td>2017-03-19</td>\n",
       "      <td>2017-02-22</td>\n",
       "      <td>True</td>\n",
       "    </tr>\n",
       "    <tr>\n",
       "      <th>3155</th>\n",
       "      <td>41</td>\n",
       "      <td>30</td>\n",
       "      <td>149</td>\n",
       "      <td>149</td>\n",
       "      <td>1</td>\n",
       "      <td>2016-03-22</td>\n",
       "      <td>2016-04-22</td>\n",
       "      <td>0</td>\n",
       "      <td>217</td>\n",
       "      <td>True</td>\n",
       "      <td>True</td>\n",
       "      <td>2017-03-19</td>\n",
       "      <td>2017-02-22</td>\n",
       "      <td>True</td>\n",
       "    </tr>\n",
       "    <tr>\n",
       "      <th>3156</th>\n",
       "      <td>41</td>\n",
       "      <td>30</td>\n",
       "      <td>149</td>\n",
       "      <td>149</td>\n",
       "      <td>1</td>\n",
       "      <td>2016-04-22</td>\n",
       "      <td>2016-05-22</td>\n",
       "      <td>0</td>\n",
       "      <td>217</td>\n",
       "      <td>True</td>\n",
       "      <td>True</td>\n",
       "      <td>2017-03-19</td>\n",
       "      <td>2017-02-22</td>\n",
       "      <td>True</td>\n",
       "    </tr>\n",
       "    <tr>\n",
       "      <th>3157</th>\n",
       "      <td>41</td>\n",
       "      <td>30</td>\n",
       "      <td>149</td>\n",
       "      <td>149</td>\n",
       "      <td>1</td>\n",
       "      <td>2016-05-22</td>\n",
       "      <td>2016-06-22</td>\n",
       "      <td>0</td>\n",
       "      <td>217</td>\n",
       "      <td>True</td>\n",
       "      <td>True</td>\n",
       "      <td>2017-03-19</td>\n",
       "      <td>2017-02-22</td>\n",
       "      <td>True</td>\n",
       "    </tr>\n",
       "    <tr>\n",
       "      <th>3158</th>\n",
       "      <td>41</td>\n",
       "      <td>30</td>\n",
       "      <td>149</td>\n",
       "      <td>149</td>\n",
       "      <td>1</td>\n",
       "      <td>2016-06-22</td>\n",
       "      <td>2016-07-22</td>\n",
       "      <td>0</td>\n",
       "      <td>217</td>\n",
       "      <td>True</td>\n",
       "      <td>True</td>\n",
       "      <td>2017-03-19</td>\n",
       "      <td>2017-02-22</td>\n",
       "      <td>True</td>\n",
       "    </tr>\n",
       "    <tr>\n",
       "      <th>3159</th>\n",
       "      <td>41</td>\n",
       "      <td>30</td>\n",
       "      <td>149</td>\n",
       "      <td>149</td>\n",
       "      <td>1</td>\n",
       "      <td>2016-07-22</td>\n",
       "      <td>2016-08-22</td>\n",
       "      <td>0</td>\n",
       "      <td>217</td>\n",
       "      <td>True</td>\n",
       "      <td>True</td>\n",
       "      <td>2017-03-19</td>\n",
       "      <td>2017-02-22</td>\n",
       "      <td>True</td>\n",
       "    </tr>\n",
       "    <tr>\n",
       "      <th>3160</th>\n",
       "      <td>41</td>\n",
       "      <td>30</td>\n",
       "      <td>149</td>\n",
       "      <td>149</td>\n",
       "      <td>1</td>\n",
       "      <td>2016-08-22</td>\n",
       "      <td>2016-09-22</td>\n",
       "      <td>0</td>\n",
       "      <td>217</td>\n",
       "      <td>True</td>\n",
       "      <td>True</td>\n",
       "      <td>2017-03-19</td>\n",
       "      <td>2017-02-22</td>\n",
       "      <td>True</td>\n",
       "    </tr>\n",
       "    <tr>\n",
       "      <th>3161</th>\n",
       "      <td>41</td>\n",
       "      <td>30</td>\n",
       "      <td>149</td>\n",
       "      <td>149</td>\n",
       "      <td>1</td>\n",
       "      <td>2016-09-22</td>\n",
       "      <td>2016-10-22</td>\n",
       "      <td>0</td>\n",
       "      <td>217</td>\n",
       "      <td>True</td>\n",
       "      <td>True</td>\n",
       "      <td>2017-03-19</td>\n",
       "      <td>2017-02-22</td>\n",
       "      <td>True</td>\n",
       "    </tr>\n",
       "    <tr>\n",
       "      <th>3162</th>\n",
       "      <td>41</td>\n",
       "      <td>30</td>\n",
       "      <td>149</td>\n",
       "      <td>149</td>\n",
       "      <td>1</td>\n",
       "      <td>2016-10-22</td>\n",
       "      <td>2016-11-22</td>\n",
       "      <td>0</td>\n",
       "      <td>217</td>\n",
       "      <td>True</td>\n",
       "      <td>True</td>\n",
       "      <td>2017-03-19</td>\n",
       "      <td>2017-02-22</td>\n",
       "      <td>True</td>\n",
       "    </tr>\n",
       "    <tr>\n",
       "      <th>3163</th>\n",
       "      <td>41</td>\n",
       "      <td>30</td>\n",
       "      <td>149</td>\n",
       "      <td>149</td>\n",
       "      <td>1</td>\n",
       "      <td>2016-11-22</td>\n",
       "      <td>2016-12-22</td>\n",
       "      <td>0</td>\n",
       "      <td>217</td>\n",
       "      <td>True</td>\n",
       "      <td>True</td>\n",
       "      <td>2017-03-19</td>\n",
       "      <td>2017-02-22</td>\n",
       "      <td>True</td>\n",
       "    </tr>\n",
       "    <tr>\n",
       "      <th>3164</th>\n",
       "      <td>41</td>\n",
       "      <td>30</td>\n",
       "      <td>149</td>\n",
       "      <td>149</td>\n",
       "      <td>1</td>\n",
       "      <td>2016-12-22</td>\n",
       "      <td>2017-01-22</td>\n",
       "      <td>0</td>\n",
       "      <td>217</td>\n",
       "      <td>True</td>\n",
       "      <td>True</td>\n",
       "      <td>2017-03-19</td>\n",
       "      <td>2017-02-22</td>\n",
       "      <td>True</td>\n",
       "    </tr>\n",
       "    <tr>\n",
       "      <th>3165</th>\n",
       "      <td>41</td>\n",
       "      <td>30</td>\n",
       "      <td>149</td>\n",
       "      <td>149</td>\n",
       "      <td>1</td>\n",
       "      <td>2017-01-22</td>\n",
       "      <td>2017-02-22</td>\n",
       "      <td>0</td>\n",
       "      <td>217</td>\n",
       "      <td>True</td>\n",
       "      <td>True</td>\n",
       "      <td>2017-03-19</td>\n",
       "      <td>2017-02-22</td>\n",
       "      <td>True</td>\n",
       "    </tr>\n",
       "  </tbody>\n",
       "</table>\n",
       "</div>"
      ],
      "text/plain": [
       "      payment_method_id  payment_plan_days  plan_list_price  \\\n",
       "3148                 41                 30              149   \n",
       "3149                 41                 30              149   \n",
       "3150                 41                 30              149   \n",
       "3151                 41                 30              149   \n",
       "3152                 41                 30              149   \n",
       "3153                 41                 30              129   \n",
       "3154                 41                 30              129   \n",
       "3155                 41                 30              149   \n",
       "3156                 41                 30              149   \n",
       "3157                 41                 30              149   \n",
       "3158                 41                 30              149   \n",
       "3159                 41                 30              149   \n",
       "3160                 41                 30              149   \n",
       "3161                 41                 30              149   \n",
       "3162                 41                 30              149   \n",
       "3163                 41                 30              149   \n",
       "3164                 41                 30              149   \n",
       "3165                 41                 30              149   \n",
       "\n",
       "      actual_amount_paid  is_auto_renew transaction_date  \\\n",
       "3148                 149              1       2015-01-19   \n",
       "3149                 149              1       2015-01-19   \n",
       "3150                 149              1       2015-02-19   \n",
       "3151                 149              1       2015-02-19   \n",
       "3152                 149              1       2015-12-24   \n",
       "3153                 129              1       2016-01-22   \n",
       "3154                 129              1       2016-02-22   \n",
       "3155                 149              1       2016-03-22   \n",
       "3156                 149              1       2016-04-22   \n",
       "3157                 149              1       2016-05-22   \n",
       "3158                 149              1       2016-06-22   \n",
       "3159                 149              1       2016-07-22   \n",
       "3160                 149              1       2016-08-22   \n",
       "3161                 149              1       2016-09-22   \n",
       "3162                 149              1       2016-10-22   \n",
       "3163                 149              1       2016-11-22   \n",
       "3164                 149              1       2016-12-22   \n",
       "3165                 149              1       2017-01-22   \n",
       "\n",
       "     membership_expire_date  is_cancel  new_id in_train in_test  \\\n",
       "3148             2016-12-22          0     217     True    True   \n",
       "3149             2017-01-22          0     217     True    True   \n",
       "3150             2017-02-19          0     217     True    True   \n",
       "3151             2017-03-19          0     217     True    True   \n",
       "3152             2015-03-22          1     217     True    True   \n",
       "3153             2016-02-22          0     217     True    True   \n",
       "3154             2016-03-22          0     217     True    True   \n",
       "3155             2016-04-22          0     217     True    True   \n",
       "3156             2016-05-22          0     217     True    True   \n",
       "3157             2016-06-22          0     217     True    True   \n",
       "3158             2016-07-22          0     217     True    True   \n",
       "3159             2016-08-22          0     217     True    True   \n",
       "3160             2016-09-22          0     217     True    True   \n",
       "3161             2016-10-22          0     217     True    True   \n",
       "3162             2016-11-22          0     217     True    True   \n",
       "3163             2016-12-22          0     217     True    True   \n",
       "3164             2017-01-22          0     217     True    True   \n",
       "3165             2017-02-22          0     217     True    True   \n",
       "\n",
       "     max_memb_expire lst_memb_expire not_equal  \n",
       "3148      2017-03-19      2017-02-22      True  \n",
       "3149      2017-03-19      2017-02-22      True  \n",
       "3150      2017-03-19      2017-02-22      True  \n",
       "3151      2017-03-19      2017-02-22      True  \n",
       "3152      2017-03-19      2017-02-22      True  \n",
       "3153      2017-03-19      2017-02-22      True  \n",
       "3154      2017-03-19      2017-02-22      True  \n",
       "3155      2017-03-19      2017-02-22      True  \n",
       "3156      2017-03-19      2017-02-22      True  \n",
       "3157      2017-03-19      2017-02-22      True  \n",
       "3158      2017-03-19      2017-02-22      True  \n",
       "3159      2017-03-19      2017-02-22      True  \n",
       "3160      2017-03-19      2017-02-22      True  \n",
       "3161      2017-03-19      2017-02-22      True  \n",
       "3162      2017-03-19      2017-02-22      True  \n",
       "3163      2017-03-19      2017-02-22      True  \n",
       "3164      2017-03-19      2017-02-22      True  \n",
       "3165      2017-03-19      2017-02-22      True  "
      ]
     },
     "execution_count": 34,
     "metadata": {},
     "output_type": "execute_result"
    }
   ],
   "source": [
    "txn_memb_expire[(txn_memb_expire['not_equal']==True) & (txn_memb_expire['new_id']==217)].head(100)"
   ]
  },
  {
   "cell_type": "markdown",
   "metadata": {},
   "source": [
    "## Merging Feature Dataframes"
   ]
  },
  {
   "cell_type": "code",
   "execution_count": 35,
   "metadata": {
    "collapsed": false
   },
   "outputs": [
    {
     "ename": "NameError",
     "evalue": "name 'tot_plan_pmt' is not defined",
     "output_type": "error",
     "traceback": [
      "\u001b[0;31m---------------------------------------------------------------------------\u001b[0m",
      "\u001b[0;31mNameError\u001b[0m                                 Traceback (most recent call last)",
      "\u001b[0;32m<ipython-input-35-9bfce8f6607a>\u001b[0m in \u001b[0;36m<module>\u001b[0;34m()\u001b[0m\n\u001b[1;32m      1\u001b[0m \u001b[1;32mimport\u001b[0m \u001b[0mfunctools\u001b[0m\u001b[1;33m\u001b[0m\u001b[0m\n\u001b[1;32m      2\u001b[0m \u001b[1;33m\u001b[0m\u001b[0m\n\u001b[0;32m----> 3\u001b[0;31m \u001b[0mtxn_features\u001b[0m \u001b[1;33m=\u001b[0m \u001b[1;33m[\u001b[0m\u001b[0mtrain\u001b[0m\u001b[1;33m,\u001b[0m \u001b[0mtot_plan_pmt\u001b[0m\u001b[1;33m,\u001b[0m \u001b[0mtxn_ar_stop\u001b[0m\u001b[1;33m,\u001b[0m \u001b[0mtxn_cancelled\u001b[0m\u001b[1;33m,\u001b[0m \u001b[0mtxn_cancelled_last\u001b[0m\u001b[1;33m,\u001b[0m \u001b[0mlast_txn\u001b[0m\u001b[1;33m,\u001b[0m \u001b[0mtxn_lp_high\u001b[0m\u001b[1;33m,\u001b[0m \u001b[0mtxn_prev_churn\u001b[0m\u001b[1;33m,\u001b[0m \u001b[0mtxn_pmt_change\u001b[0m\u001b[1;33m]\u001b[0m\u001b[1;33m\u001b[0m\u001b[0m\n\u001b[0m\u001b[1;32m      4\u001b[0m \u001b[0mf_txn\u001b[0m \u001b[1;33m=\u001b[0m \u001b[0mfunctools\u001b[0m\u001b[1;33m.\u001b[0m\u001b[0mreduce\u001b[0m\u001b[1;33m(\u001b[0m\u001b[1;32mlambda\u001b[0m \u001b[0mleft\u001b[0m\u001b[1;33m,\u001b[0m\u001b[0mright\u001b[0m\u001b[1;33m:\u001b[0m \u001b[0mpd\u001b[0m\u001b[1;33m.\u001b[0m\u001b[0mmerge\u001b[0m\u001b[1;33m(\u001b[0m\u001b[0mleft\u001b[0m\u001b[1;33m,\u001b[0m\u001b[0mright\u001b[0m\u001b[1;33m,\u001b[0m\u001b[0mon\u001b[0m\u001b[1;33m=\u001b[0m\u001b[1;34m'new_id'\u001b[0m\u001b[1;33m,\u001b[0m \u001b[0mhow\u001b[0m\u001b[1;33m=\u001b[0m\u001b[1;34m'left'\u001b[0m\u001b[1;33m)\u001b[0m\u001b[1;33m,\u001b[0m \u001b[0mtxn_features\u001b[0m\u001b[1;33m)\u001b[0m\u001b[1;33m\u001b[0m\u001b[0m\n\u001b[1;32m      5\u001b[0m \u001b[1;33m\u001b[0m\u001b[0m\n",
      "\u001b[0;31mNameError\u001b[0m: name 'tot_plan_pmt' is not defined"
     ]
    }
   ],
   "source": [
    "import functools\n",
    "\n",
    "txn_features = [train, tot_plan_pmt, txn_ar_stop, txn_cancelled, txn_cancelled_last, last_txn, txn_lp_high, txn_prev_churn, txn_pmt_change]\n",
    "f_txn = functools.reduce(lambda left,right: pd.merge(left,right,on='new_id', how='left'), txn_features)\n",
    "\n",
    "f_txn.drop('in_txn', axis = 1, inplace = True)\n",
    "\n",
    "print(f_txn.shape)\n",
    "f_txn.head()"
   ]
  },
  {
   "cell_type": "code",
   "execution_count": 78,
   "metadata": {
    "collapsed": false
   },
   "outputs": [
    {
     "data": {
      "text/plain": [
       "2097"
      ]
     },
     "execution_count": 78,
     "metadata": {},
     "output_type": "execute_result"
    }
   ],
   "source": [
    "#2097 nulls\n",
    "f_txn[(pd.isnull(f_txn['payment_plan_days']) == True)]['new_id'].nunique()"
   ]
  },
  {
   "cell_type": "code",
   "execution_count": 79,
   "metadata": {
    "collapsed": true
   },
   "outputs": [],
   "source": [
    "f_txn.to_csv('../final_txn.csv', index=False)"
   ]
  },
  {
   "cell_type": "markdown",
   "metadata": {},
   "source": [
    "## Casual Exploratory Analysis\n",
    "\n",
    "Oh so casual *_hairflick_"
   ]
  },
  {
   "cell_type": "code",
   "execution_count": null,
   "metadata": {
    "collapsed": false
   },
   "outputs": [],
   "source": [
    "#4% of transactions have a plan_list_price of zero\n",
    "txn[txn['plan_list_price']==0]['plan_list_price'].count()/txn['plan_list_price'].count()"
   ]
  },
  {
   "cell_type": "code",
   "execution_count": null,
   "metadata": {
    "collapsed": false
   },
   "outputs": [],
   "source": [
    "#Looking at prices of membership transactions: 99 & 149 & 129 corresponds to monthly membership\n",
    "plt.figure(num=None, figsize=(16, 4), dpi=80)\n",
    "sns.countplot(txn['plan_list_price'])"
   ]
  },
  {
   "cell_type": "code",
   "execution_count": null,
   "metadata": {
    "collapsed": false
   },
   "outputs": [],
   "source": [
    "print(txn[(txn['plan_list_price']==129)|(txn['plan_list_price']==99)|(txn['plan_list_price']==149)]['payment_plan_days'].value_counts())"
   ]
  },
  {
   "cell_type": "code",
   "execution_count": null,
   "metadata": {
    "collapsed": false
   },
   "outputs": [],
   "source": [
    "txn_test = txn.groupby(['plan_list_price', 'payment_plan_days'])['plan_list_price'].count().reset_index(name='cnt_txn')\n",
    "txn_test = txn_test.pivot(index='plan_list_price', columns='payment_plan_days', values='cnt_txn')\n",
    "plt.figure(num=None, figsize=(16, 10), dpi=80)\n",
    "sns.heatmap(txn_test, cmap='viridis')"
   ]
  },
  {
   "cell_type": "markdown",
   "metadata": {},
   "source": [
    "## Are Features Useful?"
   ]
  },
  {
   "cell_type": "markdown",
   "metadata": {},
   "source": [
    "### Total Payment Plan Days"
   ]
  },
  {
   "cell_type": "code",
   "execution_count": null,
   "metadata": {
    "collapsed": false
   },
   "outputs": [],
   "source": [
    "plt.figure(num=None, figsize=(6, 4), dpi=80, facecolor='w', edgecolor='k')\n",
    "sns.barplot('is_churn', 'payment_plan_days', data=f_txn)"
   ]
  },
  {
   "cell_type": "markdown",
   "metadata": {},
   "source": [
    "### Difference Between Listed and Paid Price"
   ]
  },
  {
   "cell_type": "code",
   "execution_count": null,
   "metadata": {
    "collapsed": false
   },
   "outputs": [],
   "source": [
    "plt.figure(num=None, figsize=(6, 4), dpi=80, facecolor='w', edgecolor='k')\n",
    "sns.barplot('is_churn', 'list_actual_diff', data=f_txn)"
   ]
  },
  {
   "cell_type": "markdown",
   "metadata": {},
   "source": [
    "### Number of Transactions where Plan List Price is Higher than Actual Amount Paid"
   ]
  },
  {
   "cell_type": "code",
   "execution_count": 82,
   "metadata": {
    "collapsed": false
   },
   "outputs": [
    {
     "data": {
      "text/plain": [
       "<matplotlib.axes._subplots.AxesSubplot at 0x197845db048>"
      ]
     },
     "execution_count": 82,
     "metadata": {},
     "output_type": "execute_result"
    },
    {
     "data": {
      "image/png": "[encoded data removed]",
      "text/plain": [
       "<matplotlib.figure.Figure at 0x19780e99b38>"
      ]
     },
     "metadata": {},
     "output_type": "display_data"
    }
   ],
   "source": [
    "plt.figure(num=None, figsize=(6, 4), dpi=80, facecolor='w', edgecolor='k')\n",
    "sns.barplot('is_churn', 'per_lp_high', data=f_txn)"
   ]
  },
  {
   "cell_type": "markdown",
   "metadata": {},
   "source": [
    "### Percentage of Transactions where Plan List Price is Higher than Actual Amount Paid"
   ]
  },
  {
   "cell_type": "code",
   "execution_count": null,
   "metadata": {
    "collapsed": false
   },
   "outputs": [],
   "source": [
    "plt.figure(num=None, figsize=(6, 4), dpi=80, facecolor='w', edgecolor='k')\n",
    "sns.barplot('is_churn', 'per_lp_high', data=f_txn)"
   ]
  },
  {
   "cell_type": "markdown",
   "metadata": {},
   "source": [
    "### Previous Churn"
   ]
  },
  {
   "cell_type": "code",
   "execution_count": null,
   "metadata": {
    "collapsed": false
   },
   "outputs": [],
   "source": [
    "plt.figure(num=None, figsize=(10, 4), dpi=80, facecolor='w', edgecolor='k')\n",
    "sns.barplot('prev_churn_cnt', 'is_churn', data=f_txn)"
   ]
  },
  {
   "cell_type": "markdown",
   "metadata": {},
   "source": [
    "### % of Transactions as Auto Renew"
   ]
  },
  {
   "cell_type": "code",
   "execution_count": null,
   "metadata": {
    "collapsed": false
   },
   "outputs": [],
   "source": [
    "plt.figure(num=None, figsize=(6, 4), dpi=80, facecolor='w', edgecolor='k')\n",
    "sns.barplot('is_churn', 'mean_ar', data=f_txn)"
   ]
  },
  {
   "cell_type": "markdown",
   "metadata": {},
   "source": [
    "### Stopped Auto Renew"
   ]
  },
  {
   "cell_type": "code",
   "execution_count": null,
   "metadata": {
    "collapsed": false
   },
   "outputs": [],
   "source": [
    "plt.figure(num=None, figsize=(6, 4), dpi=80, facecolor='w', edgecolor='k')\n",
    "sns.barplot('is_churn', 'stopped_ar', data=f_txn)"
   ]
  },
  {
   "cell_type": "markdown",
   "metadata": {},
   "source": [
    "### Changed Payment Methods"
   ]
  },
  {
   "cell_type": "code",
   "execution_count": null,
   "metadata": {
    "collapsed": false
   },
   "outputs": [],
   "source": [
    "plt.figure(num=None, figsize=(16, 4), dpi=80, facecolor='w', edgecolor='k')\n",
    "sns.barplot('pmt_change_cnt', 'is_churn', data=f_txn)"
   ]
  },
  {
   "cell_type": "markdown",
   "metadata": {},
   "source": [
    "### % of Transactions Cancelled"
   ]
  },
  {
   "cell_type": "code",
   "execution_count": null,
   "metadata": {
    "collapsed": false
   },
   "outputs": [],
   "source": [
    "plt.figure(num=None, figsize=(6, 4), dpi=80, facecolor='w', edgecolor='k')\n",
    "sns.barplot('is_churn', 'mean_cancel', data=f_txn)"
   ]
  },
  {
   "cell_type": "markdown",
   "metadata": {},
   "source": [
    "### Last Transaction is Cancelled Transaction"
   ]
  },
  {
   "cell_type": "code",
   "execution_count": null,
   "metadata": {
    "collapsed": false
   },
   "outputs": [],
   "source": [
    "plt.figure(num=None, figsize=(6, 4), dpi=80, facecolor='w', edgecolor='k')\n",
    "sns.barplot('is_churn', 'last_cancel', data=f_txn)"
   ]
  },
  {
   "cell_type": "markdown",
   "metadata": {},
   "source": [
    "### Last Transaction is Free Trial"
   ]
  },
  {
   "cell_type": "code",
   "execution_count": null,
   "metadata": {
    "collapsed": false
   },
   "outputs": [],
   "source": [
    "plt.figure(num=None, figsize=(6, 4), dpi=80, facecolor='w', edgecolor='k')\n",
    "sns.barplot('is_churn', 'lst_free_trial', data=f_txn)"
   ]
  },
  {
   "cell_type": "code",
   "execution_count": null,
   "metadata": {
    "collapsed": false
   },
   "outputs": [],
   "source": [
    "f_txn.corr()"
   ]
  },
  {
   "cell_type": "code",
   "execution_count": null,
   "metadata": {
    "collapsed": true
   },
   "outputs": [],
   "source": []
  }
 ],
 "metadata": {
  "kernelspec": {
   "display_name": "Python 3",
   "language": "python",
   "name": "python3"
  },
  "language_info": {
   "codemirror_mode": {
    "name": "ipython",
    "version": 3
   },
   "file_extension": ".py",
   "mimetype": "text/x-python",
   "name": "python",
   "nbconvert_exporter": "python",
   "pygments_lexer": "ipython3",
   "version": "3.6.0"
  }
 },
 "nbformat": 4,
 "nbformat_minor": 2
}
