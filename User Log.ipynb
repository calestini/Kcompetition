{
 "cells": [
  {
   "cell_type": "markdown",
   "metadata": {},
   "source": [
    "# Use Log Exploration / Unsupervised Learning"
   ]
  },
  {
   "cell_type": "code",
   "execution_count": 2,
   "metadata": {
    "collapsed": true
   },
   "outputs": [],
   "source": [
    "import numpy as np\n",
    "import pandas as pd\n",
    "\n",
    "import data_manipulation_v2 as dm\n",
    "import time\n",
    "import datetime as dt\n",
    "import seaborn as sns\n",
    "import matplotlib.pyplot as plt\n",
    "%matplotlib inline"
   ]
  },
  {
   "cell_type": "code",
   "execution_count": 5,
   "metadata": {
    "collapsed": true
   },
   "outputs": [],
   "source": [
    "#memb = dm.members()\n",
    "#txn= dm.transactions()\n",
    "train = dm.train_v2()\n",
    "ul = dm.user_logs() #it already uses v2 train and test ids"
   ]
  },
  {
   "cell_type": "code",
   "execution_count": 6,
   "metadata": {},
   "outputs": [
    {
     "data": {
      "text/html": [
       "<div>\n",
       "<style scoped>\n",
       "    .dataframe tbody tr th:only-of-type {\n",
       "        vertical-align: middle;\n",
       "    }\n",
       "\n",
       "    .dataframe tbody tr th {\n",
       "        vertical-align: top;\n",
       "    }\n",
       "\n",
       "    .dataframe thead th {\n",
       "        text-align: right;\n",
       "    }\n",
       "</style>\n",
       "<table border=\"1\" class=\"dataframe\">\n",
       "  <thead>\n",
       "    <tr style=\"text-align: right;\">\n",
       "      <th></th>\n",
       "      <th>is_churn</th>\n",
       "      <th>new_id</th>\n",
       "    </tr>\n",
       "  </thead>\n",
       "  <tbody>\n",
       "    <tr>\n",
       "      <th>0</th>\n",
       "      <td>1</td>\n",
       "      <td>988305</td>\n",
       "    </tr>\n",
       "    <tr>\n",
       "      <th>1</th>\n",
       "      <td>1</td>\n",
       "      <td>723425</td>\n",
       "    </tr>\n",
       "    <tr>\n",
       "      <th>2</th>\n",
       "      <td>1</td>\n",
       "      <td>1066360</td>\n",
       "    </tr>\n",
       "    <tr>\n",
       "      <th>3</th>\n",
       "      <td>1</td>\n",
       "      <td>180122</td>\n",
       "    </tr>\n",
       "    <tr>\n",
       "      <th>4</th>\n",
       "      <td>1</td>\n",
       "      <td>372093</td>\n",
       "    </tr>\n",
       "  </tbody>\n",
       "</table>\n",
       "</div>"
      ],
      "text/plain": [
       "   is_churn   new_id\n",
       "0         1   988305\n",
       "1         1   723425\n",
       "2         1  1066360\n",
       "3         1   180122\n",
       "4         1   372093"
      ]
     },
     "execution_count": 6,
     "metadata": {},
     "output_type": "execute_result"
    }
   ],
   "source": [
    "train.head()"
   ]
  },
  {
   "cell_type": "code",
   "execution_count": 7,
   "metadata": {
    "collapsed": true
   },
   "outputs": [],
   "source": [
    "ul = ul.sort_values(['new_id','date'])"
   ]
  },
  {
   "cell_type": "code",
   "execution_count": 10,
   "metadata": {},
   "outputs": [
    {
     "data": {
      "text/plain": [
       "(270188412, 9)"
      ]
     },
     "execution_count": 10,
     "metadata": {},
     "output_type": "execute_result"
    }
   ],
   "source": [
    "ul.shape"
   ]
  },
  {
   "cell_type": "code",
   "execution_count": 11,
   "metadata": {
    "collapsed": true
   },
   "outputs": [],
   "source": [
    "\"\"\"\n",
    "Getting a sense of the user_log data:\n",
    "\n",
    "ul[ul['total_secs']<0].head()\n",
    "ul['total_secs'].describe()\n",
    "ul['num_25'].describe()\n",
    "ul['num_50'].describe()\n",
    "ul['num_75'].describe()\n",
    "ul['num_985'].describe()\n",
    "ul['num_100'].describe()\n",
    "ul['num_unq'].describe()\n",
    "\n",
    "print ('total nulls for total_secs: %s' %(len(ul[pd.isnull(ul['total_secs'])==True])))\n",
    "print ('total nulls for num_25: %s' %(len(ul[pd.isnull(ul['num_25'])==True])))\n",
    "print ('total nulls for num_50: %s' %(len(ul[pd.isnull(ul['num_50'])==True])))\n",
    "print ('total nulls for num_75: %s' %(len(ul[pd.isnull(ul['num_75'])==True])))\n",
    "print ('total nulls for num_985: %s' %(len(ul[pd.isnull(ul['num_985'])==True])))\n",
    "print ('total nulls for num_100: %s' %(len(ul[pd.isnull(ul['num_100'])==True])))\n",
    "print ('total nulls for num_unq: %s' %(len(ul[pd.isnull(ul['num_unq'])==True])))\n",
    "\n",
    "ul['total_secs'].quantile(0.985)\n",
    "\n",
    "ul['secs_capped'] = ul['total_secs'].clip(lower = 0, upper = ul['total_secs'].quantile(0.985))\n",
    "ul['secs_capped'].describe()\n",
    "sns.boxplot(ul['secs_capped'], color='green')\n",
    "\"\"\";"
   ]
  },
  {
   "cell_type": "markdown",
   "metadata": {},
   "source": [
    "## Feature Engineering\n",
    "\n",
    "- **total months listening**: total months that a user listening at least once in the previous 25 months\n",
    "- **listening_p12**: number of months in previous 12 where user listened at least once\n",
    "- **no_songs_cp6**: number of consecutive months (from Jan 31st) without listening data in previous 6 months\n",
    "- **logavg_secs_p12**: log transformation of monthly average total seconds for previous 12 months\n",
    "- **freq_days**: median time (days) user waits to listen to songs in KKBox\n",
    "- **median_secs**: median change in total_secs across all user_log data\n",
    "- **total_entries**: number of days a user listen to music\n",
    "- **cluster9**: kmeans cluster results (using k=9)\n",
    "\n",
    "<table>\n",
    "<th>new id</th>\n",
    "<th>total months listening</th>\n",
    "<th>listening_p12</th>\n",
    "<th>no_songs_cp6</th>\n",
    "<th>logavg_secs_p12</th>\n",
    "<th>freq_days</th>\n",
    "<th>median_secs</th>\n",
    "<th>total_entries</th>\n",
    "<th>cluster9</th>\n",
    "<tr>\n",
    "    <td>integer </td>\n",
    "    <td>categorical[5]</td>\n",
    "    <td>discrete[0-12]</td>\n",
    "    <td>discrete[0-6]</td>\n",
    "    <td>continuous</td>\n",
    "    <td>continuous</td>\n",
    "    <td>continuous</td>\n",
    "    <td>discrete</td>\n",
    "    <td>categorical[9]</td>\n",
    "</tr>\n",
    "</table>\n",
    "\n",
    "<br></br>"
   ]
  },
  {
   "cell_type": "code",
   "execution_count": 12,
   "metadata": {},
   "outputs": [
    {
     "name": "stdout",
     "output_type": "stream",
     "text": [
      "(948920, 2)\n"
     ]
    },
    {
     "data": {
      "text/html": [
       "<div>\n",
       "<style scoped>\n",
       "    .dataframe tbody tr th:only-of-type {\n",
       "        vertical-align: middle;\n",
       "    }\n",
       "\n",
       "    .dataframe tbody tr th {\n",
       "        vertical-align: top;\n",
       "    }\n",
       "\n",
       "    .dataframe thead th {\n",
       "        text-align: right;\n",
       "    }\n",
       "</style>\n",
       "<table border=\"1\" class=\"dataframe\">\n",
       "  <thead>\n",
       "    <tr style=\"text-align: right;\">\n",
       "      <th></th>\n",
       "      <th>new_id</th>\n",
       "      <th>freq_days</th>\n",
       "    </tr>\n",
       "  </thead>\n",
       "  <tbody>\n",
       "    <tr>\n",
       "      <th>0</th>\n",
       "      <td>0</td>\n",
       "      <td>1.0</td>\n",
       "    </tr>\n",
       "    <tr>\n",
       "      <th>1</th>\n",
       "      <td>1</td>\n",
       "      <td>1.0</td>\n",
       "    </tr>\n",
       "    <tr>\n",
       "      <th>2</th>\n",
       "      <td>2</td>\n",
       "      <td>1.0</td>\n",
       "    </tr>\n",
       "    <tr>\n",
       "      <th>3</th>\n",
       "      <td>3</td>\n",
       "      <td>1.0</td>\n",
       "    </tr>\n",
       "    <tr>\n",
       "      <th>4</th>\n",
       "      <td>4</td>\n",
       "      <td>1.0</td>\n",
       "    </tr>\n",
       "  </tbody>\n",
       "</table>\n",
       "</div>"
      ],
      "text/plain": [
       "   new_id  freq_days\n",
       "0       0        1.0\n",
       "1       1        1.0\n",
       "2       2        1.0\n",
       "3       3        1.0\n",
       "4       4        1.0"
      ]
     },
     "execution_count": 12,
     "metadata": {},
     "output_type": "execute_result"
    }
   ],
   "source": [
    "#create freq_days variable\n",
    "ul['previous_date'] = ul.groupby('new_id')['date'].shift()\n",
    "ul['time_lapsed'] = (ul['date'] - ul['previous_date']).astype('timedelta64[D]')\n",
    "ul_freq = ul.groupby('new_id')['time_lapsed'].median().reset_index(name='freq_days')\n",
    "print (ul_freq.shape)\n",
    "ul_freq.head()"
   ]
  },
  {
   "cell_type": "code",
   "execution_count": 13,
   "metadata": {
    "collapsed": true
   },
   "outputs": [],
   "source": [
    "#estimate total number of songs and recalculate total_secs for outliers\n",
    "ul['total_songs']=(0.25*ul['num_25'] + 0.50*ul['num_50'] + 0.75*ul['num_75'] + 0.985*ul['num_985']+ul['num_100'])\n",
    "ul['total_songs'] = ul['total_songs'].clip(lower = 0, upper = ul['total_songs'].quantile(0.995))\n",
    "\n",
    "compensation_factor = 1.0\n",
    "\n",
    "ul['avg_song'] = ul['total_secs']/(((0.25*ul['num_25'] + 0.50*ul['num_50'] + 0.75*ul['num_75'] + 0.985*ul['num_985'])*compensation_factor)+ul['num_100'])\n",
    "avg_song = ul['avg_song'].quantile(0.5) #median"
   ]
  },
  {
   "cell_type": "code",
   "execution_count": 14,
   "metadata": {
    "collapsed": true
   },
   "outputs": [],
   "source": [
    "mask_lower = ul.total_secs <= 0\n",
    "mask_upper = ul.total_secs > ul['total_secs'].quantile(0.985)\n",
    "column_name = 'total_secs'\n",
    "ul.loc[mask_lower, column_name] = ul.loc[mask_lower, 'total_songs']*avg_song\n",
    "ul.loc[mask_upper, column_name] = ul.loc[mask_upper, 'total_songs']*avg_song"
   ]
  },
  {
   "cell_type": "code",
   "execution_count": 15,
   "metadata": {},
   "outputs": [
    {
     "name": "stdout",
     "output_type": "stream",
     "text": [
      "(948920, 2)\n"
     ]
    },
    {
     "data": {
      "text/html": [
       "<div>\n",
       "<style scoped>\n",
       "    .dataframe tbody tr th:only-of-type {\n",
       "        vertical-align: middle;\n",
       "    }\n",
       "\n",
       "    .dataframe tbody tr th {\n",
       "        vertical-align: top;\n",
       "    }\n",
       "\n",
       "    .dataframe thead th {\n",
       "        text-align: right;\n",
       "    }\n",
       "</style>\n",
       "<table border=\"1\" class=\"dataframe\">\n",
       "  <thead>\n",
       "    <tr style=\"text-align: right;\">\n",
       "      <th></th>\n",
       "      <th>new_id</th>\n",
       "      <th>median_secs</th>\n",
       "    </tr>\n",
       "  </thead>\n",
       "  <tbody>\n",
       "    <tr>\n",
       "      <th>0</th>\n",
       "      <td>0</td>\n",
       "      <td>-0.021203</td>\n",
       "    </tr>\n",
       "    <tr>\n",
       "      <th>1</th>\n",
       "      <td>1</td>\n",
       "      <td>-0.008254</td>\n",
       "    </tr>\n",
       "    <tr>\n",
       "      <th>2</th>\n",
       "      <td>2</td>\n",
       "      <td>0.015314</td>\n",
       "    </tr>\n",
       "    <tr>\n",
       "      <th>3</th>\n",
       "      <td>3</td>\n",
       "      <td>0.026544</td>\n",
       "    </tr>\n",
       "    <tr>\n",
       "      <th>4</th>\n",
       "      <td>4</td>\n",
       "      <td>-0.003217</td>\n",
       "    </tr>\n",
       "  </tbody>\n",
       "</table>\n",
       "</div>"
      ],
      "text/plain": [
       "   new_id  median_secs\n",
       "0       0    -0.021203\n",
       "1       1    -0.008254\n",
       "2       2     0.015314\n",
       "3       3     0.026544\n",
       "4       4    -0.003217"
      ]
     },
     "execution_count": 15,
     "metadata": {},
     "output_type": "execute_result"
    }
   ],
   "source": [
    "#create median_secs variable\n",
    "ul['previous_secs'] = ul.groupby('new_id')['total_secs'].shift()\n",
    "ul['secs_change'] = (ul['total_secs']/ul['previous_secs'] - 1)\n",
    "ul_csecs = ul.groupby('new_id')['secs_change'].median().reset_index(name='median_secs')\n",
    "print (ul_csecs.shape)\n",
    "ul_csecs.head()"
   ]
  },
  {
   "cell_type": "code",
   "execution_count": 16,
   "metadata": {
    "collapsed": true
   },
   "outputs": [],
   "source": [
    "#add a yearMonth variable to aggregate by month\n",
    "ul['yearMonth'] = pd.DatetimeIndex(ul['date']).year*100+pd.DatetimeIndex(ul['date']).month"
   ]
  },
  {
   "cell_type": "code",
   "execution_count": 17,
   "metadata": {
    "collapsed": true
   },
   "outputs": [],
   "source": [
    "#add total months with listening data\n",
    "sum_months = pd.pivot_table(ul, values='total_secs', index=['new_id'], columns=['yearMonth'], aggfunc=np.sum)"
   ]
  },
  {
   "cell_type": "code",
   "execution_count": 18,
   "metadata": {},
   "outputs": [
    {
     "name": "stderr",
     "output_type": "stream",
     "text": [
      "/Users/calestini/anaconda/lib/python3.6/site-packages/seaborn/categorical.py:1428: FutureWarning: remove_na is deprecated and is a private function. Do not use.\n",
      "  stat_data = remove_na(group_data)\n"
     ]
    },
    {
     "data": {
      "image/png": "[encoded data removed]",
      "text/plain": [
       "<matplotlib.figure.Figure at 0x109312358>"
      ]
     },
     "metadata": {},
     "output_type": "display_data"
    }
   ],
   "source": [
    "sum_months['months_listening'] = pd.cut(np.count_nonzero(sum_months.fillna(0).drop(201703,axis=1), axis = 1)\n",
    "                                        , [0,6,12,18,24,30]\n",
    "                                        , labels=['0-6','7-12','13-18','19-24','25-27']).fillna('0-6')\n",
    "\n",
    "#sum_months['months_listening'] = sum_months['months_listening'].fillna('0-6', inplace = True) \n",
    "plt.figure(num=None, figsize=(16, 6), dpi=80, facecolor='w', edgecolor='k')\n",
    "sns.countplot(sum_months['months_listening']);"
   ]
  },
  {
   "cell_type": "code",
   "execution_count": 19,
   "metadata": {},
   "outputs": [
    {
     "data": {
      "text/plain": [
       "0"
      ]
     },
     "execution_count": 19,
     "metadata": {},
     "output_type": "execute_result"
    }
   ],
   "source": [
    "#check if there is any NaN in months_listening\n",
    "len(sum_months[pd.isnull(sum_months['months_listening'])==True])"
   ]
  },
  {
   "cell_type": "code",
   "execution_count": 20,
   "metadata": {
    "collapsed": true
   },
   "outputs": [],
   "source": [
    "#add months with listening data for previous 6 months (p6), 12 months (p12)\n",
    "#Mar skipped for training set (roll forward for test set)\n",
    "\n",
    "p6 = [201702,201701,201612,201611,201610,201609]\n",
    "p12 = [201702,201701,201612,201611,201610,201609,201608,201607,201606,201605,201604,201603]\n",
    "\n",
    "sum_months['listening_p6'] = np.count_nonzero(sum_months[p6].fillna(0), axis = 1)\n",
    "sum_months['listening_p12'] = np.count_nonzero(sum_months[p12].fillna(0), axis = 1)\n",
    "\n",
    "#add log of monthly average\n",
    "sum_months['logavg_secs_p12'] = np.log((np.sum(sum_months[p12].fillna(0), axis = 1)+1)/(sum_months['listening_p12']+1))"
   ]
  },
  {
   "cell_type": "code",
   "execution_count": 21,
   "metadata": {},
   "outputs": [
    {
     "name": "stderr",
     "output_type": "stream",
     "text": [
      "/Users/calestini/anaconda/lib/python3.6/site-packages/seaborn/categorical.py:1428: FutureWarning: remove_na is deprecated and is a private function. Do not use.\n",
      "  stat_data = remove_na(group_data)\n"
     ]
    },
    {
     "data": {
      "text/plain": [
       "<matplotlib.axes._subplots.AxesSubplot at 0x12f710278>"
      ]
     },
     "execution_count": 21,
     "metadata": {},
     "output_type": "execute_result"
    },
    {
     "data": {
      "image/png": "[encoded data removed]",
      "text/plain": [
       "<matplotlib.figure.Figure at 0x12540f898>"
      ]
     },
     "metadata": {},
     "output_type": "display_data"
    }
   ],
   "source": [
    "##create variable of previous consecutive months with no listening data\n",
    "#Mar skipped for training set (roll forward for test set)\n",
    "\n",
    "no_songs = []\n",
    "for id in np.unique(sum_months.index.values):\n",
    "    total_months = 0\n",
    "    if np.isnan(sum_months.loc[id, 201702]):\n",
    "        total_months += 1\n",
    "        if np.isnan(sum_months.loc[id, 201701]):\n",
    "            total_months += 1\n",
    "            if np.isnan(sum_months.loc[id, 201612]):\n",
    "                total_months += 1\n",
    "                if np.isnan(sum_months.loc[id, 201611]):\n",
    "                    total_months += 1\n",
    "                    if np.isnan(sum_months.loc[id, 201610]):\n",
    "                        total_months += 1\n",
    "                        if np.isnan(sum_months.loc[id, 201609]):\n",
    "                            total_months += 1\n",
    "    no_songs.append(total_months)\n",
    "\n",
    "sum_months['no_songs_cp6'] = no_songs\n",
    "\n",
    "plt.figure(num=None, figsize=(16, 4), dpi=80, facecolor='w', edgecolor='k')\n",
    "sns.countplot(sum_months['no_songs_cp6'])"
   ]
  },
  {
   "cell_type": "code",
   "execution_count": 48,
   "metadata": {},
   "outputs": [
    {
     "data": {
      "text/plain": [
       "(948920, 2)"
      ]
     },
     "execution_count": 48,
     "metadata": {},
     "output_type": "execute_result"
    }
   ],
   "source": [
    "##count the number of entries in the user_log data\n",
    "ul_entries = ul.groupby('new_id')['secs_change'].count().reset_index(name='total_entries')\n",
    "ul_entries.shape"
   ]
  },
  {
   "cell_type": "code",
   "execution_count": 50,
   "metadata": {},
   "outputs": [
    {
     "data": {
      "text/plain": [
       "(970960, 10)"
      ]
     },
     "execution_count": 50,
     "metadata": {},
     "output_type": "execute_result"
    }
   ],
   "source": [
    "f_ul = train.merge(sum_months.reset_index(), left_on='new_id', right_on='new_id', how='left', copy = False)[\n",
    "    ['new_id','is_churn','no_songs_cp6','months_listening','listening_p6','listening_p12','logavg_secs_p12']]\\\n",
    "        .merge(ul_freq, left_on = 'new_id', right_on = 'new_id', how='left', copy=False)\\\n",
    "        .merge(ul_csecs, left_on = 'new_id', right_on = 'new_id', how='left', copy=False)\\\n",
    "        .merge(ul_entries, left_on = 'new_id', right_on = 'new_id', how='left', copy=False)\n",
    "\n",
    "f_ul.shape #same shape as training data"
   ]
  },
  {
   "cell_type": "code",
   "execution_count": 51,
   "metadata": {},
   "outputs": [
    {
     "data": {
      "text/html": [
       "<div>\n",
       "<style scoped>\n",
       "    .dataframe tbody tr th:only-of-type {\n",
       "        vertical-align: middle;\n",
       "    }\n",
       "\n",
       "    .dataframe tbody tr th {\n",
       "        vertical-align: top;\n",
       "    }\n",
       "\n",
       "    .dataframe thead th {\n",
       "        text-align: right;\n",
       "    }\n",
       "</style>\n",
       "<table border=\"1\" class=\"dataframe\">\n",
       "  <thead>\n",
       "    <tr style=\"text-align: right;\">\n",
       "      <th></th>\n",
       "      <th>new_id</th>\n",
       "      <th>is_churn</th>\n",
       "      <th>no_songs_cp6</th>\n",
       "      <th>months_listening</th>\n",
       "      <th>listening_p6</th>\n",
       "      <th>listening_p12</th>\n",
       "      <th>logavg_secs_p12</th>\n",
       "      <th>freq_days</th>\n",
       "      <th>median_secs</th>\n",
       "      <th>total_entries</th>\n",
       "    </tr>\n",
       "  </thead>\n",
       "  <tbody>\n",
       "    <tr>\n",
       "      <th>0</th>\n",
       "      <td>988305</td>\n",
       "      <td>1</td>\n",
       "      <td>0.0</td>\n",
       "      <td>7-12</td>\n",
       "      <td>1.0</td>\n",
       "      <td>1.0</td>\n",
       "      <td>8.738223</td>\n",
       "      <td>2.0</td>\n",
       "      <td>-0.175807</td>\n",
       "      <td>63.0</td>\n",
       "    </tr>\n",
       "    <tr>\n",
       "      <th>1</th>\n",
       "      <td>723425</td>\n",
       "      <td>1</td>\n",
       "      <td>0.0</td>\n",
       "      <td>7-12</td>\n",
       "      <td>1.0</td>\n",
       "      <td>6.0</td>\n",
       "      <td>10.306972</td>\n",
       "      <td>1.0</td>\n",
       "      <td>0.006097</td>\n",
       "      <td>79.0</td>\n",
       "    </tr>\n",
       "    <tr>\n",
       "      <th>2</th>\n",
       "      <td>1066360</td>\n",
       "      <td>1</td>\n",
       "      <td>0.0</td>\n",
       "      <td>19-24</td>\n",
       "      <td>6.0</td>\n",
       "      <td>12.0</td>\n",
       "      <td>11.288232</td>\n",
       "      <td>1.0</td>\n",
       "      <td>0.008635</td>\n",
       "      <td>341.0</td>\n",
       "    </tr>\n",
       "    <tr>\n",
       "      <th>3</th>\n",
       "      <td>180122</td>\n",
       "      <td>1</td>\n",
       "      <td>NaN</td>\n",
       "      <td>NaN</td>\n",
       "      <td>NaN</td>\n",
       "      <td>NaN</td>\n",
       "      <td>NaN</td>\n",
       "      <td>NaN</td>\n",
       "      <td>NaN</td>\n",
       "      <td>NaN</td>\n",
       "    </tr>\n",
       "    <tr>\n",
       "      <th>4</th>\n",
       "      <td>372093</td>\n",
       "      <td>1</td>\n",
       "      <td>0.0</td>\n",
       "      <td>25-27</td>\n",
       "      <td>6.0</td>\n",
       "      <td>12.0</td>\n",
       "      <td>10.571583</td>\n",
       "      <td>1.0</td>\n",
       "      <td>-0.039646</td>\n",
       "      <td>270.0</td>\n",
       "    </tr>\n",
       "  </tbody>\n",
       "</table>\n",
       "</div>"
      ],
      "text/plain": [
       "    new_id  is_churn  no_songs_cp6 months_listening  listening_p6  \\\n",
       "0   988305         1           0.0             7-12           1.0   \n",
       "1   723425         1           0.0             7-12           1.0   \n",
       "2  1066360         1           0.0            19-24           6.0   \n",
       "3   180122         1           NaN              NaN           NaN   \n",
       "4   372093         1           0.0            25-27           6.0   \n",
       "\n",
       "   listening_p12  logavg_secs_p12  freq_days  median_secs  total_entries  \n",
       "0            1.0         8.738223        2.0    -0.175807           63.0  \n",
       "1            6.0        10.306972        1.0     0.006097           79.0  \n",
       "2           12.0        11.288232        1.0     0.008635          341.0  \n",
       "3            NaN              NaN        NaN          NaN            NaN  \n",
       "4           12.0        10.571583        1.0    -0.039646          270.0  "
      ]
     },
     "execution_count": 51,
     "metadata": {},
     "output_type": "execute_result"
    }
   ],
   "source": [
    "f_ul.head()"
   ]
  },
  {
   "cell_type": "code",
   "execution_count": 57,
   "metadata": {},
   "outputs": [
    {
     "name": "stderr",
     "output_type": "stream",
     "text": [
      "/Users/calestini/anaconda/lib/python3.6/site-packages/seaborn/categorical.py:454: FutureWarning: remove_na is deprecated and is a private function. Do not use.\n",
      "  box_data = remove_na(group_data)\n"
     ]
    },
    {
     "data": {
      "text/plain": [
       "<matplotlib.axes._subplots.AxesSubplot at 0x130e59e48>"
      ]
     },
     "execution_count": 57,
     "metadata": {},
     "output_type": "execute_result"
    },
    {
     "data": {
      "image/png": "[encoded data removed]",
      "text/plain": [
       "<matplotlib.figure.Figure at 0x12f618748>"
      ]
     },
     "metadata": {},
     "output_type": "display_data"
    }
   ],
   "source": [
    "#sns.boxplot(f_ul[f_ul['median_secs']<1]['median_secs'])\n",
    "#print (np.sum(f_ul['total_entries']))\n",
    "\n",
    "sns.boxplot(f_ul['total_entries'])"
   ]
  },
  {
   "cell_type": "code",
   "execution_count": 74,
   "metadata": {},
   "outputs": [
    {
     "data": {
      "text/plain": [
       "10995"
      ]
     },
     "execution_count": 74,
     "metadata": {},
     "output_type": "execute_result"
    }
   ],
   "source": [
    "#quite a few observations with median change in total_secs >100% (10,995)\n",
    "#only 14 of those with median > 100% growth had more than 30 days of listening data in total\n",
    "#659 > 10 days and 2,206 > 5 days\n",
    "#Do some outlier treatment for those people to avoid leverage on coefficients (in linear models)\n",
    "len(f_ul[(f_ul['median_secs']>1) & (f_ul['total_entries']>0)])"
   ]
  },
  {
   "cell_type": "code",
   "execution_count": 75,
   "metadata": {
    "collapsed": true
   },
   "outputs": [],
   "source": [
    "#save to csv variables created so far\n",
    "f_ul.to_csv('../final_user_log_v2.csv', index = False)"
   ]
  },
  {
   "cell_type": "code",
   "execution_count": 36,
   "metadata": {},
   "outputs": [
    {
     "name": "stdout",
     "output_type": "stream",
     "text": [
      "Train users w/o log data: 115800\n",
      "11.93% of users in train data\n"
     ]
    }
   ],
   "source": [
    "##apparently there are a lot of users with no listening data (why?)\n",
    "print ('Train users w/o log data: '+str(len(train)-np.sum(train['new_id'].isin(ul['new_id']))))\n",
    "print ('{:0.2f}% of users in train data' .format(((len(train)-np.sum(train['new_id'].isin(ul['new_id'])))/len(train))*100))"
   ]
  },
  {
   "cell_type": "code",
   "execution_count": 76,
   "metadata": {},
   "outputs": [
    {
     "data": {
      "text/plain": [
       "6400"
      ]
     },
     "execution_count": 76,
     "metadata": {},
     "output_type": "execute_result"
    }
   ],
   "source": [
    "len(f_ul[(f_ul['is_churn'] == 1)&(pd.isnull(f_ul['total_entries'])==True)])"
   ]
  },
  {
   "cell_type": "markdown",
   "metadata": {},
   "source": [
    "##### ------ ######"
   ]
  },
  {
   "cell_type": "code",
   "execution_count": 18,
   "metadata": {},
   "outputs": [
    {
     "name": "stderr",
     "output_type": "stream",
     "text": [
      "/Users/calestini/anaconda/lib/python3.6/site-packages/seaborn/categorical.py:1428: FutureWarning: remove_na is deprecated and is a private function. Do not use.\n",
      "  stat_data = remove_na(group_data)\n"
     ]
    },
    {
     "data": {
      "image/png": "[encoded data removed]",
      "text/plain": [
       "<matplotlib.figure.Figure at 0x125669438>"
      ]
     },
     "metadata": {},
     "output_type": "display_data"
    }
   ],
   "source": [
    "#There seem to be an upward trend in churn based on the consecutive months without listening data. \n",
    "#It is not clear why the wave from 3-5 months without listening data. Are those filled with dormant users?\n",
    "plt.figure(num=None, figsize=(16, 6), dpi=80, facecolor='w', edgecolor='k')\n",
    "sns.barplot('no_songs_cp6', 'is_churn', data=f_ul);"
   ]
  },
  {
   "cell_type": "code",
   "execution_count": 19,
   "metadata": {},
   "outputs": [
    {
     "name": "stderr",
     "output_type": "stream",
     "text": [
      "/Users/calestini/anaconda/lib/python3.6/site-packages/seaborn/categorical.py:1428: FutureWarning: remove_na is deprecated and is a private function. Do not use.\n",
      "  stat_data = remove_na(group_data)\n"
     ]
    },
    {
     "data": {
      "image/png": "[encoded data removed]",
      "text/plain": [
       "<matplotlib.figure.Figure at 0x11032aeb8>"
      ]
     },
     "metadata": {},
     "output_type": "display_data"
    }
   ],
   "source": [
    "#It seems that users with 0-6 months of listening data are more likely to churn than long-term users\n",
    "plt.figure(num=None, figsize=(16, 6), dpi=80, facecolor='w', edgecolor='k')\n",
    "sns.barplot('months_listening', 'is_churn', data=f_ul);"
   ]
  },
  {
   "cell_type": "code",
   "execution_count": 20,
   "metadata": {},
   "outputs": [
    {
     "name": "stderr",
     "output_type": "stream",
     "text": [
      "/Users/calestini/anaconda/lib/python3.6/site-packages/seaborn/categorical.py:1428: FutureWarning: remove_na is deprecated and is a private function. Do not use.\n",
      "  stat_data = remove_na(group_data)\n"
     ]
    },
    {
     "data": {
      "image/png": "[encoded data removed]",
      "text/plain": [
       "<matplotlib.figure.Figure at 0x1109ac208>"
      ]
     },
     "metadata": {},
     "output_type": "display_data"
    },
    {
     "data": {
      "image/png": "[encoded data removed]",
      "text/plain": [
       "<matplotlib.figure.Figure at 0x11066f5c0>"
      ]
     },
     "metadata": {},
     "output_type": "display_data"
    }
   ],
   "source": [
    "#Again, Users with less listening months seem to be more likely to churn\n",
    "plt.figure(num=None, figsize=(16, 4), dpi=80, facecolor='w', edgecolor='k')\n",
    "sns.barplot('listening_p6', 'is_churn', data=f_ul);\n",
    "\n",
    "plt.figure(num=None, figsize=(16, 4), dpi=80, facecolor='w', edgecolor='k')\n",
    "sns.barplot('listening_p12', 'is_churn', data=f_ul);"
   ]
  },
  {
   "cell_type": "code",
   "execution_count": 22,
   "metadata": {},
   "outputs": [
    {
     "name": "stderr",
     "output_type": "stream",
     "text": [
      "/Users/calestini/anaconda/lib/python3.6/site-packages/seaborn/categorical.py:637: FutureWarning: remove_na is deprecated and is a private function. Do not use.\n",
      "  kde_data = remove_na(group_data[hue_mask])\n",
      "/Users/calestini/anaconda/lib/python3.6/site-packages/seaborn/categorical.py:885: FutureWarning: remove_na is deprecated and is a private function. Do not use.\n",
      "  violin_data = remove_na(group_data[hue_mask])\n",
      "/Users/calestini/anaconda/lib/python3.6/site-packages/seaborn/categorical.py:905: FutureWarning: remove_na is deprecated and is a private function. Do not use.\n",
      "  violin_data = remove_na(group_data)\n",
      "/Users/calestini/anaconda/lib/python3.6/site-packages/seaborn/categorical.py:454: FutureWarning: remove_na is deprecated and is a private function. Do not use.\n",
      "  box_data = remove_na(group_data)\n"
     ]
    },
    {
     "data": {
      "image/png": "[encoded data removed]",
      "text/plain": [
       "<matplotlib.figure.Figure at 0x113c91198>"
      ]
     },
     "metadata": {},
     "output_type": "display_data"
    }
   ],
   "source": [
    "#Total seconds does not show any clear relationship with churn\n",
    "plt.figure(num=None, figsize=(16, 8), dpi=80, facecolor='w', edgecolor='k')\n",
    "plt.subplot(1,2,1)\n",
    "sns.violinplot( f_ul['months_listening'] , f_ul['logavg_secs_p12'], hue =f_ul['is_churn'] , split=True, inner=\"quartile\");\n",
    "\n",
    "plt.subplot(1,2,2)\n",
    "sns.boxplot(  f_ul['is_churn'] , f_ul['logavg_secs_p12']);"
   ]
  },
  {
   "cell_type": "code",
   "execution_count": 79,
   "metadata": {},
   "outputs": [
    {
     "data": {
      "text/html": [
       "<div>\n",
       "<style scoped>\n",
       "    .dataframe tbody tr th:only-of-type {\n",
       "        vertical-align: middle;\n",
       "    }\n",
       "\n",
       "    .dataframe tbody tr th {\n",
       "        vertical-align: top;\n",
       "    }\n",
       "\n",
       "    .dataframe thead th {\n",
       "        text-align: right;\n",
       "    }\n",
       "</style>\n",
       "<table border=\"1\" class=\"dataframe\">\n",
       "  <thead>\n",
       "    <tr style=\"text-align: right;\">\n",
       "      <th></th>\n",
       "      <th>new_id</th>\n",
       "      <th>is_churn</th>\n",
       "      <th>no_songs_cp6</th>\n",
       "      <th>months_listening</th>\n",
       "      <th>listening_p6</th>\n",
       "      <th>listening_p12</th>\n",
       "      <th>logavg_secs_p12</th>\n",
       "      <th>freq_days</th>\n",
       "      <th>median_secs</th>\n",
       "      <th>total_entries</th>\n",
       "    </tr>\n",
       "  </thead>\n",
       "  <tbody>\n",
       "    <tr>\n",
       "      <th>0</th>\n",
       "      <td>988305</td>\n",
       "      <td>1</td>\n",
       "      <td>0.0</td>\n",
       "      <td>7-12</td>\n",
       "      <td>1.0</td>\n",
       "      <td>1.0</td>\n",
       "      <td>8.738223</td>\n",
       "      <td>2.0</td>\n",
       "      <td>-0.175807</td>\n",
       "      <td>63.0</td>\n",
       "    </tr>\n",
       "    <tr>\n",
       "      <th>1</th>\n",
       "      <td>723425</td>\n",
       "      <td>1</td>\n",
       "      <td>0.0</td>\n",
       "      <td>7-12</td>\n",
       "      <td>1.0</td>\n",
       "      <td>6.0</td>\n",
       "      <td>10.306972</td>\n",
       "      <td>1.0</td>\n",
       "      <td>0.006097</td>\n",
       "      <td>79.0</td>\n",
       "    </tr>\n",
       "    <tr>\n",
       "      <th>2</th>\n",
       "      <td>1066360</td>\n",
       "      <td>1</td>\n",
       "      <td>0.0</td>\n",
       "      <td>19-24</td>\n",
       "      <td>6.0</td>\n",
       "      <td>12.0</td>\n",
       "      <td>11.288232</td>\n",
       "      <td>1.0</td>\n",
       "      <td>0.008635</td>\n",
       "      <td>341.0</td>\n",
       "    </tr>\n",
       "    <tr>\n",
       "      <th>3</th>\n",
       "      <td>180122</td>\n",
       "      <td>1</td>\n",
       "      <td>NaN</td>\n",
       "      <td>NaN</td>\n",
       "      <td>NaN</td>\n",
       "      <td>NaN</td>\n",
       "      <td>NaN</td>\n",
       "      <td>NaN</td>\n",
       "      <td>NaN</td>\n",
       "      <td>NaN</td>\n",
       "    </tr>\n",
       "    <tr>\n",
       "      <th>4</th>\n",
       "      <td>372093</td>\n",
       "      <td>1</td>\n",
       "      <td>0.0</td>\n",
       "      <td>25-27</td>\n",
       "      <td>6.0</td>\n",
       "      <td>12.0</td>\n",
       "      <td>10.571583</td>\n",
       "      <td>1.0</td>\n",
       "      <td>-0.039646</td>\n",
       "      <td>270.0</td>\n",
       "    </tr>\n",
       "  </tbody>\n",
       "</table>\n",
       "</div>"
      ],
      "text/plain": [
       "    new_id  is_churn  no_songs_cp6 months_listening  listening_p6  \\\n",
       "0   988305         1           0.0             7-12           1.0   \n",
       "1   723425         1           0.0             7-12           1.0   \n",
       "2  1066360         1           0.0            19-24           6.0   \n",
       "3   180122         1           NaN              NaN           NaN   \n",
       "4   372093         1           0.0            25-27           6.0   \n",
       "\n",
       "   listening_p12  logavg_secs_p12  freq_days  median_secs  total_entries  \n",
       "0            1.0         8.738223        2.0    -0.175807           63.0  \n",
       "1            6.0        10.306972        1.0     0.006097           79.0  \n",
       "2           12.0        11.288232        1.0     0.008635          341.0  \n",
       "3            NaN              NaN        NaN          NaN            NaN  \n",
       "4           12.0        10.571583        1.0    -0.039646          270.0  "
      ]
     },
     "execution_count": 79,
     "metadata": {},
     "output_type": "execute_result"
    }
   ],
   "source": [
    "#VARIABLES CREATED SO FAR (SOME HAVE NULL/NaN VALUES)\n",
    "f_ul.head()"
   ]
  },
  {
   "cell_type": "code",
   "execution_count": 24,
   "metadata": {
    "collapsed": true
   },
   "outputs": [],
   "source": [
    "###maybe create an index for unique songs vs. total_songs as a measure of engagement?\n",
    "munique_median = pd.pivot_table(ul, values='num_unq', index=['new_id'], columns=['yearMonth'], aggfunc=np.median)\n",
    "msongs_median = pd.pivot_table(ul, values='total_songs', index=['new_id'], columns=['yearMonth'], aggfunc=np.median)\n",
    "\n",
    "variety_songs = np.divide(munique_median, msongs_median)"
   ]
  },
  {
   "cell_type": "code",
   "execution_count": 25,
   "metadata": {},
   "outputs": [
    {
     "name": "stderr",
     "output_type": "stream",
     "text": [
      "/Users/calestini/anaconda/lib/python3.6/site-packages/seaborn/categorical.py:2171: UserWarning: The boxplot API has been changed. Attempting to adjust your arguments for the new API (which might not work). Please update your code. See the version 0.6 release notes for more info.\n",
      "  warnings.warn(msg, UserWarning)\n",
      "/Users/calestini/anaconda/lib/python3.6/site-packages/seaborn/categorical.py:454: FutureWarning: remove_na is deprecated and is a private function. Do not use.\n",
      "  box_data = remove_na(group_data)\n"
     ]
    },
    {
     "data": {
      "text/plain": [
       "<matplotlib.axes._subplots.AxesSubplot at 0x113c91e48>"
      ]
     },
     "execution_count": 25,
     "metadata": {},
     "output_type": "execute_result"
    },
    {
     "data": {
      "image/png": "[encoded data removed]",
      "text/plain": [
       "<matplotlib.figure.Figure at 0x113c91da0>"
      ]
     },
     "metadata": {},
     "output_type": "display_data"
    }
   ],
   "source": [
    "plt.figure(num=None, figsize=(16,4), dpi=80, facecolor='w', edgecolor='k')\n",
    "plt.title('unique songs / total songs - Medians');\n",
    "sns.boxplot(variety_songs[[201701,201612,201611]], orient='h')"
   ]
  },
  {
   "cell_type": "code",
   "execution_count": 80,
   "metadata": {
    "collapsed": true
   },
   "outputs": [],
   "source": [
    "## Test some clusters on median seconds monthly (need to fill NAs with 0s)\n",
    "tmonths = pd.pivot_table(ul, values='total_secs', index=['new_id'], columns=['yearMonth'], aggfunc=np.median)\n",
    "tmonths.fillna(0, inplace = True)"
   ]
  },
  {
   "cell_type": "code",
   "execution_count": 81,
   "metadata": {
    "scrolled": false
   },
   "outputs": [
    {
     "name": "stdout",
     "output_type": "stream",
     "text": [
      "Clusters: 9\n"
     ]
    },
    {
     "name": "stderr",
     "output_type": "stream",
     "text": [
      "/Users/calestini/anaconda/lib/python3.6/site-packages/seaborn/categorical.py:1428: FutureWarning: remove_na is deprecated and is a private function. Do not use.\n",
      "  stat_data = remove_na(group_data)\n"
     ]
    },
    {
     "data": {
      "image/png": "[encoded data removed]",
      "text/plain": [
       "<matplotlib.figure.Figure at 0x114d50d68>"
      ]
     },
     "metadata": {},
     "output_type": "display_data"
    }
   ],
   "source": [
    "from sklearn.cluster import KMeans\n",
    "sclusters = [9]\n",
    "tmonths_temp = tmonths.copy(deep=True)\n",
    "\n",
    "for scluster in sclusters:\n",
    "    kmeans = KMeans(n_clusters=scluster, random_state=0).fit(tmonths)\n",
    "    tmonths_temp['cluster'] = kmeans.labels_\n",
    "    x_temp =  train.merge(tmonths_temp.reset_index(), left_on='new_id', right_on='new_id', how='inner', copy = False)[\n",
    "    ['new_id','is_churn','cluster']]\n",
    "    \n",
    "    plt.figure(num=None, figsize=(16, 4), dpi=80, facecolor='w', edgecolor='k')\n",
    "    print ('Clusters: {}'.format(scluster))\n",
    "    plt.subplot(1,3,1)\n",
    "    sns.countplot(kmeans.labels_, color=\"salmon\")\n",
    "\n",
    "    plt.subplot(1,3,2)\n",
    "    plt.title('Clusters Means')\n",
    "    plt.plot(kmeans.cluster_centers_.T);\n",
    "    \n",
    "    plt.subplot(1,3,3)\n",
    "    sns.barplot(x_temp['cluster'], x_temp['is_churn'], color=\"salmon\")\n",
    "    plt.show()"
   ]
  },
  {
   "cell_type": "code",
   "execution_count": 89,
   "metadata": {},
   "outputs": [
    {
     "data": {
      "text/html": [
       "<div>\n",
       "<style scoped>\n",
       "    .dataframe tbody tr th:only-of-type {\n",
       "        vertical-align: middle;\n",
       "    }\n",
       "\n",
       "    .dataframe tbody tr th {\n",
       "        vertical-align: top;\n",
       "    }\n",
       "\n",
       "    .dataframe thead th {\n",
       "        text-align: right;\n",
       "    }\n",
       "</style>\n",
       "<table border=\"1\" class=\"dataframe\">\n",
       "  <thead>\n",
       "    <tr style=\"text-align: right;\">\n",
       "      <th></th>\n",
       "      <th>new_id</th>\n",
       "      <th>is_churn</th>\n",
       "      <th>no_songs_cp6</th>\n",
       "      <th>months_listening</th>\n",
       "      <th>listening_p6</th>\n",
       "      <th>listening_p12</th>\n",
       "      <th>logavg_secs_p12</th>\n",
       "      <th>freq_days</th>\n",
       "      <th>median_secs</th>\n",
       "      <th>total_entries</th>\n",
       "      <th>cluster9</th>\n",
       "    </tr>\n",
       "  </thead>\n",
       "  <tbody>\n",
       "    <tr>\n",
       "      <th>0</th>\n",
       "      <td>988305</td>\n",
       "      <td>1</td>\n",
       "      <td>0.0</td>\n",
       "      <td>7-12</td>\n",
       "      <td>1.0</td>\n",
       "      <td>1.0</td>\n",
       "      <td>8.738223</td>\n",
       "      <td>2.0</td>\n",
       "      <td>-0.175807</td>\n",
       "      <td>63.0</td>\n",
       "      <td>0.0</td>\n",
       "    </tr>\n",
       "    <tr>\n",
       "      <th>1</th>\n",
       "      <td>723425</td>\n",
       "      <td>1</td>\n",
       "      <td>0.0</td>\n",
       "      <td>7-12</td>\n",
       "      <td>1.0</td>\n",
       "      <td>6.0</td>\n",
       "      <td>10.306972</td>\n",
       "      <td>1.0</td>\n",
       "      <td>0.006097</td>\n",
       "      <td>79.0</td>\n",
       "      <td>0.0</td>\n",
       "    </tr>\n",
       "    <tr>\n",
       "      <th>2</th>\n",
       "      <td>1066360</td>\n",
       "      <td>1</td>\n",
       "      <td>0.0</td>\n",
       "      <td>19-24</td>\n",
       "      <td>6.0</td>\n",
       "      <td>12.0</td>\n",
       "      <td>11.288232</td>\n",
       "      <td>1.0</td>\n",
       "      <td>0.008635</td>\n",
       "      <td>341.0</td>\n",
       "      <td>8.0</td>\n",
       "    </tr>\n",
       "    <tr>\n",
       "      <th>3</th>\n",
       "      <td>180122</td>\n",
       "      <td>1</td>\n",
       "      <td>NaN</td>\n",
       "      <td>NaN</td>\n",
       "      <td>NaN</td>\n",
       "      <td>NaN</td>\n",
       "      <td>NaN</td>\n",
       "      <td>NaN</td>\n",
       "      <td>NaN</td>\n",
       "      <td>NaN</td>\n",
       "      <td>NaN</td>\n",
       "    </tr>\n",
       "    <tr>\n",
       "      <th>4</th>\n",
       "      <td>372093</td>\n",
       "      <td>1</td>\n",
       "      <td>0.0</td>\n",
       "      <td>25-27</td>\n",
       "      <td>6.0</td>\n",
       "      <td>12.0</td>\n",
       "      <td>10.571583</td>\n",
       "      <td>1.0</td>\n",
       "      <td>-0.039646</td>\n",
       "      <td>270.0</td>\n",
       "      <td>3.0</td>\n",
       "    </tr>\n",
       "  </tbody>\n",
       "</table>\n",
       "</div>"
      ],
      "text/plain": [
       "    new_id  is_churn  no_songs_cp6 months_listening  listening_p6  \\\n",
       "0   988305         1           0.0             7-12           1.0   \n",
       "1   723425         1           0.0             7-12           1.0   \n",
       "2  1066360         1           0.0            19-24           6.0   \n",
       "3   180122         1           NaN              NaN           NaN   \n",
       "4   372093         1           0.0            25-27           6.0   \n",
       "\n",
       "   listening_p12  logavg_secs_p12  freq_days  median_secs  total_entries  \\\n",
       "0            1.0         8.738223        2.0    -0.175807           63.0   \n",
       "1            6.0        10.306972        1.0     0.006097           79.0   \n",
       "2           12.0        11.288232        1.0     0.008635          341.0   \n",
       "3            NaN              NaN        NaN          NaN            NaN   \n",
       "4           12.0        10.571583        1.0    -0.039646          270.0   \n",
       "\n",
       "   cluster9  \n",
       "0       0.0  \n",
       "1       0.0  \n",
       "2       8.0  \n",
       "3       NaN  \n",
       "4       3.0  "
      ]
     },
     "execution_count": 89,
     "metadata": {},
     "output_type": "execute_result"
    }
   ],
   "source": [
    "# add clusters to final dataframe\n",
    "tmonths_temp['cluster9'] = kmeans.labels_\n",
    "ul_cluster9 = tmonths_temp.reset_index()[['new_id','cluster9']]\n",
    "ul_cluster9.head()\n",
    "\n",
    "f_ul2 = f_ul.merge(ul_cluster9, on=\"new_id\", how='left')\n",
    "f_ul2.head()"
   ]
  },
  {
   "cell_type": "code",
   "execution_count": 90,
   "metadata": {},
   "outputs": [
    {
     "data": {
      "text/plain": [
       "(970960, 11)"
      ]
     },
     "execution_count": 90,
     "metadata": {},
     "output_type": "execute_result"
    }
   ],
   "source": [
    "#overwrite previusly saved file\n",
    "f_ul2.to_csv('../final_user_log_v2.csv', index = False)\n",
    "f_ul2.shape"
   ]
  },
  {
   "cell_type": "markdown",
   "metadata": {},
   "source": [
    "###### ---- ######"
   ]
  },
  {
   "cell_type": "code",
   "execution_count": 34,
   "metadata": {},
   "outputs": [
    {
     "data": {
      "text/plain": [
       "0.58213013902613586"
      ]
     },
     "execution_count": 34,
     "metadata": {},
     "output_type": "execute_result"
    }
   ],
   "source": [
    "##try hierarchical clustering here(watch out on computing power needed)\n",
    "from scipy.cluster.hierarchy import dendrogram, linkage\n",
    "from scipy.cluster.hierarchy import cophenet\n",
    "from scipy.spatial.distance import pdist\n",
    "\n",
    "Z = linkage(tmonths.head(10000), 'ward') #test other methods n distances too\n",
    "\n",
    "#check the cophenetic coefficient of clusters (closer to 1 better)\n",
    "ccc, coph_dists = cophenet(Z, pdist(tmonths.head(10000)))\n",
    "ccc"
   ]
  },
  {
   "cell_type": "code",
   "execution_count": 33,
   "metadata": {},
   "outputs": [
    {
     "data": {
      "image/png": "[encoded data removed]",
      "text/plain": [
       "<matplotlib.figure.Figure at 0x11acd6d68>"
      ]
     },
     "metadata": {},
     "output_type": "display_data"
    }
   ],
   "source": [
    "plt.figure(num=None, figsize=(16, 6))\n",
    "plt.title('Hierarchical Clustering Dendrogram (truncated)')\n",
    "plt.xlabel('sample index or (cluster size)')\n",
    "plt.ylabel('distance')\n",
    "dendrogram(\n",
    "    Z,\n",
    "    truncate_mode='lastp',  # show only the last p merged clusters\n",
    "    p=50,  # show only the last p merged clusters\n",
    "    leaf_rotation=90.,\n",
    "    leaf_font_size=12.,\n",
    "    show_contracted=True,  # to get a distribution impression in truncated branches\n",
    ")\n",
    "plt.show()"
   ]
  },
  {
   "cell_type": "code",
   "execution_count": null,
   "metadata": {
    "collapsed": true
   },
   "outputs": [],
   "source": []
  },
  {
   "cell_type": "code",
   "execution_count": 34,
   "metadata": {
    "collapsed": true
   },
   "outputs": [],
   "source": [
    "######################################## OLD CODE BELOW ########################################"
   ]
  },
  {
   "cell_type": "markdown",
   "metadata": {},
   "source": [
    "## Monthly Median Seconds"
   ]
  },
  {
   "cell_type": "code",
   "execution_count": null,
   "metadata": {
    "collapsed": true
   },
   "outputs": [],
   "source": [
    "'''\n",
    "#tmonths = pd.read_csv('../ul_tsecs_month_median.csv', index_col = 'new_id')\n",
    "#tmonths.head()\n",
    "\n",
    "#visualize time-pattern of random 1000 users\n",
    "\n",
    "plt.figure(num=None, figsize=(16, 6), dpi=80, facecolor='w', edgecolor='k')\n",
    "user_count = 1000\n",
    "for i in range(user_count):\n",
    "    x = tmonths.loc[np.random.choice(tmonths.index, 1), :].values.reshape(26,1)\n",
    "    plt.plot(x, lw=0.5)\n",
    "plt.xticks(range(26),tmonths.columns.values, rotation=70)\n",
    "plt.title('Median daily secs monthly - Random {} Users'.format(user_count));\n",
    "\n",
    "#visualize monthly distribution of total seconds per user\n",
    "tmonths_melted = pd.melt(tmonths)\n",
    "tmonths_melted = tmonths_melted[tmonths_melted['value'] < 20000]\n",
    "plt.figure(num=None, figsize=(16, 6), dpi=80, facecolor='w', edgecolor='k')\n",
    "sns.violinplot(tmonths_melted['variable'], tmonths_melted['value'])\n",
    "plt.xticks(range(26),tmonths.columns.values, rotation=70);\n",
    "plt.title('Most users listen to 40 min - 2 hr of music daily')\n",
    "\n",
    "## Normalize data?\n",
    "#tmonths_masked = np.ma.array(tmonths, mask=np.isnan(tmonths))\n",
    "#x_norm = np.linalg.norm(tmonths_masked, axis = 1, keepdims = True)\n",
    "'''"
   ]
  },
  {
   "cell_type": "markdown",
   "metadata": {},
   "source": [
    "## Monthly Sum Seconds"
   ]
  },
  {
   "cell_type": "code",
   "execution_count": null,
   "metadata": {
    "collapsed": true
   },
   "outputs": [],
   "source": [
    "'''\n",
    "#sum_months = pd.read_csv('../ul_tsecs_month.csv', index_col='new_id')\n",
    "#sum_months.head(2)\n",
    "\n",
    "## add a column to calculate months of user_log data (not necessarily consecutive and removing Feb)\n",
    "sum_months['p26'] = np.count_nonzero(sum_months.fillna(0).drop('201702',axis=1), axis = 1)\n",
    "sum_months['months_listening'] = pd.cut(sum_months['p26'], [0,6,12,18,24,30], labels=['0-6','7-12','13-18','19-24','25-26'])\n",
    "plt.figure(num=None, figsize=(16, 6), dpi=80, facecolor='w', edgecolor='k')\n",
    "sns.countplot(sum_months['months_listening']);\n",
    "\n",
    "### calculate months with song data in past 6 and 12 months\n",
    "### we are skipping February as it is the expiration month and we know some let it expire\n",
    "\n",
    "p6 = ['201701','201612','201611','201610','201609','201608']\n",
    "p12 = ['201701','201612','201611','201610','201609','201608','201607','201606','201605','201604','201603','201602']\n",
    "\n",
    "sum_months['listening_p6'] = np.count_nonzero(sum_months[p6].fillna(0), axis = 1)\n",
    "sum_months['listening_p12'] = np.count_nonzero(sum_months[p12].fillna(0), axis = 1)\n",
    "sum_months['logavg_secs_p12'] = np.log((np.sum(sum_months[p12].fillna(0), axis = 1)+1)/(sum_months['listening_p12']+1))\n",
    "\n",
    "plt.figure(num=None, figsize=(16, 4), dpi=80, facecolor='w', edgecolor='k')\n",
    "plt.subplot(1,2,1)\n",
    "sns.countplot(sum_months['listening_p6'])\n",
    "plt.subplot(1,2,2)\n",
    "sns.countplot(sum_months['listening_p12'])\n",
    "\n",
    "plt.figure(num=None, figsize=(16, 4), dpi=80, facecolor='w', edgecolor='k')\n",
    "sns.distplot(sum_months['logavg_secs_p12'])\n",
    "\n",
    "### calculate descending consecutive months with no log data (no songs consecutive previous 6 months, or no_songs_cp6)\n",
    "### Again, skipping February as it is the month of expiration\n",
    "\n",
    "no_songs = []\n",
    "for id in np.unique(sum_months.index.values):\n",
    "    total_months = 0\n",
    "    if np.isnan(sum_months.loc[id, '201701']):\n",
    "        total_months += 1\n",
    "        if np.isnan(sum_months.loc[id, '201612']):\n",
    "            total_months += 1\n",
    "            if np.isnan(sum_months.loc[id, '201611']):\n",
    "                total_months += 1\n",
    "                if np.isnan(sum_months.loc[id, '201610']):\n",
    "                    total_months += 1\n",
    "                    if np.isnan(sum_months.loc[id, '201609']):\n",
    "                        total_months += 1\n",
    "                        if np.isnan(sum_months.loc[id, '201608']):\n",
    "                            total_months += 1\n",
    "    no_songs.append(total_months)\n",
    "\n",
    "sum_months['no_songs_cp6'] = no_songs\n",
    "\n",
    "plt.figure(num=None, figsize=(16, 4), dpi=80, facecolor='w', edgecolor='k')\n",
    "sns.countplot(sum_months['no_songs_cp6'])\n",
    "\n",
    "x =  train.merge(sum_months.reset_index(), left_on='new_id', right_on='new_id', how='inner', copy = False)[\n",
    "    ['new_id','is_churn','no_songs_cp6','p26','months_listening','listening_p6','listening_p12','logavg_secs_p12']]\n",
    "\n",
    "#check the impact with churn, if anything noticeable\n",
    "\n",
    "plt.figure(num=None, figsize=(16, 6), dpi=80, facecolor='w', edgecolor='k')\n",
    "sns.barplot('no_songs_cp6', 'is_churn', data=x);\n",
    "\n",
    "plt.figure(num=None, figsize=(16, 6), dpi=80, facecolor='w', edgecolor='k')\n",
    "sns.barplot('months_listening', 'is_churn', data=x);\n",
    "\n",
    "plt.figure(num=None, figsize=(16, 4), dpi=80, facecolor='w', edgecolor='k')\n",
    "sns.barplot('listening_p6', 'is_churn', data=x);\n",
    "\n",
    "plt.figure(num=None, figsize=(16, 4), dpi=80, facecolor='w', edgecolor='k')\n",
    "sns.barplot('listening_p12', 'is_churn', data=x);\n",
    "\n",
    "plt.figure(num=None, figsize=(16, 8), dpi=80, facecolor='w', edgecolor='k')\n",
    "plt.subplot(1,2,1)\n",
    "sns.violinplot( x['months_listening'] , x['logavg_secs_p12'], hue =x['is_churn'] , split=True, inner=\"quartile\");\n",
    "\n",
    "plt.subplot(1,2,2)\n",
    "sns.boxplot(  x['is_churn'] , x['logavg_secs_p12']);\n",
    "'''"
   ]
  },
  {
   "cell_type": "markdown",
   "metadata": {},
   "source": [
    "## Working with pivoted data - Monthly Unique Songs + Monthly Total Songs"
   ]
  },
  {
   "cell_type": "code",
   "execution_count": null,
   "metadata": {
    "collapsed": true,
    "scrolled": false
   },
   "outputs": [],
   "source": [
    "'''\n",
    "### the rationale is to explore users profile - how many unique songs out of all songs/seconds ?\n",
    "### the number of unique songs / total songs might indicate specific types of listener.\n",
    "\n",
    "#loading all pivoted tables:\n",
    "munique_sum = pd.read_csv('../num_unq_sum.csv', index_col = 'new_id')\n",
    "munique_median = pd.read_csv('../num_unq_median.csv', index_col = 'new_id')\n",
    "\n",
    "msongs_sum = pd.read_csv('../ul_tsongs_month.csv', index_col = 'new_id')\n",
    "msongs_median = pd.read_csv('../ul_tsongs_month_median.csv', index_col = 'new_id')\n",
    "\n",
    "msecs_sum = pd.read_csv('../ul_tsecs_month.csv', index_col = 'new_id')\n",
    "msecs_median = pd.read_csv('../ul_tsecs_month_median.csv', index_col = 'new_id')\n",
    "\n",
    "#create index of unique songs / total number of songs\n",
    "variety_songs = np.divide(munique_median, msongs_median) #element-wise division\n",
    "\n",
    "#create index of total secs / total of unique songs\n",
    "variety_secs = np.divide(msecs_median, munique_median) #element-wise division\n",
    "\n",
    "plt.figure(num=None, figsize=(16,8), dpi=80, facecolor='w', edgecolor='k')\n",
    "\n",
    "plt.subplot(2,1,1)\n",
    "plt.title('unique songs / total songs - Medians');\n",
    "sns.boxplot(variety_songs[['201701','201612','201611']], orient='h')\n",
    "\n",
    "plt.subplot(2,1,2)\n",
    "plt.title('total secs / unique songs - Medians');\n",
    "sns.boxplot(variety_secs[['201701','201612','201611']], orient='h')\n",
    "'''"
   ]
  },
  {
   "cell_type": "markdown",
   "metadata": {},
   "source": [
    "<span style=\"color:blue\"> <i>\n",
    "it is important to notice the number of unique songs could be for incomplete unique songs. Therefore number of total songs might be lower than the number of unique songs. The idea of a number of \"total songs\" is the equivalent of total songs given the average [median] length of a song. Therefore it might make more sense to use total_secs. </i></span>"
   ]
  },
  {
   "cell_type": "markdown",
   "metadata": {},
   "source": [
    "## Test some clusters on median seconds monthly"
   ]
  },
  {
   "cell_type": "markdown",
   "metadata": {},
   "source": [
    "<span style=\"color:blue\"> <i> \n",
    "The benefit of using median is it only counts days with activity. However, if fails to capture intensity of listening behavior, which is better captured with the <strong>sum</strong>. Essentially we need both, and we need to evaluate a way to caputure the change in behavior daily/monthly.\n",
    "</i></span>"
   ]
  },
  {
   "cell_type": "code",
   "execution_count": null,
   "metadata": {
    "collapsed": true
   },
   "outputs": [],
   "source": [
    "'''\n",
    "##In order to test some clusters need to replace NAs, with 0 in this case.\n",
    "tmonths = pd.read_csv('../ul_tsecs_month_median.csv', index_col=\"new_id\")\n",
    "tmonths.fillna(0, inplace = True)\n",
    "\n",
    "from sklearn.cluster import KMeans\n",
    "sclusters = [3,4,5,6,7,8,9]\n",
    "tmonths_temp = tmonths.copy(deep=True)\n",
    "\n",
    "for scluster in sclusters:\n",
    "    kmeans = KMeans(n_clusters=scluster, random_state=0).fit(tmonths)\n",
    "    tmonths_temp['cluster'] = kmeans.labels_\n",
    "    x_temp =  train.merge(tmonths_temp.reset_index(), left_on='new_id', right_on='new_id', how='inner', copy = False)[\n",
    "    ['new_id','is_churn','cluster']]\n",
    "    \n",
    "    plt.figure(num=None, figsize=(16, 4), dpi=80, facecolor='w', edgecolor='k')\n",
    "    print ('Clusters: {}'.format(scluster))\n",
    "    plt.subplot(1,3,1)\n",
    "    sns.countplot(kmeans.labels_, color=\"salmon\")\n",
    "\n",
    "    plt.subplot(1,3,2)\n",
    "    plt.title('Clusters Means')\n",
    "    plt.plot(kmeans.cluster_centers_.T);\n",
    "    \n",
    "    plt.subplot(1,3,3)\n",
    "    sns.barplot(x_temp['cluster'], x_temp['is_churn'], color=\"salmon\")\n",
    "    plt.show()\n",
    "\n",
    "\n",
    "\n",
    "tmonths_c9 = tmonths\n",
    "tmonths_c9['cluster'] = kmeans.labels_\n",
    "\n",
    "colors = ['red','green','black','grey', 'blue', 'steelblue', 'purple', 'orange', 'brown']\n",
    "counter = 0\n",
    "plt.figure(num=None, figsize=(16, 7), dpi=80, facecolor='w', edgecolor='k')\n",
    "for cluster in np.unique(kmeans.labels_):\n",
    "    plt.plot(tmonths_c9[tmonths_c9['cluster'] == cluster].drop('cluster', axis = 1).quantile(0.25), color = colors[counter]);\n",
    "    plt.plot(tmonths_c9[tmonths_c9['cluster'] == cluster].drop('cluster', axis = 1).quantile(0.75), color = colors[counter]);\n",
    "    counter += 1\n",
    "    \n",
    "plt.title('Interquartile range for each cluster throughout months ({0} clusters)'.format(counter))\n",
    "plt.show()\n",
    "\n",
    "##very hard to see, but very informative chart. Lots of overlaps and massive distances in the interquartile ranges.\n",
    "##this <might> point to poorly separated clusters. Perhaps graph with heatmap\n",
    "'''"
   ]
  },
  {
   "cell_type": "code",
   "execution_count": null,
   "metadata": {
    "collapsed": true
   },
   "outputs": [],
   "source": []
  }
 ],
 "metadata": {
  "kernelspec": {
   "display_name": "Python 3",
   "language": "python",
   "name": "python3"
  },
  "language_info": {
   "codemirror_mode": {
    "name": "ipython",
    "version": 3
   },
   "file_extension": ".py",
   "mimetype": "text/x-python",
   "name": "python",
   "nbconvert_exporter": "python",
   "pygments_lexer": "ipython3",
   "version": "3.6.1"
  }
 },
 "nbformat": 4,
 "nbformat_minor": 2
}
