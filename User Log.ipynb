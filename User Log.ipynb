{
 "cells": [
  {
   "cell_type": "code",
   "execution_count": 1,
   "metadata": {
    "collapsed": true
   },
   "outputs": [],
   "source": [
    "import numpy as np\n",
    "import pandas as pd\n",
    "\n",
    "import os.path\n",
    "from os import listdir\n",
    "import subprocess\n",
    "import time\n",
    "import datetime as dt\n",
    "import seaborn as sns\n",
    "import matplotlib.pyplot as plt\n",
    "%matplotlib inline"
   ]
  },
  {
   "cell_type": "code",
   "execution_count": 3,
   "metadata": {
    "collapsed": true
   },
   "outputs": [],
   "source": [
    "def members(new_ids = 'yes'):\n",
    "    \"\"\"\n",
    "    Read and parse the info for the members file (smallint, dates, ...)\n",
    "    \"\"\"\n",
    "    members_file = pd.read_csv('../new_members.csv', dtype={\n",
    "            'bd': np.int8, 'city': np.int8, 'gender':'category' ,\n",
    "            'registered_via':np.int8, 'registration_init_time':'str',\n",
    "            'expiration_date': 'str', 'new_id':np.uint32},\n",
    "                parse_dates=['expiration_date', 'registration_init_time'])\n",
    "\n",
    "    return members_file\n",
    "\n",
    "def transactions(new_ids = 'yes'):\n",
    "    \"\"\"\n",
    "    Read and parse the info for the txn file (smallint, dates, ...)\n",
    "    \"\"\"\n",
    "    txn_file = pd.read_csv('../new_transactions.csv', dtype={\n",
    "        'payment_method_id': np.int8,\n",
    "        'payment_plan_days': np.uint16,\n",
    "        'is_cancel': np.int8,\n",
    "        'is_auto_renew': np.int8,\n",
    "        'transaction_date': 'str',\n",
    "        'membership_expire_date': 'str',\n",
    "        'plan_list_price': np.uint16,\n",
    "        'actual_amount_paid': np.uint16,\n",
    "        'new_id': np.uint32},\n",
    "        parse_dates=['transaction_date', 'membership_expire_date'])\n",
    "\n",
    "    return txn_file\n",
    "\n",
    "def train(new_ids = 'yes'):\n",
    "    \"\"\"\n",
    "    Read and parse the info for the train file (smallint, dates, ...)\n",
    "    \"\"\"\n",
    "    train_file = pd.read_csv('../new_train.csv', dtype={\n",
    "            'is_churn': np.int8,\n",
    "            'new_id': np.uint16})\n",
    "\n",
    "    return train_file\n",
    "\n",
    "def user_logs(new_ids = 'yes', prefix = \"new_\"):\n",
    "    \"\"\"\n",
    "    Read and parse the info for the user_log files (smallint, dates, ...)\n",
    "    \"\"\"\n",
    "    onlyfiles = [f for f in listdir('user_log_files/') if os.path.isfile(os.path.join('user_log_files/', f))]\n",
    "    counter = 0\n",
    "    for doc in onlyfiles:\n",
    "        if doc[0:len(prefix)] == prefix:\n",
    "            user_log_temp = pd.read_csv('user_log_files/'+doc, dtype = {\n",
    "                    'new_id': np.uint32,\n",
    "                    'date': 'str',\n",
    "                    'num_25': np.uint16,\n",
    "                    'num_50': np.uint16,\n",
    "                    'num_75': np.uint16,\n",
    "                    'num_985': np.uint16,\n",
    "                    'num_100': np.uint16,\n",
    "                    'num_unq': np.uint16,\n",
    "                    'total_secs': np.float32\n",
    "                }, parse_dates = ['date'])\n",
    "            if counter == 0:\n",
    "                user_log_combined = user_log_temp\n",
    "            else:\n",
    "                user_log_combined = user_log_combined.append(user_log_temp, ignore_index=True)\n",
    "            counter =+ 1\n",
    "\n",
    "    return user_log_combined"
   ]
  },
  {
   "cell_type": "code",
   "execution_count": 4,
   "metadata": {},
   "outputs": [],
   "source": [
    "#memb = members()\n",
    "#txn= transactions()\n",
    "#tr = train()\n",
    "ul = user_logs()"
   ]
  },
  {
   "cell_type": "code",
   "execution_count": 5,
   "metadata": {},
   "outputs": [
    {
     "data": {
      "text/html": [
       "<div>\n",
       "<style scoped>\n",
       "    .dataframe tbody tr th:only-of-type {\n",
       "        vertical-align: middle;\n",
       "    }\n",
       "\n",
       "    .dataframe tbody tr th {\n",
       "        vertical-align: top;\n",
       "    }\n",
       "\n",
       "    .dataframe thead th {\n",
       "        text-align: right;\n",
       "    }\n",
       "</style>\n",
       "<table border=\"1\" class=\"dataframe\">\n",
       "  <thead>\n",
       "    <tr style=\"text-align: right;\">\n",
       "      <th></th>\n",
       "      <th>date</th>\n",
       "      <th>num_25</th>\n",
       "      <th>num_50</th>\n",
       "      <th>num_75</th>\n",
       "      <th>num_985</th>\n",
       "      <th>num_100</th>\n",
       "      <th>num_unq</th>\n",
       "      <th>total_secs</th>\n",
       "      <th>new_id</th>\n",
       "    </tr>\n",
       "  </thead>\n",
       "  <tbody>\n",
       "    <tr>\n",
       "      <th>6264</th>\n",
       "      <td>2015-09-09</td>\n",
       "      <td>4</td>\n",
       "      <td>3</td>\n",
       "      <td>1</td>\n",
       "      <td>1</td>\n",
       "      <td>154</td>\n",
       "      <td>141</td>\n",
       "      <td>-9.223372e+15</td>\n",
       "      <td>185093</td>\n",
       "    </tr>\n",
       "    <tr>\n",
       "      <th>16357</th>\n",
       "      <td>2015-09-26</td>\n",
       "      <td>12</td>\n",
       "      <td>1</td>\n",
       "      <td>2</td>\n",
       "      <td>4</td>\n",
       "      <td>67</td>\n",
       "      <td>83</td>\n",
       "      <td>-9.223372e+15</td>\n",
       "      <td>435843</td>\n",
       "    </tr>\n",
       "    <tr>\n",
       "      <th>17925</th>\n",
       "      <td>2016-02-21</td>\n",
       "      <td>12</td>\n",
       "      <td>8</td>\n",
       "      <td>8</td>\n",
       "      <td>8</td>\n",
       "      <td>53</td>\n",
       "      <td>77</td>\n",
       "      <td>-9.223372e+15</td>\n",
       "      <td>1069129</td>\n",
       "    </tr>\n",
       "    <tr>\n",
       "      <th>33569</th>\n",
       "      <td>2015-07-10</td>\n",
       "      <td>3</td>\n",
       "      <td>0</td>\n",
       "      <td>0</td>\n",
       "      <td>1</td>\n",
       "      <td>72</td>\n",
       "      <td>73</td>\n",
       "      <td>-9.223372e+15</td>\n",
       "      <td>421133</td>\n",
       "    </tr>\n",
       "    <tr>\n",
       "      <th>33642</th>\n",
       "      <td>2015-11-22</td>\n",
       "      <td>18</td>\n",
       "      <td>3</td>\n",
       "      <td>1</td>\n",
       "      <td>2</td>\n",
       "      <td>131</td>\n",
       "      <td>142</td>\n",
       "      <td>-9.223372e+15</td>\n",
       "      <td>530918</td>\n",
       "    </tr>\n",
       "  </tbody>\n",
       "</table>\n",
       "</div>"
      ],
      "text/plain": [
       "            date  num_25  num_50  num_75  num_985  num_100  num_unq  \\\n",
       "6264  2015-09-09       4       3       1        1      154      141   \n",
       "16357 2015-09-26      12       1       2        4       67       83   \n",
       "17925 2016-02-21      12       8       8        8       53       77   \n",
       "33569 2015-07-10       3       0       0        1       72       73   \n",
       "33642 2015-11-22      18       3       1        2      131      142   \n",
       "\n",
       "         total_secs   new_id  \n",
       "6264  -9.223372e+15   185093  \n",
       "16357 -9.223372e+15   435843  \n",
       "17925 -9.223372e+15  1069129  \n",
       "33569 -9.223372e+15   421133  \n",
       "33642 -9.223372e+15   530918  "
      ]
     },
     "execution_count": 5,
     "metadata": {},
     "output_type": "execute_result"
    }
   ],
   "source": [
    "ul[ul['total_secs']<0].head()"
   ]
  },
  {
   "cell_type": "code",
   "execution_count": 6,
   "metadata": {},
   "outputs": [
    {
     "data": {
      "text/plain": [
       "count    2.628684e+08\n",
       "mean    -1.281375e+12\n",
       "std      1.088003e+14\n",
       "min     -9.223372e+15\n",
       "25%      1.964627e+03\n",
       "50%      4.683637e+03\n",
       "75%      1.024294e+04\n",
       "max      9.223372e+15\n",
       "Name: total_secs, dtype: float64"
      ]
     },
     "execution_count": 6,
     "metadata": {},
     "output_type": "execute_result"
    }
   ],
   "source": [
    "ul['total_secs'].describe()"
   ]
  },
  {
   "cell_type": "code",
   "execution_count": 7,
   "metadata": {},
   "outputs": [
    {
     "data": {
      "text/plain": [
       "count    2.628684e+08\n",
       "mean     6.555499e+00\n",
       "std      1.427027e+01\n",
       "min      0.000000e+00\n",
       "25%      0.000000e+00\n",
       "50%      2.000000e+00\n",
       "75%      7.000000e+00\n",
       "max      9.258000e+03\n",
       "Name: num_25, dtype: float64"
      ]
     },
     "execution_count": 7,
     "metadata": {},
     "output_type": "execute_result"
    }
   ],
   "source": [
    "ul['num_25'].describe()"
   ]
  },
  {
   "cell_type": "code",
   "execution_count": 8,
   "metadata": {},
   "outputs": [
    {
     "data": {
      "text/plain": [
       "count    2.628684e+08\n",
       "mean     1.630658e+00\n",
       "std      4.163109e+00\n",
       "min      0.000000e+00\n",
       "25%      0.000000e+00\n",
       "50%      1.000000e+00\n",
       "75%      2.000000e+00\n",
       "max      1.262000e+03\n",
       "Name: num_50, dtype: float64"
      ]
     },
     "execution_count": 8,
     "metadata": {},
     "output_type": "execute_result"
    }
   ],
   "source": [
    "ul['num_50'].describe()"
   ]
  },
  {
   "cell_type": "code",
   "execution_count": 9,
   "metadata": {},
   "outputs": [
    {
     "data": {
      "text/plain": [
       "count    2.628684e+08\n",
       "mean     1.018855e+00\n",
       "std      2.137062e+00\n",
       "min      0.000000e+00\n",
       "25%      0.000000e+00\n",
       "50%      0.000000e+00\n",
       "75%      1.000000e+00\n",
       "max      7.900000e+02\n",
       "Name: num_75, dtype: float64"
      ]
     },
     "execution_count": 9,
     "metadata": {},
     "output_type": "execute_result"
    }
   ],
   "source": [
    "ul['num_75'].describe()"
   ]
  },
  {
   "cell_type": "code",
   "execution_count": 10,
   "metadata": {},
   "outputs": [
    {
     "data": {
      "text/plain": [
       "count    2.628684e+08\n",
       "mean     1.132297e+00\n",
       "std      2.759212e+00\n",
       "min      0.000000e+00\n",
       "25%      0.000000e+00\n",
       "50%      0.000000e+00\n",
       "75%      1.000000e+00\n",
       "max      2.516000e+03\n",
       "Name: num_985, dtype: float64"
      ]
     },
     "execution_count": 10,
     "metadata": {},
     "output_type": "execute_result"
    }
   ],
   "source": [
    "ul['num_985'].describe()"
   ]
  },
  {
   "cell_type": "code",
   "execution_count": 11,
   "metadata": {},
   "outputs": [
    {
     "data": {
      "text/plain": [
       "count    2.628684e+08\n",
       "mean     3.072780e+01\n",
       "std      4.133964e+01\n",
       "min      0.000000e+00\n",
       "25%      7.000000e+00\n",
       "50%      1.700000e+01\n",
       "75%      3.800000e+01\n",
       "max      2.423500e+04\n",
       "Name: num_100, dtype: float64"
      ]
     },
     "execution_count": 11,
     "metadata": {},
     "output_type": "execute_result"
    }
   ],
   "source": [
    "ul['num_100'].describe()"
   ]
  },
  {
   "cell_type": "code",
   "execution_count": 12,
   "metadata": {},
   "outputs": [
    {
     "data": {
      "text/plain": [
       "count    2.628684e+08\n",
       "mean     3.025812e+01\n",
       "std      3.354661e+01\n",
       "min      1.000000e+00\n",
       "25%      8.000000e+00\n",
       "50%      1.900000e+01\n",
       "75%      4.000000e+01\n",
       "max      3.869000e+03\n",
       "Name: num_unq, dtype: float64"
      ]
     },
     "execution_count": 12,
     "metadata": {},
     "output_type": "execute_result"
    }
   ],
   "source": [
    "ul['num_unq'].describe()"
   ]
  },
  {
   "cell_type": "code",
   "execution_count": 13,
   "metadata": {},
   "outputs": [
    {
     "name": "stdout",
     "output_type": "stream",
     "text": [
      "total nulls for total_secs: 0\n",
      "total nulls for num_25: 0\n",
      "total nulls for num_50: 0\n",
      "total nulls for num_75: 0\n",
      "total nulls for num_985: 0\n",
      "total nulls for num_100: 0\n",
      "total nulls for num_unq: 0\n"
     ]
    }
   ],
   "source": [
    "print ('total nulls for total_secs: %s' %(len(ul[pd.isnull(ul['total_secs'])==True])))\n",
    "print ('total nulls for num_25: %s' %(len(ul[pd.isnull(ul['num_25'])==True])))\n",
    "print ('total nulls for num_50: %s' %(len(ul[pd.isnull(ul['num_50'])==True])))\n",
    "print ('total nulls for num_75: %s' %(len(ul[pd.isnull(ul['num_75'])==True])))\n",
    "print ('total nulls for num_985: %s' %(len(ul[pd.isnull(ul['num_985'])==True])))\n",
    "print ('total nulls for num_100: %s' %(len(ul[pd.isnull(ul['num_100'])==True])))\n",
    "print ('total nulls for num_unq: %s' %(len(ul[pd.isnull(ul['num_unq'])==True])))"
   ]
  },
  {
   "cell_type": "code",
   "execution_count": 15,
   "metadata": {},
   "outputs": [
    {
     "data": {
      "text/plain": [
       "40776.53515625"
      ]
     },
     "execution_count": 15,
     "metadata": {},
     "output_type": "execute_result"
    }
   ],
   "source": [
    "ul['total_secs'].quantile(0.985)"
   ]
  },
  {
   "cell_type": "code",
   "execution_count": 16,
   "metadata": {},
   "outputs": [],
   "source": [
    "ul['secs_capped'] = ul['total_secs'].clip(lower = 0, upper = ul['total_secs'].quantile(0.985))"
   ]
  },
  {
   "cell_type": "code",
   "execution_count": 17,
   "metadata": {},
   "outputs": [
    {
     "data": {
      "text/plain": [
       "count    2.628684e+08\n",
       "mean     3.506622e+03\n",
       "std      8.534497e+03\n",
       "min      0.000000e+00\n",
       "25%      1.964627e+03\n",
       "50%      4.683637e+03\n",
       "75%      1.024294e+04\n",
       "max      4.077654e+04\n",
       "Name: secs_capped, dtype: float64"
      ]
     },
     "execution_count": 17,
     "metadata": {},
     "output_type": "execute_result"
    }
   ],
   "source": [
    "ul['secs_capped'].describe()"
   ]
  },
  {
   "cell_type": "code",
   "execution_count": 18,
   "metadata": {},
   "outputs": [
    {
     "name": "stderr",
     "output_type": "stream",
     "text": [
      "/Users/calestini/anaconda/lib/python3.6/site-packages/seaborn/categorical.py:454: FutureWarning: remove_na is deprecated and is a private function. Do not use.\n",
      "  box_data = remove_na(group_data)\n"
     ]
    },
    {
     "data": {
      "text/plain": [
       "<matplotlib.axes._subplots.AxesSubplot at 0x11732ef28>"
      ]
     },
     "execution_count": 18,
     "metadata": {},
     "output_type": "execute_result"
    },
    {
     "data": {
      "image/png": "[encoded data removed]",
      "text/plain": [
       "<matplotlib.figure.Figure at 0x117345978>"
      ]
     },
     "metadata": {},
     "output_type": "display_data"
    }
   ],
   "source": [
    "plt.figure(num=None, figsize=(16, 4), dpi=80, facecolor='w', edgecolor='k')\n",
    "sns.boxplot(ul['secs_capped'], color='green')"
   ]
  },
  {
   "cell_type": "code",
   "execution_count": 19,
   "metadata": {
    "collapsed": true
   },
   "outputs": [],
   "source": [
    "ul['avg_song'] = ul['total_secs']/(((0.25*ul['num_25'] + 0.50*ul['num_50'] + 0.75*ul['num_75'] + 0.985*ul['num_985'])*0.90)+ul['num_100'])"
   ]
  },
  {
   "cell_type": "code",
   "execution_count": 33,
   "metadata": {},
   "outputs": [
    {
     "name": "stdout",
     "output_type": "stream",
     "text": [
      "quantile 2.5% avg_song uncapped: 147.75330941807272s\n",
      "quantile 50.0% avg_song uncapped: 235.15120515360087s\n",
      "quantile 98.5% avg_song uncapped: 299.07188998270567s\n"
     ]
    }
   ],
   "source": [
    "print ('quantile 2.5% avg_song uncapped: {0}s' .format(ul['avg_song'].quantile(0.025)))\n",
    "print ('quantile 50.0% avg_song uncapped: {0}s' .format(ul['avg_song'].quantile(0.50)))\n",
    "print ('quantile 98.5% avg_song uncapped: {0}s' .format(ul['avg_song'].quantile(0.985)))"
   ]
  },
  {
   "cell_type": "code",
   "execution_count": 36,
   "metadata": {},
   "outputs": [
    {
     "name": "stderr",
     "output_type": "stream",
     "text": [
      "/Users/calestini/anaconda/lib/python3.6/site-packages/seaborn/categorical.py:454: FutureWarning: remove_na is deprecated and is a private function. Do not use.\n",
      "  box_data = remove_na(group_data)\n"
     ]
    },
    {
     "data": {
      "text/plain": [
       "<matplotlib.axes._subplots.AxesSubplot at 0xd3206eef0>"
      ]
     },
     "execution_count": 36,
     "metadata": {},
     "output_type": "execute_result"
    },
    {
     "data": {
      "image/png": "[encoded data removed]",
      "text/plain": [
       "<matplotlib.figure.Figure at 0x117a97278>"
      ]
     },
     "metadata": {},
     "output_type": "display_data"
    }
   ],
   "source": [
    "plt.figure(num=None, figsize=(16, 4), dpi=80, facecolor='w', edgecolor='k')\n",
    "sns.boxplot(ul[(ul['avg_song']>0)&(ul['avg_song']<300)]['avg_song'])\n",
    "#sns.boxplot(ul[(ul['avg_song']>0)&(ul['avg_song']<300)]['avg_song'])"
   ]
  },
  {
   "cell_type": "code",
   "execution_count": 37,
   "metadata": {
    "collapsed": true
   },
   "outputs": [],
   "source": [
    "avg_song = ul['avg_song'].quantile(0.5) #median"
   ]
  },
  {
   "cell_type": "code",
   "execution_count": 38,
   "metadata": {},
   "outputs": [],
   "source": [
    "ul['total_secs_new'] = avg_song*(0.25*ul['num_25'] + 0.50*ul['num_50'] + 0.75*ul['num_75'] + 0.985*ul['num_985']+ul['num_100'])"
   ]
  },
  {
   "cell_type": "code",
   "execution_count": 39,
   "metadata": {},
   "outputs": [
    {
     "data": {
      "text/plain": [
       "count    2.628684e+08\n",
       "mean     8.244743e+03\n",
       "std      1.016365e+04\n",
       "min      5.878780e+01\n",
       "25%      2.057573e+03\n",
       "50%      4.879388e+03\n",
       "75%      1.050891e+04\n",
       "max      5.755502e+06\n",
       "Name: total_secs_new, dtype: float64"
      ]
     },
     "execution_count": 39,
     "metadata": {},
     "output_type": "execute_result"
    }
   ],
   "source": [
    "ul['total_secs_new'].describe()"
   ]
  },
  {
   "cell_type": "code",
   "execution_count": 47,
   "metadata": {
    "collapsed": true
   },
   "outputs": [],
   "source": [
    "ul['secs_capped_new'] = ul['total_secs_new'].clip(lower = 0, upper = ul['total_secs_new'].quantile(0.985))"
   ]
  },
  {
   "cell_type": "code",
   "execution_count": 48,
   "metadata": {
    "collapsed": true
   },
   "outputs": [],
   "source": [
    "ul['secs_diff'] = ul['secs_capped_new']-ul['secs_capped']"
   ]
  },
  {
   "cell_type": "code",
   "execution_count": 49,
   "metadata": {},
   "outputs": [
    {
     "data": {
      "text/plain": [
       "count    2.628684e+08\n",
       "mean     1.059203e+02\n",
       "std      1.319889e+03\n",
       "min     -4.054138e+04\n",
       "25%     -2.365808e+02\n",
       "50%      3.259064e+01\n",
       "75%      3.851083e+02\n",
       "max      4.056358e+04\n",
       "Name: secs_diff, dtype: float64"
      ]
     },
     "execution_count": 49,
     "metadata": {},
     "output_type": "execute_result"
    }
   ],
   "source": [
    "ul['secs_diff'].describe()"
   ]
  },
  {
   "cell_type": "code",
   "execution_count": 50,
   "metadata": {},
   "outputs": [
    {
     "name": "stdout",
     "output_type": "stream",
     "text": [
      "quantile 2.5% secs_diff capped: -2143.9853471744746s\n",
      "quantile 50.0% secs_diff capped: 32.590639386583916s\n",
      "quantile 98.5% secs_diff capped: 3468.1195197297397s\n"
     ]
    }
   ],
   "source": [
    "print ('quantile 2.5% secs_diff capped: {0}s' .format(ul['secs_diff'].quantile(0.025)))\n",
    "print ('quantile 50.0% secs_diff capped: {0}s' .format(ul['secs_diff'].quantile(0.50)))\n",
    "print ('quantile 98.5% secs_diff capped: {0}s' .format(ul['secs_diff'].quantile(0.985)))"
   ]
  },
  {
   "cell_type": "code",
   "execution_count": 52,
   "metadata": {},
   "outputs": [
    {
     "name": "stderr",
     "output_type": "stream",
     "text": [
      "/Users/calestini/anaconda/lib/python3.6/site-packages/seaborn/categorical.py:454: FutureWarning: remove_na is deprecated and is a private function. Do not use.\n",
      "  box_data = remove_na(group_data)\n"
     ]
    },
    {
     "data": {
      "text/plain": [
       "<matplotlib.axes._subplots.AxesSubplot at 0x11bff26a0>"
      ]
     },
     "execution_count": 52,
     "metadata": {},
     "output_type": "execute_result"
    },
    {
     "data": {
      "image/png": "[encoded data removed]",
      "text/plain": [
       "<matplotlib.figure.Figure at 0x117950160>"
      ]
     },
     "metadata": {},
     "output_type": "display_data"
    }
   ],
   "source": [
    "plt.figure(num=None, figsize=(16, 4), dpi=80, facecolor='w', edgecolor='k')\n",
    "sns.boxplot(ul['secs_diff'])"
   ]
  },
  {
   "cell_type": "code",
   "execution_count": 54,
   "metadata": {},
   "outputs": [],
   "source": [
    "ul['total_songs']=(0.25*ul['num_25'] + 0.50*ul['num_50'] + 0.75*ul['num_75'] + 0.985*ul['num_985']+ul['num_100'])"
   ]
  },
  {
   "cell_type": "code",
   "execution_count": 55,
   "metadata": {},
   "outputs": [
    {
     "data": {
      "text/plain": [
       "count    2.628684e+08\n",
       "mean     3.506145e+01\n",
       "std      4.322178e+01\n",
       "min      2.500000e-01\n",
       "25%      8.750000e+00\n",
       "50%      2.075000e+01\n",
       "75%      4.469000e+01\n",
       "max      2.447575e+04\n",
       "Name: total_songs, dtype: float64"
      ]
     },
     "execution_count": 55,
     "metadata": {},
     "output_type": "execute_result"
    }
   ],
   "source": [
    "ul['total_songs'].describe()"
   ]
  },
  {
   "cell_type": "code",
   "execution_count": 59,
   "metadata": {},
   "outputs": [
    {
     "name": "stdout",
     "output_type": "stream",
     "text": [
      "quantile 2.5% total_songs uncapped: 1.0 songs\n",
      "quantile 50.0% total_songs uncapped: 20.75 songs\n",
      "quantile 98.5% total_songs uncapped: 172.5 songs\n",
      "quantile 99.5% total_songs uncapped: 220.0 songs\n"
     ]
    }
   ],
   "source": [
    "print ('quantile 2.5% total_songs uncapped: {0} songs' .format(ul['total_songs'].quantile(0.025)))\n",
    "print ('quantile 50.0% total_songs uncapped: {0} songs' .format(ul['total_songs'].quantile(0.50)))\n",
    "print ('quantile 98.5% total_songs uncapped: {0} songs' .format(ul['total_songs'].quantile(0.985)))\n",
    "print ('quantile 99.5% total_songs uncapped: {0} songs' .format(ul['total_songs'].quantile(0.995)))"
   ]
  },
  {
   "cell_type": "code",
   "execution_count": 65,
   "metadata": {},
   "outputs": [
    {
     "data": {
      "text/plain": [
       "220.0"
      ]
     },
     "execution_count": 65,
     "metadata": {},
     "output_type": "execute_result"
    }
   ],
   "source": [
    "np.max(ul['total_songs'])"
   ]
  },
  {
   "cell_type": "code",
   "execution_count": 64,
   "metadata": {
    "collapsed": true
   },
   "outputs": [],
   "source": [
    "ul['total_songs'] = ul['total_songs'].clip(lower = 0, upper = ul['total_songs'].quantile(0.995))"
   ]
  },
  {
   "cell_type": "code",
   "execution_count": 63,
   "metadata": {},
   "outputs": [],
   "source": [
    "#len(ul[ul['total_songs']>220])"
   ]
  },
  {
   "cell_type": "code",
   "execution_count": 66,
   "metadata": {},
   "outputs": [
    {
     "name": "stderr",
     "output_type": "stream",
     "text": [
      "/Users/calestini/anaconda/lib/python3.6/site-packages/seaborn/categorical.py:588: FutureWarning: remove_na is deprecated and is a private function. Do not use.\n",
      "  kde_data = remove_na(group_data)\n",
      "/Users/calestini/anaconda/lib/python3.6/site-packages/seaborn/categorical.py:816: FutureWarning: remove_na is deprecated and is a private function. Do not use.\n",
      "  violin_data = remove_na(group_data)\n"
     ]
    },
    {
     "data": {
      "text/plain": [
       "<matplotlib.axes._subplots.AxesSubplot at 0x11bf27630>"
      ]
     },
     "execution_count": 66,
     "metadata": {},
     "output_type": "execute_result"
    },
    {
     "data": {
      "image/png": "[encoded data removed]",
      "text/plain": [
       "<matplotlib.figure.Figure at 0xd348bfc50>"
      ]
     },
     "metadata": {},
     "output_type": "display_data"
    }
   ],
   "source": [
    "sns.violinplot(ul['total_songs'])"
   ]
  },
  {
   "cell_type": "code",
   "execution_count": 2,
   "metadata": {
    "collapsed": true
   },
   "outputs": [],
   "source": [
    "tmonths = pd.read_csv('ul_tsecs_month_mean.csv')"
   ]
  },
  {
   "cell_type": "code",
   "execution_count": 3,
   "metadata": {},
   "outputs": [
    {
     "data": {
      "text/html": [
       "<div>\n",
       "<style scoped>\n",
       "    .dataframe tbody tr th:only-of-type {\n",
       "        vertical-align: middle;\n",
       "    }\n",
       "\n",
       "    .dataframe tbody tr th {\n",
       "        vertical-align: top;\n",
       "    }\n",
       "\n",
       "    .dataframe thead th {\n",
       "        text-align: right;\n",
       "    }\n",
       "</style>\n",
       "<table border=\"1\" class=\"dataframe\">\n",
       "  <thead>\n",
       "    <tr style=\"text-align: right;\">\n",
       "      <th></th>\n",
       "      <th>new_id</th>\n",
       "      <th>2015001</th>\n",
       "      <th>2015002</th>\n",
       "      <th>2015003</th>\n",
       "      <th>2015004</th>\n",
       "      <th>2015005</th>\n",
       "      <th>2015006</th>\n",
       "      <th>2015007</th>\n",
       "      <th>2015008</th>\n",
       "      <th>2015009</th>\n",
       "      <th>...</th>\n",
       "      <th>2016005</th>\n",
       "      <th>2016006</th>\n",
       "      <th>2016007</th>\n",
       "      <th>2016008</th>\n",
       "      <th>2016009</th>\n",
       "      <th>2016010</th>\n",
       "      <th>2016011</th>\n",
       "      <th>2016012</th>\n",
       "      <th>2017001</th>\n",
       "      <th>2017002</th>\n",
       "    </tr>\n",
       "  </thead>\n",
       "  <tbody>\n",
       "    <tr>\n",
       "      <th>0</th>\n",
       "      <td>0</td>\n",
       "      <td>NaN</td>\n",
       "      <td>NaN</td>\n",
       "      <td>NaN</td>\n",
       "      <td>NaN</td>\n",
       "      <td>NaN</td>\n",
       "      <td>NaN</td>\n",
       "      <td>NaN</td>\n",
       "      <td>NaN</td>\n",
       "      <td>NaN</td>\n",
       "      <td>...</td>\n",
       "      <td>NaN</td>\n",
       "      <td>NaN</td>\n",
       "      <td>NaN</td>\n",
       "      <td>NaN</td>\n",
       "      <td>NaN</td>\n",
       "      <td>NaN</td>\n",
       "      <td>9911.205078</td>\n",
       "      <td>8284.257812</td>\n",
       "      <td>5262.289062</td>\n",
       "      <td>5797.553711</td>\n",
       "    </tr>\n",
       "    <tr>\n",
       "      <th>1</th>\n",
       "      <td>1</td>\n",
       "      <td>1873.203125</td>\n",
       "      <td>6028.793457</td>\n",
       "      <td>3056.291992</td>\n",
       "      <td>2895.172852</td>\n",
       "      <td>2780.402100</td>\n",
       "      <td>1000.655273</td>\n",
       "      <td>1236.438110</td>\n",
       "      <td>1505.682251</td>\n",
       "      <td>14764.951172</td>\n",
       "      <td>...</td>\n",
       "      <td>10022.055664</td>\n",
       "      <td>5384.766602</td>\n",
       "      <td>4464.692871</td>\n",
       "      <td>6172.605469</td>\n",
       "      <td>6193.244141</td>\n",
       "      <td>6357.543945</td>\n",
       "      <td>4597.857422</td>\n",
       "      <td>4999.303223</td>\n",
       "      <td>6390.493164</td>\n",
       "      <td>6750.280273</td>\n",
       "    </tr>\n",
       "    <tr>\n",
       "      <th>2</th>\n",
       "      <td>2</td>\n",
       "      <td>21673.003906</td>\n",
       "      <td>27191.789062</td>\n",
       "      <td>21275.046875</td>\n",
       "      <td>19340.996094</td>\n",
       "      <td>17118.615234</td>\n",
       "      <td>11813.696289</td>\n",
       "      <td>11428.293945</td>\n",
       "      <td>6830.270996</td>\n",
       "      <td>7854.643555</td>\n",
       "      <td>...</td>\n",
       "      <td>10452.239258</td>\n",
       "      <td>7977.053223</td>\n",
       "      <td>4837.768066</td>\n",
       "      <td>4197.290039</td>\n",
       "      <td>6567.140625</td>\n",
       "      <td>8956.428711</td>\n",
       "      <td>17024.890625</td>\n",
       "      <td>7045.274902</td>\n",
       "      <td>7991.004883</td>\n",
       "      <td>6188.441895</td>\n",
       "    </tr>\n",
       "    <tr>\n",
       "      <th>3</th>\n",
       "      <td>3</td>\n",
       "      <td>NaN</td>\n",
       "      <td>NaN</td>\n",
       "      <td>NaN</td>\n",
       "      <td>NaN</td>\n",
       "      <td>NaN</td>\n",
       "      <td>NaN</td>\n",
       "      <td>NaN</td>\n",
       "      <td>NaN</td>\n",
       "      <td>NaN</td>\n",
       "      <td>...</td>\n",
       "      <td>3893.915527</td>\n",
       "      <td>5826.351074</td>\n",
       "      <td>2902.727783</td>\n",
       "      <td>2607.057861</td>\n",
       "      <td>7574.272949</td>\n",
       "      <td>4741.559570</td>\n",
       "      <td>4976.264648</td>\n",
       "      <td>5106.366699</td>\n",
       "      <td>3927.523682</td>\n",
       "      <td>3154.527588</td>\n",
       "    </tr>\n",
       "    <tr>\n",
       "      <th>4</th>\n",
       "      <td>4</td>\n",
       "      <td>2925.529297</td>\n",
       "      <td>8068.850586</td>\n",
       "      <td>5994.847168</td>\n",
       "      <td>4704.868652</td>\n",
       "      <td>1799.078857</td>\n",
       "      <td>2563.114258</td>\n",
       "      <td>4798.882812</td>\n",
       "      <td>2272.990723</td>\n",
       "      <td>4145.972168</td>\n",
       "      <td>...</td>\n",
       "      <td>4952.709961</td>\n",
       "      <td>3092.810059</td>\n",
       "      <td>2734.225098</td>\n",
       "      <td>1994.281250</td>\n",
       "      <td>1577.735107</td>\n",
       "      <td>1918.580811</td>\n",
       "      <td>1548.955444</td>\n",
       "      <td>3014.203369</td>\n",
       "      <td>1916.974609</td>\n",
       "      <td>2734.396973</td>\n",
       "    </tr>\n",
       "  </tbody>\n",
       "</table>\n",
       "<p>5 rows × 27 columns</p>\n",
       "</div>"
      ],
      "text/plain": [
       "   new_id       2015001       2015002       2015003       2015004  \\\n",
       "0       0           NaN           NaN           NaN           NaN   \n",
       "1       1   1873.203125   6028.793457   3056.291992   2895.172852   \n",
       "2       2  21673.003906  27191.789062  21275.046875  19340.996094   \n",
       "3       3           NaN           NaN           NaN           NaN   \n",
       "4       4   2925.529297   8068.850586   5994.847168   4704.868652   \n",
       "\n",
       "        2015005       2015006       2015007      2015008       2015009  \\\n",
       "0           NaN           NaN           NaN          NaN           NaN   \n",
       "1   2780.402100   1000.655273   1236.438110  1505.682251  14764.951172   \n",
       "2  17118.615234  11813.696289  11428.293945  6830.270996   7854.643555   \n",
       "3           NaN           NaN           NaN          NaN           NaN   \n",
       "4   1799.078857   2563.114258   4798.882812  2272.990723   4145.972168   \n",
       "\n",
       "      ...            2016005      2016006      2016007      2016008  \\\n",
       "0     ...                NaN          NaN          NaN          NaN   \n",
       "1     ...       10022.055664  5384.766602  4464.692871  6172.605469   \n",
       "2     ...       10452.239258  7977.053223  4837.768066  4197.290039   \n",
       "3     ...        3893.915527  5826.351074  2902.727783  2607.057861   \n",
       "4     ...        4952.709961  3092.810059  2734.225098  1994.281250   \n",
       "\n",
       "       2016009      2016010       2016011      2016012      2017001  \\\n",
       "0          NaN          NaN   9911.205078  8284.257812  5262.289062   \n",
       "1  6193.244141  6357.543945   4597.857422  4999.303223  6390.493164   \n",
       "2  6567.140625  8956.428711  17024.890625  7045.274902  7991.004883   \n",
       "3  7574.272949  4741.559570   4976.264648  5106.366699  3927.523682   \n",
       "4  1577.735107  1918.580811   1548.955444  3014.203369  1916.974609   \n",
       "\n",
       "       2017002  \n",
       "0  5797.553711  \n",
       "1  6750.280273  \n",
       "2  6188.441895  \n",
       "3  3154.527588  \n",
       "4  2734.396973  \n",
       "\n",
       "[5 rows x 27 columns]"
      ]
     },
     "execution_count": 3,
     "metadata": {},
     "output_type": "execute_result"
    }
   ],
   "source": [
    "tmonths.head()"
   ]
  },
  {
   "cell_type": "code",
   "execution_count": 7,
   "metadata": {},
   "outputs": [
    {
     "data": {
      "text/plain": [
       "<matplotlib.axes._subplots.AxesSubplot at 0x10e9fc6a0>"
      ]
     },
     "execution_count": 7,
     "metadata": {},
     "output_type": "execute_result"
    },
    {
     "data": {
      "image/png": "[encoded data removed]",
      "text/plain": [
       "<matplotlib.figure.Figure at 0x10ea6be48>"
      ]
     },
     "metadata": {},
     "output_type": "display_data"
    }
   ],
   "source": [
    "sns.distplot(tmonths.drop('new_id', axis = 1).loc[2,:])"
   ]
  },
  {
   "cell_type": "code",
   "execution_count": 8,
   "metadata": {
    "collapsed": true
   },
   "outputs": [],
   "source": [
    "total1 = np.sum(tmonths, axis = 1)\n",
    "total0 = np.sum(tmonths, axis = 0)"
   ]
  },
  {
   "cell_type": "code",
   "execution_count": 9,
   "metadata": {},
   "outputs": [
    {
     "data": {
      "text/plain": [
       "0     29255.305664\n",
       "1    153578.580566\n",
       "2    266215.317139\n",
       "3     59940.681152\n",
       "4     86304.234741\n",
       "dtype: float64"
      ]
     },
     "execution_count": 9,
     "metadata": {},
     "output_type": "execute_result"
    }
   ],
   "source": [
    "total1.head()"
   ]
  },
  {
   "cell_type": "code",
   "execution_count": 10,
   "metadata": {},
   "outputs": [
    {
     "data": {
      "text/plain": [
       "new_id     5.140408e+11\n",
       "2015001    3.082980e+09\n",
       "2015002    2.871399e+09\n",
       "2015003   -1.006900e+15\n",
       "2015004   -3.293763e+17\n",
       "dtype: float64"
      ]
     },
     "execution_count": 10,
     "metadata": {},
     "output_type": "execute_result"
    }
   ],
   "source": [
    "total0.head()"
   ]
  },
  {
   "cell_type": "code",
   "execution_count": 11,
   "metadata": {},
   "outputs": [
    {
     "data": {
      "text/html": [
       "<div>\n",
       "<style scoped>\n",
       "    .dataframe tbody tr th:only-of-type {\n",
       "        vertical-align: middle;\n",
       "    }\n",
       "\n",
       "    .dataframe tbody tr th {\n",
       "        vertical-align: top;\n",
       "    }\n",
       "\n",
       "    .dataframe thead th {\n",
       "        text-align: right;\n",
       "    }\n",
       "</style>\n",
       "<table border=\"1\" class=\"dataframe\">\n",
       "  <thead>\n",
       "    <tr style=\"text-align: right;\">\n",
       "      <th></th>\n",
       "      <th>new_id</th>\n",
       "      <th>2015001</th>\n",
       "      <th>2015002</th>\n",
       "      <th>2015003</th>\n",
       "      <th>2015004</th>\n",
       "      <th>2015005</th>\n",
       "      <th>2015006</th>\n",
       "      <th>2015007</th>\n",
       "      <th>2015008</th>\n",
       "      <th>2015009</th>\n",
       "      <th>...</th>\n",
       "      <th>2016005</th>\n",
       "      <th>2016006</th>\n",
       "      <th>2016007</th>\n",
       "      <th>2016008</th>\n",
       "      <th>2016009</th>\n",
       "      <th>2016010</th>\n",
       "      <th>2016011</th>\n",
       "      <th>2016012</th>\n",
       "      <th>2017001</th>\n",
       "      <th>2017002</th>\n",
       "    </tr>\n",
       "  </thead>\n",
       "  <tbody>\n",
       "    <tr>\n",
       "      <th>140759</th>\n",
       "      <td>160449</td>\n",
       "      <td>36724.437500</td>\n",
       "      <td>31509.539062</td>\n",
       "      <td>-3.074457e+14</td>\n",
       "      <td>13827.956055</td>\n",
       "      <td>19012.427734</td>\n",
       "      <td>13707.846680</td>\n",
       "      <td>1.716896e+04</td>\n",
       "      <td>-8.925845e+14</td>\n",
       "      <td>2.103173e+04</td>\n",
       "      <td>...</td>\n",
       "      <td>3167.019287</td>\n",
       "      <td>4327.035645</td>\n",
       "      <td>6840.060547</td>\n",
       "      <td>4927.621094</td>\n",
       "      <td>4026.118652</td>\n",
       "      <td>15047.892578</td>\n",
       "      <td>19431.183594</td>\n",
       "      <td>22229.691406</td>\n",
       "      <td>30352.802734</td>\n",
       "      <td>30506.623047</td>\n",
       "    </tr>\n",
       "    <tr>\n",
       "      <th>463584</th>\n",
       "      <td>527676</td>\n",
       "      <td>6922.263672</td>\n",
       "      <td>8250.390625</td>\n",
       "      <td>-3.074457e+14</td>\n",
       "      <td>4829.069824</td>\n",
       "      <td>5297.997559</td>\n",
       "      <td>6487.545410</td>\n",
       "      <td>-5.950563e+14</td>\n",
       "      <td>1.596850e+04</td>\n",
       "      <td>-3.074457e+14</td>\n",
       "      <td>...</td>\n",
       "      <td>1249.121826</td>\n",
       "      <td>1781.466675</td>\n",
       "      <td>2743.644775</td>\n",
       "      <td>14751.120117</td>\n",
       "      <td>3423.323486</td>\n",
       "      <td>5447.212891</td>\n",
       "      <td>6203.778809</td>\n",
       "      <td>6196.270996</td>\n",
       "      <td>12582.500977</td>\n",
       "      <td>7215.349609</td>\n",
       "    </tr>\n",
       "    <tr>\n",
       "      <th>790695</th>\n",
       "      <td>900398</td>\n",
       "      <td>7609.417480</td>\n",
       "      <td>6481.878906</td>\n",
       "      <td>-4.392082e+14</td>\n",
       "      <td>8248.444336</td>\n",
       "      <td>4821.947754</td>\n",
       "      <td>6290.920898</td>\n",
       "      <td>5.590473e+03</td>\n",
       "      <td>4.081413e+03</td>\n",
       "      <td>2.720711e+03</td>\n",
       "      <td>...</td>\n",
       "      <td>12503.665039</td>\n",
       "      <td>13536.093750</td>\n",
       "      <td>17327.666016</td>\n",
       "      <td>16965.275391</td>\n",
       "      <td>17790.667969</td>\n",
       "      <td>6193.926270</td>\n",
       "      <td>6947.958496</td>\n",
       "      <td>12808.844727</td>\n",
       "      <td>6128.481934</td>\n",
       "      <td>6119.767090</td>\n",
       "    </tr>\n",
       "  </tbody>\n",
       "</table>\n",
       "<p>3 rows × 27 columns</p>\n",
       "</div>"
      ],
      "text/plain": [
       "        new_id       2015001       2015002       2015003       2015004  \\\n",
       "140759  160449  36724.437500  31509.539062 -3.074457e+14  13827.956055   \n",
       "463584  527676   6922.263672   8250.390625 -3.074457e+14   4829.069824   \n",
       "790695  900398   7609.417480   6481.878906 -4.392082e+14   8248.444336   \n",
       "\n",
       "             2015005       2015006       2015007       2015008       2015009  \\\n",
       "140759  19012.427734  13707.846680  1.716896e+04 -8.925845e+14  2.103173e+04   \n",
       "463584   5297.997559   6487.545410 -5.950563e+14  1.596850e+04 -3.074457e+14   \n",
       "790695   4821.947754   6290.920898  5.590473e+03  4.081413e+03  2.720711e+03   \n",
       "\n",
       "            ...            2016005       2016006       2016007       2016008  \\\n",
       "140759      ...        3167.019287   4327.035645   6840.060547   4927.621094   \n",
       "463584      ...        1249.121826   1781.466675   2743.644775  14751.120117   \n",
       "790695      ...       12503.665039  13536.093750  17327.666016  16965.275391   \n",
       "\n",
       "             2016009       2016010       2016011       2016012       2017001  \\\n",
       "140759   4026.118652  15047.892578  19431.183594  22229.691406  30352.802734   \n",
       "463584   3423.323486   5447.212891   6203.778809   6196.270996  12582.500977   \n",
       "790695  17790.667969   6193.926270   6947.958496  12808.844727   6128.481934   \n",
       "\n",
       "             2017002  \n",
       "140759  30506.623047  \n",
       "463584   7215.349609  \n",
       "790695   6119.767090  \n",
       "\n",
       "[3 rows x 27 columns]"
      ]
     },
     "execution_count": 11,
     "metadata": {},
     "output_type": "execute_result"
    }
   ],
   "source": [
    "tmonths[tmonths['2015003']<0]"
   ]
  },
  {
   "cell_type": "code",
   "execution_count": 12,
   "metadata": {
    "collapsed": true
   },
   "outputs": [],
   "source": [
    "tsmonths = pd.read_csv('ul_tsecs_month.csv')"
   ]
  },
  {
   "cell_type": "code",
   "execution_count": 13,
   "metadata": {},
   "outputs": [
    {
     "data": {
      "text/plain": [
       "new_id     5.140408e+11\n",
       "2015001    3.082980e+09\n",
       "2015002    2.871399e+09\n",
       "2015003   -1.006900e+15\n",
       "2015004   -3.293763e+17\n",
       "dtype: float64"
      ]
     },
     "execution_count": 13,
     "metadata": {},
     "output_type": "execute_result"
    }
   ],
   "source": [
    "total0 = np.sum(tmonths, axis = 0)\n",
    "total0.head()"
   ]
  },
  {
   "cell_type": "code",
   "execution_count": null,
   "metadata": {
    "collapsed": true
   },
   "outputs": [],
   "source": []
  }
 ],
 "metadata": {
  "kernelspec": {
   "display_name": "Python 3",
   "language": "python",
   "name": "python3"
  },
  "language_info": {
   "codemirror_mode": {
    "name": "ipython",
    "version": 3
   },
   "file_extension": ".py",
   "mimetype": "text/x-python",
   "name": "python",
   "nbconvert_exporter": "python",
   "pygments_lexer": "ipython3",
   "version": "3.6.1"
  }
 },
 "nbformat": 4,
 "nbformat_minor": 2
}
