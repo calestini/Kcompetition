{
 "cells": [
  {
   "cell_type": "code",
   "execution_count": 1,
   "metadata": {
    "collapsed": true
   },
   "outputs": [],
   "source": [
    "import numpy as np\n",
    "import pandas as pd\n",
    "\n",
    "import data_manipulation as dm\n",
    "import time\n",
    "import datetime as dt\n",
    "import seaborn as sns\n",
    "import matplotlib.pyplot as plt"
   ]
  },
  {
   "cell_type": "code",
   "execution_count": 74,
   "metadata": {
    "collapsed": false
   },
   "outputs": [],
   "source": [
    "#Import datasets\n",
    "txn = dm.transactions()\n",
    "train = dm.train()"
   ]
  },
  {
   "cell_type": "code",
   "execution_count": 75,
   "metadata": {
    "collapsed": false
   },
   "outputs": [
    {
     "name": "stdout",
     "output_type": "stream",
     "text": [
      "(992931, 2)\n",
      "(16411725, 9)\n",
      "992931\n",
      "1079663\n",
      "True    992931\n",
      "Name: in_txn, dtype: int64\n"
     ]
    }
   ],
   "source": [
    "#Check datasets\n",
    "print(train.shape)\n",
    "print(txn.shape)\n",
    "print(train['new_id'].nunique())\n",
    "print(txn['new_id'].nunique())\n",
    "\n",
    "train['in_txn']=train['new_id'].isin(txn['new_id'])\n",
    "print(train['in_txn'].value_counts())"
   ]
  },
  {
   "cell_type": "code",
   "execution_count": 5,
   "metadata": {
    "collapsed": false
   },
   "outputs": [
    {
     "data": {
      "text/plain": [
       "True     15883148\n",
       "False      528577\n",
       "Name: in_train, dtype: int64"
      ]
     },
     "execution_count": 5,
     "metadata": {},
     "output_type": "execute_result"
    }
   ],
   "source": [
    "#Determine if id is in train dataset\n",
    "txn['in_train']=txn['new_id'].isin(train['new_id'])\n",
    "txn['odd_transactions']=txn['membership_expire_date']<txn['transaction_date']\n",
    "txn['1970']=txn['membership_expire_date']=='1970-01-01'\n",
    "\n",
    "txn['in_train'].value_counts()"
   ]
  },
  {
   "cell_type": "code",
   "execution_count": 63,
   "metadata": {
    "collapsed": false
   },
   "outputs": [
    {
     "data": {
      "text/html": [
       "<div>\n",
       "<table border=\"1\" class=\"dataframe\">\n",
       "  <thead>\n",
       "    <tr style=\"text-align: right;\">\n",
       "      <th>in_train</th>\n",
       "      <th>False</th>\n",
       "      <th>True</th>\n",
       "    </tr>\n",
       "    <tr>\n",
       "      <th>odd_transactions</th>\n",
       "      <th></th>\n",
       "      <th></th>\n",
       "    </tr>\n",
       "  </thead>\n",
       "  <tbody>\n",
       "    <tr>\n",
       "      <th>False</th>\n",
       "      <td>0.032114</td>\n",
       "      <td>0.967886</td>\n",
       "    </tr>\n",
       "    <tr>\n",
       "      <th>True</th>\n",
       "      <td>0.054375</td>\n",
       "      <td>0.945625</td>\n",
       "    </tr>\n",
       "  </tbody>\n",
       "</table>\n",
       "</div>"
      ],
      "text/plain": [
       "in_train             False     True \n",
       "odd_transactions                    \n",
       "False             0.032114  0.967886\n",
       "True              0.054375  0.945625"
      ]
     },
     "execution_count": 63,
     "metadata": {},
     "output_type": "execute_result"
    }
   ],
   "source": [
    "pd.crosstab(index=txn['odd_transactions'], columns=txn['in_train'], normalize='index')"
   ]
  },
  {
   "cell_type": "code",
   "execution_count": 64,
   "metadata": {
    "collapsed": false
   },
   "outputs": [
    {
     "data": {
      "text/html": [
       "<div>\n",
       "<table border=\"1\" class=\"dataframe\">\n",
       "  <thead>\n",
       "    <tr style=\"text-align: right;\">\n",
       "      <th>is_auto_renew</th>\n",
       "      <th>0</th>\n",
       "      <th>1</th>\n",
       "    </tr>\n",
       "    <tr>\n",
       "      <th>odd_transactions</th>\n",
       "      <th></th>\n",
       "      <th></th>\n",
       "    </tr>\n",
       "  </thead>\n",
       "  <tbody>\n",
       "    <tr>\n",
       "      <th>False</th>\n",
       "      <td>0.089980</td>\n",
       "      <td>0.910020</td>\n",
       "    </tr>\n",
       "    <tr>\n",
       "      <th>True</th>\n",
       "      <td>0.004789</td>\n",
       "      <td>0.995211</td>\n",
       "    </tr>\n",
       "  </tbody>\n",
       "</table>\n",
       "</div>"
      ],
      "text/plain": [
       "is_auto_renew            0         1\n",
       "odd_transactions                    \n",
       "False             0.089980  0.910020\n",
       "True              0.004789  0.995211"
      ]
     },
     "execution_count": 64,
     "metadata": {},
     "output_type": "execute_result"
    }
   ],
   "source": [
    "#Odd transactions are more likely to be auto renew transactions\n",
    "pd.crosstab(index=txn['odd_transactions'], columns=txn['is_auto_renew'], normalize='index')"
   ]
  },
  {
   "cell_type": "code",
   "execution_count": 65,
   "metadata": {
    "collapsed": false
   },
   "outputs": [
    {
     "data": {
      "text/html": [
       "<div>\n",
       "<table border=\"1\" class=\"dataframe\">\n",
       "  <thead>\n",
       "    <tr style=\"text-align: right;\">\n",
       "      <th>is_cancel</th>\n",
       "      <th>0</th>\n",
       "      <th>1</th>\n",
       "    </tr>\n",
       "    <tr>\n",
       "      <th>odd_transactions</th>\n",
       "      <th></th>\n",
       "      <th></th>\n",
       "    </tr>\n",
       "  </thead>\n",
       "  <tbody>\n",
       "    <tr>\n",
       "      <th>False</th>\n",
       "      <td>0.986408</td>\n",
       "      <td>0.013592</td>\n",
       "    </tr>\n",
       "    <tr>\n",
       "      <th>True</th>\n",
       "      <td>0.047459</td>\n",
       "      <td>0.952541</td>\n",
       "    </tr>\n",
       "  </tbody>\n",
       "</table>\n",
       "</div>"
      ],
      "text/plain": [
       "is_cancel                0         1\n",
       "odd_transactions                    \n",
       "False             0.986408  0.013592\n",
       "True              0.047459  0.952541"
      ]
     },
     "execution_count": 65,
     "metadata": {},
     "output_type": "execute_result"
    }
   ],
   "source": [
    "#Odd transactions are more likely to be cancelled transactions\n",
    "pd.crosstab(index=txn['odd_transactions'], columns=txn['is_cancel'], normalize='index')"
   ]
  },
  {
   "cell_type": "code",
   "execution_count": 9,
   "metadata": {
    "collapsed": false
   },
   "outputs": [
    {
     "data": {
      "text/html": [
       "<div>\n",
       "<table border=\"1\" class=\"dataframe\">\n",
       "  <thead>\n",
       "    <tr style=\"text-align: right;\">\n",
       "      <th>1970</th>\n",
       "      <th>False</th>\n",
       "      <th>True</th>\n",
       "    </tr>\n",
       "    <tr>\n",
       "      <th>odd_transactions</th>\n",
       "      <th></th>\n",
       "      <th></th>\n",
       "    </tr>\n",
       "  </thead>\n",
       "  <tbody>\n",
       "    <tr>\n",
       "      <th>False</th>\n",
       "      <td>16342612</td>\n",
       "      <td>0</td>\n",
       "    </tr>\n",
       "    <tr>\n",
       "      <th>True</th>\n",
       "      <td>68716</td>\n",
       "      <td>397</td>\n",
       "    </tr>\n",
       "  </tbody>\n",
       "</table>\n",
       "</div>"
      ],
      "text/plain": [
       "1970                 False  True \n",
       "odd_transactions                 \n",
       "False             16342612      0\n",
       "True                 68716    397"
      ]
     },
     "execution_count": 9,
     "metadata": {},
     "output_type": "execute_result"
    }
   ],
   "source": [
    "#397 of the odd transactions are caused by '1970'\n",
    "pd.crosstab(index=txn['odd_transactions'], columns=txn['1970'], normalize='index')\n",
    "pd.crosstab(index=txn['odd_transactions'], columns=txn['1970'])"
   ]
  },
  {
   "cell_type": "code",
   "execution_count": 10,
   "metadata": {
    "collapsed": false
   },
   "outputs": [
    {
     "data": {
      "text/html": [
       "<div>\n",
       "<table border=\"1\" class=\"dataframe\">\n",
       "  <thead>\n",
       "    <tr style=\"text-align: right;\">\n",
       "      <th>1970</th>\n",
       "      <th>False</th>\n",
       "      <th>True</th>\n",
       "    </tr>\n",
       "    <tr>\n",
       "      <th>in_train</th>\n",
       "      <th></th>\n",
       "      <th></th>\n",
       "    </tr>\n",
       "  </thead>\n",
       "  <tbody>\n",
       "    <tr>\n",
       "      <th>False</th>\n",
       "      <td>528406</td>\n",
       "      <td>171</td>\n",
       "    </tr>\n",
       "    <tr>\n",
       "      <th>True</th>\n",
       "      <td>15882922</td>\n",
       "      <td>226</td>\n",
       "    </tr>\n",
       "  </tbody>\n",
       "</table>\n",
       "</div>"
      ],
      "text/plain": [
       "1970         False  True \n",
       "in_train                 \n",
       "False       528406    171\n",
       "True      15882922    226"
      ]
     },
     "execution_count": 10,
     "metadata": {},
     "output_type": "execute_result"
    }
   ],
   "source": [
    "#226 bad transactions are in the training set\n",
    "pd.crosstab(index=txn['in_train'], columns=txn['1970'])"
   ]
  },
  {
   "cell_type": "code",
   "execution_count": 11,
   "metadata": {
    "collapsed": false
   },
   "outputs": [
    {
     "name": "stdout",
     "output_type": "stream",
     "text": [
      "69113\n",
      "16411725\n",
      "0.00421119656830711\n",
      "1079663\n",
      "57069\n"
     ]
    }
   ],
   "source": [
    "#0.4% of transactions have membership_expire_date<transaction_date\n",
    "memb_exp_test=txn[txn['membership_expire_date']<txn['transaction_date']]\n",
    "print(memb_exp_test.shape[0])\n",
    "print(txn.shape[0])\n",
    "print(memb_exp_test.shape[0]/txn.shape[0])\n",
    "print(txn['new_id'].nunique())\n",
    "print(memb_exp_test['new_id'].nunique())"
   ]
  },
  {
   "cell_type": "code",
   "execution_count": 12,
   "metadata": {
    "collapsed": false
   },
   "outputs": [
    {
     "name": "stdout",
     "output_type": "stream",
     "text": [
      "68782\n",
      "(14940882, 12)\n"
     ]
    }
   ],
   "source": [
    "#Almost all records with membership_expire_date<transaction_date are auto_renew memberships\n",
    "print(memb_exp_test[memb_exp_test['is_auto_renew']==1]['is_auto_renew'].sum())\n",
    "print(txn[txn['is_auto_renew']==1].shape)"
   ]
  },
  {
   "cell_type": "code",
   "execution_count": 13,
   "metadata": {
    "collapsed": false
   },
   "outputs": [
    {
     "name": "stdout",
     "output_type": "stream",
     "text": [
      "65833\n"
     ]
    },
    {
     "data": {
      "text/plain": [
       "(65833, 12)"
      ]
     },
     "execution_count": 13,
     "metadata": {},
     "output_type": "execute_result"
    }
   ],
   "source": [
    "#Most of the records with membership_expire_date<transaction_date are cancelled memberships - are these late payments?\n",
    "#ALL of these are also auto-renew memberships\n",
    "print(memb_exp_test[memb_exp_test['is_cancel']==1]['is_cancel'].sum())\n",
    "memb_exp_test[(memb_exp_test['is_cancel']==1)&(memb_exp_test['is_auto_renew']==1)].shape"
   ]
  },
  {
   "cell_type": "code",
   "execution_count": 14,
   "metadata": {
    "collapsed": false
   },
   "outputs": [
    {
     "data": {
      "text/plain": [
       "(2949, 12)"
      ]
     },
     "execution_count": 14,
     "metadata": {},
     "output_type": "execute_result"
    }
   ],
   "source": [
    "#The rest of the auto_renew memberships\n",
    "memb_exp_test[(memb_exp_test['is_cancel']==0)&(memb_exp_test['is_auto_renew']==1)].shape"
   ]
  },
  {
   "cell_type": "code",
   "execution_count": 15,
   "metadata": {
    "collapsed": false
   },
   "outputs": [
    {
     "data": {
      "text/html": [
       "<div>\n",
       "<table border=\"1\" class=\"dataframe\">\n",
       "  <thead>\n",
       "    <tr style=\"text-align: right;\">\n",
       "      <th></th>\n",
       "      <th>payment_method_id</th>\n",
       "      <th>payment_plan_days</th>\n",
       "      <th>plan_list_price</th>\n",
       "      <th>actual_amount_paid</th>\n",
       "      <th>is_auto_renew</th>\n",
       "      <th>transaction_date</th>\n",
       "      <th>membership_expire_date</th>\n",
       "      <th>is_cancel</th>\n",
       "      <th>new_id</th>\n",
       "      <th>in_train</th>\n",
       "      <th>odd_transactions</th>\n",
       "      <th>1970</th>\n",
       "    </tr>\n",
       "  </thead>\n",
       "  <tbody>\n",
       "    <tr>\n",
       "      <th>1916276</th>\n",
       "      <td>26</td>\n",
       "      <td>1</td>\n",
       "      <td>0</td>\n",
       "      <td>0</td>\n",
       "      <td>0</td>\n",
       "      <td>2015-12-19</td>\n",
       "      <td>2015-12-18</td>\n",
       "      <td>0</td>\n",
       "      <td>466084</td>\n",
       "      <td>False</td>\n",
       "      <td>True</td>\n",
       "      <td>False</td>\n",
       "    </tr>\n",
       "    <tr>\n",
       "      <th>2221659</th>\n",
       "      <td>26</td>\n",
       "      <td>1</td>\n",
       "      <td>0</td>\n",
       "      <td>0</td>\n",
       "      <td>0</td>\n",
       "      <td>2016-04-19</td>\n",
       "      <td>2016-04-17</td>\n",
       "      <td>0</td>\n",
       "      <td>520405</td>\n",
       "      <td>True</td>\n",
       "      <td>True</td>\n",
       "      <td>False</td>\n",
       "    </tr>\n",
       "    <tr>\n",
       "      <th>5725996</th>\n",
       "      <td>26</td>\n",
       "      <td>1</td>\n",
       "      <td>0</td>\n",
       "      <td>0</td>\n",
       "      <td>0</td>\n",
       "      <td>2015-10-01</td>\n",
       "      <td>2015-09-30</td>\n",
       "      <td>0</td>\n",
       "      <td>132303</td>\n",
       "      <td>True</td>\n",
       "      <td>True</td>\n",
       "      <td>False</td>\n",
       "    </tr>\n",
       "    <tr>\n",
       "      <th>5805657</th>\n",
       "      <td>26</td>\n",
       "      <td>1</td>\n",
       "      <td>0</td>\n",
       "      <td>0</td>\n",
       "      <td>0</td>\n",
       "      <td>2016-08-08</td>\n",
       "      <td>2016-08-06</td>\n",
       "      <td>0</td>\n",
       "      <td>1005530</td>\n",
       "      <td>True</td>\n",
       "      <td>True</td>\n",
       "      <td>False</td>\n",
       "    </tr>\n",
       "    <tr>\n",
       "      <th>9530466</th>\n",
       "      <td>26</td>\n",
       "      <td>1</td>\n",
       "      <td>0</td>\n",
       "      <td>0</td>\n",
       "      <td>0</td>\n",
       "      <td>2017-02-23</td>\n",
       "      <td>2017-02-21</td>\n",
       "      <td>0</td>\n",
       "      <td>982520</td>\n",
       "      <td>True</td>\n",
       "      <td>True</td>\n",
       "      <td>False</td>\n",
       "    </tr>\n",
       "    <tr>\n",
       "      <th>10277170</th>\n",
       "      <td>26</td>\n",
       "      <td>1</td>\n",
       "      <td>0</td>\n",
       "      <td>0</td>\n",
       "      <td>0</td>\n",
       "      <td>2015-06-15</td>\n",
       "      <td>2015-06-14</td>\n",
       "      <td>0</td>\n",
       "      <td>8236</td>\n",
       "      <td>True</td>\n",
       "      <td>True</td>\n",
       "      <td>False</td>\n",
       "    </tr>\n",
       "    <tr>\n",
       "      <th>10315669</th>\n",
       "      <td>26</td>\n",
       "      <td>1</td>\n",
       "      <td>0</td>\n",
       "      <td>0</td>\n",
       "      <td>0</td>\n",
       "      <td>2017-01-07</td>\n",
       "      <td>2017-01-05</td>\n",
       "      <td>0</td>\n",
       "      <td>1011489</td>\n",
       "      <td>True</td>\n",
       "      <td>True</td>\n",
       "      <td>False</td>\n",
       "    </tr>\n",
       "    <tr>\n",
       "      <th>10396995</th>\n",
       "      <td>26</td>\n",
       "      <td>0</td>\n",
       "      <td>0</td>\n",
       "      <td>0</td>\n",
       "      <td>0</td>\n",
       "      <td>2015-05-07</td>\n",
       "      <td>2015-05-06</td>\n",
       "      <td>0</td>\n",
       "      <td>797358</td>\n",
       "      <td>True</td>\n",
       "      <td>True</td>\n",
       "      <td>False</td>\n",
       "    </tr>\n",
       "    <tr>\n",
       "      <th>10752582</th>\n",
       "      <td>26</td>\n",
       "      <td>1</td>\n",
       "      <td>0</td>\n",
       "      <td>0</td>\n",
       "      <td>0</td>\n",
       "      <td>2015-01-26</td>\n",
       "      <td>2015-01-25</td>\n",
       "      <td>0</td>\n",
       "      <td>77415</td>\n",
       "      <td>True</td>\n",
       "      <td>True</td>\n",
       "      <td>False</td>\n",
       "    </tr>\n",
       "    <tr>\n",
       "      <th>11303115</th>\n",
       "      <td>26</td>\n",
       "      <td>1</td>\n",
       "      <td>0</td>\n",
       "      <td>0</td>\n",
       "      <td>0</td>\n",
       "      <td>2016-03-29</td>\n",
       "      <td>2016-03-26</td>\n",
       "      <td>0</td>\n",
       "      <td>838566</td>\n",
       "      <td>False</td>\n",
       "      <td>True</td>\n",
       "      <td>False</td>\n",
       "    </tr>\n",
       "    <tr>\n",
       "      <th>11544429</th>\n",
       "      <td>35</td>\n",
       "      <td>7</td>\n",
       "      <td>0</td>\n",
       "      <td>0</td>\n",
       "      <td>0</td>\n",
       "      <td>2015-08-10</td>\n",
       "      <td>2012-02-02</td>\n",
       "      <td>0</td>\n",
       "      <td>502826</td>\n",
       "      <td>True</td>\n",
       "      <td>True</td>\n",
       "      <td>False</td>\n",
       "    </tr>\n",
       "    <tr>\n",
       "      <th>12088196</th>\n",
       "      <td>41</td>\n",
       "      <td>0</td>\n",
       "      <td>0</td>\n",
       "      <td>0</td>\n",
       "      <td>0</td>\n",
       "      <td>2015-09-18</td>\n",
       "      <td>2014-09-17</td>\n",
       "      <td>0</td>\n",
       "      <td>64925</td>\n",
       "      <td>True</td>\n",
       "      <td>True</td>\n",
       "      <td>False</td>\n",
       "    </tr>\n",
       "    <tr>\n",
       "      <th>15055051</th>\n",
       "      <td>26</td>\n",
       "      <td>1</td>\n",
       "      <td>0</td>\n",
       "      <td>0</td>\n",
       "      <td>0</td>\n",
       "      <td>2016-06-14</td>\n",
       "      <td>2016-06-06</td>\n",
       "      <td>0</td>\n",
       "      <td>801450</td>\n",
       "      <td>True</td>\n",
       "      <td>True</td>\n",
       "      <td>False</td>\n",
       "    </tr>\n",
       "    <tr>\n",
       "      <th>15751444</th>\n",
       "      <td>26</td>\n",
       "      <td>1</td>\n",
       "      <td>0</td>\n",
       "      <td>0</td>\n",
       "      <td>0</td>\n",
       "      <td>2016-09-26</td>\n",
       "      <td>2016-09-22</td>\n",
       "      <td>0</td>\n",
       "      <td>823567</td>\n",
       "      <td>False</td>\n",
       "      <td>True</td>\n",
       "      <td>False</td>\n",
       "    </tr>\n",
       "    <tr>\n",
       "      <th>16266894</th>\n",
       "      <td>26</td>\n",
       "      <td>1</td>\n",
       "      <td>0</td>\n",
       "      <td>0</td>\n",
       "      <td>0</td>\n",
       "      <td>2017-02-15</td>\n",
       "      <td>2017-02-13</td>\n",
       "      <td>0</td>\n",
       "      <td>558906</td>\n",
       "      <td>True</td>\n",
       "      <td>True</td>\n",
       "      <td>False</td>\n",
       "    </tr>\n",
       "  </tbody>\n",
       "</table>\n",
       "</div>"
      ],
      "text/plain": [
       "          payment_method_id  payment_plan_days  plan_list_price  \\\n",
       "1916276                  26                  1                0   \n",
       "2221659                  26                  1                0   \n",
       "5725996                  26                  1                0   \n",
       "5805657                  26                  1                0   \n",
       "9530466                  26                  1                0   \n",
       "10277170                 26                  1                0   \n",
       "10315669                 26                  1                0   \n",
       "10396995                 26                  0                0   \n",
       "10752582                 26                  1                0   \n",
       "11303115                 26                  1                0   \n",
       "11544429                 35                  7                0   \n",
       "12088196                 41                  0                0   \n",
       "15055051                 26                  1                0   \n",
       "15751444                 26                  1                0   \n",
       "16266894                 26                  1                0   \n",
       "\n",
       "          actual_amount_paid  is_auto_renew transaction_date  \\\n",
       "1916276                    0              0       2015-12-19   \n",
       "2221659                    0              0       2016-04-19   \n",
       "5725996                    0              0       2015-10-01   \n",
       "5805657                    0              0       2016-08-08   \n",
       "9530466                    0              0       2017-02-23   \n",
       "10277170                   0              0       2015-06-15   \n",
       "10315669                   0              0       2017-01-07   \n",
       "10396995                   0              0       2015-05-07   \n",
       "10752582                   0              0       2015-01-26   \n",
       "11303115                   0              0       2016-03-29   \n",
       "11544429                   0              0       2015-08-10   \n",
       "12088196                   0              0       2015-09-18   \n",
       "15055051                   0              0       2016-06-14   \n",
       "15751444                   0              0       2016-09-26   \n",
       "16266894                   0              0       2017-02-15   \n",
       "\n",
       "         membership_expire_date  is_cancel   new_id in_train odd_transactions  \\\n",
       "1916276              2015-12-18          0   466084    False             True   \n",
       "2221659              2016-04-17          0   520405     True             True   \n",
       "5725996              2015-09-30          0   132303     True             True   \n",
       "5805657              2016-08-06          0  1005530     True             True   \n",
       "9530466              2017-02-21          0   982520     True             True   \n",
       "10277170             2015-06-14          0     8236     True             True   \n",
       "10315669             2017-01-05          0  1011489     True             True   \n",
       "10396995             2015-05-06          0   797358     True             True   \n",
       "10752582             2015-01-25          0    77415     True             True   \n",
       "11303115             2016-03-26          0   838566    False             True   \n",
       "11544429             2012-02-02          0   502826     True             True   \n",
       "12088196             2014-09-17          0    64925     True             True   \n",
       "15055051             2016-06-06          0   801450     True             True   \n",
       "15751444             2016-09-22          0   823567    False             True   \n",
       "16266894             2017-02-13          0   558906     True             True   \n",
       "\n",
       "           1970  \n",
       "1916276   False  \n",
       "2221659   False  \n",
       "5725996   False  \n",
       "5805657   False  \n",
       "9530466   False  \n",
       "10277170  False  \n",
       "10315669  False  \n",
       "10396995  False  \n",
       "10752582  False  \n",
       "11303115  False  \n",
       "11544429  False  \n",
       "12088196  False  \n",
       "15055051  False  \n",
       "15751444  False  \n",
       "16266894  False  "
      ]
     },
     "execution_count": 15,
     "metadata": {},
     "output_type": "execute_result"
    }
   ],
   "source": [
    "#Looks like the rest of the records have lots of instances of membership_expire_date = '1970-01-01'\n",
    "memb_exp_test[memb_exp_test['is_auto_renew']==0].head(10)\n",
    "#15 records where membership_expire_date is not is not 1970-01-01 and is not auto_renew\n",
    "odd_ones_out=memb_exp_test[(memb_exp_test['membership_expire_date']!='1970-01-01') & (memb_exp_test['is_auto_renew']==0)]\n",
    "#Seems like all of these have plan_list_price of 0\n",
    "odd_ones_out.head(15)"
   ]
  },
  {
   "cell_type": "code",
   "execution_count": 16,
   "metadata": {
    "collapsed": false
   },
   "outputs": [],
   "source": [
    "#is_cancel=txn[txn['is_cancel']==1]\n",
    "#print(is_cancel.shape)\n",
    "#is_cancel['diff_dates']=is_cancel['membership_expire_date']-is_cancel['transaction_date']\n",
    "#is_cancel['diff_dates']=is_cancel['diff_dates']/ np.timedelta64(1, 'D')\n",
    "#sns.distplot(is_cancel[is_cancel['diff_dates']>0]['diff_dates'])"
   ]
  },
  {
   "cell_type": "code",
   "execution_count": 17,
   "metadata": {
    "collapsed": false
   },
   "outputs": [],
   "source": [
    "#Determine if member had an odd transaction\n",
    "txn['odd_txn_flag'] = txn['new_id'].isin(memb_exp_test['new_id'])"
   ]
  },
  {
   "cell_type": "markdown",
   "metadata": {
    "collapsed": false
   },
   "source": [
    "## Feature Engineering\n",
    "\n",
    "Each transaction feature is stored in a pandas dataframe:\n",
    "\n",
    "- **txn_cnts (all members)**: Count number of transactions per member\n",
    "- **txn_prev_churn (churned members)**: Count number of times members churned, i.e. transaction date - membership expire date from previous transaction is greater than 30 days\n",
    "- **txn_ar_stop (all members)**: % of transactions that are auto renew and whether a member has stopped auto-renewing in the duration of their membership\n",
    "- **txn_pmt_change (payment change members)**: Count number of times member changed payment type \n",
    "- **txn_cancelled (all members)**: % of transactions that are cancelled and whether a members has cancelled their membership in the duration of their membership\n",
    "- **txn_cancelled_last (all members)**: If the member has a cancelled transaction as their last transaction\n",
    "\n",
    "All dfs are to be merged into one df, for transaction attributes per member\n",
    "\n",
    "Next:\n",
    "- Look at payment plan days - how often are these 0?\n",
    "- Look at whether member received a free trial (plan_list_price =0)\n",
    "- Sum of payment_plan_days\n",
    "- Transactions matrix"
   ]
  },
  {
   "cell_type": "code",
   "execution_count": 76,
   "metadata": {
    "collapsed": false
   },
   "outputs": [],
   "source": [
    "#Prep - sort transactions\n",
    "txn=txn.sort_values(['new_id', 'transaction_date'])"
   ]
  },
  {
   "cell_type": "markdown",
   "metadata": {},
   "source": [
    "### Number of Transactions"
   ]
  },
  {
   "cell_type": "code",
   "execution_count": 24,
   "metadata": {
    "collapsed": false,
    "scrolled": true
   },
   "outputs": [],
   "source": [
    "#Number of transactions\n",
    "txn_cnts = txn.groupby(['new_id']).size().reset_index(name='txn_cnt')"
   ]
  },
  {
   "cell_type": "markdown",
   "metadata": {},
   "source": [
    "### Number of Times Churned"
   ]
  },
  {
   "cell_type": "code",
   "execution_count": 46,
   "metadata": {
    "collapsed": false
   },
   "outputs": [
    {
     "data": {
      "text/html": [
       "<div>\n",
       "<table border=\"1\" class=\"dataframe\">\n",
       "  <thead>\n",
       "    <tr style=\"text-align: right;\">\n",
       "      <th></th>\n",
       "      <th>payment_method_id</th>\n",
       "      <th>payment_plan_days</th>\n",
       "      <th>plan_list_price</th>\n",
       "      <th>actual_amount_paid</th>\n",
       "      <th>is_auto_renew</th>\n",
       "      <th>transaction_date</th>\n",
       "      <th>membership_expire_date</th>\n",
       "      <th>is_cancel</th>\n",
       "      <th>new_id</th>\n",
       "      <th>in_train</th>\n",
       "      <th>odd_transactions</th>\n",
       "      <th>1970</th>\n",
       "      <th>odd_txn_flag</th>\n",
       "      <th>shifted_expiry</th>\n",
       "      <th>memb_gap</th>\n",
       "      <th>prev_churn</th>\n",
       "    </tr>\n",
       "  </thead>\n",
       "  <tbody>\n",
       "    <tr>\n",
       "      <th>867414</th>\n",
       "      <td>41</td>\n",
       "      <td>30</td>\n",
       "      <td>99</td>\n",
       "      <td>99</td>\n",
       "      <td>1</td>\n",
       "      <td>2016-11-16</td>\n",
       "      <td>2016-12-15</td>\n",
       "      <td>0</td>\n",
       "      <td>0</td>\n",
       "      <td>True</td>\n",
       "      <td>False</td>\n",
       "      <td>False</td>\n",
       "      <td>False</td>\n",
       "      <td>NaT</td>\n",
       "      <td>NaT</td>\n",
       "      <td>False</td>\n",
       "    </tr>\n",
       "    <tr>\n",
       "      <th>867416</th>\n",
       "      <td>41</td>\n",
       "      <td>30</td>\n",
       "      <td>99</td>\n",
       "      <td>99</td>\n",
       "      <td>1</td>\n",
       "      <td>2016-12-15</td>\n",
       "      <td>2017-01-15</td>\n",
       "      <td>0</td>\n",
       "      <td>0</td>\n",
       "      <td>True</td>\n",
       "      <td>False</td>\n",
       "      <td>False</td>\n",
       "      <td>False</td>\n",
       "      <td>2016-12-15</td>\n",
       "      <td>0 days</td>\n",
       "      <td>False</td>\n",
       "    </tr>\n",
       "    <tr>\n",
       "      <th>867413</th>\n",
       "      <td>41</td>\n",
       "      <td>30</td>\n",
       "      <td>99</td>\n",
       "      <td>99</td>\n",
       "      <td>1</td>\n",
       "      <td>2017-01-15</td>\n",
       "      <td>2017-02-15</td>\n",
       "      <td>0</td>\n",
       "      <td>0</td>\n",
       "      <td>True</td>\n",
       "      <td>False</td>\n",
       "      <td>False</td>\n",
       "      <td>False</td>\n",
       "      <td>2017-01-15</td>\n",
       "      <td>0 days</td>\n",
       "      <td>False</td>\n",
       "    </tr>\n",
       "    <tr>\n",
       "      <th>867415</th>\n",
       "      <td>41</td>\n",
       "      <td>30</td>\n",
       "      <td>99</td>\n",
       "      <td>99</td>\n",
       "      <td>1</td>\n",
       "      <td>2017-02-15</td>\n",
       "      <td>2017-03-15</td>\n",
       "      <td>0</td>\n",
       "      <td>0</td>\n",
       "      <td>True</td>\n",
       "      <td>False</td>\n",
       "      <td>False</td>\n",
       "      <td>False</td>\n",
       "      <td>2017-02-15</td>\n",
       "      <td>0 days</td>\n",
       "      <td>False</td>\n",
       "    </tr>\n",
       "    <tr>\n",
       "      <th>15369793</th>\n",
       "      <td>39</td>\n",
       "      <td>31</td>\n",
       "      <td>149</td>\n",
       "      <td>149</td>\n",
       "      <td>1</td>\n",
       "      <td>2015-01-31</td>\n",
       "      <td>2015-03-19</td>\n",
       "      <td>0</td>\n",
       "      <td>1</td>\n",
       "      <td>True</td>\n",
       "      <td>False</td>\n",
       "      <td>False</td>\n",
       "      <td>False</td>\n",
       "      <td>NaT</td>\n",
       "      <td>NaT</td>\n",
       "      <td>False</td>\n",
       "    </tr>\n",
       "  </tbody>\n",
       "</table>\n",
       "</div>"
      ],
      "text/plain": [
       "          payment_method_id  payment_plan_days  plan_list_price  \\\n",
       "867414                   41                 30               99   \n",
       "867416                   41                 30               99   \n",
       "867413                   41                 30               99   \n",
       "867415                   41                 30               99   \n",
       "15369793                 39                 31              149   \n",
       "\n",
       "          actual_amount_paid  is_auto_renew transaction_date  \\\n",
       "867414                    99              1       2016-11-16   \n",
       "867416                    99              1       2016-12-15   \n",
       "867413                    99              1       2017-01-15   \n",
       "867415                    99              1       2017-02-15   \n",
       "15369793                 149              1       2015-01-31   \n",
       "\n",
       "         membership_expire_date  is_cancel  new_id in_train odd_transactions  \\\n",
       "867414               2016-12-15          0       0     True            False   \n",
       "867416               2017-01-15          0       0     True            False   \n",
       "867413               2017-02-15          0       0     True            False   \n",
       "867415               2017-03-15          0       0     True            False   \n",
       "15369793             2015-03-19          0       1     True            False   \n",
       "\n",
       "           1970 odd_txn_flag shifted_expiry  memb_gap prev_churn  \n",
       "867414    False        False            NaT       NaT      False  \n",
       "867416    False        False     2016-12-15    0 days      False  \n",
       "867413    False        False     2017-01-15    0 days      False  \n",
       "867415    False        False     2017-02-15    0 days      False  \n",
       "15369793  False        False            NaT       NaT      False  "
      ]
     },
     "execution_count": 46,
     "metadata": {},
     "output_type": "execute_result"
    }
   ],
   "source": [
    "#Previous churn: determine if transaction date-membership expiry date from previous row is >30days \n",
    "txn['shifted_expiry'] = txn.groupby('new_id')['membership_expire_date'].shift()\n",
    "txn['memb_gap'] = (txn['transaction_date'] - txn['shifted_expiry'])\n",
    "txn['prev_churn'] = (txn['memb_gap']/np.timedelta64(1, 'D'))>30\n",
    "txn.head()"
   ]
  },
  {
   "cell_type": "code",
   "execution_count": 37,
   "metadata": {
    "collapsed": false
   },
   "outputs": [
    {
     "data": {
      "text/html": [
       "<div>\n",
       "<table border=\"1\" class=\"dataframe\">\n",
       "  <thead>\n",
       "    <tr style=\"text-align: right;\">\n",
       "      <th></th>\n",
       "      <th>new_id</th>\n",
       "      <th>prev_churn_cnt</th>\n",
       "    </tr>\n",
       "  </thead>\n",
       "  <tbody>\n",
       "    <tr>\n",
       "      <th>0</th>\n",
       "      <td>1</td>\n",
       "      <td>1</td>\n",
       "    </tr>\n",
       "    <tr>\n",
       "      <th>1</th>\n",
       "      <td>4</td>\n",
       "      <td>1</td>\n",
       "    </tr>\n",
       "    <tr>\n",
       "      <th>2</th>\n",
       "      <td>5</td>\n",
       "      <td>1</td>\n",
       "    </tr>\n",
       "    <tr>\n",
       "      <th>3</th>\n",
       "      <td>8</td>\n",
       "      <td>2</td>\n",
       "    </tr>\n",
       "    <tr>\n",
       "      <th>4</th>\n",
       "      <td>9</td>\n",
       "      <td>1</td>\n",
       "    </tr>\n",
       "  </tbody>\n",
       "</table>\n",
       "</div>"
      ],
      "text/plain": [
       "   new_id  prev_churn_cnt\n",
       "0       1               1\n",
       "1       4               1\n",
       "2       5               1\n",
       "3       8               2\n",
       "4       9               1"
      ]
     },
     "execution_count": 37,
     "metadata": {},
     "output_type": "execute_result"
    }
   ],
   "source": [
    "#Aggregate number of times churned\n",
    "txn_prev_churn = txn[txn['prev_churn'] == True].groupby('new_id')['prev_churn'].count().reset_index(name='prev_churn_cnt')\n",
    "txn_prev_churn.head()"
   ]
  },
  {
   "cell_type": "markdown",
   "metadata": {},
   "source": [
    "### Stopped Auto Renew"
   ]
  },
  {
   "cell_type": "code",
   "execution_count": 77,
   "metadata": {
    "collapsed": false
   },
   "outputs": [
    {
     "data": {
      "text/plain": [
       "1    917360\n",
       "0    162303\n",
       "Name: last_ar, dtype: int64"
      ]
     },
     "execution_count": 77,
     "metadata": {},
     "output_type": "execute_result"
    }
   ],
   "source": [
    "#Value of 'is_auto_renew' for last transaction\n",
    "txn_ar_last = txn.groupby(['new_id'])['is_auto_renew'].last().reset_index(name='last_ar')\n",
    "txn_ar_last['last_ar'].value_counts()"
   ]
  },
  {
   "cell_type": "code",
   "execution_count": 79,
   "metadata": {
    "collapsed": false
   },
   "outputs": [
    {
     "data": {
      "text/html": [
       "<div>\n",
       "<table border=\"1\" class=\"dataframe\">\n",
       "  <thead>\n",
       "    <tr style=\"text-align: right;\">\n",
       "      <th></th>\n",
       "      <th>new_id</th>\n",
       "      <th>mean_ar</th>\n",
       "      <th>last_ar</th>\n",
       "      <th>stopped_ar</th>\n",
       "    </tr>\n",
       "  </thead>\n",
       "  <tbody>\n",
       "    <tr>\n",
       "      <th>9</th>\n",
       "      <td>9</td>\n",
       "      <td>0.571429</td>\n",
       "      <td>0</td>\n",
       "      <td>True</td>\n",
       "    </tr>\n",
       "    <tr>\n",
       "      <th>80</th>\n",
       "      <td>80</td>\n",
       "      <td>0.857143</td>\n",
       "      <td>0</td>\n",
       "      <td>True</td>\n",
       "    </tr>\n",
       "    <tr>\n",
       "      <th>135</th>\n",
       "      <td>135</td>\n",
       "      <td>0.714286</td>\n",
       "      <td>0</td>\n",
       "      <td>True</td>\n",
       "    </tr>\n",
       "    <tr>\n",
       "      <th>243</th>\n",
       "      <td>243</td>\n",
       "      <td>0.875000</td>\n",
       "      <td>0</td>\n",
       "      <td>True</td>\n",
       "    </tr>\n",
       "    <tr>\n",
       "      <th>265</th>\n",
       "      <td>265</td>\n",
       "      <td>0.875000</td>\n",
       "      <td>0</td>\n",
       "      <td>True</td>\n",
       "    </tr>\n",
       "  </tbody>\n",
       "</table>\n",
       "</div>"
      ],
      "text/plain": [
       "     new_id   mean_ar  last_ar stopped_ar\n",
       "9         9  0.571429        0       True\n",
       "80       80  0.857143        0       True\n",
       "135     135  0.714286        0       True\n",
       "243     243  0.875000        0       True\n",
       "265     265  0.875000        0       True"
      ]
     },
     "execution_count": 79,
     "metadata": {},
     "output_type": "execute_result"
    }
   ],
   "source": [
    "#Changed auto renew:\n",
    "txn_ar_change = txn.groupby(['new_id'])['is_auto_renew'].mean().reset_index(name='mean_ar')\n",
    "txn_ar_stop = txn_ar_change.merge(txn_ar_last, on='new_id', how='inner')\n",
    "txn_ar_stop['stopped_ar']=(txn_ar_stop['mean_ar'] < 1) & (txn_ar_stop['mean_ar'] > 0) & (txn_ar_stop['last_ar'] == 0)\n",
    "txn_ar_stop[txn_ar_stop['stopped_ar']==True].head()"
   ]
  },
  {
   "cell_type": "code",
   "execution_count": 80,
   "metadata": {
    "collapsed": false
   },
   "outputs": [
    {
     "data": {
      "text/plain": [
       "False    1062259\n",
       "True       17404\n",
       "Name: stopped_ar, dtype: int64"
      ]
     },
     "execution_count": 80,
     "metadata": {},
     "output_type": "execute_result"
    }
   ],
   "source": [
    "txn_ar_stop['stopped_ar'].value_counts()"
   ]
  },
  {
   "cell_type": "markdown",
   "metadata": {},
   "source": [
    "### Changed Payment Method"
   ]
  },
  {
   "cell_type": "code",
   "execution_count": 52,
   "metadata": {
    "collapsed": false
   },
   "outputs": [
    {
     "name": "stdout",
     "output_type": "stream",
     "text": [
      "          payment_method_id  payment_plan_days  plan_list_price  \\\n",
      "867414                   41                 30               99   \n",
      "867416                   41                 30               99   \n",
      "867413                   41                 30               99   \n",
      "867415                   41                 30               99   \n",
      "15369793                 39                 31              149   \n",
      "\n",
      "          actual_amount_paid  is_auto_renew transaction_date  \\\n",
      "867414                    99              1       2016-11-16   \n",
      "867416                    99              1       2016-12-15   \n",
      "867413                    99              1       2017-01-15   \n",
      "867415                    99              1       2017-02-15   \n",
      "15369793                 149              1       2015-01-31   \n",
      "\n",
      "         membership_expire_date  is_cancel  new_id in_train odd_transactions  \\\n",
      "867414               2016-12-15          0       0     True            False   \n",
      "867416               2017-01-15          0       0     True            False   \n",
      "867413               2017-02-15          0       0     True            False   \n",
      "867415               2017-03-15          0       0     True            False   \n",
      "15369793             2015-03-19          0       1     True            False   \n",
      "\n",
      "           1970 odd_txn_flag shifted_expiry  memb_gap prev_churn  shifted_pmt  \\\n",
      "867414    False        False            NaT       NaT      False          NaN   \n",
      "867416    False        False     2016-12-15    0 days      False         41.0   \n",
      "867413    False        False     2017-01-15    0 days      False         41.0   \n",
      "867415    False        False     2017-02-15    0 days      False         41.0   \n",
      "15369793  False        False            NaT       NaT      False          NaN   \n",
      "\n",
      "         pmt_change  \n",
      "867414        False  \n",
      "867416        False  \n",
      "867413        False  \n",
      "867415        False  \n",
      "15369793      False  \n"
     ]
    },
    {
     "data": {
      "text/plain": [
       "False    16138228\n",
       "True       273497\n",
       "Name: pmt_change, dtype: int64"
      ]
     },
     "execution_count": 52,
     "metadata": {},
     "output_type": "execute_result"
    }
   ],
   "source": [
    "#Changed payment method:determine if transaction date-membership expiry date from previous row is >30days \n",
    "txn['shifted_pmt'] = txn.groupby('new_id')['payment_method_id'].shift()\n",
    "txn['pmt_change'] = (txn['payment_method_id'] != txn['shifted_pmt']) & (txn['shifted_pmt'].isnull() != True)\n",
    "print(txn.head())\n",
    "txn['pmt_change'].value_counts()"
   ]
  },
  {
   "cell_type": "code",
   "execution_count": 60,
   "metadata": {
    "collapsed": false
   },
   "outputs": [
    {
     "data": {
      "text/html": [
       "<div>\n",
       "<table border=\"1\" class=\"dataframe\">\n",
       "  <thead>\n",
       "    <tr style=\"text-align: right;\">\n",
       "      <th></th>\n",
       "      <th>new_id</th>\n",
       "      <th>pmt_change_cnt</th>\n",
       "    </tr>\n",
       "  </thead>\n",
       "  <tbody>\n",
       "    <tr>\n",
       "      <th>0</th>\n",
       "      <td>7</td>\n",
       "      <td>2</td>\n",
       "    </tr>\n",
       "    <tr>\n",
       "      <th>1</th>\n",
       "      <td>8</td>\n",
       "      <td>2</td>\n",
       "    </tr>\n",
       "    <tr>\n",
       "      <th>2</th>\n",
       "      <td>9</td>\n",
       "      <td>2</td>\n",
       "    </tr>\n",
       "    <tr>\n",
       "      <th>3</th>\n",
       "      <td>21</td>\n",
       "      <td>3</td>\n",
       "    </tr>\n",
       "    <tr>\n",
       "      <th>4</th>\n",
       "      <td>36</td>\n",
       "      <td>1</td>\n",
       "    </tr>\n",
       "  </tbody>\n",
       "</table>\n",
       "</div>"
      ],
      "text/plain": [
       "   new_id  pmt_change_cnt\n",
       "0       7               2\n",
       "1       8               2\n",
       "2       9               2\n",
       "3      21               3\n",
       "4      36               1"
      ]
     },
     "execution_count": 60,
     "metadata": {},
     "output_type": "execute_result"
    }
   ],
   "source": [
    "#Aggregate number of times changed payment method\n",
    "txn_pmt_change = txn[txn['pmt_change'] == True].groupby('new_id')['pmt_change'].count().reset_index(name='pmt_change_cnt')\n",
    "txn_pmt_change.head()"
   ]
  },
  {
   "cell_type": "markdown",
   "metadata": {},
   "source": [
    "### Cancelled Membership"
   ]
  },
  {
   "cell_type": "code",
   "execution_count": 62,
   "metadata": {
    "collapsed": false
   },
   "outputs": [
    {
     "data": {
      "text/html": [
       "<div>\n",
       "<table border=\"1\" class=\"dataframe\">\n",
       "  <thead>\n",
       "    <tr style=\"text-align: right;\">\n",
       "      <th></th>\n",
       "      <th>new_id</th>\n",
       "      <th>mean_cancel</th>\n",
       "      <th>cancelled</th>\n",
       "    </tr>\n",
       "  </thead>\n",
       "  <tbody>\n",
       "    <tr>\n",
       "      <th>9</th>\n",
       "      <td>9</td>\n",
       "      <td>0.142857</td>\n",
       "      <td>True</td>\n",
       "    </tr>\n",
       "    <tr>\n",
       "      <th>17</th>\n",
       "      <td>17</td>\n",
       "      <td>0.037037</td>\n",
       "      <td>True</td>\n",
       "    </tr>\n",
       "    <tr>\n",
       "      <th>21</th>\n",
       "      <td>21</td>\n",
       "      <td>0.071429</td>\n",
       "      <td>True</td>\n",
       "    </tr>\n",
       "    <tr>\n",
       "      <th>28</th>\n",
       "      <td>28</td>\n",
       "      <td>0.050000</td>\n",
       "      <td>True</td>\n",
       "    </tr>\n",
       "    <tr>\n",
       "      <th>35</th>\n",
       "      <td>35</td>\n",
       "      <td>0.133333</td>\n",
       "      <td>True</td>\n",
       "    </tr>\n",
       "  </tbody>\n",
       "</table>\n",
       "</div>"
      ],
      "text/plain": [
       "    new_id  mean_cancel cancelled\n",
       "9        9     0.142857      True\n",
       "17      17     0.037037      True\n",
       "21      21     0.071429      True\n",
       "28      28     0.050000      True\n",
       "35      35     0.133333      True"
      ]
     },
     "execution_count": 62,
     "metadata": {},
     "output_type": "execute_result"
    }
   ],
   "source": [
    "#Cancelled membership:\n",
    "txn_cancelled = txn.groupby(['new_id'])['is_cancel'].mean().reset_index(name='mean_cancel')\n",
    "txn_cancelled['cancelled']=(txn_cancelled['mean_cancel']<1)&(txn_cancelled['mean_cancel']>0)\n",
    "txn_cancelled[txn_cancelled['cancelled']==True].head()"
   ]
  },
  {
   "cell_type": "code",
   "execution_count": 70,
   "metadata": {
    "collapsed": false
   },
   "outputs": [
    {
     "data": {
      "text/plain": [
       "False    846452\n",
       "True     233211\n",
       "Name: cancelled, dtype: int64"
      ]
     },
     "execution_count": 70,
     "metadata": {},
     "output_type": "execute_result"
    }
   ],
   "source": [
    "txn_cancelled['cancelled'].value_counts()"
   ]
  },
  {
   "cell_type": "code",
   "execution_count": 69,
   "metadata": {
    "collapsed": false
   },
   "outputs": [
    {
     "data": {
      "text/plain": [
       "0    1047277\n",
       "1      32386\n",
       "Name: last_cancel, dtype: int64"
      ]
     },
     "execution_count": 69,
     "metadata": {},
     "output_type": "execute_result"
    }
   ],
   "source": [
    "#Cancelled membership in last transaction:\n",
    "txn_cancelled_last = txn.groupby(['new_id'])['is_cancel'].last().reset_index(name='last_cancel')\n",
    "txn_cancelled_last['last_cancel'].value_counts()"
   ]
  },
  {
   "cell_type": "code",
   "execution_count": null,
   "metadata": {
    "collapsed": true
   },
   "outputs": [],
   "source": []
  }
 ],
 "metadata": {
  "kernelspec": {
   "display_name": "Python 3",
   "language": "python",
   "name": "python3"
  },
  "language_info": {
   "codemirror_mode": {
    "name": "ipython",
    "version": 3
   },
   "file_extension": ".py",
   "mimetype": "text/x-python",
   "name": "python",
   "nbconvert_exporter": "python",
   "pygments_lexer": "ipython3",
   "version": "3.6.0"
  }
 },
 "nbformat": 4,
 "nbformat_minor": 2
}
