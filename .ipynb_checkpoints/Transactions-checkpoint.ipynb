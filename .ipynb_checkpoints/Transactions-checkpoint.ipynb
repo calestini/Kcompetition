{
 "cells": [
  {
   "cell_type": "code",
   "execution_count": 1,
   "metadata": {
    "collapsed": true
   },
   "outputs": [],
   "source": [
    "import numpy as np\n",
    "import pandas as pd\n",
    "\n",
    "import data_manipulation as dm\n",
    "import time\n",
    "import datetime as dt\n",
    "import seaborn as sns\n",
    "import matplotlib.pyplot as plt\n",
    "\n",
    "%matplotlib inline"
   ]
  },
  {
   "cell_type": "code",
   "execution_count": 33,
   "metadata": {
    "collapsed": true
   },
   "outputs": [],
   "source": [
    "#Import datasets\n",
    "txn = dm.transactions()\n",
    "train = dm.train()\n",
    "\n",
    "#Prep - sort transactions\n",
    "txn=txn.sort_values(['new_id', 'transaction_date', 'membership_expire_date'])"
   ]
  },
  {
   "cell_type": "code",
   "execution_count": 3,
   "metadata": {
    "collapsed": false
   },
   "outputs": [
    {
     "name": "stdout",
     "output_type": "stream",
     "text": [
      "(992931, 2)\n",
      "(16411725, 9)\n",
      "992931\n",
      "1079663\n",
      "True    992931\n",
      "Name: in_txn, dtype: int64\n"
     ]
    }
   ],
   "source": [
    "#Check datasets\n",
    "print(train.shape)\n",
    "print(txn.shape)\n",
    "print(train['new_id'].nunique())\n",
    "print(txn['new_id'].nunique())\n",
    "\n",
    "train['in_txn']=train['new_id'].isin(txn['new_id'])\n",
    "print(train['in_txn'].value_counts())"
   ]
  },
  {
   "cell_type": "code",
   "execution_count": 4,
   "metadata": {
    "collapsed": false
   },
   "outputs": [
    {
     "data": {
      "text/plain": [
       "True     15883148\n",
       "False      528577\n",
       "Name: in_train, dtype: int64"
      ]
     },
     "execution_count": 4,
     "metadata": {},
     "output_type": "execute_result"
    }
   ],
   "source": [
    "#Adding some features\n",
    "txn['in_train']=txn['new_id'].isin(train['new_id'])\n",
    "txn['odd_transactions']=txn['membership_expire_date']<txn['transaction_date']\n",
    "txn['1970']=txn['membership_expire_date']=='1970-01-01'\n",
    "txn['in_train'].value_counts()"
   ]
  },
  {
   "cell_type": "markdown",
   "metadata": {},
   "source": [
    "## Investigating Transactions\n",
    "\n",
    "*Looking into transactions where the membership_expiry_date < transaction_date*"
   ]
  },
  {
   "cell_type": "code",
   "execution_count": 5,
   "metadata": {
    "collapsed": false
   },
   "outputs": [
    {
     "data": {
      "text/html": [
       "<div>\n",
       "<style scoped>\n",
       "    .dataframe tbody tr th:only-of-type {\n",
       "        vertical-align: middle;\n",
       "    }\n",
       "\n",
       "    .dataframe tbody tr th {\n",
       "        vertical-align: top;\n",
       "    }\n",
       "\n",
       "    .dataframe thead th {\n",
       "        text-align: right;\n",
       "    }\n",
       "</style>\n",
       "<table border=\"1\" class=\"dataframe\">\n",
       "  <thead>\n",
       "    <tr style=\"text-align: right;\">\n",
       "      <th>in_train</th>\n",
       "      <th>False</th>\n",
       "      <th>True</th>\n",
       "    </tr>\n",
       "    <tr>\n",
       "      <th>odd_transactions</th>\n",
       "      <th></th>\n",
       "      <th></th>\n",
       "    </tr>\n",
       "  </thead>\n",
       "  <tbody>\n",
       "    <tr>\n",
       "      <th>False</th>\n",
       "      <td>0.032114</td>\n",
       "      <td>0.967886</td>\n",
       "    </tr>\n",
       "    <tr>\n",
       "      <th>True</th>\n",
       "      <td>0.054375</td>\n",
       "      <td>0.945625</td>\n",
       "    </tr>\n",
       "  </tbody>\n",
       "</table>\n",
       "</div>"
      ],
      "text/plain": [
       "in_train             False     True \n",
       "odd_transactions                    \n",
       "False             0.032114  0.967886\n",
       "True              0.054375  0.945625"
      ]
     },
     "execution_count": 5,
     "metadata": {},
     "output_type": "execute_result"
    }
   ],
   "source": [
    "pd.crosstab(index=txn['odd_transactions'], columns=txn['in_train'], normalize='index')"
   ]
  },
  {
   "cell_type": "code",
   "execution_count": 6,
   "metadata": {
    "collapsed": false
   },
   "outputs": [
    {
     "data": {
      "text/html": [
       "<div>\n",
       "<style scoped>\n",
       "    .dataframe tbody tr th:only-of-type {\n",
       "        vertical-align: middle;\n",
       "    }\n",
       "\n",
       "    .dataframe tbody tr th {\n",
       "        vertical-align: top;\n",
       "    }\n",
       "\n",
       "    .dataframe thead th {\n",
       "        text-align: right;\n",
       "    }\n",
       "</style>\n",
       "<table border=\"1\" class=\"dataframe\">\n",
       "  <thead>\n",
       "    <tr style=\"text-align: right;\">\n",
       "      <th>is_auto_renew</th>\n",
       "      <th>0</th>\n",
       "      <th>1</th>\n",
       "    </tr>\n",
       "    <tr>\n",
       "      <th>odd_transactions</th>\n",
       "      <th></th>\n",
       "      <th></th>\n",
       "    </tr>\n",
       "  </thead>\n",
       "  <tbody>\n",
       "    <tr>\n",
       "      <th>False</th>\n",
       "      <td>0.089980</td>\n",
       "      <td>0.910020</td>\n",
       "    </tr>\n",
       "    <tr>\n",
       "      <th>True</th>\n",
       "      <td>0.004789</td>\n",
       "      <td>0.995211</td>\n",
       "    </tr>\n",
       "  </tbody>\n",
       "</table>\n",
       "</div>"
      ],
      "text/plain": [
       "is_auto_renew            0         1\n",
       "odd_transactions                    \n",
       "False             0.089980  0.910020\n",
       "True              0.004789  0.995211"
      ]
     },
     "execution_count": 6,
     "metadata": {},
     "output_type": "execute_result"
    }
   ],
   "source": [
    "#Odd transactions are more likely to be auto renew transactions\n",
    "pd.crosstab(index=txn['odd_transactions'], columns=txn['is_auto_renew'], normalize='index')"
   ]
  },
  {
   "cell_type": "code",
   "execution_count": 7,
   "metadata": {
    "collapsed": false
   },
   "outputs": [
    {
     "data": {
      "text/html": [
       "<div>\n",
       "<style scoped>\n",
       "    .dataframe tbody tr th:only-of-type {\n",
       "        vertical-align: middle;\n",
       "    }\n",
       "\n",
       "    .dataframe tbody tr th {\n",
       "        vertical-align: top;\n",
       "    }\n",
       "\n",
       "    .dataframe thead th {\n",
       "        text-align: right;\n",
       "    }\n",
       "</style>\n",
       "<table border=\"1\" class=\"dataframe\">\n",
       "  <thead>\n",
       "    <tr style=\"text-align: right;\">\n",
       "      <th>is_cancel</th>\n",
       "      <th>0</th>\n",
       "      <th>1</th>\n",
       "    </tr>\n",
       "    <tr>\n",
       "      <th>odd_transactions</th>\n",
       "      <th></th>\n",
       "      <th></th>\n",
       "    </tr>\n",
       "  </thead>\n",
       "  <tbody>\n",
       "    <tr>\n",
       "      <th>False</th>\n",
       "      <td>0.986408</td>\n",
       "      <td>0.013592</td>\n",
       "    </tr>\n",
       "    <tr>\n",
       "      <th>True</th>\n",
       "      <td>0.047459</td>\n",
       "      <td>0.952541</td>\n",
       "    </tr>\n",
       "  </tbody>\n",
       "</table>\n",
       "</div>"
      ],
      "text/plain": [
       "is_cancel                0         1\n",
       "odd_transactions                    \n",
       "False             0.986408  0.013592\n",
       "True              0.047459  0.952541"
      ]
     },
     "execution_count": 7,
     "metadata": {},
     "output_type": "execute_result"
    }
   ],
   "source": [
    "#Odd transactions are more likely to be cancelled transactions\n",
    "pd.crosstab(index=txn['odd_transactions'], columns=txn['is_cancel'], normalize='index')"
   ]
  },
  {
   "cell_type": "code",
   "execution_count": 8,
   "metadata": {
    "collapsed": false
   },
   "outputs": [
    {
     "data": {
      "text/html": [
       "<div>\n",
       "<style scoped>\n",
       "    .dataframe tbody tr th:only-of-type {\n",
       "        vertical-align: middle;\n",
       "    }\n",
       "\n",
       "    .dataframe tbody tr th {\n",
       "        vertical-align: top;\n",
       "    }\n",
       "\n",
       "    .dataframe thead th {\n",
       "        text-align: right;\n",
       "    }\n",
       "</style>\n",
       "<table border=\"1\" class=\"dataframe\">\n",
       "  <thead>\n",
       "    <tr style=\"text-align: right;\">\n",
       "      <th>1970</th>\n",
       "      <th>False</th>\n",
       "      <th>True</th>\n",
       "    </tr>\n",
       "    <tr>\n",
       "      <th>odd_transactions</th>\n",
       "      <th></th>\n",
       "      <th></th>\n",
       "    </tr>\n",
       "  </thead>\n",
       "  <tbody>\n",
       "    <tr>\n",
       "      <th>False</th>\n",
       "      <td>16342612</td>\n",
       "      <td>0</td>\n",
       "    </tr>\n",
       "    <tr>\n",
       "      <th>True</th>\n",
       "      <td>68716</td>\n",
       "      <td>397</td>\n",
       "    </tr>\n",
       "  </tbody>\n",
       "</table>\n",
       "</div>"
      ],
      "text/plain": [
       "1970                 False  True \n",
       "odd_transactions                 \n",
       "False             16342612      0\n",
       "True                 68716    397"
      ]
     },
     "execution_count": 8,
     "metadata": {},
     "output_type": "execute_result"
    }
   ],
   "source": [
    "#397 of the odd transactions are caused by '1970'\n",
    "pd.crosstab(index=txn['odd_transactions'], columns=txn['1970'], normalize='index')\n",
    "pd.crosstab(index=txn['odd_transactions'], columns=txn['1970'])"
   ]
  },
  {
   "cell_type": "code",
   "execution_count": 9,
   "metadata": {
    "collapsed": false
   },
   "outputs": [
    {
     "data": {
      "text/html": [
       "<div>\n",
       "<style scoped>\n",
       "    .dataframe tbody tr th:only-of-type {\n",
       "        vertical-align: middle;\n",
       "    }\n",
       "\n",
       "    .dataframe tbody tr th {\n",
       "        vertical-align: top;\n",
       "    }\n",
       "\n",
       "    .dataframe thead th {\n",
       "        text-align: right;\n",
       "    }\n",
       "</style>\n",
       "<table border=\"1\" class=\"dataframe\">\n",
       "  <thead>\n",
       "    <tr style=\"text-align: right;\">\n",
       "      <th>1970</th>\n",
       "      <th>False</th>\n",
       "      <th>True</th>\n",
       "    </tr>\n",
       "    <tr>\n",
       "      <th>in_train</th>\n",
       "      <th></th>\n",
       "      <th></th>\n",
       "    </tr>\n",
       "  </thead>\n",
       "  <tbody>\n",
       "    <tr>\n",
       "      <th>False</th>\n",
       "      <td>528406</td>\n",
       "      <td>171</td>\n",
       "    </tr>\n",
       "    <tr>\n",
       "      <th>True</th>\n",
       "      <td>15882922</td>\n",
       "      <td>226</td>\n",
       "    </tr>\n",
       "  </tbody>\n",
       "</table>\n",
       "</div>"
      ],
      "text/plain": [
       "1970         False  True \n",
       "in_train                 \n",
       "False       528406    171\n",
       "True      15882922    226"
      ]
     },
     "execution_count": 9,
     "metadata": {},
     "output_type": "execute_result"
    }
   ],
   "source": [
    "#226 bad transactions are in the training set\n",
    "pd.crosstab(index=txn['in_train'], columns=txn['1970'])"
   ]
  },
  {
   "cell_type": "code",
   "execution_count": 10,
   "metadata": {
    "collapsed": false
   },
   "outputs": [
    {
     "name": "stdout",
     "output_type": "stream",
     "text": [
      "69113\n",
      "16411725\n",
      "0.00421119656830711\n",
      "1079663\n",
      "57069\n"
     ]
    }
   ],
   "source": [
    "#0.4% of transactions have membership_expire_date<transaction_date\n",
    "memb_exp_test=txn[txn['membership_expire_date']<txn['transaction_date']]\n",
    "print(memb_exp_test.shape[0])\n",
    "print(txn.shape[0])\n",
    "print(memb_exp_test.shape[0]/txn.shape[0])\n",
    "print(txn['new_id'].nunique())\n",
    "print(memb_exp_test['new_id'].nunique())"
   ]
  },
  {
   "cell_type": "code",
   "execution_count": 11,
   "metadata": {
    "collapsed": false
   },
   "outputs": [
    {
     "name": "stdout",
     "output_type": "stream",
     "text": [
      "68782\n",
      "(14940882, 12)\n"
     ]
    }
   ],
   "source": [
    "#Almost all records with membership_expire_date<transaction_date are auto_renew memberships\n",
    "print(memb_exp_test[memb_exp_test['is_auto_renew']==1]['is_auto_renew'].sum())\n",
    "print(txn[txn['is_auto_renew']==1].shape)"
   ]
  },
  {
   "cell_type": "code",
   "execution_count": 12,
   "metadata": {
    "collapsed": false
   },
   "outputs": [
    {
     "name": "stdout",
     "output_type": "stream",
     "text": [
      "65833\n"
     ]
    },
    {
     "data": {
      "text/plain": [
       "(65833, 12)"
      ]
     },
     "execution_count": 12,
     "metadata": {},
     "output_type": "execute_result"
    }
   ],
   "source": [
    "#Most of the records with membership_expire_date<transaction_date are cancelled memberships - are these late payments?\n",
    "#ALL of these are also auto-renew memberships\n",
    "print(memb_exp_test[memb_exp_test['is_cancel']==1]['is_cancel'].sum())\n",
    "memb_exp_test[(memb_exp_test['is_cancel']==1)&(memb_exp_test['is_auto_renew']==1)].shape"
   ]
  },
  {
   "cell_type": "code",
   "execution_count": 13,
   "metadata": {
    "collapsed": false
   },
   "outputs": [
    {
     "data": {
      "text/plain": [
       "(2949, 12)"
      ]
     },
     "execution_count": 13,
     "metadata": {},
     "output_type": "execute_result"
    }
   ],
   "source": [
    "#The rest of the auto_renew memberships\n",
    "memb_exp_test[(memb_exp_test['is_cancel']==0)&(memb_exp_test['is_auto_renew']==1)].shape"
   ]
  },
  {
   "cell_type": "code",
   "execution_count": 43,
   "metadata": {
    "collapsed": false
   },
   "outputs": [
    {
     "data": {
      "text/html": [
       "<div>\n",
       "<style scoped>\n",
       "    .dataframe tbody tr th:only-of-type {\n",
       "        vertical-align: middle;\n",
       "    }\n",
       "\n",
       "    .dataframe tbody tr th {\n",
       "        vertical-align: top;\n",
       "    }\n",
       "\n",
       "    .dataframe thead th {\n",
       "        text-align: right;\n",
       "    }\n",
       "</style>\n",
       "<table border=\"1\" class=\"dataframe\">\n",
       "  <thead>\n",
       "    <tr style=\"text-align: right;\">\n",
       "      <th></th>\n",
       "      <th>payment_method_id</th>\n",
       "      <th>payment_plan_days</th>\n",
       "      <th>plan_list_price</th>\n",
       "      <th>actual_amount_paid</th>\n",
       "      <th>is_auto_renew</th>\n",
       "      <th>transaction_date</th>\n",
       "      <th>membership_expire_date</th>\n",
       "      <th>is_cancel</th>\n",
       "      <th>new_id</th>\n",
       "      <th>in_train</th>\n",
       "      <th>odd_transactions</th>\n",
       "      <th>1970</th>\n",
       "    </tr>\n",
       "  </thead>\n",
       "  <tbody>\n",
       "    <tr>\n",
       "      <th>10277170</th>\n",
       "      <td>26</td>\n",
       "      <td>1</td>\n",
       "      <td>0</td>\n",
       "      <td>0</td>\n",
       "      <td>0</td>\n",
       "      <td>2015-06-15</td>\n",
       "      <td>2015-06-14</td>\n",
       "      <td>0</td>\n",
       "      <td>8236</td>\n",
       "      <td>True</td>\n",
       "      <td>True</td>\n",
       "      <td>False</td>\n",
       "    </tr>\n",
       "    <tr>\n",
       "      <th>12088196</th>\n",
       "      <td>41</td>\n",
       "      <td>0</td>\n",
       "      <td>0</td>\n",
       "      <td>0</td>\n",
       "      <td>0</td>\n",
       "      <td>2015-09-18</td>\n",
       "      <td>2014-09-17</td>\n",
       "      <td>0</td>\n",
       "      <td>64925</td>\n",
       "      <td>True</td>\n",
       "      <td>True</td>\n",
       "      <td>False</td>\n",
       "    </tr>\n",
       "    <tr>\n",
       "      <th>10752582</th>\n",
       "      <td>26</td>\n",
       "      <td>1</td>\n",
       "      <td>0</td>\n",
       "      <td>0</td>\n",
       "      <td>0</td>\n",
       "      <td>2015-01-26</td>\n",
       "      <td>2015-01-25</td>\n",
       "      <td>0</td>\n",
       "      <td>77415</td>\n",
       "      <td>True</td>\n",
       "      <td>True</td>\n",
       "      <td>False</td>\n",
       "    </tr>\n",
       "    <tr>\n",
       "      <th>5725996</th>\n",
       "      <td>26</td>\n",
       "      <td>1</td>\n",
       "      <td>0</td>\n",
       "      <td>0</td>\n",
       "      <td>0</td>\n",
       "      <td>2015-10-01</td>\n",
       "      <td>2015-09-30</td>\n",
       "      <td>0</td>\n",
       "      <td>132303</td>\n",
       "      <td>True</td>\n",
       "      <td>True</td>\n",
       "      <td>False</td>\n",
       "    </tr>\n",
       "    <tr>\n",
       "      <th>16397249</th>\n",
       "      <td>35</td>\n",
       "      <td>7</td>\n",
       "      <td>0</td>\n",
       "      <td>0</td>\n",
       "      <td>0</td>\n",
       "      <td>2017-02-20</td>\n",
       "      <td>2017-02-18</td>\n",
       "      <td>0</td>\n",
       "      <td>243122</td>\n",
       "      <td>True</td>\n",
       "      <td>True</td>\n",
       "      <td>False</td>\n",
       "    </tr>\n",
       "    <tr>\n",
       "      <th>16270829</th>\n",
       "      <td>26</td>\n",
       "      <td>1</td>\n",
       "      <td>0</td>\n",
       "      <td>0</td>\n",
       "      <td>0</td>\n",
       "      <td>2016-09-14</td>\n",
       "      <td>2016-09-11</td>\n",
       "      <td>0</td>\n",
       "      <td>321432</td>\n",
       "      <td>False</td>\n",
       "      <td>True</td>\n",
       "      <td>False</td>\n",
       "    </tr>\n",
       "    <tr>\n",
       "      <th>16341684</th>\n",
       "      <td>35</td>\n",
       "      <td>7</td>\n",
       "      <td>0</td>\n",
       "      <td>0</td>\n",
       "      <td>0</td>\n",
       "      <td>2017-02-20</td>\n",
       "      <td>2017-02-17</td>\n",
       "      <td>0</td>\n",
       "      <td>423704</td>\n",
       "      <td>True</td>\n",
       "      <td>True</td>\n",
       "      <td>False</td>\n",
       "    </tr>\n",
       "    <tr>\n",
       "      <th>1916276</th>\n",
       "      <td>26</td>\n",
       "      <td>1</td>\n",
       "      <td>0</td>\n",
       "      <td>0</td>\n",
       "      <td>0</td>\n",
       "      <td>2015-12-19</td>\n",
       "      <td>2015-12-18</td>\n",
       "      <td>0</td>\n",
       "      <td>466084</td>\n",
       "      <td>False</td>\n",
       "      <td>True</td>\n",
       "      <td>False</td>\n",
       "    </tr>\n",
       "    <tr>\n",
       "      <th>11544429</th>\n",
       "      <td>35</td>\n",
       "      <td>7</td>\n",
       "      <td>0</td>\n",
       "      <td>0</td>\n",
       "      <td>0</td>\n",
       "      <td>2015-08-10</td>\n",
       "      <td>2012-02-02</td>\n",
       "      <td>0</td>\n",
       "      <td>502826</td>\n",
       "      <td>True</td>\n",
       "      <td>True</td>\n",
       "      <td>False</td>\n",
       "    </tr>\n",
       "    <tr>\n",
       "      <th>2221659</th>\n",
       "      <td>26</td>\n",
       "      <td>1</td>\n",
       "      <td>0</td>\n",
       "      <td>0</td>\n",
       "      <td>0</td>\n",
       "      <td>2016-04-19</td>\n",
       "      <td>2016-04-17</td>\n",
       "      <td>0</td>\n",
       "      <td>520405</td>\n",
       "      <td>True</td>\n",
       "      <td>True</td>\n",
       "      <td>False</td>\n",
       "    </tr>\n",
       "    <tr>\n",
       "      <th>16266894</th>\n",
       "      <td>26</td>\n",
       "      <td>1</td>\n",
       "      <td>0</td>\n",
       "      <td>0</td>\n",
       "      <td>0</td>\n",
       "      <td>2017-02-15</td>\n",
       "      <td>2017-02-13</td>\n",
       "      <td>0</td>\n",
       "      <td>558906</td>\n",
       "      <td>True</td>\n",
       "      <td>True</td>\n",
       "      <td>False</td>\n",
       "    </tr>\n",
       "    <tr>\n",
       "      <th>16352923</th>\n",
       "      <td>26</td>\n",
       "      <td>1</td>\n",
       "      <td>0</td>\n",
       "      <td>0</td>\n",
       "      <td>0</td>\n",
       "      <td>2017-02-08</td>\n",
       "      <td>2017-02-07</td>\n",
       "      <td>0</td>\n",
       "      <td>768283</td>\n",
       "      <td>True</td>\n",
       "      <td>True</td>\n",
       "      <td>False</td>\n",
       "    </tr>\n",
       "    <tr>\n",
       "      <th>10396995</th>\n",
       "      <td>26</td>\n",
       "      <td>0</td>\n",
       "      <td>0</td>\n",
       "      <td>0</td>\n",
       "      <td>0</td>\n",
       "      <td>2015-05-07</td>\n",
       "      <td>2015-05-06</td>\n",
       "      <td>0</td>\n",
       "      <td>797358</td>\n",
       "      <td>True</td>\n",
       "      <td>True</td>\n",
       "      <td>False</td>\n",
       "    </tr>\n",
       "    <tr>\n",
       "      <th>15055051</th>\n",
       "      <td>26</td>\n",
       "      <td>1</td>\n",
       "      <td>0</td>\n",
       "      <td>0</td>\n",
       "      <td>0</td>\n",
       "      <td>2016-06-14</td>\n",
       "      <td>2016-06-06</td>\n",
       "      <td>0</td>\n",
       "      <td>801450</td>\n",
       "      <td>True</td>\n",
       "      <td>True</td>\n",
       "      <td>False</td>\n",
       "    </tr>\n",
       "    <tr>\n",
       "      <th>15751444</th>\n",
       "      <td>26</td>\n",
       "      <td>1</td>\n",
       "      <td>0</td>\n",
       "      <td>0</td>\n",
       "      <td>0</td>\n",
       "      <td>2016-09-26</td>\n",
       "      <td>2016-09-22</td>\n",
       "      <td>0</td>\n",
       "      <td>823567</td>\n",
       "      <td>False</td>\n",
       "      <td>True</td>\n",
       "      <td>False</td>\n",
       "    </tr>\n",
       "  </tbody>\n",
       "</table>\n",
       "</div>"
      ],
      "text/plain": [
       "          payment_method_id  payment_plan_days  plan_list_price  \\\n",
       "10277170                 26                  1                0   \n",
       "12088196                 41                  0                0   \n",
       "10752582                 26                  1                0   \n",
       "5725996                  26                  1                0   \n",
       "16397249                 35                  7                0   \n",
       "16270829                 26                  1                0   \n",
       "16341684                 35                  7                0   \n",
       "1916276                  26                  1                0   \n",
       "11544429                 35                  7                0   \n",
       "2221659                  26                  1                0   \n",
       "16266894                 26                  1                0   \n",
       "16352923                 26                  1                0   \n",
       "10396995                 26                  0                0   \n",
       "15055051                 26                  1                0   \n",
       "15751444                 26                  1                0   \n",
       "\n",
       "          actual_amount_paid  is_auto_renew transaction_date  \\\n",
       "10277170                   0              0       2015-06-15   \n",
       "12088196                   0              0       2015-09-18   \n",
       "10752582                   0              0       2015-01-26   \n",
       "5725996                    0              0       2015-10-01   \n",
       "16397249                   0              0       2017-02-20   \n",
       "16270829                   0              0       2016-09-14   \n",
       "16341684                   0              0       2017-02-20   \n",
       "1916276                    0              0       2015-12-19   \n",
       "11544429                   0              0       2015-08-10   \n",
       "2221659                    0              0       2016-04-19   \n",
       "16266894                   0              0       2017-02-15   \n",
       "16352923                   0              0       2017-02-08   \n",
       "10396995                   0              0       2015-05-07   \n",
       "15055051                   0              0       2016-06-14   \n",
       "15751444                   0              0       2016-09-26   \n",
       "\n",
       "         membership_expire_date  is_cancel  new_id  in_train  \\\n",
       "10277170             2015-06-14          0    8236      True   \n",
       "12088196             2014-09-17          0   64925      True   \n",
       "10752582             2015-01-25          0   77415      True   \n",
       "5725996              2015-09-30          0  132303      True   \n",
       "16397249             2017-02-18          0  243122      True   \n",
       "16270829             2016-09-11          0  321432     False   \n",
       "16341684             2017-02-17          0  423704      True   \n",
       "1916276              2015-12-18          0  466084     False   \n",
       "11544429             2012-02-02          0  502826      True   \n",
       "2221659              2016-04-17          0  520405      True   \n",
       "16266894             2017-02-13          0  558906      True   \n",
       "16352923             2017-02-07          0  768283      True   \n",
       "10396995             2015-05-06          0  797358      True   \n",
       "15055051             2016-06-06          0  801450      True   \n",
       "15751444             2016-09-22          0  823567     False   \n",
       "\n",
       "          odd_transactions   1970  \n",
       "10277170              True  False  \n",
       "12088196              True  False  \n",
       "10752582              True  False  \n",
       "5725996               True  False  \n",
       "16397249              True  False  \n",
       "16270829              True  False  \n",
       "16341684              True  False  \n",
       "1916276               True  False  \n",
       "11544429              True  False  \n",
       "2221659               True  False  \n",
       "16266894              True  False  \n",
       "16352923              True  False  \n",
       "10396995              True  False  \n",
       "15055051              True  False  \n",
       "15751444              True  False  "
      ]
     },
     "execution_count": 43,
     "metadata": {},
     "output_type": "execute_result"
    }
   ],
   "source": [
    "#Looks like the rest of the records have lots of instances of membership_expire_date = '1970-01-01'\n",
    "memb_exp_test[memb_exp_test['is_auto_renew']==0].head(10)\n",
    "#15 records where membership_expire_date is not is not 1970-01-01 and is not auto_renew\n",
    "odd_ones_out=memb_exp_test[(memb_exp_test['membership_expire_date']!='1970-01-01') & (memb_exp_test['is_auto_renew']==0)]\n",
    "#Seems like all of these have plan_list_price of 0\n",
    "odd_ones_out.head(15)"
   ]
  },
  {
   "cell_type": "code",
   "execution_count": 15,
   "metadata": {
    "collapsed": true
   },
   "outputs": [],
   "source": [
    "#is_cancel=txn[txn['is_cancel']==1]\n",
    "#print(is_cancel.shape)\n",
    "#is_cancel['diff_dates']=is_cancel['membership_expire_date']-is_cancel['transaction_date']\n",
    "#is_cancel['diff_dates']=is_cancel['diff_dates']/ np.timedelta64(1, 'D')\n",
    "#sns.distplot(is_cancel[is_cancel['diff_dates']>0]['diff_dates'])"
   ]
  },
  {
   "cell_type": "code",
   "execution_count": 16,
   "metadata": {
    "collapsed": true
   },
   "outputs": [],
   "source": [
    "#Determine if member had an odd transaction\n",
    "txn['odd_txn_flag'] = txn['new_id'].isin(memb_exp_test['new_id'])"
   ]
  },
  {
   "cell_type": "markdown",
   "metadata": {},
   "source": [
    "## Feature Engineering\n",
    " \n",
    "<font color='red'>*Note that for the test group, we'll have access to less transactions - using transactions up to March 31st 2017 to predict memberships that expire in April 2017. Therefore, we should train using data up to the end of Feb to predict churn for memberships that expire in the month of March 2017.*</font>\n",
    "\n",
    "Each transaction feature is stored in a pandas dataframe:\n",
    "\n",
    "- **txn_cnts (all members)**: Count number of transactions per member\n",
    "- **tot_plan_pmt (all members)**: Sum of payment plan days, plan list price, and actual amount paid. Also - average price per day, and difference between plan list price and actual amount paid\n",
    "- **txn_prev_churn (churned members)**: Count number of times members churned, i.e. transaction date - membership expire date from previous transaction is greater than 30 days\n",
    "- **txn_ar_stop (all members)**: % of transactions that are auto renew and whether a member has stopped auto-renewing in the duration of their membership\n",
    "- **txn_pmt_change (payment change members)**: Count number of times member changed payment type \n",
    "- **txn_cancelled (all members)**: % of transactions that are cancelled and whether a members has cancelled their membership in the duration of their membership\n",
    "- **txn_cancelled_last (all members)**: If the member has a cancelled transaction as their last transaction\n",
    "- **last_txn (all_members)**: If the member has a free trial as their last transaction\n",
    "\n",
    "All dfs are to be merged into one df, for transaction attributes per member\n",
    "\n",
    "Next:\n",
    "- Look at payment plan days - how often are these 0?\n",
    "- Last transaction is a free trial - free trial and only one transaction: how does this relate to churn?\n",
    "- Which is the \"current\" transaction?\n",
    "- Number of transactions where plan_list_price != actual_amount_paid?\n",
    "- Transactions matrix"
   ]
  },
  {
   "cell_type": "markdown",
   "metadata": {},
   "source": [
    "### Number of Transactions"
   ]
  },
  {
   "cell_type": "code",
   "execution_count": 162,
   "metadata": {
    "collapsed": false,
    "scrolled": true
   },
   "outputs": [
    {
     "data": {
      "text/html": [
       "<div>\n",
       "<table border=\"1\" class=\"dataframe\">\n",
       "  <thead>\n",
       "    <tr style=\"text-align: right;\">\n",
       "      <th></th>\n",
       "      <th>new_id</th>\n",
       "      <th>txn_cnt</th>\n",
       "    </tr>\n",
       "  </thead>\n",
       "  <tbody>\n",
       "    <tr>\n",
       "      <th>0</th>\n",
       "      <td>0</td>\n",
       "      <td>4</td>\n",
       "    </tr>\n",
       "    <tr>\n",
       "      <th>1</th>\n",
       "      <td>1</td>\n",
       "      <td>19</td>\n",
       "    </tr>\n",
       "    <tr>\n",
       "      <th>2</th>\n",
       "      <td>2</td>\n",
       "      <td>26</td>\n",
       "    </tr>\n",
       "    <tr>\n",
       "      <th>3</th>\n",
       "      <td>3</td>\n",
       "      <td>12</td>\n",
       "    </tr>\n",
       "    <tr>\n",
       "      <th>4</th>\n",
       "      <td>4</td>\n",
       "      <td>19</td>\n",
       "    </tr>\n",
       "  </tbody>\n",
       "</table>\n",
       "</div>"
      ],
      "text/plain": [
       "   new_id  txn_cnt\n",
       "0       0        4\n",
       "1       1       19\n",
       "2       2       26\n",
       "3       3       12\n",
       "4       4       19"
      ]
     },
     "execution_count": 162,
     "metadata": {},
     "output_type": "execute_result"
    }
   ],
   "source": [
    "#Number of transactions\n",
    "txn_cnts = txn.groupby(['new_id']).size().reset_index(name='txn_cnt')"
   ]
  },
  {
   "cell_type": "markdown",
   "metadata": {},
   "source": [
    "### Total Payment Plan Days, Plan List Price, Actual Amount Paid"
   ]
  },
  {
   "cell_type": "code",
   "execution_count": 161,
   "metadata": {
    "collapsed": false
   },
   "outputs": [
    {
     "data": {
      "text/html": [
       "<div>\n",
       "<table border=\"1\" class=\"dataframe\">\n",
       "  <thead>\n",
       "    <tr style=\"text-align: right;\">\n",
       "      <th></th>\n",
       "      <th>new_id</th>\n",
       "      <th>payment_plan_days</th>\n",
       "      <th>plan_list_price</th>\n",
       "      <th>actual_amount_paid</th>\n",
       "      <th>avg_daily_paid</th>\n",
       "      <th>list_actual_diff</th>\n",
       "    </tr>\n",
       "  </thead>\n",
       "  <tbody>\n",
       "    <tr>\n",
       "      <th>0</th>\n",
       "      <td>0</td>\n",
       "      <td>120</td>\n",
       "      <td>396</td>\n",
       "      <td>396</td>\n",
       "      <td>3.300000</td>\n",
       "      <td>0</td>\n",
       "    </tr>\n",
       "    <tr>\n",
       "      <th>1</th>\n",
       "      <td>1</td>\n",
       "      <td>543</td>\n",
       "      <td>2682</td>\n",
       "      <td>2831</td>\n",
       "      <td>5.213628</td>\n",
       "      <td>65387</td>\n",
       "    </tr>\n",
       "    <tr>\n",
       "      <th>2</th>\n",
       "      <td>2</td>\n",
       "      <td>750</td>\n",
       "      <td>3725</td>\n",
       "      <td>3874</td>\n",
       "      <td>5.165333</td>\n",
       "      <td>65387</td>\n",
       "    </tr>\n",
       "    <tr>\n",
       "      <th>3</th>\n",
       "      <td>3</td>\n",
       "      <td>360</td>\n",
       "      <td>1788</td>\n",
       "      <td>1788</td>\n",
       "      <td>4.966667</td>\n",
       "      <td>0</td>\n",
       "    </tr>\n",
       "    <tr>\n",
       "      <th>4</th>\n",
       "      <td>4</td>\n",
       "      <td>543</td>\n",
       "      <td>2682</td>\n",
       "      <td>2831</td>\n",
       "      <td>5.213628</td>\n",
       "      <td>65387</td>\n",
       "    </tr>\n",
       "  </tbody>\n",
       "</table>\n",
       "</div>"
      ],
      "text/plain": [
       "   new_id  payment_plan_days  plan_list_price  actual_amount_paid  \\\n",
       "0       0                120              396                 396   \n",
       "1       1                543             2682                2831   \n",
       "2       2                750             3725                3874   \n",
       "3       3                360             1788                1788   \n",
       "4       4                543             2682                2831   \n",
       "\n",
       "   avg_daily_paid  list_actual_diff  \n",
       "0        3.300000                 0  \n",
       "1        5.213628             65387  \n",
       "2        5.165333             65387  \n",
       "3        4.966667                 0  \n",
       "4        5.213628             65387  "
      ]
     },
     "execution_count": 161,
     "metadata": {},
     "output_type": "execute_result"
    }
   ],
   "source": [
    "#Sum of payment_plan_days\n",
    "tot_plan_pmt = txn.groupby(['new_id'])[['payment_plan_days', 'plan_list_price', 'actual_amount_paid']].sum().reset_index()\n",
    "tot_plan_pmt['avg_daily_paid'] = tot_plan_pmt['actual_amount_paid'] / tot_plan_pmt['payment_plan_days']\n",
    "tot_plan_pmt['list_actual_diff'] = tot_plan_pmt['plan_list_price'] - tot_plan_pmt['actual_amount_paid']\n",
    "tot_plan_pmt.head()"
   ]
  },
  {
   "cell_type": "markdown",
   "metadata": {},
   "source": [
    "### Number of Times Churned"
   ]
  },
  {
   "cell_type": "code",
   "execution_count": 44,
   "metadata": {
    "collapsed": false
   },
   "outputs": [
    {
     "data": {
      "text/html": [
       "<div>\n",
       "<style scoped>\n",
       "    .dataframe tbody tr th:only-of-type {\n",
       "        vertical-align: middle;\n",
       "    }\n",
       "\n",
       "    .dataframe tbody tr th {\n",
       "        vertical-align: top;\n",
       "    }\n",
       "\n",
       "    .dataframe thead th {\n",
       "        text-align: right;\n",
       "    }\n",
       "</style>\n",
       "<table border=\"1\" class=\"dataframe\">\n",
       "  <thead>\n",
       "    <tr style=\"text-align: right;\">\n",
       "      <th></th>\n",
       "      <th>payment_method_id</th>\n",
       "      <th>payment_plan_days</th>\n",
       "      <th>plan_list_price</th>\n",
       "      <th>actual_amount_paid</th>\n",
       "      <th>is_auto_renew</th>\n",
       "      <th>transaction_date</th>\n",
       "      <th>membership_expire_date</th>\n",
       "      <th>is_cancel</th>\n",
       "      <th>new_id</th>\n",
       "      <th>shifted_expiry</th>\n",
       "      <th>memb_gap</th>\n",
       "      <th>prev_churn</th>\n",
       "    </tr>\n",
       "  </thead>\n",
       "  <tbody>\n",
       "    <tr>\n",
       "      <th>0</th>\n",
       "      <td>41</td>\n",
       "      <td>30</td>\n",
       "      <td>129</td>\n",
       "      <td>129</td>\n",
       "      <td>1</td>\n",
       "      <td>2015-09-30</td>\n",
       "      <td>2015-11-01</td>\n",
       "      <td>0</td>\n",
       "      <td>625225</td>\n",
       "      <td>NaT</td>\n",
       "      <td>NaT</td>\n",
       "      <td>False</td>\n",
       "    </tr>\n",
       "    <tr>\n",
       "      <th>1</th>\n",
       "      <td>41</td>\n",
       "      <td>30</td>\n",
       "      <td>129</td>\n",
       "      <td>129</td>\n",
       "      <td>1</td>\n",
       "      <td>2015-10-31</td>\n",
       "      <td>2015-12-01</td>\n",
       "      <td>0</td>\n",
       "      <td>625225</td>\n",
       "      <td>2015-11-01</td>\n",
       "      <td>-1 days</td>\n",
       "      <td>False</td>\n",
       "    </tr>\n",
       "    <tr>\n",
       "      <th>2</th>\n",
       "      <td>41</td>\n",
       "      <td>30</td>\n",
       "      <td>129</td>\n",
       "      <td>129</td>\n",
       "      <td>1</td>\n",
       "      <td>2015-06-30</td>\n",
       "      <td>2015-08-01</td>\n",
       "      <td>0</td>\n",
       "      <td>625225</td>\n",
       "      <td>2015-12-01</td>\n",
       "      <td>-154 days</td>\n",
       "      <td>False</td>\n",
       "    </tr>\n",
       "    <tr>\n",
       "      <th>3</th>\n",
       "      <td>41</td>\n",
       "      <td>30</td>\n",
       "      <td>129</td>\n",
       "      <td>129</td>\n",
       "      <td>1</td>\n",
       "      <td>2015-02-28</td>\n",
       "      <td>2015-04-01</td>\n",
       "      <td>0</td>\n",
       "      <td>625225</td>\n",
       "      <td>2015-08-01</td>\n",
       "      <td>-154 days</td>\n",
       "      <td>False</td>\n",
       "    </tr>\n",
       "    <tr>\n",
       "      <th>4</th>\n",
       "      <td>41</td>\n",
       "      <td>30</td>\n",
       "      <td>129</td>\n",
       "      <td>129</td>\n",
       "      <td>1</td>\n",
       "      <td>2016-11-30</td>\n",
       "      <td>2017-01-01</td>\n",
       "      <td>0</td>\n",
       "      <td>625225</td>\n",
       "      <td>2015-04-01</td>\n",
       "      <td>609 days</td>\n",
       "      <td>True</td>\n",
       "    </tr>\n",
       "  </tbody>\n",
       "</table>\n",
       "</div>"
      ],
      "text/plain": [
       "   payment_method_id  payment_plan_days  plan_list_price  actual_amount_paid  \\\n",
       "0                 41                 30              129                 129   \n",
       "1                 41                 30              129                 129   \n",
       "2                 41                 30              129                 129   \n",
       "3                 41                 30              129                 129   \n",
       "4                 41                 30              129                 129   \n",
       "\n",
       "   is_auto_renew transaction_date membership_expire_date  is_cancel  new_id  \\\n",
       "0              1       2015-09-30             2015-11-01          0  625225   \n",
       "1              1       2015-10-31             2015-12-01          0  625225   \n",
       "2              1       2015-06-30             2015-08-01          0  625225   \n",
       "3              1       2015-02-28             2015-04-01          0  625225   \n",
       "4              1       2016-11-30             2017-01-01          0  625225   \n",
       "\n",
       "  shifted_expiry  memb_gap  prev_churn  \n",
       "0            NaT       NaT       False  \n",
       "1     2015-11-01   -1 days       False  \n",
       "2     2015-12-01 -154 days       False  \n",
       "3     2015-08-01 -154 days       False  \n",
       "4     2015-04-01  609 days        True  "
      ]
     },
     "execution_count": 44,
     "metadata": {},
     "output_type": "execute_result"
    }
   ],
   "source": [
    "#Previous churn: determine if transaction date-membership expiry date from previous row is >30days \n",
    "txn['shifted_expiry'] = txn.groupby('new_id')['membership_expire_date'].shift()\n",
    "txn['memb_gap'] = (txn['transaction_date'] - txn['shifted_expiry'])\n",
    "txn['prev_churn'] = (txn['memb_gap']/np.timedelta64(1, 'D'))>30\n",
    "txn.head()"
   ]
  },
  {
   "cell_type": "code",
   "execution_count": 172,
   "metadata": {
    "collapsed": false
   },
   "outputs": [
    {
     "data": {
      "text/html": [
       "<div>\n",
       "<table border=\"1\" class=\"dataframe\">\n",
       "  <thead>\n",
       "    <tr style=\"text-align: right;\">\n",
       "      <th></th>\n",
       "      <th>new_id</th>\n",
       "      <th>prev_churn_cnt</th>\n",
       "    </tr>\n",
       "  </thead>\n",
       "  <tbody>\n",
       "    <tr>\n",
       "      <th>0</th>\n",
       "      <td>1</td>\n",
       "      <td>1</td>\n",
       "    </tr>\n",
       "    <tr>\n",
       "      <th>1</th>\n",
       "      <td>4</td>\n",
       "      <td>1</td>\n",
       "    </tr>\n",
       "    <tr>\n",
       "      <th>2</th>\n",
       "      <td>5</td>\n",
       "      <td>1</td>\n",
       "    </tr>\n",
       "    <tr>\n",
       "      <th>3</th>\n",
       "      <td>8</td>\n",
       "      <td>2</td>\n",
       "    </tr>\n",
       "    <tr>\n",
       "      <th>4</th>\n",
       "      <td>9</td>\n",
       "      <td>1</td>\n",
       "    </tr>\n",
       "  </tbody>\n",
       "</table>\n",
       "</div>"
      ],
      "text/plain": [
       "   new_id  prev_churn_cnt\n",
       "0       1               1\n",
       "1       4               1\n",
       "2       5               1\n",
       "3       8               2\n",
       "4       9               1"
      ]
     },
     "execution_count": 172,
     "metadata": {},
     "output_type": "execute_result"
    }
   ],
   "source": [
    "#Aggregate number of times churned\n",
    "txn_prev_churn = txn[txn['prev_churn'] == True].groupby('new_id')['prev_churn'].count().reset_index(name='prev_churn_cnt')\n",
    "txn_prev_churn.head()"
   ]
  },
  {
   "cell_type": "markdown",
   "metadata": {},
   "source": [
    "### Stopped Auto Renew"
   ]
  },
  {
   "cell_type": "code",
   "execution_count": 21,
   "metadata": {
    "collapsed": false
   },
   "outputs": [
    {
     "data": {
      "text/plain": [
       "1    917360\n",
       "0    162303\n",
       "Name: last_ar, dtype: int64"
      ]
     },
     "execution_count": 21,
     "metadata": {},
     "output_type": "execute_result"
    }
   ],
   "source": [
    "#Value of 'is_auto_renew' for last transaction\n",
    "txn_ar_last = txn.groupby(['new_id'])['is_auto_renew'].last().reset_index(name='last_ar')\n",
    "txn_ar_last['last_ar'].value_counts()"
   ]
  },
  {
   "cell_type": "code",
   "execution_count": 22,
   "metadata": {
    "collapsed": false
   },
   "outputs": [
    {
     "data": {
      "text/html": [
       "<div>\n",
       "<style scoped>\n",
       "    .dataframe tbody tr th:only-of-type {\n",
       "        vertical-align: middle;\n",
       "    }\n",
       "\n",
       "    .dataframe tbody tr th {\n",
       "        vertical-align: top;\n",
       "    }\n",
       "\n",
       "    .dataframe thead th {\n",
       "        text-align: right;\n",
       "    }\n",
       "</style>\n",
       "<table border=\"1\" class=\"dataframe\">\n",
       "  <thead>\n",
       "    <tr style=\"text-align: right;\">\n",
       "      <th></th>\n",
       "      <th>new_id</th>\n",
       "      <th>mean_ar</th>\n",
       "      <th>last_ar</th>\n",
       "      <th>stopped_ar</th>\n",
       "    </tr>\n",
       "  </thead>\n",
       "  <tbody>\n",
       "    <tr>\n",
       "      <th>9</th>\n",
       "      <td>9</td>\n",
       "      <td>0.571429</td>\n",
       "      <td>0</td>\n",
       "      <td>True</td>\n",
       "    </tr>\n",
       "    <tr>\n",
       "      <th>80</th>\n",
       "      <td>80</td>\n",
       "      <td>0.857143</td>\n",
       "      <td>0</td>\n",
       "      <td>True</td>\n",
       "    </tr>\n",
       "    <tr>\n",
       "      <th>135</th>\n",
       "      <td>135</td>\n",
       "      <td>0.714286</td>\n",
       "      <td>0</td>\n",
       "      <td>True</td>\n",
       "    </tr>\n",
       "    <tr>\n",
       "      <th>243</th>\n",
       "      <td>243</td>\n",
       "      <td>0.875000</td>\n",
       "      <td>0</td>\n",
       "      <td>True</td>\n",
       "    </tr>\n",
       "    <tr>\n",
       "      <th>265</th>\n",
       "      <td>265</td>\n",
       "      <td>0.875000</td>\n",
       "      <td>0</td>\n",
       "      <td>True</td>\n",
       "    </tr>\n",
       "  </tbody>\n",
       "</table>\n",
       "</div>"
      ],
      "text/plain": [
       "     new_id   mean_ar  last_ar  stopped_ar\n",
       "9         9  0.571429        0        True\n",
       "80       80  0.857143        0        True\n",
       "135     135  0.714286        0        True\n",
       "243     243  0.875000        0        True\n",
       "265     265  0.875000        0        True"
      ]
     },
     "execution_count": 22,
     "metadata": {},
     "output_type": "execute_result"
    }
   ],
   "source": [
    "#Changed auto renew:\n",
    "txn_ar_change = txn.groupby(['new_id'])['is_auto_renew'].mean().reset_index(name='mean_ar')\n",
    "txn_ar_stop = txn_ar_change.merge(txn_ar_last, on='new_id', how='inner')\n",
    "txn_ar_stop['stopped_ar']=(txn_ar_stop['mean_ar'] < 1) & (txn_ar_stop['mean_ar'] > 0) & (txn_ar_stop['last_ar'] == 0)\n",
    "txn_ar_stop[txn_ar_stop['stopped_ar']==True].head()"
   ]
  },
  {
   "cell_type": "code",
   "execution_count": 23,
   "metadata": {
    "collapsed": false
   },
   "outputs": [
    {
     "data": {
      "text/plain": [
       "False    1062259\n",
       "True       17404\n",
       "Name: stopped_ar, dtype: int64"
      ]
     },
     "execution_count": 23,
     "metadata": {},
     "output_type": "execute_result"
    }
   ],
   "source": [
    "txn_ar_stop['stopped_ar'].value_counts()"
   ]
  },
  {
   "cell_type": "markdown",
   "metadata": {},
   "source": [
    "### Changed Payment Method"
   ]
  },
  {
   "cell_type": "code",
   "execution_count": 24,
   "metadata": {
    "collapsed": false
   },
   "outputs": [
    {
     "name": "stdout",
     "output_type": "stream",
     "text": [
      "          payment_method_id  payment_plan_days  plan_list_price  \\\n",
      "867414                   41                 30               99   \n",
      "867416                   41                 30               99   \n",
      "867413                   41                 30               99   \n",
      "867415                   41                 30               99   \n",
      "15369793                 39                 31              149   \n",
      "\n",
      "          actual_amount_paid  is_auto_renew transaction_date  \\\n",
      "867414                    99              1       2016-11-16   \n",
      "867416                    99              1       2016-12-15   \n",
      "867413                    99              1       2017-01-15   \n",
      "867415                    99              1       2017-02-15   \n",
      "15369793                 149              1       2015-01-31   \n",
      "\n",
      "         membership_expire_date  is_cancel  new_id  in_train  \\\n",
      "867414               2016-12-15          0       0      True   \n",
      "867416               2017-01-15          0       0      True   \n",
      "867413               2017-02-15          0       0      True   \n",
      "867415               2017-03-15          0       0      True   \n",
      "15369793             2015-03-19          0       1      True   \n",
      "\n",
      "          odd_transactions   1970  odd_txn_flag shifted_expiry memb_gap  \\\n",
      "867414               False  False         False            NaT      NaT   \n",
      "867416               False  False         False     2016-12-15   0 days   \n",
      "867413               False  False         False     2017-01-15   0 days   \n",
      "867415               False  False         False     2017-02-15   0 days   \n",
      "15369793             False  False         False            NaT      NaT   \n",
      "\n",
      "          prev_churn  shifted_pmt  pmt_change  \n",
      "867414         False          NaN       False  \n",
      "867416         False         41.0       False  \n",
      "867413         False         41.0       False  \n",
      "867415         False         41.0       False  \n",
      "15369793       False          NaN       False  \n"
     ]
    },
    {
     "data": {
      "text/plain": [
       "False    16138228\n",
       "True       273497\n",
       "Name: pmt_change, dtype: int64"
      ]
     },
     "execution_count": 24,
     "metadata": {},
     "output_type": "execute_result"
    }
   ],
   "source": [
    "#Changed payment method:determine if transaction date-membership expiry date from previous row is >30days \n",
    "txn['shifted_pmt'] = txn.groupby('new_id')['payment_method_id'].shift()\n",
    "txn['pmt_change'] = (txn['payment_method_id'] != txn['shifted_pmt']) & (txn['shifted_pmt'].isnull() != True)\n",
    "print(txn.head())\n",
    "txn['pmt_change'].value_counts()"
   ]
  },
  {
   "cell_type": "code",
   "execution_count": 25,
   "metadata": {
    "collapsed": false
   },
   "outputs": [
    {
     "data": {
      "text/html": [
       "<div>\n",
       "<style scoped>\n",
       "    .dataframe tbody tr th:only-of-type {\n",
       "        vertical-align: middle;\n",
       "    }\n",
       "\n",
       "    .dataframe tbody tr th {\n",
       "        vertical-align: top;\n",
       "    }\n",
       "\n",
       "    .dataframe thead th {\n",
       "        text-align: right;\n",
       "    }\n",
       "</style>\n",
       "<table border=\"1\" class=\"dataframe\">\n",
       "  <thead>\n",
       "    <tr style=\"text-align: right;\">\n",
       "      <th></th>\n",
       "      <th>new_id</th>\n",
       "      <th>pmt_change_cnt</th>\n",
       "    </tr>\n",
       "  </thead>\n",
       "  <tbody>\n",
       "    <tr>\n",
       "      <th>0</th>\n",
       "      <td>7</td>\n",
       "      <td>2</td>\n",
       "    </tr>\n",
       "    <tr>\n",
       "      <th>1</th>\n",
       "      <td>8</td>\n",
       "      <td>2</td>\n",
       "    </tr>\n",
       "    <tr>\n",
       "      <th>2</th>\n",
       "      <td>9</td>\n",
       "      <td>2</td>\n",
       "    </tr>\n",
       "    <tr>\n",
       "      <th>3</th>\n",
       "      <td>21</td>\n",
       "      <td>3</td>\n",
       "    </tr>\n",
       "    <tr>\n",
       "      <th>4</th>\n",
       "      <td>36</td>\n",
       "      <td>1</td>\n",
       "    </tr>\n",
       "  </tbody>\n",
       "</table>\n",
       "</div>"
      ],
      "text/plain": [
       "   new_id  pmt_change_cnt\n",
       "0       7               2\n",
       "1       8               2\n",
       "2       9               2\n",
       "3      21               3\n",
       "4      36               1"
      ]
     },
     "execution_count": 25,
     "metadata": {},
     "output_type": "execute_result"
    }
   ],
   "source": [
    "#Aggregate number of times changed payment method\n",
    "txn_pmt_change = txn[txn['pmt_change'] == True].groupby('new_id')['pmt_change'].count().reset_index(name='pmt_change_cnt')\n",
    "txn_pmt_change.head()"
   ]
  },
  {
   "cell_type": "markdown",
   "metadata": {},
   "source": [
    "### Cancelled Membership"
   ]
  },
  {
   "cell_type": "code",
   "execution_count": 26,
   "metadata": {
    "collapsed": false
   },
   "outputs": [
    {
     "data": {
      "text/html": [
       "<div>\n",
       "<style scoped>\n",
       "    .dataframe tbody tr th:only-of-type {\n",
       "        vertical-align: middle;\n",
       "    }\n",
       "\n",
       "    .dataframe tbody tr th {\n",
       "        vertical-align: top;\n",
       "    }\n",
       "\n",
       "    .dataframe thead th {\n",
       "        text-align: right;\n",
       "    }\n",
       "</style>\n",
       "<table border=\"1\" class=\"dataframe\">\n",
       "  <thead>\n",
       "    <tr style=\"text-align: right;\">\n",
       "      <th></th>\n",
       "      <th>new_id</th>\n",
       "      <th>mean_cancel</th>\n",
       "      <th>cancelled</th>\n",
       "    </tr>\n",
       "  </thead>\n",
       "  <tbody>\n",
       "    <tr>\n",
       "      <th>9</th>\n",
       "      <td>9</td>\n",
       "      <td>0.142857</td>\n",
       "      <td>True</td>\n",
       "    </tr>\n",
       "    <tr>\n",
       "      <th>17</th>\n",
       "      <td>17</td>\n",
       "      <td>0.037037</td>\n",
       "      <td>True</td>\n",
       "    </tr>\n",
       "    <tr>\n",
       "      <th>21</th>\n",
       "      <td>21</td>\n",
       "      <td>0.071429</td>\n",
       "      <td>True</td>\n",
       "    </tr>\n",
       "    <tr>\n",
       "      <th>28</th>\n",
       "      <td>28</td>\n",
       "      <td>0.050000</td>\n",
       "      <td>True</td>\n",
       "    </tr>\n",
       "    <tr>\n",
       "      <th>35</th>\n",
       "      <td>35</td>\n",
       "      <td>0.133333</td>\n",
       "      <td>True</td>\n",
       "    </tr>\n",
       "  </tbody>\n",
       "</table>\n",
       "</div>"
      ],
      "text/plain": [
       "    new_id  mean_cancel  cancelled\n",
       "9        9     0.142857       True\n",
       "17      17     0.037037       True\n",
       "21      21     0.071429       True\n",
       "28      28     0.050000       True\n",
       "35      35     0.133333       True"
      ]
     },
     "execution_count": 26,
     "metadata": {},
     "output_type": "execute_result"
    }
   ],
   "source": [
    "#Cancelled membership:\n",
    "txn_cancelled = txn.groupby(['new_id'])['is_cancel'].mean().reset_index(name='mean_cancel')\n",
    "txn_cancelled['cancelled']=(txn_cancelled['mean_cancel']<1)&(txn_cancelled['mean_cancel']>0)\n",
    "txn_cancelled[txn_cancelled['cancelled']==True].head()"
   ]
  },
  {
   "cell_type": "code",
   "execution_count": 27,
   "metadata": {
    "collapsed": false
   },
   "outputs": [
    {
     "data": {
      "text/plain": [
       "False    846452\n",
       "True     233211\n",
       "Name: cancelled, dtype: int64"
      ]
     },
     "execution_count": 27,
     "metadata": {},
     "output_type": "execute_result"
    }
   ],
   "source": [
    "txn_cancelled['cancelled'].value_counts()"
   ]
  },
  {
   "cell_type": "code",
   "execution_count": 163,
   "metadata": {
    "collapsed": false
   },
   "outputs": [
    {
     "data": {
      "text/plain": [
       "0    1051713\n",
       "1      27950\n",
       "Name: last_cancel, dtype: int64"
      ]
     },
     "execution_count": 163,
     "metadata": {},
     "output_type": "execute_result"
    }
   ],
   "source": [
    "#Cancelled membership in last transaction:\n",
    "txn_cancelled_last = txn.groupby(['new_id'])['is_cancel'].last().reset_index(name='last_cancel')\n",
    "txn_cancelled_last['last_cancel'].value_counts()"
   ]
  },
  {
   "cell_type": "markdown",
   "metadata": {},
   "source": [
    "### Last Transaction is Free Trial"
   ]
  },
  {
   "cell_type": "code",
   "execution_count": 166,
   "metadata": {
    "collapsed": false
   },
   "outputs": [
    {
     "data": {
      "text/html": [
       "<div>\n",
       "<table border=\"1\" class=\"dataframe\">\n",
       "  <thead>\n",
       "    <tr style=\"text-align: right;\">\n",
       "      <th></th>\n",
       "      <th>new_id</th>\n",
       "      <th>last_plan_price</th>\n",
       "      <th>lst_free_trial</th>\n",
       "    </tr>\n",
       "  </thead>\n",
       "  <tbody>\n",
       "    <tr>\n",
       "      <th>56</th>\n",
       "      <td>56</td>\n",
       "      <td>0</td>\n",
       "      <td>True</td>\n",
       "    </tr>\n",
       "    <tr>\n",
       "      <th>670</th>\n",
       "      <td>673</td>\n",
       "      <td>0</td>\n",
       "      <td>True</td>\n",
       "    </tr>\n",
       "    <tr>\n",
       "      <th>805</th>\n",
       "      <td>809</td>\n",
       "      <td>0</td>\n",
       "      <td>True</td>\n",
       "    </tr>\n",
       "    <tr>\n",
       "      <th>1180</th>\n",
       "      <td>1185</td>\n",
       "      <td>0</td>\n",
       "      <td>True</td>\n",
       "    </tr>\n",
       "    <tr>\n",
       "      <th>1481</th>\n",
       "      <td>1487</td>\n",
       "      <td>0</td>\n",
       "      <td>True</td>\n",
       "    </tr>\n",
       "  </tbody>\n",
       "</table>\n",
       "</div>"
      ],
      "text/plain": [
       "      new_id  last_plan_price lst_free_trial\n",
       "56        56                0           True\n",
       "670      673                0           True\n",
       "805      809                0           True\n",
       "1180    1185                0           True\n",
       "1481    1487                0           True"
      ]
     },
     "execution_count": 166,
     "metadata": {},
     "output_type": "execute_result"
    }
   ],
   "source": [
    "#5483 members who have their last transaction as a free trial\n",
    "last_txn = txn.groupby(['new_id'])['plan_list_price'].last().reset_index(name='last_plan_price')\n",
    "last_txn['lst_free_trial'] = (last_txn['last_plan_price'] == 0) | (last_txn['last_plan_price'] == 1)\n",
    "last_txn[last_txn['lst_free_trial']==True].head()"
   ]
  },
  {
   "cell_type": "markdown",
   "metadata": {},
   "source": [
    "## Merging Feature Dataframes"
   ]
  },
  {
   "cell_type": "code",
   "execution_count": 175,
   "metadata": {
    "collapsed": false
   },
   "outputs": [
    {
     "name": "stdout",
     "output_type": "stream",
     "text": [
      "(992931, 19)\n"
     ]
    },
    {
     "data": {
      "text/html": [
       "<div>\n",
       "<table border=\"1\" class=\"dataframe\">\n",
       "  <thead>\n",
       "    <tr style=\"text-align: right;\">\n",
       "      <th></th>\n",
       "      <th>is_churn</th>\n",
       "      <th>new_id</th>\n",
       "      <th>in_txn</th>\n",
       "      <th>txn_cnt</th>\n",
       "      <th>payment_plan_days</th>\n",
       "      <th>plan_list_price</th>\n",
       "      <th>actual_amount_paid</th>\n",
       "      <th>avg_daily_paid</th>\n",
       "      <th>list_actual_diff</th>\n",
       "      <th>mean_ar</th>\n",
       "      <th>last_ar</th>\n",
       "      <th>stopped_ar</th>\n",
       "      <th>mean_cancel</th>\n",
       "      <th>cancelled</th>\n",
       "      <th>last_cancel</th>\n",
       "      <th>last_plan_price</th>\n",
       "      <th>lst_free_trial</th>\n",
       "      <th>prev_churn_cnt</th>\n",
       "      <th>pmt_change_cnt</th>\n",
       "    </tr>\n",
       "  </thead>\n",
       "  <tbody>\n",
       "    <tr>\n",
       "      <th>0</th>\n",
       "      <td>1</td>\n",
       "      <td>1025093</td>\n",
       "      <td>True</td>\n",
       "      <td>2</td>\n",
       "      <td>37</td>\n",
       "      <td>149</td>\n",
       "      <td>149</td>\n",
       "      <td>4.027027</td>\n",
       "      <td>0</td>\n",
       "      <td>0.000000</td>\n",
       "      <td>0</td>\n",
       "      <td>False</td>\n",
       "      <td>0.000000</td>\n",
       "      <td>False</td>\n",
       "      <td>0</td>\n",
       "      <td>149</td>\n",
       "      <td>False</td>\n",
       "      <td>1.0</td>\n",
       "      <td>NaN</td>\n",
       "    </tr>\n",
       "    <tr>\n",
       "      <th>1</th>\n",
       "      <td>1</td>\n",
       "      <td>476532</td>\n",
       "      <td>True</td>\n",
       "      <td>23</td>\n",
       "      <td>663</td>\n",
       "      <td>3309</td>\n",
       "      <td>3458</td>\n",
       "      <td>5.215686</td>\n",
       "      <td>65387</td>\n",
       "      <td>0.956522</td>\n",
       "      <td>1</td>\n",
       "      <td>False</td>\n",
       "      <td>0.086957</td>\n",
       "      <td>True</td>\n",
       "      <td>1</td>\n",
       "      <td>149</td>\n",
       "      <td>False</td>\n",
       "      <td>1.0</td>\n",
       "      <td>2.0</td>\n",
       "    </tr>\n",
       "    <tr>\n",
       "      <th>2</th>\n",
       "      <td>1</td>\n",
       "      <td>731853</td>\n",
       "      <td>True</td>\n",
       "      <td>10</td>\n",
       "      <td>300</td>\n",
       "      <td>1492</td>\n",
       "      <td>1492</td>\n",
       "      <td>4.973333</td>\n",
       "      <td>0</td>\n",
       "      <td>0.800000</td>\n",
       "      <td>1</td>\n",
       "      <td>False</td>\n",
       "      <td>0.100000</td>\n",
       "      <td>True</td>\n",
       "      <td>1</td>\n",
       "      <td>149</td>\n",
       "      <td>False</td>\n",
       "      <td>1.0</td>\n",
       "      <td>1.0</td>\n",
       "    </tr>\n",
       "    <tr>\n",
       "      <th>3</th>\n",
       "      <td>1</td>\n",
       "      <td>854199</td>\n",
       "      <td>True</td>\n",
       "      <td>2</td>\n",
       "      <td>820</td>\n",
       "      <td>1788</td>\n",
       "      <td>1788</td>\n",
       "      <td>2.180488</td>\n",
       "      <td>0</td>\n",
       "      <td>0.000000</td>\n",
       "      <td>0</td>\n",
       "      <td>False</td>\n",
       "      <td>0.000000</td>\n",
       "      <td>False</td>\n",
       "      <td>0</td>\n",
       "      <td>1788</td>\n",
       "      <td>False</td>\n",
       "      <td>NaN</td>\n",
       "      <td>1.0</td>\n",
       "    </tr>\n",
       "    <tr>\n",
       "      <th>4</th>\n",
       "      <td>1</td>\n",
       "      <td>601853</td>\n",
       "      <td>True</td>\n",
       "      <td>8</td>\n",
       "      <td>785</td>\n",
       "      <td>3576</td>\n",
       "      <td>3576</td>\n",
       "      <td>4.555414</td>\n",
       "      <td>0</td>\n",
       "      <td>0.000000</td>\n",
       "      <td>0</td>\n",
       "      <td>False</td>\n",
       "      <td>0.000000</td>\n",
       "      <td>False</td>\n",
       "      <td>0</td>\n",
       "      <td>149</td>\n",
       "      <td>False</td>\n",
       "      <td>NaN</td>\n",
       "      <td>NaN</td>\n",
       "    </tr>\n",
       "  </tbody>\n",
       "</table>\n",
       "</div>"
      ],
      "text/plain": [
       "   is_churn   new_id in_txn  txn_cnt  payment_plan_days  plan_list_price  \\\n",
       "0         1  1025093   True        2                 37              149   \n",
       "1         1   476532   True       23                663             3309   \n",
       "2         1   731853   True       10                300             1492   \n",
       "3         1   854199   True        2                820             1788   \n",
       "4         1   601853   True        8                785             3576   \n",
       "\n",
       "   actual_amount_paid  avg_daily_paid  list_actual_diff   mean_ar  last_ar  \\\n",
       "0                 149        4.027027                 0  0.000000        0   \n",
       "1                3458        5.215686             65387  0.956522        1   \n",
       "2                1492        4.973333                 0  0.800000        1   \n",
       "3                1788        2.180488                 0  0.000000        0   \n",
       "4                3576        4.555414                 0  0.000000        0   \n",
       "\n",
       "  stopped_ar  mean_cancel cancelled  last_cancel  last_plan_price  \\\n",
       "0      False     0.000000     False            0              149   \n",
       "1      False     0.086957      True            1              149   \n",
       "2      False     0.100000      True            1              149   \n",
       "3      False     0.000000     False            0             1788   \n",
       "4      False     0.000000     False            0              149   \n",
       "\n",
       "  lst_free_trial  prev_churn_cnt  pmt_change_cnt  \n",
       "0          False             1.0             NaN  \n",
       "1          False             1.0             2.0  \n",
       "2          False             1.0             1.0  \n",
       "3          False             NaN             1.0  \n",
       "4          False             NaN             NaN  "
      ]
     },
     "execution_count": 175,
     "metadata": {},
     "output_type": "execute_result"
    }
   ],
   "source": [
    "import functools\n",
    "\n",
    "txn_features = [train, txn_cnts, tot_plan_pmt, txn_ar_stop, txn_cancelled, txn_cancelled_last, last_txn]\n",
    "f_txn = functools.reduce(lambda left,right: pd.merge(left,right,on='new_id', how='inner'), txn_features)\n",
    "\n",
    "txn_features_left = [f_txn, txn_prev_churn, txn_pmt_change]\n",
    "f_txn = functools.reduce(lambda left,right: pd.merge(left,right,on='new_id', how='left'), txn_features_left)\n",
    "\n",
    "#.merge(txn_prev_churn, on='new_id', how='left')\n",
    "#.merge(txn_payment_change, on='new_id', how='left')\n",
    "\n",
    "print(f_txn.shape)\n",
    "f_txn.head()"
   ]
  },
  {
   "cell_type": "markdown",
   "metadata": {},
   "source": [
    "## Casual Exploratory Analysis\n",
    "\n",
    "Oh so casual *_hairflick_"
   ]
  },
  {
   "cell_type": "code",
   "execution_count": 29,
   "metadata": {
    "collapsed": false
   },
   "outputs": [
    {
     "data": {
      "text/plain": [
       "0.041316741536919492"
      ]
     },
     "execution_count": 29,
     "metadata": {},
     "output_type": "execute_result"
    }
   ],
   "source": [
    "#4% of transactions have a plan_list_price of zero\n",
    "txn[txn['plan_list_price']==0]['plan_list_price'].count()/txn['plan_list_price'].count()"
   ]
  },
  {
   "cell_type": "code",
   "execution_count": 30,
   "metadata": {
    "collapsed": false
   },
   "outputs": [
    {
     "name": "stderr",
     "output_type": "stream",
     "text": [
      "/Users/calestini/anaconda/lib/python3.6/site-packages/seaborn/categorical.py:1428: FutureWarning: remove_na is deprecated and is a private function. Do not use.\n",
      "  stat_data = remove_na(group_data)\n"
     ]
    },
    {
     "data": {
      "text/plain": [
       "<matplotlib.axes._subplots.AxesSubplot at 0x10f5e92b0>"
      ]
     },
     "execution_count": 30,
     "metadata": {},
     "output_type": "execute_result"
    },
    {
     "data": {
      "image/png": "[encoded data removed]",
      "text/plain": [
       "<matplotlib.figure.Figure at 0x10f5e9240>"
      ]
     },
     "metadata": {},
     "output_type": "display_data"
    }
   ],
   "source": [
    "#Looking at prices of membership transactions: 99 & 149 & 129 corresponds to monthly membership\n",
    "plt.figure(num=None, figsize=(16, 4), dpi=80)\n",
    "sns.countplot(txn['plan_list_price'])"
   ]
  },
  {
   "cell_type": "code",
   "execution_count": 31,
   "metadata": {
    "collapsed": false
   },
   "outputs": [
    {
     "name": "stdout",
     "output_type": "stream",
     "text": [
      "30    14263933\n",
      "31      492846\n",
      "35         325\n",
      "Name: payment_plan_days, dtype: int64\n"
     ]
    }
   ],
   "source": [
    "print(txn[(txn['plan_list_price']==129)|(txn['plan_list_price']==99)|(txn['plan_list_price']==149)]['payment_plan_days'].value_counts())"
   ]
  },
  {
   "cell_type": "code",
   "execution_count": 32,
   "metadata": {
    "collapsed": false
   },
   "outputs": [
    {
     "data": {
      "text/plain": [
       "<matplotlib.axes._subplots.AxesSubplot at 0x130562a58>"
      ]
     },
     "execution_count": 32,
     "metadata": {},
     "output_type": "execute_result"
    },
    {
     "data": {
      "image/png": "[encoded data removed]",
      "text/plain": [
       "<matplotlib.figure.Figure at 0x131295278>"
      ]
     },
     "metadata": {},
     "output_type": "display_data"
    }
   ],
   "source": [
    "txn_test = txn.groupby(['plan_list_price', 'payment_plan_days'])['plan_list_price'].count().reset_index(name='cnt_txn')\n",
    "txn_test = txn_test.pivot(index='plan_list_price', columns='payment_plan_days', values='cnt_txn')\n",
    "plt.figure(num=None, figsize=(16, 10), dpi=80)\n",
    "sns.heatmap(txn_test, cmap='viridis')"
   ]
  },
  {
   "cell_type": "markdown",
   "metadata": {},
   "source": [
    "## Are Features Useful?"
   ]
  },
  {
   "cell_type": "markdown",
   "metadata": {},
   "source": [
    "### Total Payment Plan Days"
   ]
  },
  {
   "cell_type": "code",
   "execution_count": 186,
   "metadata": {
    "collapsed": false
   },
   "outputs": [
    {
     "data": {
      "text/plain": [
       "<matplotlib.axes._subplots.AxesSubplot at 0x17fb8076d30>"
      ]
     },
     "execution_count": 186,
     "metadata": {},
     "output_type": "execute_result"
    },
    {
     "data": {
      "image/png": "[encoded data removed]",
      "text/plain": [
       "<matplotlib.figure.Figure at 0x17fb8076438>"
      ]
     },
     "metadata": {},
     "output_type": "display_data"
    }
   ],
   "source": [
    "plt.figure(num=None, figsize=(6, 4), dpi=80, facecolor='w', edgecolor='k')\n",
    "sns.barplot('is_churn', 'payment_plan_days', data=f_txn)"
   ]
  },
  {
   "cell_type": "markdown",
   "metadata": {},
   "source": [
    "### Difference Between Listed and Paid Price"
   ]
  },
  {
   "cell_type": "code",
   "execution_count": 202,
   "metadata": {
    "collapsed": false
   },
   "outputs": [
    {
     "data": {
      "text/plain": [
       "<matplotlib.axes._subplots.AxesSubplot at 0x17fabc04940>"
      ]
     },
     "execution_count": 202,
     "metadata": {},
     "output_type": "execute_result"
    },
    {
     "data": {
      "image/png": "[encoded data removed]",
      "text/plain": [
       "<matplotlib.figure.Figure at 0x180a709a240>"
      ]
     },
     "metadata": {},
     "output_type": "display_data"
    }
   ],
   "source": [
    "plt.figure(num=None, figsize=(6, 4), dpi=80, facecolor='w', edgecolor='k')\n",
    "sns.barplot('is_churn', 'list_actual_diff', data=f_txn)"
   ]
  },
  {
   "cell_type": "markdown",
   "metadata": {},
   "source": [
    "### Previous Churn"
   ]
  },
  {
   "cell_type": "code",
   "execution_count": 179,
   "metadata": {
    "collapsed": false
   },
   "outputs": [
    {
     "data": {
      "text/plain": [
       "<matplotlib.axes._subplots.AxesSubplot at 0x17fb67f07b8>"
      ]
     },
     "execution_count": 179,
     "metadata": {},
     "output_type": "execute_result"
    },
    {
     "data": {
      "image/png": "[encoded data removed]",
      "text/plain": [
       "<matplotlib.figure.Figure at 0x17ff18940b8>"
      ]
     },
     "metadata": {},
     "output_type": "display_data"
    }
   ],
   "source": [
    "plt.figure(num=None, figsize=(10, 4), dpi=80, facecolor='w', edgecolor='k')\n",
    "sns.barplot('prev_churn_cnt', 'is_churn', data=f_txn)"
   ]
  },
  {
   "cell_type": "markdown",
   "metadata": {},
   "source": [
    "### % of Transactions as Auto Renew"
   ]
  },
  {
   "cell_type": "code",
   "execution_count": 200,
   "metadata": {
    "collapsed": false
   },
   "outputs": [
    {
     "data": {
      "text/plain": [
       "<matplotlib.axes._subplots.AxesSubplot at 0x17fa6b59f28>"
      ]
     },
     "execution_count": 200,
     "metadata": {},
     "output_type": "execute_result"
    },
    {
     "data": {
      "image/png": "[encoded data removed]",
      "text/plain": [
       "<matplotlib.figure.Figure at 0x17fa6c2d438>"
      ]
     },
     "metadata": {},
     "output_type": "display_data"
    }
   ],
   "source": [
    "plt.figure(num=None, figsize=(6, 4), dpi=80, facecolor='w', edgecolor='k')\n",
    "sns.barplot('is_churn', 'mean_ar', data=f_txn)"
   ]
  },
  {
   "cell_type": "markdown",
   "metadata": {},
   "source": [
    "### Stopped Auto Renew"
   ]
  },
  {
   "cell_type": "code",
   "execution_count": 187,
   "metadata": {
    "collapsed": false
   },
   "outputs": [
    {
     "data": {
      "text/plain": [
       "<matplotlib.axes._subplots.AxesSubplot at 0x17fabc047b8>"
      ]
     },
     "execution_count": 187,
     "metadata": {},
     "output_type": "execute_result"
    },
    {
     "data": {
      "image/png": "[encoded data removed]",
      "text/plain": [
       "<matplotlib.figure.Figure at 0x17fa6abeb38>"
      ]
     },
     "metadata": {},
     "output_type": "display_data"
    }
   ],
   "source": [
    "plt.figure(num=None, figsize=(6, 4), dpi=80, facecolor='w', edgecolor='k')\n",
    "sns.barplot('is_churn', 'stopped_ar', data=f_txn)"
   ]
  },
  {
   "cell_type": "markdown",
   "metadata": {},
   "source": [
    "### Changed Payment Methods"
   ]
  },
  {
   "cell_type": "code",
   "execution_count": 184,
   "metadata": {
    "collapsed": false
   },
   "outputs": [
    {
     "data": {
      "text/plain": [
       "<matplotlib.axes._subplots.AxesSubplot at 0x17fb8091550>"
      ]
     },
     "execution_count": 184,
     "metadata": {},
     "output_type": "execute_result"
    },
    {
     "data": {
      "image/png": "[encoded data removed]",
      "text/plain": [
       "<matplotlib.figure.Figure at 0x17fdd125940>"
      ]
     },
     "metadata": {},
     "output_type": "display_data"
    }
   ],
   "source": [
    "plt.figure(num=None, figsize=(16, 4), dpi=80, facecolor='w', edgecolor='k')\n",
    "sns.barplot('pmt_change_cnt', 'is_churn', data=f_txn)"
   ]
  },
  {
   "cell_type": "markdown",
   "metadata": {},
   "source": [
    "### % of Transactions Cancelled"
   ]
  },
  {
   "cell_type": "code",
   "execution_count": 201,
   "metadata": {
    "collapsed": false
   },
   "outputs": [
    {
     "data": {
      "text/plain": [
       "<matplotlib.axes._subplots.AxesSubplot at 0x17fa723ac88>"
      ]
     },
     "execution_count": 201,
     "metadata": {},
     "output_type": "execute_result"
    },
    {
     "data": {
      "image/png": "[encoded data removed]",
      "text/plain": [
       "<matplotlib.figure.Figure at 0x180a70bc550>"
      ]
     },
     "metadata": {},
     "output_type": "display_data"
    }
   ],
   "source": [
    "plt.figure(num=None, figsize=(6, 4), dpi=80, facecolor='w', edgecolor='k')\n",
    "sns.barplot('is_churn', 'mean_cancel', data=f_txn)"
   ]
  },
  {
   "cell_type": "markdown",
   "metadata": {},
   "source": [
    "### Last Transaction is Cancelled Transaction"
   ]
  },
  {
   "cell_type": "code",
   "execution_count": 188,
   "metadata": {
    "collapsed": false
   },
   "outputs": [
    {
     "data": {
      "text/plain": [
       "<matplotlib.axes._subplots.AxesSubplot at 0x17fa6bb3278>"
      ]
     },
     "execution_count": 188,
     "metadata": {},
     "output_type": "execute_result"
    },
    {
     "data": {
      "image/png": "[encoded data removed]",
      "text/plain": [
       "<matplotlib.figure.Figure at 0x17fa6bb3048>"
      ]
     },
     "metadata": {},
     "output_type": "display_data"
    }
   ],
   "source": [
    "plt.figure(num=None, figsize=(6, 4), dpi=80, facecolor='w', edgecolor='k')\n",
    "sns.barplot('is_churn', 'last_cancel', data=f_txn)"
   ]
  },
  {
   "cell_type": "markdown",
   "metadata": {},
   "source": [
    "### Last Transaction is Free Trial"
   ]
  },
  {
   "cell_type": "code",
   "execution_count": 190,
   "metadata": {
    "collapsed": false
   },
   "outputs": [
    {
     "data": {
      "text/plain": [
       "<matplotlib.axes._subplots.AxesSubplot at 0x17fa6bc6e10>"
      ]
     },
     "execution_count": 190,
     "metadata": {},
     "output_type": "execute_result"
    },
    {
     "data": {
      "image/png": "[encoded data removed]",
      "text/plain": [
       "<matplotlib.figure.Figure at 0x17fa6bea6a0>"
      ]
     },
     "metadata": {},
     "output_type": "display_data"
    }
   ],
   "source": [
    "plt.figure(num=None, figsize=(6, 4), dpi=80, facecolor='w', edgecolor='k')\n",
    "sns.barplot('is_churn', 'lst_free_trial', data=f_txn)"
   ]
  },
  {
   "cell_type": "code",
   "execution_count": 198,
   "metadata": {
    "collapsed": false
   },
   "outputs": [
    {
     "data": {
      "text/plain": [
       "is_churn              1.000000\n",
       "new_id               -0.001172\n",
       "in_txn                     NaN\n",
       "txn_cnt              -0.164563\n",
       "payment_plan_days    -0.107779\n",
       "plan_list_price      -0.084206\n",
       "actual_amount_paid   -0.090292\n",
       "avg_daily_paid        0.028338\n",
       "list_actual_diff     -0.063799\n",
       "mean_ar              -0.349656\n",
       "last_ar              -0.387207\n",
       "stopped_ar            0.144484\n",
       "mean_cancel           0.236278\n",
       "cancelled             0.149166\n",
       "last_cancel           0.551328\n",
       "last_plan_price       0.252641\n",
       "lst_free_trial        0.189512\n",
       "prev_churn_cnt        0.142596\n",
       "pmt_change_cnt        0.009602\n",
       "Name: is_churn, dtype: float64"
      ]
     },
     "execution_count": 198,
     "metadata": {},
     "output_type": "execute_result"
    }
   ],
   "source": [
    "f_txn.corr()['is_churn']"
   ]
  },
  {
   "cell_type": "code",
   "execution_count": null,
   "metadata": {
    "collapsed": true
   },
   "outputs": [],
   "source": []
  }
 ],
 "metadata": {
  "kernelspec": {
   "display_name": "Python 3",
   "language": "python",
   "name": "python3"
  },
  "language_info": {
   "codemirror_mode": {
    "name": "ipython",
    "version": 3
   },
   "file_extension": ".py",
   "mimetype": "text/x-python",
   "name": "python",
   "nbconvert_exporter": "python",
   "pygments_lexer": "ipython3",
   "version": "3.6.0"
  }
 },
 "nbformat": 4,
 "nbformat_minor": 2
}
