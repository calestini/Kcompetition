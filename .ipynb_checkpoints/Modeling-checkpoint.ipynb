{
 "cells": [
  {
   "cell_type": "code",
   "execution_count": 1,
   "metadata": {},
   "outputs": [],
   "source": [
    "import numpy as np\n",
    "import pandas as pd\n",
    "import seaborn as sns\n",
    "%matplotlib inline"
   ]
  },
  {
   "cell_type": "code",
   "execution_count": 10,
   "metadata": {
    "collapsed": true
   },
   "outputs": [],
   "source": [
    "#read datasets\n",
    "train_txnv2 = pd.read_csv('../final_txn_v2.csv', index_col = 'new_id')\n",
    "train_userv2 = pd.read_csv('../final_user_log_v2.csv', index_col = 'new_id')\n",
    "#train = train_txn.merge(train_user, how='inner')"
   ]
  },
  {
   "cell_type": "code",
   "execution_count": 11,
   "metadata": {},
   "outputs": [
    {
     "name": "stdout",
     "output_type": "stream",
     "text": [
      "<class 'pandas.core.frame.DataFrame'>\n",
      "Int64Index: 970960 entries, 988305 to 879670\n",
      "Data columns (total 12 columns):\n",
      "is_churn            970960 non-null int64\n",
      "no_songs_cp6        970960 non-null float64\n",
      "months_listening    970960 non-null object\n",
      "listening_p6        970960 non-null float64\n",
      "listening_p12       970960 non-null float64\n",
      "logavg_secs_p12     970960 non-null float64\n",
      "freq_days           970960 non-null float64\n",
      "std_logsecs         970960 non-null float64\n",
      "total_entries       970960 non-null float64\n",
      "cluster9            970960 non-null float64\n",
      "freq_days_mean      970960 non-null float64\n",
      "ul_tenure           970960 non-null float64\n",
      "dtypes: float64(10), int64(1), object(1)\n",
      "memory usage: 96.3+ MB\n"
     ]
    }
   ],
   "source": [
    "train_userv2.info()"
   ]
  },
  {
   "cell_type": "code",
   "execution_count": null,
   "metadata": {},
   "outputs": [],
   "source": []
  },
  {
   "cell_type": "code",
   "execution_count": null,
   "metadata": {},
   "outputs": [],
   "source": []
  },
  {
   "cell_type": "code",
   "execution_count": null,
   "metadata": {},
   "outputs": [],
   "source": []
  },
  {
   "cell_type": "code",
   "execution_count": null,
   "metadata": {},
   "outputs": [],
   "source": []
  },
  {
   "cell_type": "code",
   "execution_count": null,
   "metadata": {},
   "outputs": [],
   "source": []
  },
  {
   "cell_type": "code",
   "execution_count": null,
   "metadata": {
    "collapsed": true
   },
   "outputs": [],
   "source": []
  }
 ],
 "metadata": {
  "kernelspec": {
   "display_name": "Python 3",
   "language": "python",
   "name": "python3"
  },
  "language_info": {
   "codemirror_mode": {
    "name": "ipython",
    "version": 3
   },
   "file_extension": ".py",
   "mimetype": "text/x-python",
   "name": "python",
   "nbconvert_exporter": "python",
   "pygments_lexer": "ipython3",
   "version": "3.6.1"
  }
 },
 "nbformat": 4,
 "nbformat_minor": 2
}
