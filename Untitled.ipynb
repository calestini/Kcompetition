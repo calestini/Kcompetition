{
 "cells": [
  {
   "cell_type": "code",
   "execution_count": 1,
   "metadata": {
    "collapsed": true
   },
   "outputs": [],
   "source": [
    "import numpy as np\n",
    "import pandas as pd"
   ]
  },
  {
   "cell_type": "code",
   "execution_count": 9,
   "metadata": {
    "collapsed": false
   },
   "outputs": [],
   "source": [
    "train_txn = pd.read_csv('final_txn.csv')\n",
    "train_user = pd.read_csv('final_user_log.csv')\n",
    "train = train_txn.merge(train_user, on = 'new_id', how = 'inner')"
   ]
  },
  {
   "cell_type": "code",
   "execution_count": 13,
   "metadata": {
    "collapsed": false
   },
   "outputs": [
    {
     "data": {
      "text/plain": [
       "(992931, 28)"
      ]
     },
     "execution_count": 13,
     "metadata": {},
     "output_type": "execute_result"
    }
   ],
   "source": [
    "train.shape"
   ]
  },
  {
   "cell_type": "code",
   "execution_count": 14,
   "metadata": {
    "collapsed": false
   },
   "outputs": [
    {
     "data": {
      "text/html": [
       "<div>\n",
       "<table border=\"1\" class=\"dataframe\">\n",
       "  <thead>\n",
       "    <tr style=\"text-align: right;\">\n",
       "      <th></th>\n",
       "      <th>is_churn_x</th>\n",
       "      <th>new_id</th>\n",
       "      <th>in_txn</th>\n",
       "      <th>payment_plan_days</th>\n",
       "      <th>plan_list_price</th>\n",
       "      <th>actual_amount_paid</th>\n",
       "      <th>avg_daily_paid</th>\n",
       "      <th>list_actual_diff</th>\n",
       "      <th>mean_ar</th>\n",
       "      <th>last_ar</th>\n",
       "      <th>...</th>\n",
       "      <th>per_lp_high</th>\n",
       "      <th>prev_churn_cnt</th>\n",
       "      <th>pmt_change_cnt</th>\n",
       "      <th>is_churn_y</th>\n",
       "      <th>no_songs_cp6</th>\n",
       "      <th>months_listening</th>\n",
       "      <th>listening_p6</th>\n",
       "      <th>listening_p12</th>\n",
       "      <th>logavg_secs_p12</th>\n",
       "      <th>freq_days</th>\n",
       "    </tr>\n",
       "  </thead>\n",
       "  <tbody>\n",
       "    <tr>\n",
       "      <th>0</th>\n",
       "      <td>1</td>\n",
       "      <td>1025093</td>\n",
       "      <td>True</td>\n",
       "      <td>37.0</td>\n",
       "      <td>149.0</td>\n",
       "      <td>149.0</td>\n",
       "      <td>4.027027</td>\n",
       "      <td>0.0</td>\n",
       "      <td>0.000000</td>\n",
       "      <td>0.0</td>\n",
       "      <td>...</td>\n",
       "      <td>NaN</td>\n",
       "      <td>1.0</td>\n",
       "      <td>NaN</td>\n",
       "      <td>1</td>\n",
       "      <td>0.0</td>\n",
       "      <td>0-6</td>\n",
       "      <td>2.0</td>\n",
       "      <td>2.0</td>\n",
       "      <td>10.333973</td>\n",
       "      <td>1.0</td>\n",
       "    </tr>\n",
       "    <tr>\n",
       "      <th>1</th>\n",
       "      <td>1</td>\n",
       "      <td>476532</td>\n",
       "      <td>True</td>\n",
       "      <td>633.0</td>\n",
       "      <td>3160.0</td>\n",
       "      <td>3309.0</td>\n",
       "      <td>5.227488</td>\n",
       "      <td>65387.0</td>\n",
       "      <td>0.954545</td>\n",
       "      <td>1.0</td>\n",
       "      <td>...</td>\n",
       "      <td>0.045455</td>\n",
       "      <td>1.0</td>\n",
       "      <td>2.0</td>\n",
       "      <td>1</td>\n",
       "      <td>1.0</td>\n",
       "      <td>19-24</td>\n",
       "      <td>5.0</td>\n",
       "      <td>11.0</td>\n",
       "      <td>10.487334</td>\n",
       "      <td>1.0</td>\n",
       "    </tr>\n",
       "    <tr>\n",
       "      <th>2</th>\n",
       "      <td>1</td>\n",
       "      <td>731853</td>\n",
       "      <td>True</td>\n",
       "      <td>300.0</td>\n",
       "      <td>1492.0</td>\n",
       "      <td>1492.0</td>\n",
       "      <td>4.973333</td>\n",
       "      <td>0.0</td>\n",
       "      <td>0.800000</td>\n",
       "      <td>1.0</td>\n",
       "      <td>...</td>\n",
       "      <td>NaN</td>\n",
       "      <td>1.0</td>\n",
       "      <td>1.0</td>\n",
       "      <td>1</td>\n",
       "      <td>0.0</td>\n",
       "      <td>7-12</td>\n",
       "      <td>6.0</td>\n",
       "      <td>12.0</td>\n",
       "      <td>12.205067</td>\n",
       "      <td>1.0</td>\n",
       "    </tr>\n",
       "    <tr>\n",
       "      <th>3</th>\n",
       "      <td>1</td>\n",
       "      <td>854199</td>\n",
       "      <td>True</td>\n",
       "      <td>820.0</td>\n",
       "      <td>1788.0</td>\n",
       "      <td>1788.0</td>\n",
       "      <td>2.180488</td>\n",
       "      <td>0.0</td>\n",
       "      <td>0.000000</td>\n",
       "      <td>0.0</td>\n",
       "      <td>...</td>\n",
       "      <td>NaN</td>\n",
       "      <td>NaN</td>\n",
       "      <td>1.0</td>\n",
       "      <td>1</td>\n",
       "      <td>0.0</td>\n",
       "      <td>25-26</td>\n",
       "      <td>6.0</td>\n",
       "      <td>12.0</td>\n",
       "      <td>12.329552</td>\n",
       "      <td>1.0</td>\n",
       "    </tr>\n",
       "    <tr>\n",
       "      <th>4</th>\n",
       "      <td>1</td>\n",
       "      <td>601853</td>\n",
       "      <td>True</td>\n",
       "      <td>785.0</td>\n",
       "      <td>3576.0</td>\n",
       "      <td>3576.0</td>\n",
       "      <td>4.555414</td>\n",
       "      <td>0.0</td>\n",
       "      <td>0.000000</td>\n",
       "      <td>0.0</td>\n",
       "      <td>...</td>\n",
       "      <td>NaN</td>\n",
       "      <td>NaN</td>\n",
       "      <td>NaN</td>\n",
       "      <td>1</td>\n",
       "      <td>0.0</td>\n",
       "      <td>25-26</td>\n",
       "      <td>6.0</td>\n",
       "      <td>12.0</td>\n",
       "      <td>13.448430</td>\n",
       "      <td>1.0</td>\n",
       "    </tr>\n",
       "  </tbody>\n",
       "</table>\n",
       "<p>5 rows × 28 columns</p>\n",
       "</div>"
      ],
      "text/plain": [
       "   is_churn_x   new_id in_txn  payment_plan_days  plan_list_price  \\\n",
       "0           1  1025093   True               37.0            149.0   \n",
       "1           1   476532   True              633.0           3160.0   \n",
       "2           1   731853   True              300.0           1492.0   \n",
       "3           1   854199   True              820.0           1788.0   \n",
       "4           1   601853   True              785.0           3576.0   \n",
       "\n",
       "   actual_amount_paid  avg_daily_paid  list_actual_diff   mean_ar  last_ar  \\\n",
       "0               149.0        4.027027               0.0  0.000000      0.0   \n",
       "1              3309.0        5.227488           65387.0  0.954545      1.0   \n",
       "2              1492.0        4.973333               0.0  0.800000      1.0   \n",
       "3              1788.0        2.180488               0.0  0.000000      0.0   \n",
       "4              3576.0        4.555414               0.0  0.000000      0.0   \n",
       "\n",
       "     ...     per_lp_high  prev_churn_cnt pmt_change_cnt  is_churn_y  \\\n",
       "0    ...             NaN             1.0            NaN           1   \n",
       "1    ...        0.045455             1.0            2.0           1   \n",
       "2    ...             NaN             1.0            1.0           1   \n",
       "3    ...             NaN             NaN            1.0           1   \n",
       "4    ...             NaN             NaN            NaN           1   \n",
       "\n",
       "   no_songs_cp6 months_listening  listening_p6  listening_p12  \\\n",
       "0           0.0              0-6           2.0            2.0   \n",
       "1           1.0            19-24           5.0           11.0   \n",
       "2           0.0             7-12           6.0           12.0   \n",
       "3           0.0            25-26           6.0           12.0   \n",
       "4           0.0            25-26           6.0           12.0   \n",
       "\n",
       "   logavg_secs_p12  freq_days  \n",
       "0        10.333973        1.0  \n",
       "1        10.487334        1.0  \n",
       "2        12.205067        1.0  \n",
       "3        12.329552        1.0  \n",
       "4        13.448430        1.0  \n",
       "\n",
       "[5 rows x 28 columns]"
      ]
     },
     "execution_count": 14,
     "metadata": {},
     "output_type": "execute_result"
    }
   ],
   "source": [
    "train.set_index('new_id')"
   ]
  },
  {
   "cell_type": "code",
   "execution_count": null,
   "metadata": {
    "collapsed": true
   },
   "outputs": [],
   "source": []
  }
 ],
 "metadata": {
  "kernelspec": {
   "display_name": "Python 3",
   "language": "python",
   "name": "python3"
  },
  "language_info": {
   "codemirror_mode": {
    "name": "ipython",
    "version": 3
   },
   "file_extension": ".py",
   "mimetype": "text/x-python",
   "name": "python",
   "nbconvert_exporter": "python",
   "pygments_lexer": "ipython3",
   "version": "3.6.0"
  }
 },
 "nbformat": 4,
 "nbformat_minor": 2
}
